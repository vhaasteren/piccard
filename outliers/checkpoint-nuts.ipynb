{
 "cells": [
  {
   "cell_type": "markdown",
   "metadata": {},
   "source": [
    "Testing that the NUTS checkpointing works as intended."
   ]
  },
  {
   "cell_type": "code",
   "execution_count": 32,
   "metadata": {
    "collapsed": true
   },
   "outputs": [],
   "source": [
    "import pickle\n",
    "import numpy as np\n",
    "import nutstrajectory\n",
    "import matplotlib.pyplot as pp"
   ]
  },
  {
   "cell_type": "code",
   "execution_count": 33,
   "metadata": {
    "collapsed": true
   },
   "outputs": [],
   "source": [
    "%matplotlib inline"
   ]
  },
  {
   "cell_type": "code",
   "execution_count": 115,
   "metadata": {
    "collapsed": false
   },
   "outputs": [
    {
     "data": {
      "text/plain": [
       "<module 'nutstrajectory' from 'nutstrajectory.py'>"
      ]
     },
     "execution_count": 115,
     "metadata": {},
     "output_type": "execute_result"
    }
   ],
   "source": [
    "reload(nutstrajectory)"
   ]
  },
  {
   "cell_type": "code",
   "execution_count": 5,
   "metadata": {
    "collapsed": false
   },
   "outputs": [],
   "source": [
    "def correlated_normal(theta):\n",
    "    \"\"\"\n",
    "    Example of a target distribution that could be sampled from using NUTS.\n",
    "    (Although of course you could sample from it more efficiently)\n",
    "    Doesn't include the normalizing constant.\n",
    "    \"\"\"\n",
    "\n",
    "    # Precision matrix with covariance [1, 1.98; 1.98, 4].\n",
    "    # A = np.linalg.inv( cov )\n",
    "    A = np.asarray([[50.251256, -24.874372],\n",
    "                    [-24.874372, 12.562814]])\n",
    "\n",
    "    grad = -np.dot(theta, A)\n",
    "    logp = 0.5 * np.dot(grad, theta.T)\n",
    "    return logp, grad"
   ]
  },
  {
   "cell_type": "code",
   "execution_count": 130,
   "metadata": {
    "collapsed": false
   },
   "outputs": [],
   "source": [
    "D = 2\n",
    "M = 40000\n",
    "Madapt = 4000\n",
    "theta0 = np.random.normal(0, 1, D)\n",
    "delta = 0.2\n",
    "\n",
    "mean = np.zeros(2)\n",
    "cov = np.asarray([[1, 1.98],\n",
    "                  [1.98, 4]])"
   ]
  },
  {
   "cell_type": "code",
   "execution_count": 131,
   "metadata": {
    "collapsed": true
   },
   "outputs": [],
   "source": [
    "!rm chain.txt save* "
   ]
  },
  {
   "cell_type": "code",
   "execution_count": 132,
   "metadata": {
    "collapsed": false
   },
   "outputs": [
    {
     "name": "stdout",
     "output_type": "stream",
     "text": [
      "find_reasonable_epsilon= 0.25\n",
      "Burnin finished 57.15 percent in 0.500050 s  epsilon = 2.451691e-01\n",
      "Finished 96.16 percent in 10.518028 s  epsilon = 3.022626e-01"
     ]
    }
   ],
   "source": [
    "samples, lnprob, epsilon = nutstrajectory.nuts6(correlated_normal, M, Madapt, theta0, delta, outFile='chain.txt', pickleFile='save')"
   ]
  },
  {
   "cell_type": "code",
   "execution_count": 141,
   "metadata": {
    "collapsed": false
   },
   "outputs": [],
   "source": [
    "!rm chain2.txt save2*"
   ]
  },
  {
   "cell_type": "markdown",
   "metadata": {},
   "source": [
    "The following cell needs to be interrupted by hand halfway through."
   ]
  },
  {
   "cell_type": "code",
   "execution_count": 142,
   "metadata": {
    "collapsed": false
   },
   "outputs": [
    {
     "name": "stdout",
     "output_type": "stream",
     "text": [
      "find_reasonable_epsilon= 0.125\n",
      "Burnin finished 60.02 percent in 0.501002 s  epsilon = 2.713609e-01\n",
      "Finished 36.03 percent in 4.516037 s  epsilon = 3.008575e-01"
     ]
    },
    {
     "ename": "KeyboardInterrupt",
     "evalue": "",
     "output_type": "error",
     "traceback": [
      "\u001b[0;31m---------------------------------------------------------------------------\u001b[0m",
      "\u001b[0;31mKeyboardInterrupt\u001b[0m                         Traceback (most recent call last)",
      "\u001b[0;32m<ipython-input-142-2b5961deb259>\u001b[0m in \u001b[0;36m<module>\u001b[0;34m()\u001b[0m\n\u001b[0;32m----> 1\u001b[0;31m \u001b[0msamples2\u001b[0m\u001b[0;34m,\u001b[0m \u001b[0mlnprob2\u001b[0m\u001b[0;34m,\u001b[0m \u001b[0mepsilon2\u001b[0m \u001b[0;34m=\u001b[0m \u001b[0mnutstrajectory\u001b[0m\u001b[0;34m.\u001b[0m\u001b[0mnuts6\u001b[0m\u001b[0;34m(\u001b[0m\u001b[0mcorrelated_normal\u001b[0m\u001b[0;34m,\u001b[0m \u001b[0mM\u001b[0m\u001b[0;34m,\u001b[0m \u001b[0mMadapt\u001b[0m\u001b[0;34m,\u001b[0m \u001b[0mtheta0\u001b[0m\u001b[0;34m,\u001b[0m \u001b[0mdelta\u001b[0m\u001b[0;34m,\u001b[0m \u001b[0moutFile\u001b[0m\u001b[0;34m=\u001b[0m\u001b[0;34m'chain2.txt'\u001b[0m\u001b[0;34m,\u001b[0m \u001b[0mpickleFile\u001b[0m\u001b[0;34m=\u001b[0m\u001b[0;34m'save2'\u001b[0m\u001b[0;34m)\u001b[0m\u001b[0;34m\u001b[0m\u001b[0m\n\u001b[0m",
      "\u001b[0;32m/Users/vallis/Documents/ipta/piccard/outliers/nutstrajectory.py\u001b[0m in \u001b[0;36mnuts6\u001b[0;34m(f, M, Madapt, theta0, delta, verbose, outFile, pickleFile, trajectoryDir, force_epsilon, force_trajlen, write_burnin)\u001b[0m\n\u001b[1;32m    434\u001b[0m         \u001b[0;31m# Resample u ~ uniform([0, exp(joint)]).\u001b[0m\u001b[0;34m\u001b[0m\u001b[0;34m\u001b[0m\u001b[0m\n\u001b[1;32m    435\u001b[0m         \u001b[0;31m# Equivalent to (log(u) - joint) ~ exponential(1).\u001b[0m\u001b[0;34m\u001b[0m\u001b[0;34m\u001b[0m\u001b[0m\n\u001b[0;32m--> 436\u001b[0;31m         \u001b[0mlogu\u001b[0m \u001b[0;34m=\u001b[0m \u001b[0mfloat\u001b[0m\u001b[0;34m(\u001b[0m\u001b[0mjoint\u001b[0m \u001b[0;34m-\u001b[0m \u001b[0mnp\u001b[0m\u001b[0;34m.\u001b[0m\u001b[0mrandom\u001b[0m\u001b[0;34m.\u001b[0m\u001b[0mexponential\u001b[0m\u001b[0;34m(\u001b[0m\u001b[0;36m1\u001b[0m\u001b[0;34m,\u001b[0m \u001b[0msize\u001b[0m\u001b[0;34m=\u001b[0m\u001b[0;36m1\u001b[0m\u001b[0;34m)\u001b[0m\u001b[0;34m)\u001b[0m\u001b[0;34m\u001b[0m\u001b[0m\n\u001b[0m\u001b[1;32m    437\u001b[0m \u001b[0;34m\u001b[0m\u001b[0m\n\u001b[1;32m    438\u001b[0m         \u001b[0;31m# if all fails, the next sample will be the previous one\u001b[0m\u001b[0;34m\u001b[0m\u001b[0;34m\u001b[0m\u001b[0m\n",
      "\u001b[0;31mKeyboardInterrupt\u001b[0m: "
     ]
    }
   ],
   "source": [
    "samples2, lnprob2, epsilon2 = nutstrajectory.nuts6(correlated_normal, M, Madapt, theta0, delta, outFile='chain2.txt', pickleFile='save2')"
   ]
  },
  {
   "cell_type": "code",
   "execution_count": 143,
   "metadata": {
    "collapsed": false
   },
   "outputs": [
    {
     "name": "stdout",
     "output_type": "stream",
     "text": [
      "   39999 chain.txt\r\n"
     ]
    }
   ],
   "source": [
    "!wc -l chain.txt "
   ]
  },
  {
   "cell_type": "code",
   "execution_count": 144,
   "metadata": {
    "collapsed": false
   },
   "outputs": [
    {
     "name": "stdout",
     "output_type": "stream",
     "text": [
      "   15186 chain2.txt\r\n"
     ]
    }
   ],
   "source": [
    "!wc -l chain2.txt"
   ]
  },
  {
   "cell_type": "code",
   "execution_count": 145,
   "metadata": {
    "collapsed": true
   },
   "outputs": [],
   "source": [
    "!cp save2-lnprob.npy save3-lnprob.npy"
   ]
  },
  {
   "cell_type": "code",
   "execution_count": 146,
   "metadata": {
    "collapsed": true
   },
   "outputs": [],
   "source": [
    "!cp save2-samples.npy save3-samples.npy"
   ]
  },
  {
   "cell_type": "code",
   "execution_count": 147,
   "metadata": {
    "collapsed": true
   },
   "outputs": [],
   "source": [
    "!cp save2.pickle save3.pickle"
   ]
  },
  {
   "cell_type": "code",
   "execution_count": 148,
   "metadata": {
    "collapsed": true
   },
   "outputs": [],
   "source": [
    "!cp chain2.txt chain3.txt"
   ]
  },
  {
   "cell_type": "code",
   "execution_count": 149,
   "metadata": {
    "collapsed": false
   },
   "outputs": [
    {
     "name": "stdout",
     "output_type": "stream",
     "text": [
      "Finished 97.25 percent in 6.047566 s  epsilon = 3.008575e-01"
     ]
    }
   ],
   "source": [
    "samples2, lnprob2, epsilon2 = nutstrajectory.nuts6(correlated_normal, M, Madapt, theta0, delta, outFile='chain2.txt', pickleFile='save2')"
   ]
  },
  {
   "cell_type": "code",
   "execution_count": 150,
   "metadata": {
    "collapsed": false
   },
   "outputs": [
    {
     "name": "stdout",
     "output_type": "stream",
     "text": [
      "Finished 97.21 percent in 6.031158 s  epsilon = 3.008575e-01"
     ]
    }
   ],
   "source": [
    "samples3, lnprob3, epsilon3 = nutstrajectory.nuts6(correlated_normal, M, Madapt, theta0, delta, outFile='chain3.txt', pickleFile='save3')"
   ]
  },
  {
   "cell_type": "code",
   "execution_count": 151,
   "metadata": {
    "collapsed": false
   },
   "outputs": [
    {
     "name": "stdout",
     "output_type": "stream",
     "text": [
      "   39999 chain2.txt\r\n"
     ]
    }
   ],
   "source": [
    "!wc -l chain2.txt"
   ]
  },
  {
   "cell_type": "code",
   "execution_count": 152,
   "metadata": {
    "collapsed": false
   },
   "outputs": [
    {
     "name": "stdout",
     "output_type": "stream",
     "text": [
      "   39999 chain3.txt\r\n"
     ]
    }
   ],
   "source": [
    "!wc -l chain3.txt"
   ]
  },
  {
   "cell_type": "code",
   "execution_count": 153,
   "metadata": {
    "collapsed": false
   },
   "outputs": [
    {
     "data": {
      "text/plain": [
       "(array([ 0.00124647,  0.0014731 ,  0.00547692,  0.01133155,  0.02840443,\n",
       "         0.04434415,  0.07830104,  0.12275851,  0.15947274,  0.16902902,\n",
       "         0.19180545,  0.17692334,  0.15701757,  0.13053951,  0.09903779,\n",
       "         0.06492981,  0.04321099,  0.01714842,  0.00695002,  0.0014731 ]),\n",
       " array([-6.91374921, -6.25188062, -5.59001203, -4.92814343, -4.26627484,\n",
       "        -3.60440625, -2.94253766, -2.28066907, -1.61880047, -0.95693188,\n",
       "        -0.29506329,  0.3668053 ,  1.02867389,  1.69054248,  2.35241108,\n",
       "         3.01427967,  3.67614826,  4.33801685,  4.99988544,  5.66175404,\n",
       "         6.32362263]),\n",
       " <a list of 1 Patch objects>)"
      ]
     },
     "execution_count": 153,
     "metadata": {},
     "output_type": "execute_result"
    },
    {
     "data": {
      "image/png": "[encoded data removed]",
      "text/plain": [
       "<matplotlib.figure.Figure at 0x1126d3490>"
      ]
     },
     "metadata": {},
     "output_type": "display_data"
    }
   ],
   "source": [
    "pp.subplot(1,2,1)\n",
    "pp.hist(samples[:,0],20,normed=True,histtype='step',color='r')\n",
    "pp.hist(samples2[:,0],20,normed=True,histtype='step',color='g')\n",
    "pp.hist(samples3[:,0],20,normed=True,histtype='step',color='b')\n",
    "pp.subplot(1,2,2)\n",
    "pp.hist(samples[:,1],20,normed=True,histtype='step',color='r')\n",
    "pp.hist(samples2[:,1],20,normed=True,histtype='step',color='g')\n",
    "pp.hist(samples3[:,1],20,normed=True,histtype='step',color='b')"
   ]
  }
 ],
 "metadata": {
  "kernelspec": {
   "display_name": "Python [conda root]",
   "language": "python",
   "name": "conda-root-py"
  },
  "language_info": {
   "codemirror_mode": {
    "name": "ipython",
    "version": 2
   },
   "file_extension": ".py",
   "mimetype": "text/x-python",
   "name": "python",
   "nbconvert_exporter": "python",
   "pygments_lexer": "ipython2",
   "version": "2.7.12"
  }
 },
 "nbformat": 4,
 "nbformat_minor": 1
}
