{
 "metadata": {
  "name": "piccard-demo"
 },
 "nbformat": 3,
 "nbformat_minor": 0,
 "worksheets": [
  {
   "cells": [
    {
     "cell_type": "code",
     "collapsed": false,
     "input": [
      "import numpy as np\n",
      "import matplotlib.pyplot as plt\n",
      "import piccard as pic"
     ],
     "language": "python",
     "metadata": {},
     "outputs": [],
     "prompt_number": 2
    },
    {
     "cell_type": "markdown",
     "metadata": {},
     "source": [
      "Assume we have a pulsar (J0030 from the first IPTA Mock Data Challenge, open1, here), and read it in an HDF5 file"
     ]
    },
    {
     "cell_type": "code",
     "collapsed": false,
     "input": [
      "# Creating hdf5 files goes through the DataFile class\n",
      "t2df = pic.DataFile('J0030.h5')\n",
      "t2df.addpulsar('mdc1-open1/J0030+0451.par', 'mdc1-open1/J0030+0451.tim')"
     ],
     "language": "python",
     "metadata": {},
     "outputs": [],
     "prompt_number": 8
    },
    {
     "cell_type": "code",
     "collapsed": false,
     "input": [
      "# With a datafile, we can construct a 'likelihood' object, which is the central class of the package\n",
      "likob = pic.ptaLikelihood('J0030.h5')"
     ],
     "language": "python",
     "metadata": {},
     "outputs": [],
     "prompt_number": 12
    },
    {
     "cell_type": "code",
     "collapsed": false,
     "input": [
      "# A model for the data (all data in the hdf5, so can be multi-pulsar) can be made with the initModel member function\n",
      "# Likelihood function 'mark3' is the standard for red noise analysis, and will default to that if not given\n",
      "likob.initModel(nfreqmodes=30, varyEfac=True, incRedNoise=True, noiseModel='powerlaw', likfunc='mark3')"
     ],
     "language": "python",
     "metadata": {},
     "outputs": [],
     "prompt_number": 13
    },
    {
     "cell_type": "code",
     "collapsed": false,
     "input": [
      "# The model has the following variable dimensions.\n",
      "print \"Number of dimensions: \", likob.dimensions\n",
      "# A total dictionary of all parameters is kept in likob.pardes (I'll make the names more descriptive). Do\n",
      "# not edit the pardes dictionary yourself. The 'real' model is saved in sub-classes and must be edited through\n",
      "# the initModel function\n",
      "for i in range(len(likob.pardes)): print likob.pardes[i]"
     ],
     "language": "python",
     "metadata": {},
     "outputs": [
      {
       "output_type": "stream",
       "stream": "stdout",
       "text": [
        "Number of dimensions:  3\n",
        "{'index': 0, 'name': 'pulsarname', 'sigtype': 'efac', 'sigindex': 0, 'correlation': 'single', 'pulsar': 0, 'id': u'efacJ0030+0451'}\n",
        "{'index': 1, 'name': 'powerlaw', 'sigtype': 'powerlaw', 'sigindex': 1, 'correlation': 'single', 'pulsar': 0, 'id': 'RN-Amplitude'}\n",
        "{'index': 2, 'name': 'powerlaw', 'sigtype': 'powerlaw', 'sigindex': 1, 'correlation': 'single', 'pulsar': 0, 'id': 'RN-spectral-index'}\n",
        "{'index': -1, 'name': 'powerlaw', 'sigtype': 'powerlaw', 'sigindex': 1, 'correlation': 'single', 'pulsar': 0, 'id': 'low-frequency-cutoff'}\n"
       ]
      }
     ],
     "prompt_number": 19
    },
    {
     "cell_type": "code",
     "collapsed": false,
     "input": [
      "# The default start parameters, minimum value, maximum value, and stepsize\n",
      "# Parameter indices belong to the 'index' key of the likob.pardes dictionary.\n",
      "# A '-1' in the pardes dictionary means that the parameter is kept fixed in a\n",
      "# subsequent analysis.\n",
      "print likob.pstart, likob.pmin, likob.pmax, likob.pwidth"
     ],
     "language": "python",
     "metadata": {},
     "outputs": [
      {
       "output_type": "stream",
       "stream": "stdout",
       "text": [
        "[  1.   -14.     2.01] [  0.001 -16.      1.02 ] [ 1000.      -5.       6.98] [ 0.1  0.1  0.1]\n"
       ]
      }
     ],
     "prompt_number": 20
    },
    {
     "cell_type": "code",
     "collapsed": false,
     "input": [
      "# Calculate the value of the posterior, likelihood, or prior:\n",
      "print likob.logprior(likob.pstart), likob.loglikelihood(likob.pstart), likob.logposterior(likob.pstart)"
     ],
     "language": "python",
     "metadata": {},
     "outputs": [
      {
       "output_type": "stream",
       "stream": "stdout",
       "text": [
        "-11.0907200329 1132.24124175 1121.15052171\n"
       ]
      }
     ],
     "prompt_number": 23
    },
    {
     "cell_type": "code",
     "collapsed": false,
     "input": [
      "# Run a t-walk algorithm on the posterior for 20000 steps\n",
      "pic.Runtwalk(likob, 20000, 'J0030-twalk-burnin.txt', thin=5, analyse=True)"
     ],
     "language": "python",
     "metadata": {},
     "outputs": [
      {
       "output_type": "stream",
       "stream": "stdout",
       "text": [
        "pytwalk: Running the twalk with 20000 iterations. Wed, 07 Aug 2013, 12:39.\n",
        "       Finish in approx. 17 seconds.\n",
        "pytwalk: finished, Wed, 07 Aug 2013, 12:39:30."
       ]
      },
      {
       "output_type": "stream",
       "stream": "stdout",
       "text": [
        "\n",
        "Acceptance rates for the Walk, Traverse, Blow and Hop kernels:[ 0.45564063  0.16266099  0.20359281  0.01129944]\n",
        "Global acceptance rate: 0.30515\n",
        "AutoMaxlag: maxlag= 57.\n",
        "Integrated Autocorrelation Time:    12.2, IAT/n:     4.1"
       ]
      },
      {
       "output_type": "stream",
       "stream": "stdout",
       "text": [
        "\n"
       ]
      },
      {
       "output_type": "display_data",
       "png": "[encoded data removed]"
      }
     ],
     "prompt_number": 22
    },
    {
     "cell_type": "code",
     "collapsed": false,
     "input": [
      "# Removing the burn-in of the MCMC chains is easy on the command line\n",
      "!sed '1,300d' J0030-twalk-burnin.txt > J0030-twalk.txt"
     ],
     "language": "python",
     "metadata": {},
     "outputs": [],
     "prompt_number": 24
    },
    {
     "cell_type": "code",
     "collapsed": false,
     "input": [
      "# We can run a more optimal Metropolis algorithm by using the t-walk as a tuning chain\n",
      "pic.RunMetropolis(likob, 20000, 'J0030-metro.txt', initfile='J0030-twalk.txt', resize=1.0)"
     ],
     "language": "python",
     "metadata": {},
     "outputs": [
      {
       "output_type": "stream",
       "stream": "stdout",
       "text": [
        "Obtaining initial positions from 'J0030-twalk.txt'\n",
        "Running Metropolis-Hastings sampler"
       ]
      },
      {
       "output_type": "stream",
       "stream": "stdout",
       "text": [
        "\n",
        "\r",
        "Sample: 0 =  0.0%   acc. fr. = 0.405941   pos = -1.329995e+01 4.081291e+00  lnprob = 1.871442e+03   "
       ]
      },
      {
       "output_type": "stream",
       "stream": "stdout",
       "text": [
        "\r",
        "Sample: 100 =  0.5%   acc. fr. = 0.472637   pos = -1.312798e+01 4.256386e+00  lnprob = 1.870662e+03   "
       ]
      },
      {
       "output_type": "stream",
       "stream": "stdout",
       "text": [
        "\r",
        "Sample: 200 =  1.0%   acc. fr. = 0.478405   pos = -1.321813e+01 4.522239e+00  lnprob = 1.871104e+03   "
       ]
      },
      {
       "output_type": "stream",
       "stream": "stdout",
       "text": [
        "\r",
        "Sample: 300 =  1.5%   acc. fr. = 0.458853   pos = -1.323142e+01 3.822296e+00  lnprob = 1.870930e+03   "
       ]
      },
      {
       "output_type": "stream",
       "stream": "stdout",
       "text": [
        "\r",
        "Sample: 400 =  2.0%   acc. fr. = 0.463074   pos = -1.311725e+01 4.437650e+00  lnprob = 1.869011e+03   "
       ]
      },
      {
       "output_type": "stream",
       "stream": "stdout",
       "text": [
        "\r",
        "Sample: 500 =  2.5%   acc. fr. = 0.467554   pos = -1.345665e+01 4.877911e+00  lnprob = 1.869722e+03   "
       ]
      },
      {
       "output_type": "stream",
       "stream": "stdout",
       "text": [
        "\r",
        "Sample: 600 =  3.0%   acc. fr. = 0.465050   pos = -1.327501e+01 4.978029e+00  lnprob = 1.871370e+03   "
       ]
      },
      {
       "output_type": "stream",
       "stream": "stdout",
       "text": [
        "\r",
        "Sample: 700 =  3.5%   acc. fr. = 0.470662   pos = -1.318664e+01 5.059566e+00  lnprob = 1.869818e+03   "
       ]
      },
      {
       "output_type": "stream",
       "stream": "stdout",
       "text": [
        "\r",
        "Sample: 800 =  4.0%   acc. fr. = 0.470588   pos = -1.324783e+01 4.097866e+00  lnprob = 1.871887e+03   "
       ]
      },
      {
       "output_type": "stream",
       "stream": "stdout",
       "text": [
        "\r",
        "Sample: 900 =  4.5%   acc. fr. = 0.453546   pos = -1.309429e+01 5.524673e+00  lnprob = 1.868798e+03   "
       ]
      },
      {
       "output_type": "stream",
       "stream": "stdout",
       "text": [
        "\r",
        "Sample: 1000 =  5.0%   acc. fr. = 0.454133   pos = -1.319220e+01 4.937991e+00  lnprob = 1.871580e+03   "
       ]
      },
      {
       "output_type": "stream",
       "stream": "stdout",
       "text": [
        "\r",
        "Sample: 1100 =  5.5%   acc. fr. = 0.456286   pos = -1.340756e+01 5.103370e+00  lnprob = 1.870294e+03   "
       ]
      },
      {
       "output_type": "stream",
       "stream": "stdout",
       "text": [
        "\r",
        "Sample: 1200 =  6.0%   acc. fr. = 0.459646   pos = -1.325781e+01 4.272217e+00  lnprob = 1.872118e+03   "
       ]
      },
      {
       "output_type": "stream",
       "stream": "stdout",
       "text": [
        "\r",
        "Sample: 1300 =  6.5%   acc. fr. = 0.451820   pos = -1.349272e+01 5.665996e+00  lnprob = 1.868980e+03   "
       ]
      },
      {
       "output_type": "stream",
       "stream": "stdout",
       "text": [
        "\r",
        "Sample: 1400 =  7.0%   acc. fr. = 0.447702   pos = -1.348856e+01 5.913178e+00  lnprob = 1.869053e+03   "
       ]
      },
      {
       "output_type": "stream",
       "stream": "stdout",
       "text": [
        "\r",
        "Sample: 1500 =  7.5%   acc. fr. = 0.447220   pos = -1.317096e+01 3.946021e+00  lnprob = 1.871105e+03   "
       ]
      },
      {
       "output_type": "stream",
       "stream": "stdout",
       "text": [
        "\r",
        "Sample: 1600 =  8.0%   acc. fr. = 0.446796   pos = -1.330200e+01 5.244709e+00  lnprob = 1.871185e+03   "
       ]
      },
      {
       "output_type": "stream",
       "stream": "stdout",
       "text": [
        "\r",
        "Sample: 1700 =  8.5%   acc. fr. = 0.446419   pos = -1.331916e+01 5.639064e+00  lnprob = 1.870767e+03   "
       ]
      },
      {
       "output_type": "stream",
       "stream": "stdout",
       "text": [
        "\r",
        "Sample: 1800 =  9.0%   acc. fr. = 0.446081   pos = -1.331509e+01 5.031579e+00  lnprob = 1.871790e+03   "
       ]
      },
      {
       "output_type": "stream",
       "stream": "stdout",
       "text": [
        "\r",
        "Sample: 1900 =  9.5%   acc. fr. = 0.445777   pos = -1.328671e+01 5.241482e+00  lnprob = 1.871549e+03   "
       ]
      },
      {
       "output_type": "stream",
       "stream": "stdout",
       "text": [
        "\r",
        "Sample: 2000 = 10.0%   acc. fr. = 0.445026   pos = -1.319274e+01 4.344841e+00  lnprob = 1.871872e+03   "
       ]
      },
      {
       "output_type": "stream",
       "stream": "stdout",
       "text": [
        "\r",
        "Sample: 2100 = 10.5%   acc. fr. = 0.444798   pos = -1.328459e+01 4.915023e+00  lnprob = 1.871555e+03   "
       ]
      },
      {
       "output_type": "stream",
       "stream": "stdout",
       "text": [
        "\r",
        "Sample: 2200 = 11.0%   acc. fr. = 0.441982   pos = -1.318793e+01 5.414520e+00  lnprob = 1.868486e+03   "
       ]
      },
      {
       "output_type": "stream",
       "stream": "stdout",
       "text": [
        "\r",
        "Sample: 2300 = 11.5%   acc. fr. = 0.440650   pos = -1.330925e+01 4.564048e+00  lnprob = 1.872023e+03   "
       ]
      },
      {
       "output_type": "stream",
       "stream": "stdout",
       "text": [
        "\r",
        "Sample: 2400 = 12.0%   acc. fr. = 0.440624   pos = -1.319489e+01 3.861761e+00  lnprob = 1.871273e+03   "
       ]
      },
      {
       "output_type": "stream",
       "stream": "stdout",
       "text": [
        "\r",
        "Sample: 2500 = 12.5%   acc. fr. = 0.442522   pos = -1.314530e+01 4.386253e+00  lnprob = 1.871445e+03   "
       ]
      },
      {
       "output_type": "stream",
       "stream": "stdout",
       "text": [
        "\r",
        "Sample: 2600 = 13.0%   acc. fr. = 0.441688   pos = -1.332465e+01 5.090222e+00  lnprob = 1.870937e+03   "
       ]
      },
      {
       "output_type": "stream",
       "stream": "stdout",
       "text": [
        "\r",
        "Sample: 2700 = 13.5%   acc. fr. = 0.440914   pos = -1.324515e+01 5.025846e+00  lnprob = 1.870593e+03   "
       ]
      },
      {
       "output_type": "stream",
       "stream": "stdout",
       "text": [
        "\r",
        "Sample: 2800 = 14.0%   acc. fr. = 0.440882   pos = -1.336744e+01 4.953637e+00  lnprob = 1.870849e+03   "
       ]
      },
      {
       "output_type": "stream",
       "stream": "stdout",
       "text": [
        "\r",
        "Sample: 2900 = 14.5%   acc. fr. = 0.439187   pos = -1.336743e+01 4.579617e+00  lnprob = 1.870858e+03   "
       ]
      },
      {
       "output_type": "stream",
       "stream": "stdout",
       "text": [
        "\r",
        "Sample: 3000 = 15.0%   acc. fr. = 0.441793   pos = -1.326071e+01 4.274215e+00  lnprob = 1.872107e+03   "
       ]
      },
      {
       "output_type": "stream",
       "stream": "stdout",
       "text": [
        "\r",
        "Sample: 3100 = 15.5%   acc. fr. = 0.438613   pos = -1.315079e+01 4.965655e+00  lnprob = 1.870815e+03   "
       ]
      },
      {
       "output_type": "stream",
       "stream": "stdout",
       "text": [
        "\r",
        "Sample: 3200 = 16.0%   acc. fr. = 0.437746   pos = -1.333345e+01 4.592091e+00  lnprob = 1.871820e+03   "
       ]
      },
      {
       "output_type": "stream",
       "stream": "stdout",
       "text": [
        "\r",
        "Sample: 3300 = 16.5%   acc. fr. = 0.436342   pos = -1.315506e+01 4.600968e+00  lnprob = 1.871498e+03   "
       ]
      },
      {
       "output_type": "stream",
       "stream": "stdout",
       "text": [
        "\r",
        "Sample: 3400 = 17.0%   acc. fr. = 0.435875   pos = -1.309213e+01 4.437923e+00  lnprob = 1.869787e+03   "
       ]
      },
      {
       "output_type": "stream",
       "stream": "stdout",
       "text": [
        "\r",
        "Sample: 3500 = 17.5%   acc. fr. = 0.435990   pos = -1.343904e+01 5.435505e+00  lnprob = 1.869718e+03   "
       ]
      },
      {
       "output_type": "stream",
       "stream": "stdout",
       "text": [
        "\r",
        "Sample: 3600 = 18.0%   acc. fr. = 0.435828   pos = -1.318699e+01 5.104947e+00  lnprob = 1.871293e+03   "
       ]
      },
      {
       "output_type": "stream",
       "stream": "stdout",
       "text": [
        "\r",
        "Sample: 3700 = 18.5%   acc. fr. = 0.435675   pos = -1.288382e+01 5.410520e+00  lnprob = 1.864539e+03   "
       ]
      },
      {
       "output_type": "stream",
       "stream": "stdout",
       "text": [
        "\r",
        "Sample: 3800 = 19.0%   acc. fr. = 0.433222   pos = -1.326776e+01 4.680451e+00  lnprob = 1.871617e+03   "
       ]
      },
      {
       "output_type": "stream",
       "stream": "stdout",
       "text": [
        "\r",
        "Sample: 3900 = 19.5%   acc. fr. = 0.431892   pos = -1.331486e+01 4.426134e+00  lnprob = 1.871691e+03   "
       ]
      },
      {
       "output_type": "stream",
       "stream": "stdout",
       "text": [
        "\r",
        "Sample: 4000 = 20.0%   acc. fr. = 0.430627   pos = -1.299639e+01 4.064402e+00  lnprob = 1.866906e+03   "
       ]
      },
      {
       "output_type": "stream",
       "stream": "stdout",
       "text": [
        "\r",
        "Sample: 4100 = 20.5%   acc. fr. = 0.431564   pos = -1.331828e+01 5.163726e+00  lnprob = 1.871571e+03   "
       ]
      },
      {
       "output_type": "stream",
       "stream": "stdout",
       "text": [
        "\r",
        "Sample: 4200 = 21.0%   acc. fr. = 0.430133   pos = -1.304024e+01 4.413494e+00  lnprob = 1.869017e+03   "
       ]
      },
      {
       "output_type": "stream",
       "stream": "stdout",
       "text": [
        "\r",
        "Sample: 4300 = 21.5%   acc. fr. = 0.427403   pos = -1.305227e+01 4.969782e+00  lnprob = 1.869380e+03   "
       ]
      },
      {
       "output_type": "stream",
       "stream": "stdout",
       "text": [
        "\r",
        "Sample: 4400 = 22.0%   acc. fr. = 0.429460   pos = -1.322757e+01 4.262383e+00  lnprob = 1.870540e+03   "
       ]
      },
      {
       "output_type": "stream",
       "stream": "stdout",
       "text": [
        "\r",
        "Sample: 4500 = 22.5%   acc. fr. = 0.428820   pos = -1.318071e+01 4.724815e+00  lnprob = 1.871565e+03   "
       ]
      },
      {
       "output_type": "stream",
       "stream": "stdout",
       "text": [
        "\r",
        "Sample: 4600 = 23.0%   acc. fr. = 0.429270   pos = -1.349413e+01 5.557689e+00  lnprob = 1.868514e+03   "
       ]
      },
      {
       "output_type": "stream",
       "stream": "stdout",
       "text": [
        "\r",
        "Sample: 4700 = 23.5%   acc. fr. = 0.428661   pos = -1.326735e+01 4.154957e+00  lnprob = 1.871534e+03   "
       ]
      },
      {
       "output_type": "stream",
       "stream": "stdout",
       "text": [
        "\r",
        "Sample: 4800 = 24.0%   acc. fr. = 0.429504   pos = -1.332202e+01 4.864744e+00  lnprob = 1.871535e+03   "
       ]
      },
      {
       "output_type": "stream",
       "stream": "stdout",
       "text": [
        "\r",
        "Sample: 4900 = 24.5%   acc. fr. = 0.430514   pos = -1.331990e+01 4.427412e+00  lnprob = 1.871049e+03   "
       ]
      },
      {
       "output_type": "stream",
       "stream": "stdout",
       "text": [
        "\r",
        "Sample: 5000 = 25.0%   acc. fr. = 0.432072   pos = -1.336416e+01 3.948815e+00  lnprob = 1.869431e+03   "
       ]
      },
      {
       "output_type": "stream",
       "stream": "stdout",
       "text": [
        "\r",
        "Sample: 5100 = 25.5%   acc. fr. = 0.430494   pos = -1.346870e+01 5.813961e+00  lnprob = 1.869168e+03   "
       ]
      },
      {
       "output_type": "stream",
       "stream": "stdout",
       "text": [
        "\r",
        "Sample: 5200 = 26.0%   acc. fr. = 0.429919   pos = -1.327550e+01 4.593471e+00  lnprob = 1.870525e+03   "
       ]
      },
      {
       "output_type": "stream",
       "stream": "stdout",
       "text": [
        "\r",
        "Sample: 5300 = 26.5%   acc. fr. = 0.430291   pos = -1.339975e+01 4.396886e+00  lnprob = 1.870064e+03   "
       ]
      },
      {
       "output_type": "stream",
       "stream": "stdout",
       "text": [
        "\r",
        "Sample: 5400 = 27.0%   acc. fr. = 0.430467   pos = -1.330209e+01 4.756927e+00  lnprob = 1.870767e+03   "
       ]
      },
      {
       "output_type": "stream",
       "stream": "stdout",
       "text": [
        "\r",
        "Sample: 5500 = 27.5%   acc. fr. = 0.429209   pos = -1.322763e+01 4.954308e+00  lnprob = 1.869727e+03   "
       ]
      },
      {
       "output_type": "stream",
       "stream": "stdout",
       "text": [
        "\r",
        "Sample: 5600 = 28.0%   acc. fr. = 0.430275   pos = -1.319811e+01 4.033177e+00  lnprob = 1.871714e+03   "
       ]
      },
      {
       "output_type": "stream",
       "stream": "stdout",
       "text": [
        "\r",
        "Sample: 5700 = 28.5%   acc. fr. = 0.429581   pos = -1.320332e+01 3.826740e+00  lnprob = 1.870957e+03   "
       ]
      },
      {
       "output_type": "stream",
       "stream": "stdout",
       "text": [
        "\r",
        "Sample: 5800 = 29.0%   acc. fr. = 0.429080   pos = -1.313941e+01 3.700450e+00  lnprob = 1.870147e+03   "
       ]
      },
      {
       "output_type": "stream",
       "stream": "stdout",
       "text": [
        "\r",
        "Sample: 5900 = 29.5%   acc. fr. = 0.429928   pos = -1.321645e+01 4.280962e+00  lnprob = 1.871273e+03   "
       ]
      },
      {
       "output_type": "stream",
       "stream": "stdout",
       "text": [
        "\r",
        "Sample: 6000 = 30.0%   acc. fr. = 0.428946   pos = -1.314293e+01 4.376040e+00  lnprob = 1.871004e+03   "
       ]
      },
      {
       "output_type": "stream",
       "stream": "stdout",
       "text": [
        "\r",
        "Sample: 6100 = 30.5%   acc. fr. = 0.428963   pos = -1.326435e+01 4.803952e+00  lnprob = 1.871887e+03   "
       ]
      },
      {
       "output_type": "stream",
       "stream": "stdout",
       "text": [
        "\r",
        "Sample: 6200 = 31.0%   acc. fr. = 0.427075   pos = -1.328900e+01 4.336283e+00  lnprob = 1.871716e+03   "
       ]
      },
      {
       "output_type": "stream",
       "stream": "stdout",
       "text": [
        "\r",
        "Sample: 6300 = 31.5%   acc. fr. = 0.427746   pos = -1.322704e+01 4.785192e+00  lnprob = 1.871375e+03   "
       ]
      },
      {
       "output_type": "stream",
       "stream": "stdout",
       "text": [
        "\r",
        "Sample: 6400 = 32.0%   acc. fr. = 0.426857   pos = -1.315471e+01 3.720999e+00  lnprob = 1.870442e+03   "
       ]
      },
      {
       "output_type": "stream",
       "stream": "stdout",
       "text": [
        "\r",
        "Sample: 6500 = 32.5%   acc. fr. = 0.426754   pos = -1.333017e+01 4.696778e+00  lnprob = 1.871278e+03   "
       ]
      },
      {
       "output_type": "stream",
       "stream": "stdout",
       "text": [
        "\r",
        "Sample: 6600 = 33.0%   acc. fr. = 0.426802   pos = -1.333616e+01 4.928777e+00  lnprob = 1.871743e+03   "
       ]
      },
      {
       "output_type": "stream",
       "stream": "stdout",
       "text": [
        "\r",
        "Sample: 6700 = 33.5%   acc. fr. = 0.426114   pos = -1.307535e+01 4.797764e+00  lnprob = 1.869608e+03   "
       ]
      },
      {
       "output_type": "stream",
       "stream": "stdout",
       "text": [
        "\r",
        "Sample: 6800 = 34.0%   acc. fr. = 0.425301   pos = -1.327529e+01 3.671808e+00  lnprob = 1.870243e+03   "
       ]
      },
      {
       "output_type": "stream",
       "stream": "stdout",
       "text": [
        "\r",
        "Sample: 6900 = 34.5%   acc. fr. = 0.424654   pos = -1.311710e+01 4.394897e+00  lnprob = 1.870499e+03   "
       ]
      },
      {
       "output_type": "stream",
       "stream": "stdout",
       "text": [
        "\r",
        "Sample: 7000 = 35.0%   acc. fr. = 0.425292   pos = -1.320272e+01 5.073644e+00  lnprob = 1.869611e+03   "
       ]
      },
      {
       "output_type": "stream",
       "stream": "stdout",
       "text": [
        "\r",
        "Sample: 7100 = 35.5%   acc. fr. = 0.425913   pos = -1.338488e+01 5.318171e+00  lnprob = 1.869874e+03   "
       ]
      },
      {
       "output_type": "stream",
       "stream": "stdout",
       "text": [
        "\r",
        "Sample: 7200 = 36.0%   acc. fr. = 0.428024   pos = -1.324430e+01 4.151941e+00  lnprob = 1.871795e+03   "
       ]
      },
      {
       "output_type": "stream",
       "stream": "stdout",
       "text": [
        "\r",
        "Sample: 7300 = 36.5%   acc. fr. = 0.428726   pos = -1.319703e+01 3.731941e+00  lnprob = 1.870595e+03   "
       ]
      },
      {
       "output_type": "stream",
       "stream": "stdout",
       "text": [
        "\r",
        "Sample: 7400 = 37.0%   acc. fr. = 0.429809   pos = -1.332345e+01 4.649753e+00  lnprob = 1.870796e+03   "
       ]
      },
      {
       "output_type": "stream",
       "stream": "stdout",
       "text": [
        "\r",
        "Sample: 7500 = 37.5%   acc. fr. = 0.430075   pos = -1.326176e+01 4.040642e+00  lnprob = 1.871057e+03   "
       ]
      },
      {
       "output_type": "stream",
       "stream": "stdout",
       "text": [
        "\r",
        "Sample: 7600 = 38.0%   acc. fr. = 0.430464   pos = -1.337302e+01 4.718794e+00  lnprob = 1.869188e+03   "
       ]
      },
      {
       "output_type": "stream",
       "stream": "stdout",
       "text": [
        "\r",
        "Sample: 7700 = 38.5%   acc. fr. = 0.431099   pos = -1.331657e+01 4.644444e+00  lnprob = 1.870873e+03   "
       ]
      },
      {
       "output_type": "stream",
       "stream": "stdout",
       "text": [
        "\r",
        "Sample: 7800 = 39.0%   acc. fr. = 0.431718   pos = -1.309540e+01 4.247935e+00  lnprob = 1.870581e+03   "
       ]
      },
      {
       "output_type": "stream",
       "stream": "stdout",
       "text": [
        "\r",
        "Sample: 7900 = 39.5%   acc. fr. = 0.431946   pos = -1.335871e+01 5.921486e+00  lnprob = 1.870209e+03   "
       ]
      },
      {
       "output_type": "stream",
       "stream": "stdout",
       "text": [
        "\r",
        "Sample: 8000 = 40.0%   acc. fr. = 0.432045   pos = -1.325578e+01 5.646920e+00  lnprob = 1.868248e+03   "
       ]
      },
      {
       "output_type": "stream",
       "stream": "stdout",
       "text": [
        "\r",
        "Sample: 8100 = 40.5%   acc. fr. = 0.431167   pos = -1.322050e+01 4.217410e+00  lnprob = 1.872055e+03   "
       ]
      },
      {
       "output_type": "stream",
       "stream": "stdout",
       "text": [
        "\r",
        "Sample: 8200 = 41.0%   acc. fr. = 0.431996   pos = -1.321693e+01 5.628939e+00  lnprob = 1.869674e+03   "
       ]
      },
      {
       "output_type": "stream",
       "stream": "stdout",
       "text": [
        "\r",
        "Sample: 8300 = 41.5%   acc. fr. = 0.432925   pos = -1.327248e+01 4.217602e+00  lnprob = 1.871929e+03   "
       ]
      },
      {
       "output_type": "stream",
       "stream": "stdout",
       "text": [
        "\r",
        "Sample: 8400 = 42.0%   acc. fr. = 0.432302   pos = -1.319398e+01 4.004100e+00  lnprob = 1.871410e+03   "
       ]
      },
      {
       "output_type": "stream",
       "stream": "stdout",
       "text": [
        "\r",
        "Sample: 8500 = 42.5%   acc. fr. = 0.431578   pos = -1.317405e+01 4.729537e+00  lnprob = 1.871676e+03   "
       ]
      },
      {
       "output_type": "stream",
       "stream": "stdout",
       "text": [
        "\r",
        "Sample: 8600 = 43.0%   acc. fr. = 0.431789   pos = -1.328820e+01 5.278795e+00  lnprob = 1.871226e+03   "
       ]
      },
      {
       "output_type": "stream",
       "stream": "stdout",
       "text": [
        "\r",
        "Sample: 8700 = 43.5%   acc. fr. = 0.431315   pos = -1.330594e+01 4.731441e+00  lnprob = 1.871673e+03   "
       ]
      },
      {
       "output_type": "stream",
       "stream": "stdout",
       "text": [
        "\r",
        "Sample: 8800 = 44.0%   acc. fr. = 0.432086   pos = -1.322692e+01 4.330467e+00  lnprob = 1.871721e+03   "
       ]
      },
      {
       "output_type": "stream",
       "stream": "stdout",
       "text": [
        "\r",
        "Sample: 8900 = 44.5%   acc. fr. = 0.431174   pos = -1.330039e+01 4.617906e+00  lnprob = 1.872113e+03   "
       ]
      },
      {
       "output_type": "stream",
       "stream": "stdout",
       "text": [
        "\r",
        "Sample: 9000 = 45.0%   acc. fr. = 0.431381   pos = -1.343575e+01 4.280977e+00  lnprob = 1.868756e+03   "
       ]
      },
      {
       "output_type": "stream",
       "stream": "stdout",
       "text": [
        "\r",
        "Sample: 9100 = 45.5%   acc. fr. = 0.432018   pos = -1.335608e+01 3.999478e+00  lnprob = 1.869932e+03   "
       ]
      },
      {
       "output_type": "stream",
       "stream": "stdout",
       "text": [
        "\r",
        "Sample: 9200 = 46.0%   acc. fr. = 0.431997   pos = -1.315397e+01 3.798512e+00  lnprob = 1.870638e+03   "
       ]
      },
      {
       "output_type": "stream",
       "stream": "stdout",
       "text": [
        "\r",
        "Sample: 9300 = 46.5%   acc. fr. = 0.431550   pos = -1.319613e+01 5.081038e+00  lnprob = 1.871219e+03   "
       ]
      },
      {
       "output_type": "stream",
       "stream": "stdout",
       "text": [
        "\r",
        "Sample: 9400 = 47.0%   acc. fr. = 0.431744   pos = -1.314230e+01 3.908837e+00  lnprob = 1.869781e+03   "
       ]
      },
      {
       "output_type": "stream",
       "stream": "stdout",
       "text": [
        "\r",
        "Sample: 9500 = 47.5%   acc. fr. = 0.432247   pos = -1.318990e+01 3.956442e+00  lnprob = 1.871506e+03   "
       ]
      },
      {
       "output_type": "stream",
       "stream": "stdout",
       "text": [
        "\r",
        "Sample: 9600 = 48.0%   acc. fr. = 0.431811   pos = -1.332145e+01 4.041597e+00  lnprob = 1.870695e+03   "
       ]
      },
      {
       "output_type": "stream",
       "stream": "stdout",
       "text": [
        "\r",
        "Sample: 9700 = 48.5%   acc. fr. = 0.431895   pos = -1.321554e+01 3.869830e+00  lnprob = 1.870476e+03   "
       ]
      },
      {
       "output_type": "stream",
       "stream": "stdout",
       "text": [
        "\r",
        "Sample: 9800 = 49.0%   acc. fr. = 0.432280   pos = -1.317665e+01 4.042656e+00  lnprob = 1.871538e+03   "
       ]
      },
      {
       "output_type": "stream",
       "stream": "stdout",
       "text": [
        "\r",
        "Sample: 9900 = 49.5%   acc. fr. = 0.432257   pos = -1.328725e+01 5.227871e+00  lnprob = 1.871131e+03   "
       ]
      },
      {
       "output_type": "stream",
       "stream": "stdout",
       "text": [
        "\r",
        "Sample: 10000 = 50.0%   acc. fr. = 0.432729   pos = -1.330433e+01 4.077748e+00  lnprob = 1.871433e+03   "
       ]
      },
      {
       "output_type": "stream",
       "stream": "stdout",
       "text": [
        "\r",
        "Sample: 10100 = 50.5%   acc. fr. = 0.433095   pos = -1.320319e+01 5.471110e+00  lnprob = 1.870811e+03   "
       ]
      },
      {
       "output_type": "stream",
       "stream": "stdout",
       "text": [
        "\r",
        "Sample: 10200 = 51.0%   acc. fr. = 0.432676   pos = -1.314410e+01 4.277463e+00  lnprob = 1.871117e+03   "
       ]
      },
      {
       "output_type": "stream",
       "stream": "stdout",
       "text": [
        "\r",
        "Sample: 10300 = 51.5%   acc. fr. = 0.432266   pos = -1.323161e+01 4.895329e+00  lnprob = 1.871951e+03   "
       ]
      },
      {
       "output_type": "stream",
       "stream": "stdout",
       "text": [
        "\r",
        "Sample: 10400 = 52.0%   acc. fr. = 0.432245   pos = -1.322139e+01 4.357956e+00  lnprob = 1.871885e+03   "
       ]
      },
      {
       "output_type": "stream",
       "stream": "stdout",
       "text": [
        "\r",
        "Sample: 10500 = 52.5%   acc. fr. = 0.432506   pos = -1.326272e+01 4.046735e+00  lnprob = 1.871737e+03   "
       ]
      },
      {
       "output_type": "stream",
       "stream": "stdout",
       "text": [
        "\r",
        "Sample: 10600 = 53.0%   acc. fr. = 0.432576   pos = -1.330948e+01 5.020659e+00  lnprob = 1.871660e+03   "
       ]
      },
      {
       "output_type": "stream",
       "stream": "stdout",
       "text": [
        "\r",
        "Sample: 10700 = 53.5%   acc. fr. = 0.431997   pos = -1.327550e+01 5.029299e+00  lnprob = 1.871673e+03   "
       ]
      },
      {
       "output_type": "stream",
       "stream": "stdout",
       "text": [
        "\r",
        "Sample: 10800 = 54.0%   acc. fr. = 0.432162   pos = -1.328832e+01 3.956094e+00  lnprob = 1.870162e+03   "
       ]
      },
      {
       "output_type": "stream",
       "stream": "stdout",
       "text": [
        "\r",
        "Sample: 10900 = 54.5%   acc. fr. = 0.431597   pos = -1.328008e+01 5.355719e+00  lnprob = 1.870333e+03   "
       ]
      },
      {
       "output_type": "stream",
       "stream": "stdout",
       "text": [
        "\r",
        "Sample: 11000 = 55.0%   acc. fr. = 0.431312   pos = -1.338985e+01 6.896121e+00  lnprob = 1.867708e+03   "
       ]
      },
      {
       "output_type": "stream",
       "stream": "stdout",
       "text": [
        "\r",
        "Sample: 11100 = 55.5%   acc. fr. = 0.430944   pos = -1.327709e+01 5.275194e+00  lnprob = 1.868128e+03   "
       ]
      },
      {
       "output_type": "stream",
       "stream": "stdout",
       "text": [
        "\r",
        "Sample: 11200 = 56.0%   acc. fr. = 0.430758   pos = -1.327946e+01 5.876389e+00  lnprob = 1.869696e+03   "
       ]
      },
      {
       "output_type": "stream",
       "stream": "stdout",
       "text": [
        "\r",
        "Sample: 11300 = 56.5%   acc. fr. = 0.430664   pos = -1.332435e+01 4.825051e+00  lnprob = 1.871615e+03   "
       ]
      },
      {
       "output_type": "stream",
       "stream": "stdout",
       "text": [
        "\r",
        "Sample: 11400 = 57.0%   acc. fr. = 0.429615   pos = -1.316463e+01 6.032252e+00  lnprob = 1.869067e+03   "
       ]
      },
      {
       "output_type": "stream",
       "stream": "stdout",
       "text": [
        "\r",
        "Sample: 11500 = 57.5%   acc. fr. = 0.428670   pos = -1.343684e+01 5.327707e+00  lnprob = 1.868398e+03   "
       ]
      },
      {
       "output_type": "stream",
       "stream": "stdout",
       "text": [
        "\r",
        "Sample: 11600 = 58.0%   acc. fr. = 0.428510   pos = -1.337674e+01 5.528284e+00  lnprob = 1.870825e+03   "
       ]
      },
      {
       "output_type": "stream",
       "stream": "stdout",
       "text": [
        "\r",
        "Sample: 11700 = 58.5%   acc. fr. = 0.428608   pos = -1.349233e+01 4.965824e+00  lnprob = 1.868802e+03   "
       ]
      },
      {
       "output_type": "stream",
       "stream": "stdout",
       "text": [
        "\r",
        "Sample: 11800 = 59.0%   acc. fr. = 0.428115   pos = -1.343160e+01 6.023780e+00  lnprob = 1.868888e+03   "
       ]
      },
      {
       "output_type": "stream",
       "stream": "stdout",
       "text": [
        "\r",
        "Sample: 11900 = 59.5%   acc. fr. = 0.428298   pos = -1.319579e+01 4.019442e+00  lnprob = 1.871580e+03   "
       ]
      },
      {
       "output_type": "stream",
       "stream": "stdout",
       "text": [
        "\r",
        "Sample: 12000 = 60.0%   acc. fr. = 0.427733   pos = -1.337475e+01 4.058489e+00  lnprob = 1.869924e+03   "
       ]
      },
      {
       "output_type": "stream",
       "stream": "stdout",
       "text": [
        "\r",
        "Sample: 12100 = 60.5%   acc. fr. = 0.427752   pos = -1.348238e+01 5.614302e+00  lnprob = 1.868196e+03   "
       ]
      },
      {
       "output_type": "stream",
       "stream": "stdout",
       "text": [
        "\r",
        "Sample: 12200 = 61.0%   acc. fr. = 0.428420   pos = -1.329692e+01 4.924339e+00  lnprob = 1.871978e+03   "
       ]
      },
      {
       "output_type": "stream",
       "stream": "stdout",
       "text": [
        "\r",
        "Sample: 12300 = 61.5%   acc. fr. = 0.428433   pos = -1.327639e+01 4.782024e+00  lnprob = 1.871520e+03   "
       ]
      },
      {
       "output_type": "stream",
       "stream": "stdout",
       "text": [
        "\r",
        "Sample: 12400 = 62.0%   acc. fr. = 0.428206   pos = -1.313424e+01 5.716831e+00  lnprob = 1.867241e+03   "
       ]
      },
      {
       "output_type": "stream",
       "stream": "stdout",
       "text": [
        "\r",
        "Sample: 12500 = 62.5%   acc. fr. = 0.428379   pos = -1.346773e+01 4.838293e+00  lnprob = 1.868574e+03   "
       ]
      },
      {
       "output_type": "stream",
       "stream": "stdout",
       "text": [
        "\r",
        "Sample: 12600 = 63.0%   acc. fr. = 0.428155   pos = -1.327924e+01 3.593025e+00  lnprob = 1.869753e+03   "
       ]
      },
      {
       "output_type": "stream",
       "stream": "stdout",
       "text": [
        "\r",
        "Sample: 12700 = 63.5%   acc. fr. = 0.428326   pos = -1.317745e+01 4.367575e+00  lnprob = 1.871854e+03   "
       ]
      },
      {
       "output_type": "stream",
       "stream": "stdout",
       "text": [
        "\r",
        "Sample: 12800 = 64.0%   acc. fr. = 0.428184   pos = -1.313679e+01 3.969890e+00  lnprob = 1.870689e+03   "
       ]
      },
      {
       "output_type": "stream",
       "stream": "stdout",
       "text": [
        "\r",
        "Sample: 12900 = 64.5%   acc. fr. = 0.428736   pos = -1.326785e+01 5.922777e+00  lnprob = 1.869669e+03   "
       ]
      },
      {
       "output_type": "stream",
       "stream": "stdout",
       "text": [
        "\r",
        "Sample: 13000 = 65.0%   acc. fr. = 0.429051   pos = -1.308766e+01 4.871358e+00  lnprob = 1.869801e+03   "
       ]
      },
      {
       "output_type": "stream",
       "stream": "stdout",
       "text": [
        "\r",
        "Sample: 13100 = 65.5%   acc. fr. = 0.428907   pos = -1.331509e+01 4.025875e+00  lnprob = 1.870853e+03   "
       ]
      },
      {
       "output_type": "stream",
       "stream": "stdout",
       "text": [
        "\r",
        "Sample: 13200 = 66.0%   acc. fr. = 0.428539   pos = -1.317303e+01 4.898467e+00  lnprob = 1.871394e+03   "
       ]
      },
      {
       "output_type": "stream",
       "stream": "stdout",
       "text": [
        "\r",
        "Sample: 13300 = 66.5%   acc. fr. = 0.428177   pos = -1.337247e+01 5.262685e+00  lnprob = 1.870559e+03   "
       ]
      },
      {
       "output_type": "stream",
       "stream": "stdout",
       "text": [
        "\r",
        "Sample: 13400 = 67.0%   acc. fr. = 0.428339   pos = -1.307806e+01 3.420929e+00  lnprob = 1.866798e+03   "
       ]
      },
      {
       "output_type": "stream",
       "stream": "stdout",
       "text": [
        "\r",
        "Sample: 13500 = 67.5%   acc. fr. = 0.428498   pos = -1.340073e+01 4.856989e+00  lnprob = 1.870575e+03   "
       ]
      },
      {
       "output_type": "stream",
       "stream": "stdout",
       "text": [
        "\r",
        "Sample: 13600 = 68.0%   acc. fr. = 0.429020   pos = -1.336907e+01 4.992440e+00  lnprob = 1.871223e+03   "
       ]
      },
      {
       "output_type": "stream",
       "stream": "stdout",
       "text": [
        "\r",
        "Sample: 13700 = 68.5%   acc. fr. = 0.428520   pos = -1.324743e+01 4.871843e+00  lnprob = 1.871815e+03   "
       ]
      },
      {
       "output_type": "stream",
       "stream": "stdout",
       "text": [
        "\r",
        "Sample: 13800 = 69.0%   acc. fr. = 0.428027   pos = -1.316226e+01 4.381250e+00  lnprob = 1.871597e+03   "
       ]
      },
      {
       "output_type": "stream",
       "stream": "stdout",
       "text": [
        "\r",
        "Sample: 13900 = 69.5%   acc. fr. = 0.428398   pos = -1.339541e+01 4.510849e+00  lnprob = 1.870682e+03   "
       ]
      },
      {
       "output_type": "stream",
       "stream": "stdout",
       "text": [
        "\r",
        "Sample: 14000 = 70.0%   acc. fr. = 0.428197   pos = -1.337720e+01 4.547198e+00  lnprob = 1.869250e+03   "
       ]
      },
      {
       "output_type": "stream",
       "stream": "stdout",
       "text": [
        "\r",
        "Sample: 14100 = 70.5%   acc. fr. = 0.427857   pos = -1.323413e+01 6.227007e+00  lnprob = 1.868904e+03   "
       ]
      },
      {
       "output_type": "stream",
       "stream": "stdout",
       "text": [
        "\r",
        "Sample: 14200 = 71.0%   acc. fr. = 0.427802   pos = -1.329417e+01 4.824839e+00  lnprob = 1.871487e+03   "
       ]
      },
      {
       "output_type": "stream",
       "stream": "stdout",
       "text": [
        "\r",
        "Sample: 14300 = 71.5%   acc. fr. = 0.427748   pos = -1.342164e+01 5.694810e+00  lnprob = 1.870234e+03   "
       ]
      },
      {
       "output_type": "stream",
       "stream": "stdout",
       "text": [
        "\r",
        "Sample: 14400 = 72.0%   acc. fr. = 0.427557   pos = -1.334111e+01 4.337153e+00  lnprob = 1.870600e+03   "
       ]
      },
      {
       "output_type": "stream",
       "stream": "stdout",
       "text": [
        "\r",
        "Sample: 14500 = 72.5%   acc. fr. = 0.427436   pos = -1.341553e+01 5.600031e+00  lnprob = 1.870375e+03   "
       ]
      },
      {
       "output_type": "stream",
       "stream": "stdout",
       "text": [
        "\r",
        "Sample: 14600 = 73.0%   acc. fr. = 0.427658   pos = -1.333610e+01 4.443332e+00  lnprob = 1.870133e+03   "
       ]
      },
      {
       "output_type": "stream",
       "stream": "stdout",
       "text": [
        "\r",
        "Sample: 14700 = 73.5%   acc. fr. = 0.428012   pos = -1.333261e+01 5.275806e+00  lnprob = 1.871496e+03   "
       ]
      },
      {
       "output_type": "stream",
       "stream": "stdout",
       "text": [
        "\r",
        "Sample: 14800 = 74.0%   acc. fr. = 0.428428   pos = -1.336704e+01 4.312039e+00  lnprob = 1.870801e+03   "
       ]
      },
      {
       "output_type": "stream",
       "stream": "stdout",
       "text": [
        "\r",
        "Sample: 14900 = 74.5%   acc. fr. = 0.428438   pos = -1.337508e+01 6.082393e+00  lnprob = 1.869754e+03   "
       ]
      },
      {
       "output_type": "stream",
       "stream": "stdout",
       "text": [
        "\r",
        "Sample: 15000 = 75.0%   acc. fr. = 0.429044   pos = -1.320880e+01 4.465372e+00  lnprob = 1.870858e+03   "
       ]
      },
      {
       "output_type": "stream",
       "stream": "stdout",
       "text": [
        "\r",
        "Sample: 15100 = 75.5%   acc. fr. = 0.428459   pos = -1.318662e+01 4.246760e+00  lnprob = 1.871259e+03   "
       ]
      },
      {
       "output_type": "stream",
       "stream": "stdout",
       "text": [
        "\r",
        "Sample: 15200 = 76.0%   acc. fr. = 0.428796   pos = -1.326866e+01 4.819701e+00  lnprob = 1.872116e+03   "
       ]
      },
      {
       "output_type": "stream",
       "stream": "stdout",
       "text": [
        "\r",
        "Sample: 15300 = 76.5%   acc. fr. = 0.429193   pos = -1.336216e+01 5.239518e+00  lnprob = 1.871177e+03   "
       ]
      },
      {
       "output_type": "stream",
       "stream": "stdout",
       "text": [
        "\r",
        "Sample: 15400 = 77.0%   acc. fr. = 0.429392   pos = -1.320370e+01 4.369642e+00  lnprob = 1.871972e+03   "
       ]
      },
      {
       "output_type": "stream",
       "stream": "stdout",
       "text": [
        "\r",
        "Sample: 15500 = 77.5%   acc. fr. = 0.429396   pos = -1.317625e+01 3.792797e+00  lnprob = 1.870866e+03   "
       ]
      },
      {
       "output_type": "stream",
       "stream": "stdout",
       "text": [
        "\r",
        "Sample: 15600 = 78.0%   acc. fr. = 0.429145   pos = -1.314813e+01 4.491840e+00  lnprob = 1.870035e+03   "
       ]
      },
      {
       "output_type": "stream",
       "stream": "stdout",
       "text": [
        "\r",
        "Sample: 15700 = 78.5%   acc. fr. = 0.429466   pos = -1.328845e+01 6.004045e+00  lnprob = 1.870115e+03   "
       ]
      },
      {
       "output_type": "stream",
       "stream": "stdout",
       "text": [
        "\r",
        "Sample: 15800 = 79.0%   acc. fr. = 0.429470   pos = -1.325563e+01 4.943030e+00  lnprob = 1.871025e+03   "
       ]
      },
      {
       "output_type": "stream",
       "stream": "stdout",
       "text": [
        "\r",
        "Sample: 15900 = 79.5%   acc. fr. = 0.429661   pos = -1.331113e+01 4.886681e+00  lnprob = 1.871533e+03   "
       ]
      },
      {
       "output_type": "stream",
       "stream": "stdout",
       "text": [
        "\r",
        "Sample: 16000 = 80.0%   acc. fr. = 0.429973   pos = -1.353097e+01 6.697838e+00  lnprob = 1.866747e+03   "
       ]
      },
      {
       "output_type": "stream",
       "stream": "stdout",
       "text": [
        "\r",
        "Sample: 16100 = 80.5%   acc. fr. = 0.430220   pos = -1.328546e+01 3.907185e+00  lnprob = 1.871176e+03   "
       ]
      },
      {
       "output_type": "stream",
       "stream": "stdout",
       "text": [
        "\r",
        "Sample: 16200 = 81.0%   acc. fr. = 0.429912   pos = -1.311031e+01 4.251505e+00  lnprob = 1.866362e+03   "
       ]
      },
      {
       "output_type": "stream",
       "stream": "stdout",
       "text": [
        "\r",
        "Sample: 16300 = 81.5%   acc. fr. = 0.429974   pos = -1.313714e+01 4.821657e+00  lnprob = 1.870311e+03   "
       ]
      },
      {
       "output_type": "stream",
       "stream": "stdout",
       "text": [
        "\r",
        "Sample: 16400 = 82.0%   acc. fr. = 0.429792   pos = -1.329799e+01 4.802208e+00  lnprob = 1.871884e+03   "
       ]
      },
      {
       "output_type": "stream",
       "stream": "stdout",
       "text": [
        "\r",
        "Sample: 16500 = 82.5%   acc. fr. = 0.430095   pos = -1.330703e+01 4.806680e+00  lnprob = 1.872028e+03   "
       ]
      },
      {
       "output_type": "stream",
       "stream": "stdout",
       "text": [
        "\r",
        "Sample: 16600 = 83.0%   acc. fr. = 0.429795   pos = -1.338507e+01 4.448426e+00  lnprob = 1.870795e+03   "
       ]
      },
      {
       "output_type": "stream",
       "stream": "stdout",
       "text": [
        "\r",
        "Sample: 16700 = 83.5%   acc. fr. = 0.429974   pos = -1.323114e+01 4.577939e+00  lnprob = 1.871614e+03   "
       ]
      },
      {
       "output_type": "stream",
       "stream": "stdout",
       "text": [
        "\r",
        "Sample: 16800 = 84.0%   acc. fr. = 0.430211   pos = -1.322462e+01 5.973358e+00  lnprob = 1.869845e+03   "
       ]
      },
      {
       "output_type": "stream",
       "stream": "stdout",
       "text": [
        "\r",
        "Sample: 16900 = 84.5%   acc. fr. = 0.430386   pos = -1.332203e+01 4.545257e+00  lnprob = 1.871510e+03   "
       ]
      },
      {
       "output_type": "stream",
       "stream": "stdout",
       "text": [
        "\r",
        "Sample: 17000 = 85.0%   acc. fr. = 0.430677   pos = -1.333401e+01 3.954994e+00  lnprob = 1.869981e+03   "
       ]
      },
      {
       "output_type": "stream",
       "stream": "stdout",
       "text": [
        "\r",
        "Sample: 17100 = 85.5%   acc. fr. = 0.429626   pos = -1.344744e+01 5.850083e+00  lnprob = 1.869660e+03   "
       ]
      },
      {
       "output_type": "stream",
       "stream": "stdout",
       "text": [
        "\r",
        "Sample: 17200 = 86.0%   acc. fr. = 0.429686   pos = -1.323265e+01 4.378899e+00  lnprob = 1.872057e+03   "
       ]
      },
      {
       "output_type": "stream",
       "stream": "stdout",
       "text": [
        "\r",
        "Sample: 17300 = 86.5%   acc. fr. = 0.429228   pos = -1.322344e+01 4.798494e+00  lnprob = 1.871949e+03   "
       ]
      },
      {
       "output_type": "stream",
       "stream": "stdout",
       "text": [
        "\r",
        "Sample: 17400 = 87.0%   acc. fr. = 0.429118   pos = -1.331334e+01 4.992761e+00  lnprob = 1.871841e+03   "
       ]
      },
      {
       "output_type": "stream",
       "stream": "stdout",
       "text": [
        "\r",
        "Sample: 17500 = 87.5%   acc. fr. = 0.429407   pos = -1.326312e+01 5.880420e+00  lnprob = 1.868958e+03   "
       ]
      },
      {
       "output_type": "stream",
       "stream": "stdout",
       "text": [
        "\r",
        "Sample: 17600 = 88.0%   acc. fr. = 0.430089   pos = -1.331837e+01 5.566439e+00  lnprob = 1.870493e+03   "
       ]
      },
      {
       "output_type": "stream",
       "stream": "stdout",
       "text": [
        "\r",
        "Sample: 17700 = 88.5%   acc. fr. = 0.430369   pos = -1.329630e+01 6.055461e+00  lnprob = 1.869743e+03   "
       ]
      },
      {
       "output_type": "stream",
       "stream": "stdout",
       "text": [
        "\r",
        "Sample: 17800 = 89.0%   acc. fr. = 0.430758   pos = -1.320812e+01 5.001865e+00  lnprob = 1.871169e+03   "
       ]
      },
      {
       "output_type": "stream",
       "stream": "stdout",
       "text": [
        "\r",
        "Sample: 17900 = 89.5%   acc. fr. = 0.430809   pos = -1.320003e+01 4.284529e+00  lnprob = 1.871096e+03   "
       ]
      },
      {
       "output_type": "stream",
       "stream": "stdout",
       "text": [
        "\r",
        "Sample: 18000 = 90.0%   acc. fr. = 0.431136   pos = -1.304347e+01 5.483304e+00  lnprob = 1.868186e+03   "
       ]
      },
      {
       "output_type": "stream",
       "stream": "stdout",
       "text": [
        "\r",
        "Sample: 18100 = 90.5%   acc. fr. = 0.431405   pos = -1.320250e+01 4.870753e+00  lnprob = 1.868455e+03   "
       ]
      },
      {
       "output_type": "stream",
       "stream": "stdout",
       "text": [
        "\r",
        "Sample: 18200 = 91.0%   acc. fr. = 0.431015   pos = -1.332163e+01 4.404453e+00  lnprob = 1.871815e+03   "
       ]
      },
      {
       "output_type": "stream",
       "stream": "stdout",
       "text": [
        "\r",
        "Sample: 18300 = 91.5%   acc. fr. = 0.431335   pos = -1.335221e+01 4.685392e+00  lnprob = 1.871084e+03   "
       ]
      },
      {
       "output_type": "stream",
       "stream": "stdout",
       "text": [
        "\r",
        "Sample: 18400 = 92.0%   acc. fr. = 0.431544   pos = -1.324927e+01 5.014305e+00  lnprob = 1.871877e+03   "
       ]
      },
      {
       "output_type": "stream",
       "stream": "stdout",
       "text": [
        "\r",
        "Sample: 18500 = 92.5%   acc. fr. = 0.431213   pos = -1.321172e+01 5.504138e+00  lnprob = 1.870286e+03   "
       ]
      },
      {
       "output_type": "stream",
       "stream": "stdout",
       "text": [
        "\r",
        "Sample: 18600 = 93.0%   acc. fr. = 0.431742   pos = -1.318106e+01 4.868036e+00  lnprob = 1.870863e+03   "
       ]
      },
      {
       "output_type": "stream",
       "stream": "stdout",
       "text": [
        "\r",
        "Sample: 18700 = 93.5%   acc. fr. = 0.431998   pos = -1.317020e+01 4.432971e+00  lnprob = 1.871616e+03   "
       ]
      },
      {
       "output_type": "stream",
       "stream": "stdout",
       "text": [
        "\r",
        "Sample: 18800 = 94.0%   acc. fr. = 0.431776   pos = -1.323513e+01 4.483225e+00  lnprob = 1.871928e+03   "
       ]
      },
      {
       "output_type": "stream",
       "stream": "stdout",
       "text": [
        "\r",
        "Sample: 18900 = 94.5%   acc. fr. = 0.431767   pos = -1.332288e+01 4.984881e+00  lnprob = 1.871845e+03   "
       ]
      },
      {
       "output_type": "stream",
       "stream": "stdout",
       "text": [
        "\r",
        "Sample: 19000 = 95.0%   acc. fr. = 0.431810   pos = -1.323554e+01 4.332060e+00  lnprob = 1.872105e+03   "
       ]
      },
      {
       "output_type": "stream",
       "stream": "stdout",
       "text": [
        "\r",
        "Sample: 19100 = 95.5%   acc. fr. = 0.431853   pos = -1.329628e+01 4.163772e+00  lnprob = 1.871678e+03   "
       ]
      },
      {
       "output_type": "stream",
       "stream": "stdout",
       "text": [
        "\r",
        "Sample: 19200 = 96.0%   acc. fr. = 0.431687   pos = -1.330919e+01 3.986955e+00  lnprob = 1.870390e+03   "
       ]
      },
      {
       "output_type": "stream",
       "stream": "stdout",
       "text": [
        "\r",
        "Sample: 19300 = 96.5%   acc. fr. = 0.431163   pos = -1.324331e+01 5.009249e+00  lnprob = 1.871820e+03   "
       ]
      },
      {
       "output_type": "stream",
       "stream": "stdout",
       "text": [
        "\r",
        "Sample: 19400 = 97.0%   acc. fr. = 0.431516   pos = -1.311182e+01 5.251685e+00  lnprob = 1.869668e+03   "
       ]
      },
      {
       "output_type": "stream",
       "stream": "stdout",
       "text": [
        "\r",
        "Sample: 19500 = 97.5%   acc. fr. = 0.431458   pos = -1.318979e+01 3.958678e+00  lnprob = 1.870643e+03   "
       ]
      },
      {
       "output_type": "stream",
       "stream": "stdout",
       "text": [
        "\r",
        "Sample: 19600 = 98.0%   acc. fr. = 0.432009   pos = -1.332506e+01 4.774511e+00  lnprob = 1.871731e+03   "
       ]
      },
      {
       "output_type": "stream",
       "stream": "stdout",
       "text": [
        "\r",
        "Sample: 19700 = 98.5%   acc. fr. = 0.432099   pos = -1.329044e+01 5.544090e+00  lnprob = 1.870829e+03   "
       ]
      },
      {
       "output_type": "stream",
       "stream": "stdout",
       "text": [
        "\r",
        "Sample: 19800 = 99.0%   acc. fr. = 0.431888   pos = -1.336037e+01 5.155682e+00  lnprob = 1.871420e+03   "
       ]
      },
      {
       "output_type": "stream",
       "stream": "stdout",
       "text": [
        "\r",
        "Sample: 19900 = 99.5%   acc. fr. = 0.432028   pos = -1.322027e+01 4.794301e+00  lnprob = 1.871749e+03   "
       ]
      },
      {
       "output_type": "stream",
       "stream": "stdout",
       "text": [
        "\n",
        "('Mean acceptance fraction:', 0.43202839858007097)\n",
        "('Autocorrelation time:', 23.371900797369577)\n"
       ]
      }
     ],
     "prompt_number": 28
    },
    {
     "cell_type": "code",
     "collapsed": false,
     "input": [
      "# The parameters in the chain are stored in 'J0030-metro.txt.parameters.txt'.\n",
      "# All sampler routines use this convention\n",
      "!cat J0030-metro.txt.parameters.txt"
     ],
     "language": "python",
     "metadata": {},
     "outputs": [
      {
       "output_type": "stream",
       "stream": "stdout",
       "text": [
        "0 \t0 \tefac \tsingle \tpulsarname \tefacJ0030+0451\r\n",
        "1 \t0 \tpowerlaw \tsingle \tpowerlaw \tRN-Amplitude\r\n",
        "2 \t0 \tpowerlaw \tsingle \tpowerlaw \tRN-spectral-index\r\n",
        "-1 \t0 \tpowerlaw \tsingle \tpowerlaw \tlow-frequency-cutoff\r\n"
       ]
      }
     ],
     "prompt_number": 29
    },
    {
     "cell_type": "code",
     "collapsed": false,
     "input": [
      "# Plot the results of the MCMC (which uses the .parameters.txt file)\n",
      "pic.triplot('J0030-metro.txt')"
     ],
     "language": "python",
     "metadata": {},
     "outputs": [
      {
       "output_type": "stream",
       "stream": "stdout",
       "text": [
        "parametersfilename =  J0030-metro.txt.parameters.txt\n",
        "figurefilename =  J0030-metro.txt.fig.eps\n",
        "chainfilename =  J0030-metro.txt\n"
       ]
      },
      {
       "output_type": "display_data",
       "png": "[encoded data removed]"
      }
     ],
     "prompt_number": 31
    },
    {
     "cell_type": "code",
     "collapsed": false,
     "input": [],
     "language": "python",
     "metadata": {},
     "outputs": []
    },
    {
     "cell_type": "code",
     "collapsed": false,
     "input": [],
     "language": "python",
     "metadata": {},
     "outputs": []
    },
    {
     "cell_type": "code",
     "collapsed": false,
     "input": [],
     "language": "python",
     "metadata": {},
     "outputs": []
    }
   ],
   "metadata": {}
  }
 ]
}