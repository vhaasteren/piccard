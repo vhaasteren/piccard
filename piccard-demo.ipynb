{
 "metadata": {
  "name": ""
 },
 "nbformat": 3,
 "nbformat_minor": 0,
 "worksheets": [
  {
   "cells": [
    {
     "cell_type": "code",
     "collapsed": false,
     "input": [
      "import numpy as np\n",
      "import matplotlib.pyplot as plt\n",
      "import piccard as pic"
     ],
     "language": "python",
     "metadata": {},
     "outputs": [],
     "prompt_number": 1
    },
    {
     "cell_type": "markdown",
     "metadata": {},
     "source": [
      "Assume we have a pulsar (J0030 from the first IPTA Mock Data Challenge, open1, here), and read it in an HDF5 file"
     ]
    },
    {
     "cell_type": "code",
     "collapsed": false,
     "input": [
      "# Creating hdf5 files goes through the DataFile class\n",
      "t2df = pic.DataFile('J0030.h5')\n",
      "t2df.addpulsar('mdc1-open1/J0030+0451.par', 'mdc1-open1/J0030+0451.tim')"
     ],
     "language": "python",
     "metadata": {},
     "outputs": [],
     "prompt_number": 3
    },
    {
     "cell_type": "code",
     "collapsed": false,
     "input": [
      "# With a datafile, we can construct a 'likelihood' object, which is the central class of the package\n",
      "likob = pic.ptaLikelihood('J0030.h5')"
     ],
     "language": "python",
     "metadata": {},
     "outputs": [],
     "prompt_number": 2
    },
    {
     "cell_type": "code",
     "collapsed": false,
     "input": [
      "# A model for the data (all data in the hdf5, so can be multi-pulsar) can be made with the initModel member function\n",
      "# Likelihood function 'mark3' is the standard for red noise analysis, and will default to that if not given\n",
      "likob.initModel(nfreqmodes=30, varyEfac=True, incRedNoise=True, noiseModel='powerlaw', likfunc='mark3')"
     ],
     "language": "python",
     "metadata": {},
     "outputs": [],
     "prompt_number": 3
    },
    {
     "cell_type": "code",
     "collapsed": false,
     "input": [
      "# The model has the following variable dimensions.\n",
      "print \"Number of dimensions: \", likob.dimensions\n",
      "# A total dictionary of all parameters is kept in likob.pardes (I'll make the names more descriptive). Do\n",
      "# not edit the pardes dictionary yourself. The 'real' model is saved in sub-classes and must be edited through\n",
      "# the initModel function\n",
      "for i in range(len(likob.pardes)): print likob.pardes[i]"
     ],
     "language": "python",
     "metadata": {},
     "outputs": [
      {
       "output_type": "stream",
       "stream": "stdout",
       "text": [
        "Number of dimensions:  3\n",
        "{'index': 0, 'name': 'pulsarname', 'sigtype': 'efac', 'sigindex': 0, 'correlation': 'single', 'pulsar': 0, 'id': u'efacJ0030+0451'}\n",
        "{'index': 1, 'name': 'powerlaw', 'sigtype': 'powerlaw', 'sigindex': 1, 'correlation': 'single', 'pulsar': 0, 'id': 'RN-Amplitude'}\n",
        "{'index': 2, 'name': 'powerlaw', 'sigtype': 'powerlaw', 'sigindex': 1, 'correlation': 'single', 'pulsar': 0, 'id': 'RN-spectral-index'}\n",
        "{'index': -1, 'name': 'powerlaw', 'sigtype': 'powerlaw', 'sigindex': 1, 'correlation': 'single', 'pulsar': 0, 'id': 'low-frequency-cutoff'}\n"
       ]
      }
     ],
     "prompt_number": 4
    },
    {
     "cell_type": "code",
     "collapsed": false,
     "input": [
      "# The default start parameters, minimum value, maximum value, and stepsize\n",
      "# Parameter indices belong to the 'index' key of the likob.pardes dictionary.\n",
      "# A '-1' in the pardes dictionary means that the parameter is kept fixed in a\n",
      "# subsequent analysis.\n",
      "print likob.pstart, likob.pmin, likob.pmax, likob.pwidth"
     ],
     "language": "python",
     "metadata": {},
     "outputs": [
      {
       "output_type": "stream",
       "stream": "stdout",
       "text": [
        "[  1.   -14.     2.01] [  1.00000000e-03  -1.60000000e+01   1.02000000e+00] [ 1000.      -5.       6.98] [ 0.1  0.1  0.1]\n"
       ]
      }
     ],
     "prompt_number": 5
    },
    {
     "cell_type": "code",
     "collapsed": false,
     "input": [
      "# Calculate the value of the posterior, likelihood, or prior:\n",
      "print likob.logprior(likob.pstart), likob.loglikelihood(likob.pstart), likob.logposterior(likob.pstart)"
     ],
     "language": "python",
     "metadata": {},
     "outputs": [
      {
       "output_type": "stream",
       "stream": "stdout",
       "text": [
        "-11.0907200329 1132.24124175 1121.15052171\n"
       ]
      }
     ],
     "prompt_number": 6
    },
    {
     "cell_type": "code",
     "collapsed": false,
     "input": [
      "# Run a t-walk algorithm on the posterior for 20000 steps (analyse=True prints the figure)\n",
      "pic.Runtwalk(likob, 20000, 'J0030-twalk-burnin.txt', thin=5, analyse=True)"
     ],
     "language": "python",
     "metadata": {},
     "outputs": [
      {
       "output_type": "stream",
       "stream": "stdout",
       "text": [
        "pytwalk: Running the twalk with 20000 iterations. Thu, 12 Sep 2013, 14:48.\n",
        "       Finish in approx. 1 minutes and 13 seconds.\n",
        "pytwalk:      15360 iterations so far. Finish in approx. 9 seconds."
       ]
      },
      {
       "output_type": "stream",
       "stream": "stdout",
       "text": [
        "\n",
        "pytwalk: finished, Thu, 12 Sep 2013, 14:49:31."
       ]
      },
      {
       "output_type": "stream",
       "stream": "stdout",
       "text": [
        "\n",
        "Acceptance rates for the Walk, Traverse, Blow and Hop kernels:[ 0.4685567   0.15584416  0.11640212  0.02808989]\n",
        "Global acceptance rate: 0.30600\n",
        "AutoMaxlag: maxlag= 27.\n",
        "Integrated Autocorrelation Time:     6.3, IAT/n:     2.1"
       ]
      },
      {
       "output_type": "stream",
       "stream": "stdout",
       "text": [
        "\n"
       ]
      },
      {
       "metadata": {},
       "output_type": "display_data",
       "png": "[encoded data removed]",
       "text": [
        "<matplotlib.figure.Figure at 0x3b76dd0>"
       ]
      }
     ],
     "prompt_number": 7
    },
    {
     "cell_type": "code",
     "collapsed": false,
     "input": [
      "# Removing the burn-in of the MCMC chains is easy on the command line\n",
      "!sed '1,300d' J0030-twalk-burnin.txt > J0030-twalk.txt"
     ],
     "language": "python",
     "metadata": {},
     "outputs": [],
     "prompt_number": 8
    },
    {
     "cell_type": "code",
     "collapsed": false,
     "input": [
      "# We can run a more optimal Metropolis algorithm by using the t-walk as a tuning chain\n",
      "pic.RunMetropolis(likob, 20000, 'J0030-metro.txt', initfile='J0030-twalk.txt', resize=1.0)"
     ],
     "language": "python",
     "metadata": {},
     "outputs": [
      {
       "output_type": "stream",
       "stream": "stdout",
       "text": [
        "Obtaining initial positions from 'J0030-twalk.txt'\n",
        "Running Metropolis-Hastings sampler"
       ]
      },
      {
       "output_type": "stream",
       "stream": "stdout",
       "text": [
        "\n",
        "\r",
        "Sample: 0 =  0.0%   acc. fr. = 0.455446   pos = -1.336963e+01 4.730071e+00  lnprob = 1.869844e+03   "
       ]
      },
      {
       "output_type": "stream",
       "stream": "stdout",
       "text": [
        "\r",
        "Sample: 100 =  0.5%   acc. fr. = 0.427861   pos = -1.314291e+01 5.782383e+00  lnprob = 1.869469e+03   "
       ]
      },
      {
       "output_type": "stream",
       "stream": "stdout",
       "text": [
        "\r",
        "Sample: 200 =  1.0%   acc. fr. = 0.425249   pos = -1.315614e+01 4.782837e+00  lnprob = 1.869856e+03   "
       ]
      },
      {
       "output_type": "stream",
       "stream": "stdout",
       "text": [
        "\r",
        "Sample: 300 =  1.5%   acc. fr. = 0.428928   pos = -1.312713e+01 4.715323e+00  lnprob = 1.871079e+03   "
       ]
      },
      {
       "output_type": "stream",
       "stream": "stdout",
       "text": [
        "\r",
        "Sample: 400 =  2.0%   acc. fr. = 0.411178   pos = -1.330716e+01 4.888174e+00  lnprob = 1.871955e+03   "
       ]
      },
      {
       "output_type": "stream",
       "stream": "stdout",
       "text": [
        "\r",
        "Sample: 500 =  2.5%   acc. fr. = 0.414309   pos = -1.322717e+01 4.941007e+00  lnprob = 1.871493e+03   "
       ]
      },
      {
       "output_type": "stream",
       "stream": "stdout",
       "text": [
        "\r",
        "Sample: 600 =  3.0%   acc. fr. = 0.430813   pos = -1.326825e+01 3.895368e+00  lnprob = 1.870740e+03   "
       ]
      },
      {
       "output_type": "stream",
       "stream": "stdout",
       "text": [
        "\r",
        "Sample: 700 =  3.5%   acc. fr. = 0.419476   pos = -1.332891e+01 4.395801e+00  lnprob = 1.871639e+03   "
       ]
      },
      {
       "output_type": "stream",
       "stream": "stdout",
       "text": [
        "\r",
        "Sample: 800 =  4.0%   acc. fr. = 0.428413   pos = -1.334770e+01 5.858324e+00  lnprob = 1.868584e+03   "
       ]
      },
      {
       "output_type": "stream",
       "stream": "stdout",
       "text": [
        "\r",
        "Sample: 900 =  4.5%   acc. fr. = 0.435564   pos = -1.314035e+01 4.208945e+00  lnprob = 1.871287e+03   "
       ]
      },
      {
       "output_type": "stream",
       "stream": "stdout",
       "text": [
        "\r",
        "Sample: 1000 =  5.0%   acc. fr. = 0.435059   pos = -1.329346e+01 4.307164e+00  lnprob = 1.871889e+03   "
       ]
      },
      {
       "output_type": "stream",
       "stream": "stdout",
       "text": [
        "\r",
        "Sample: 1100 =  5.5%   acc. fr. = 0.429642   pos = -1.314354e+01 4.241737e+00  lnprob = 1.871027e+03   "
       ]
      },
      {
       "output_type": "stream",
       "stream": "stdout",
       "text": [
        "\r",
        "Sample: 1200 =  6.0%   acc. fr. = 0.425058   pos = -1.324142e+01 4.877067e+00  lnprob = 1.871944e+03   "
       ]
      },
      {
       "output_type": "stream",
       "stream": "stdout",
       "text": [
        "\r",
        "Sample: 1300 =  6.5%   acc. fr. = 0.423983   pos = -1.309625e+01 5.475406e+00  lnprob = 1.866389e+03   "
       ]
      },
      {
       "output_type": "stream",
       "stream": "stdout",
       "text": [
        "\r",
        "Sample: 1400 =  7.0%   acc. fr. = 0.421719   pos = -1.325631e+01 4.646020e+00  lnprob = 1.872175e+03   "
       ]
      },
      {
       "output_type": "stream",
       "stream": "stdout",
       "text": [
        "\r",
        "Sample: 1500 =  7.5%   acc. fr. = 0.422236   pos = -1.336594e+01 5.290189e+00  lnprob = 1.870865e+03   "
       ]
      },
      {
       "output_type": "stream",
       "stream": "stdout",
       "text": [
        "\r",
        "Sample: 1600 =  8.0%   acc. fr. = 0.420929   pos = -1.329235e+01 4.644855e+00  lnprob = 1.871940e+03   "
       ]
      },
      {
       "output_type": "stream",
       "stream": "stdout",
       "text": [
        "\r",
        "Sample: 1700 =  8.5%   acc. fr. = 0.420322   pos = -1.314867e+01 4.308244e+00  lnprob = 1.871197e+03   "
       ]
      },
      {
       "output_type": "stream",
       "stream": "stdout",
       "text": [
        "\r",
        "Sample: 1800 =  9.0%   acc. fr. = 0.424513   pos = -1.331987e+01 4.535235e+00  lnprob = 1.871198e+03   "
       ]
      },
      {
       "output_type": "stream",
       "stream": "stdout",
       "text": [
        "\r",
        "Sample: 1900 =  9.5%   acc. fr. = 0.424788   pos = -1.326048e+01 4.042066e+00  lnprob = 1.871637e+03   "
       ]
      },
      {
       "output_type": "stream",
       "stream": "stdout",
       "text": [
        "\r",
        "Sample: 2000 = 10.0%   acc. fr. = 0.422180   pos = -1.328342e+01 5.859913e+00  lnprob = 1.870369e+03   "
       ]
      },
      {
       "output_type": "stream",
       "stream": "stdout",
       "text": [
        "\r",
        "Sample: 2100 = 10.5%   acc. fr. = 0.419809   pos = -1.334459e+01 3.883235e+00  lnprob = 1.869971e+03   "
       ]
      },
      {
       "output_type": "stream",
       "stream": "stdout",
       "text": [
        "\r",
        "Sample: 2200 = 11.0%   acc. fr. = 0.420252   pos = -1.318172e+01 4.001288e+00  lnprob = 1.870996e+03   "
       ]
      },
      {
       "output_type": "stream",
       "stream": "stdout",
       "text": [
        "\r",
        "Sample: 2300 = 11.5%   acc. fr. = 0.420242   pos = -1.330093e+01 4.347346e+00  lnprob = 1.871731e+03   "
       ]
      },
      {
       "output_type": "stream",
       "stream": "stdout",
       "text": [
        "\r",
        "Sample: 2400 = 12.0%   acc. fr. = 0.419832   pos = -1.325282e+01 4.474275e+00  lnprob = 1.871913e+03   "
       ]
      },
      {
       "output_type": "stream",
       "stream": "stdout",
       "text": [
        "\r",
        "Sample: 2500 = 12.5%   acc. fr. = 0.422914   pos = -1.315256e+01 4.035037e+00  lnprob = 1.870369e+03   "
       ]
      },
      {
       "output_type": "stream",
       "stream": "stdout",
       "text": [
        "\r",
        "Sample: 2600 = 13.0%   acc. fr. = 0.420215   pos = -1.339795e+01 6.080311e+00  lnprob = 1.867730e+03   "
       ]
      },
      {
       "output_type": "stream",
       "stream": "stdout",
       "text": [
        "\r",
        "Sample: 2700 = 13.5%   acc. fr. = 0.419136   pos = -1.326577e+01 4.651304e+00  lnprob = 1.872057e+03   "
       ]
      },
      {
       "output_type": "stream",
       "stream": "stdout",
       "text": [
        "\r",
        "Sample: 2800 = 14.0%   acc. fr. = 0.421234   pos = -1.318333e+01 4.590700e+00  lnprob = 1.871564e+03   "
       ]
      },
      {
       "output_type": "stream",
       "stream": "stdout",
       "text": [
        "\r",
        "Sample: 2900 = 14.5%   acc. fr. = 0.422859   pos = -1.325355e+01 5.758912e+00  lnprob = 1.870146e+03   "
       ]
      },
      {
       "output_type": "stream",
       "stream": "stdout",
       "text": [
        "\r",
        "Sample: 3000 = 15.0%   acc. fr. = 0.420187   pos = -1.315040e+01 3.313484e+00  lnprob = 1.868066e+03   "
       ]
      },
      {
       "output_type": "stream",
       "stream": "stdout",
       "text": [
        "\r",
        "Sample: 3100 = 15.5%   acc. fr. = 0.419244   pos = -1.332716e+01 4.745292e+00  lnprob = 1.871363e+03   "
       ]
      },
      {
       "output_type": "stream",
       "stream": "stdout",
       "text": [
        "\r",
        "Sample: 3200 = 16.0%   acc. fr. = 0.419873   pos = -1.339125e+01 5.779477e+00  lnprob = 1.870328e+03   "
       ]
      },
      {
       "output_type": "stream",
       "stream": "stdout",
       "text": [
        "\r",
        "Sample: 3300 = 16.5%   acc. fr. = 0.418994   pos = -1.322749e+01 5.458475e+00  lnprob = 1.870747e+03   "
       ]
      },
      {
       "output_type": "stream",
       "stream": "stdout",
       "text": [
        "\r",
        "Sample: 3400 = 17.0%   acc. fr. = 0.416452   pos = -1.346992e+01 5.991316e+00  lnprob = 1.869264e+03   "
       ]
      },
      {
       "output_type": "stream",
       "stream": "stdout",
       "text": [
        "\r",
        "Sample: 3500 = 17.5%   acc. fr. = 0.418495   pos = -1.330716e+01 5.425367e+00  lnprob = 1.871214e+03   "
       ]
      },
      {
       "output_type": "stream",
       "stream": "stdout",
       "text": [
        "\r",
        "Sample: 3600 = 18.0%   acc. fr. = 0.419887   pos = -1.338284e+01 4.822854e+00  lnprob = 1.871273e+03   "
       ]
      },
      {
       "output_type": "stream",
       "stream": "stdout",
       "text": [
        "\r",
        "Sample: 3700 = 18.5%   acc. fr. = 0.421205   pos = -1.308415e+01 4.332184e+00  lnprob = 1.870260e+03   "
       ]
      },
      {
       "output_type": "stream",
       "stream": "stdout",
       "text": [
        "\r",
        "Sample: 3800 = 19.0%   acc. fr. = 0.423225   pos = -1.336169e+01 4.368229e+00  lnprob = 1.871102e+03   "
       ]
      },
      {
       "output_type": "stream",
       "stream": "stdout",
       "text": [
        "\r",
        "Sample: 3900 = 19.5%   acc. fr. = 0.423644   pos = -1.326572e+01 4.323757e+00  lnprob = 1.872072e+03   "
       ]
      },
      {
       "output_type": "stream",
       "stream": "stdout",
       "text": [
        "\r",
        "Sample: 4000 = 20.0%   acc. fr. = 0.426969   pos = -1.336137e+01 4.549273e+00  lnprob = 1.870884e+03   "
       ]
      },
      {
       "output_type": "stream",
       "stream": "stdout",
       "text": [
        "\r",
        "Sample: 4100 = 20.5%   acc. fr. = 0.426565   pos = -1.328222e+01 4.092551e+00  lnprob = 1.870576e+03   "
       ]
      },
      {
       "output_type": "stream",
       "stream": "stdout",
       "text": [
        "\r",
        "Sample: 4200 = 21.0%   acc. fr. = 0.427110   pos = -1.318721e+01 4.502031e+00  lnprob = 1.871099e+03   "
       ]
      },
      {
       "output_type": "stream",
       "stream": "stdout",
       "text": [
        "\r",
        "Sample: 4300 = 21.5%   acc. fr. = 0.426267   pos = -1.316002e+01 5.259526e+00  lnprob = 1.870382e+03   "
       ]
      },
      {
       "output_type": "stream",
       "stream": "stdout",
       "text": [
        "\r",
        "Sample: 4400 = 22.0%   acc. fr. = 0.424572   pos = -1.311623e+01 3.661399e+00  lnprob = 1.869421e+03   "
       ]
      },
      {
       "output_type": "stream",
       "stream": "stdout",
       "text": [
        "\r",
        "Sample: 4500 = 22.5%   acc. fr. = 0.423169   pos = -1.320857e+01 4.015005e+00  lnprob = 1.871693e+03   "
       ]
      },
      {
       "output_type": "stream",
       "stream": "stdout",
       "text": [
        "\r",
        "Sample: 4600 = 23.0%   acc. fr. = 0.423101   pos = -1.322470e+01 4.449717e+00  lnprob = 1.871876e+03   "
       ]
      },
      {
       "output_type": "stream",
       "stream": "stdout",
       "text": [
        "\r",
        "Sample: 4700 = 23.5%   acc. fr. = 0.422829   pos = -1.339265e+01 4.529146e+00  lnprob = 1.870786e+03   "
       ]
      },
      {
       "output_type": "stream",
       "stream": "stdout",
       "text": [
        "\r",
        "Sample: 4800 = 24.0%   acc. fr. = 0.423179   pos = -1.332809e+01 5.252099e+00  lnprob = 1.871333e+03   "
       ]
      },
      {
       "output_type": "stream",
       "stream": "stdout",
       "text": [
        "\r",
        "Sample: 4900 = 24.5%   acc. fr. = 0.423915   pos = -1.303363e+01 4.691733e+00  lnprob = 1.868849e+03   "
       ]
      },
      {
       "output_type": "stream",
       "stream": "stdout",
       "text": [
        "\r",
        "Sample: 5000 = 25.0%   acc. fr. = 0.424819   pos = -1.312205e+01 4.468937e+00  lnprob = 1.871083e+03   "
       ]
      },
      {
       "output_type": "stream",
       "stream": "stdout",
       "text": [
        "\r",
        "Sample: 5100 = 25.5%   acc. fr. = 0.424534   pos = -1.318925e+01 4.186694e+00  lnprob = 1.871860e+03   "
       ]
      },
      {
       "output_type": "stream",
       "stream": "stdout",
       "text": [
        "\r",
        "Sample: 5200 = 26.0%   acc. fr. = 0.425203   pos = -1.331969e+01 5.670639e+00  lnprob = 1.869013e+03   "
       ]
      },
      {
       "output_type": "stream",
       "stream": "stdout",
       "text": [
        "\r",
        "Sample: 5300 = 26.5%   acc. fr. = 0.424366   pos = -1.335779e+01 4.379121e+00  lnprob = 1.871242e+03   "
       ]
      },
      {
       "output_type": "stream",
       "stream": "stdout",
       "text": [
        "\r",
        "Sample: 5400 = 27.0%   acc. fr. = 0.424105   pos = -1.323560e+01 4.238334e+00  lnprob = 1.871295e+03   "
       ]
      },
      {
       "output_type": "stream",
       "stream": "stdout",
       "text": [
        "\r",
        "Sample: 5500 = 27.5%   acc. fr. = 0.422603   pos = -1.330156e+01 4.770256e+00  lnprob = 1.871874e+03   "
       ]
      },
      {
       "output_type": "stream",
       "stream": "stdout",
       "text": [
        "\r",
        "Sample: 5600 = 28.0%   acc. fr. = 0.422031   pos = -1.344637e+01 4.771620e+00  lnprob = 1.869836e+03   "
       ]
      },
      {
       "output_type": "stream",
       "stream": "stdout",
       "text": [
        "\r",
        "Sample: 5700 = 28.5%   acc. fr. = 0.422686   pos = -1.344894e+01 4.538403e+00  lnprob = 1.868953e+03   "
       ]
      },
      {
       "output_type": "stream",
       "stream": "stdout",
       "text": [
        "\r",
        "Sample: 5800 = 29.0%   acc. fr. = 0.422471   pos = -1.326865e+01 4.107429e+00  lnprob = 1.869667e+03   "
       ]
      },
      {
       "output_type": "stream",
       "stream": "stdout",
       "text": [
        "\r",
        "Sample: 5900 = 29.5%   acc. fr. = 0.423096   pos = -1.323885e+01 4.134269e+00  lnprob = 1.871481e+03   "
       ]
      },
      {
       "output_type": "stream",
       "stream": "stdout",
       "text": [
        "\r",
        "Sample: 6000 = 30.0%   acc. fr. = 0.421570   pos = -1.320914e+01 3.918775e+00  lnprob = 1.871268e+03   "
       ]
      },
      {
       "output_type": "stream",
       "stream": "stdout",
       "text": [
        "\r",
        "Sample: 6100 = 30.5%   acc. fr. = 0.422029   pos = -1.306162e+01 4.471293e+00  lnprob = 1.869987e+03   "
       ]
      },
      {
       "output_type": "stream",
       "stream": "stdout",
       "text": [
        "\r",
        "Sample: 6200 = 31.0%   acc. fr. = 0.420886   pos = -1.325657e+01 5.871063e+00  lnprob = 1.870312e+03   "
       ]
      },
      {
       "output_type": "stream",
       "stream": "stdout",
       "text": [
        "\r",
        "Sample: 6300 = 31.5%   acc. fr. = 0.419934   pos = -1.320116e+01 4.322883e+00  lnprob = 1.871824e+03   "
       ]
      },
      {
       "output_type": "stream",
       "stream": "stdout",
       "text": [
        "\r",
        "Sample: 6400 = 32.0%   acc. fr. = 0.421781   pos = -1.327012e+01 4.445208e+00  lnprob = 1.871659e+03   "
       ]
      },
      {
       "output_type": "stream",
       "stream": "stdout",
       "text": [
        "\r",
        "Sample: 6500 = 32.5%   acc. fr. = 0.422057   pos = -1.325168e+01 4.946197e+00  lnprob = 1.870575e+03   "
       ]
      },
      {
       "output_type": "stream",
       "stream": "stdout",
       "text": [
        "\r",
        "Sample: 6600 = 33.0%   acc. fr. = 0.422922   pos = -1.334384e+01 4.300544e+00  lnprob = 1.871151e+03   "
       ]
      },
      {
       "output_type": "stream",
       "stream": "stdout",
       "text": [
        "\r",
        "Sample: 6700 = 33.5%   acc. fr. = 0.423173   pos = -1.333709e+01 4.347730e+00  lnprob = 1.871300e+03   "
       ]
      },
      {
       "output_type": "stream",
       "stream": "stdout",
       "text": [
        "\r",
        "Sample: 6800 = 34.0%   acc. fr. = 0.422982   pos = -1.321334e+01 4.787080e+00  lnprob = 1.870876e+03   "
       ]
      },
      {
       "output_type": "stream",
       "stream": "stdout",
       "text": [
        "\r",
        "Sample: 6900 = 34.5%   acc. fr. = 0.422225   pos = -1.326759e+01 4.806706e+00  lnprob = 1.872127e+03   "
       ]
      },
      {
       "output_type": "stream",
       "stream": "stdout",
       "text": [
        "\r",
        "Sample: 7000 = 35.0%   acc. fr. = 0.422335   pos = -1.325756e+01 4.792305e+00  lnprob = 1.871488e+03   "
       ]
      },
      {
       "output_type": "stream",
       "stream": "stdout",
       "text": [
        "\r",
        "Sample: 7100 = 35.5%   acc. fr. = 0.423275   pos = -1.332661e+01 4.821115e+00  lnprob = 1.870326e+03   "
       ]
      },
      {
       "output_type": "stream",
       "stream": "stdout",
       "text": [
        "\r",
        "Sample: 7200 = 36.0%   acc. fr. = 0.423778   pos = -1.313593e+01 5.067534e+00  lnprob = 1.870459e+03   "
       ]
      },
      {
       "output_type": "stream",
       "stream": "stdout",
       "text": [
        "\r",
        "Sample: 7300 = 36.5%   acc. fr. = 0.423862   pos = -1.329102e+01 4.261052e+00  lnprob = 1.869629e+03   "
       ]
      },
      {
       "output_type": "stream",
       "stream": "stdout",
       "text": [
        "\r",
        "Sample: 7400 = 37.0%   acc. fr. = 0.423677   pos = -1.329611e+01 3.802515e+00  lnprob = 1.870225e+03   "
       ]
      },
      {
       "output_type": "stream",
       "stream": "stdout",
       "text": [
        "\r",
        "Sample: 7500 = 37.5%   acc. fr. = 0.423497   pos = -1.339514e+01 4.679681e+00  lnprob = 1.870752e+03   "
       ]
      },
      {
       "output_type": "stream",
       "stream": "stdout",
       "text": [
        "\r",
        "Sample: 7600 = 38.0%   acc. fr. = 0.423192   pos = -1.329554e+01 4.547068e+00  lnprob = 1.871693e+03   "
       ]
      },
      {
       "output_type": "stream",
       "stream": "stdout",
       "text": [
        "\r",
        "Sample: 7700 = 38.5%   acc. fr. = 0.422510   pos = -1.329499e+01 4.432312e+00  lnprob = 1.870447e+03   "
       ]
      },
      {
       "output_type": "stream",
       "stream": "stdout",
       "text": [
        "\r",
        "Sample: 7800 = 39.0%   acc. fr. = 0.422225   pos = -1.315992e+01 4.441113e+00  lnprob = 1.871363e+03   "
       ]
      },
      {
       "output_type": "stream",
       "stream": "stdout",
       "text": [
        "\r",
        "Sample: 7900 = 39.5%   acc. fr. = 0.424072   pos = -1.328840e+01 4.484926e+00  lnprob = 1.871486e+03   "
       ]
      },
      {
       "output_type": "stream",
       "stream": "stdout",
       "text": [
        "\r",
        "Sample: 8000 = 40.0%   acc. fr. = 0.424515   pos = -1.333929e+01 4.355719e+00  lnprob = 1.871229e+03   "
       ]
      },
      {
       "output_type": "stream",
       "stream": "stdout",
       "text": [
        "\r",
        "Sample: 8100 = 40.5%   acc. fr. = 0.425680   pos = -1.326116e+01 4.511571e+00  lnprob = 1.872158e+03   "
       ]
      },
      {
       "output_type": "stream",
       "stream": "stdout",
       "text": [
        "\r",
        "Sample: 8200 = 41.0%   acc. fr. = 0.424889   pos = -1.318574e+01 4.686507e+00  lnprob = 1.871809e+03   "
       ]
      },
      {
       "output_type": "stream",
       "stream": "stdout",
       "text": [
        "\r",
        "Sample: 8300 = 41.5%   acc. fr. = 0.424830   pos = -1.293966e+01 5.279730e+00  lnprob = 1.866316e+03   "
       ]
      },
      {
       "output_type": "stream",
       "stream": "stdout",
       "text": [
        "\r",
        "Sample: 8400 = 42.0%   acc. fr. = 0.425597   pos = -1.324080e+01 4.299818e+00  lnprob = 1.871146e+03   "
       ]
      },
      {
       "output_type": "stream",
       "stream": "stdout",
       "text": [
        "\r",
        "Sample: 8500 = 42.5%   acc. fr. = 0.424834   pos = -1.321705e+01 4.048282e+00  lnprob = 1.871337e+03   "
       ]
      },
      {
       "output_type": "stream",
       "stream": "stdout",
       "text": [
        "\r",
        "Sample: 8600 = 43.0%   acc. fr. = 0.425238   pos = -1.335163e+01 5.536185e+00  lnprob = 1.870417e+03   "
       ]
      },
      {
       "output_type": "stream",
       "stream": "stdout",
       "text": [
        "\r",
        "Sample: 8700 = 43.5%   acc. fr. = 0.425633   pos = -1.318159e+01 4.416554e+00  lnprob = 1.871228e+03   "
       ]
      },
      {
       "output_type": "stream",
       "stream": "stdout",
       "text": [
        "\r",
        "Sample: 8800 = 44.0%   acc. fr. = 0.425795   pos = -1.328629e+01 4.207933e+00  lnprob = 1.871835e+03   "
       ]
      },
      {
       "output_type": "stream",
       "stream": "stdout",
       "text": [
        "\r",
        "Sample: 8900 = 44.5%   acc. fr. = 0.425286   pos = -1.321980e+01 4.923154e+00  lnprob = 1.871645e+03   "
       ]
      },
      {
       "output_type": "stream",
       "stream": "stdout",
       "text": [
        "\r",
        "Sample: 9000 = 45.0%   acc. fr. = 0.425887   pos = -1.333140e+01 4.913903e+00  lnprob = 1.871701e+03   "
       ]
      },
      {
       "output_type": "stream",
       "stream": "stdout",
       "text": [
        "\r",
        "Sample: 9100 = 45.5%   acc. fr. = 0.425389   pos = -1.306028e+01 5.187195e+00  lnprob = 1.868668e+03   "
       ]
      },
      {
       "output_type": "stream",
       "stream": "stdout",
       "text": [
        "\r",
        "Sample: 9200 = 46.0%   acc. fr. = 0.425438   pos = -1.332206e+01 4.448967e+00  lnprob = 1.871577e+03   "
       ]
      },
      {
       "output_type": "stream",
       "stream": "stdout",
       "text": [
        "\r",
        "Sample: 9300 = 46.5%   acc. fr. = 0.424529   pos = -1.331626e+01 4.433134e+00  lnprob = 1.870895e+03   "
       ]
      },
      {
       "output_type": "stream",
       "stream": "stdout",
       "text": [
        "\r",
        "Sample: 9400 = 47.0%   acc. fr. = 0.425008   pos = -1.338294e+01 5.324482e+00  lnprob = 1.870902e+03   "
       ]
      },
      {
       "output_type": "stream",
       "stream": "stdout",
       "text": [
        "\r",
        "Sample: 9500 = 47.5%   acc. fr. = 0.425893   pos = -1.347354e+01 5.306395e+00  lnprob = 1.869238e+03   "
       ]
      },
      {
       "output_type": "stream",
       "stream": "stdout",
       "text": [
        "\r",
        "Sample: 9600 = 48.0%   acc. fr. = 0.426657   pos = -1.309047e+01 4.579270e+00  lnprob = 1.870340e+03   "
       ]
      },
      {
       "output_type": "stream",
       "stream": "stdout",
       "text": [
        "\r",
        "Sample: 9700 = 48.5%   acc. fr. = 0.426181   pos = -1.339906e+01 5.636758e+00  lnprob = 1.870282e+03   "
       ]
      },
      {
       "output_type": "stream",
       "stream": "stdout",
       "text": [
        "\r",
        "Sample: 9800 = 49.0%   acc. fr. = 0.426220   pos = -1.323790e+01 4.101159e+00  lnprob = 1.869894e+03   "
       ]
      },
      {
       "output_type": "stream",
       "stream": "stdout",
       "text": [
        "\r",
        "Sample: 9900 = 49.5%   acc. fr. = 0.426057   pos = -1.332831e+01 4.940918e+00  lnprob = 1.868659e+03   "
       ]
      },
      {
       "output_type": "stream",
       "stream": "stdout",
       "text": [
        "\r",
        "Sample: 10000 = 50.0%   acc. fr. = 0.425403   pos = -1.340105e+01 5.199956e+00  lnprob = 1.869913e+03   "
       ]
      },
      {
       "output_type": "stream",
       "stream": "stdout",
       "text": [
        "\r",
        "Sample: 10100 = 50.5%   acc. fr. = 0.425056   pos = -1.323635e+01 5.386982e+00  lnprob = 1.871230e+03   "
       ]
      },
      {
       "output_type": "stream",
       "stream": "stdout",
       "text": [
        "\r",
        "Sample: 10200 = 51.0%   acc. fr. = 0.425493   pos = -1.311672e+01 4.618296e+00  lnprob = 1.870863e+03   "
       ]
      },
      {
       "output_type": "stream",
       "stream": "stdout",
       "text": [
        "\r",
        "Sample: 10300 = 51.5%   acc. fr. = 0.425055   pos = -1.321635e+01 5.495035e+00  lnprob = 1.870810e+03   "
       ]
      },
      {
       "output_type": "stream",
       "stream": "stdout",
       "text": [
        "\r",
        "Sample: 10400 = 52.0%   acc. fr. = 0.424721   pos = -1.322449e+01 5.293074e+00  lnprob = 1.871198e+03   "
       ]
      },
      {
       "output_type": "stream",
       "stream": "stdout",
       "text": [
        "\r",
        "Sample: 10500 = 52.5%   acc. fr. = 0.424866   pos = -1.314362e+01 3.744648e+00  lnprob = 1.868936e+03   "
       ]
      },
      {
       "output_type": "stream",
       "stream": "stdout",
       "text": [
        "\r",
        "Sample: 10600 = 53.0%   acc. fr. = 0.425287   pos = -1.330426e+01 3.869221e+00  lnprob = 1.870753e+03   "
       ]
      },
      {
       "output_type": "stream",
       "stream": "stdout",
       "text": [
        "\r",
        "Sample: 10700 = 53.5%   acc. fr. = 0.425886   pos = -1.321350e+01 5.771217e+00  lnprob = 1.868578e+03   "
       ]
      },
      {
       "output_type": "stream",
       "stream": "stdout",
       "text": [
        "\r",
        "Sample: 10800 = 54.0%   acc. fr. = 0.425741   pos = -1.318466e+01 4.394260e+00  lnprob = 1.871510e+03   "
       ]
      },
      {
       "output_type": "stream",
       "stream": "stdout",
       "text": [
        "\r",
        "Sample: 10900 = 54.5%   acc. fr. = 0.424689   pos = -1.325705e+01 4.464526e+00  lnprob = 1.872230e+03   "
       ]
      },
      {
       "output_type": "stream",
       "stream": "stdout",
       "text": [
        "\r",
        "Sample: 11000 = 55.0%   acc. fr. = 0.425097   pos = -1.330337e+01 4.399864e+00  lnprob = 1.871355e+03   "
       ]
      },
      {
       "output_type": "stream",
       "stream": "stdout",
       "text": [
        "\r",
        "Sample: 11100 = 55.5%   acc. fr. = 0.424962   pos = -1.342065e+01 5.018553e+00  lnprob = 1.870634e+03   "
       ]
      },
      {
       "output_type": "stream",
       "stream": "stdout",
       "text": [
        "\r",
        "Sample: 11200 = 56.0%   acc. fr. = 0.425095   pos = -1.327372e+01 3.648889e+00  lnprob = 1.869347e+03   "
       ]
      },
      {
       "output_type": "stream",
       "stream": "stdout",
       "text": [
        "\r",
        "Sample: 11300 = 56.5%   acc. fr. = 0.424524   pos = -1.322352e+01 4.127979e+00  lnprob = 1.871692e+03   "
       ]
      },
      {
       "output_type": "stream",
       "stream": "stdout",
       "text": [
        "\r",
        "Sample: 11400 = 57.0%   acc. fr. = 0.424920   pos = -1.335088e+01 4.504771e+00  lnprob = 1.871013e+03   "
       ]
      },
      {
       "output_type": "stream",
       "stream": "stdout",
       "text": [
        "\r",
        "Sample: 11500 = 57.5%   acc. fr. = 0.425912   pos = -1.325561e+01 4.874250e+00  lnprob = 1.872031e+03   "
       ]
      },
      {
       "output_type": "stream",
       "stream": "stdout",
       "text": [
        "\r",
        "Sample: 11600 = 58.0%   acc. fr. = 0.425861   pos = -1.340250e+01 4.941265e+00  lnprob = 1.870893e+03   "
       ]
      },
      {
       "output_type": "stream",
       "stream": "stdout",
       "text": [
        "\r",
        "Sample: 11700 = 58.5%   acc. fr. = 0.426150   pos = -1.304642e+01 4.653980e+00  lnprob = 1.868883e+03   "
       ]
      },
      {
       "output_type": "stream",
       "stream": "stdout",
       "text": [
        "\r",
        "Sample: 11800 = 59.0%   acc. fr. = 0.425931   pos = -1.329538e+01 5.110615e+00  lnprob = 1.871761e+03   "
       ]
      },
      {
       "output_type": "stream",
       "stream": "stdout",
       "text": [
        "\r",
        "Sample: 11900 = 59.5%   acc. fr. = 0.426048   pos = -1.329277e+01 5.326742e+00  lnprob = 1.870118e+03   "
       ]
      },
      {
       "output_type": "stream",
       "stream": "stdout",
       "text": [
        "\r",
        "Sample: 12000 = 60.0%   acc. fr. = 0.425998   pos = -1.343558e+01 5.936897e+00  lnprob = 1.868205e+03   "
       ]
      },
      {
       "output_type": "stream",
       "stream": "stdout",
       "text": [
        "\r",
        "Sample: 12100 = 60.5%   acc. fr. = 0.426277   pos = -1.328090e+01 6.852415e+00  lnprob = 1.866963e+03   "
       ]
      },
      {
       "output_type": "stream",
       "stream": "stdout",
       "text": [
        "\r",
        "Sample: 12200 = 61.0%   acc. fr. = 0.426388   pos = -1.328105e+01 4.505328e+00  lnprob = 1.871273e+03   "
       ]
      },
      {
       "output_type": "stream",
       "stream": "stdout",
       "text": [
        "\r",
        "Sample: 12300 = 61.5%   acc. fr. = 0.425691   pos = -1.334473e+01 5.016345e+00  lnprob = 1.871464e+03   "
       ]
      },
      {
       "output_type": "stream",
       "stream": "stdout",
       "text": [
        "\r",
        "Sample: 12400 = 62.0%   acc. fr. = 0.425886   pos = -1.336504e+01 5.023586e+00  lnprob = 1.871490e+03   "
       ]
      },
      {
       "output_type": "stream",
       "stream": "stdout",
       "text": [
        "\r",
        "Sample: 12500 = 62.5%   acc. fr. = 0.425919   pos = -1.318783e+01 4.536526e+00  lnprob = 1.871248e+03   "
       ]
      },
      {
       "output_type": "stream",
       "stream": "stdout",
       "text": [
        "\r",
        "Sample: 12600 = 63.0%   acc. fr. = 0.426581   pos = -1.327843e+01 4.374234e+00  lnprob = 1.871494e+03   "
       ]
      },
      {
       "output_type": "stream",
       "stream": "stdout",
       "text": [
        "\r",
        "Sample: 12700 = 63.5%   acc. fr. = 0.426607   pos = -1.317006e+01 4.534067e+00  lnprob = 1.871287e+03   "
       ]
      },
      {
       "output_type": "stream",
       "stream": "stdout",
       "text": [
        "\r",
        "Sample: 12800 = 64.0%   acc. fr. = 0.427021   pos = -1.304321e+01 4.530682e+00  lnprob = 1.869197e+03   "
       ]
      },
      {
       "output_type": "stream",
       "stream": "stdout",
       "text": [
        "\r",
        "Sample: 12900 = 64.5%   acc. fr. = 0.427275   pos = -1.343109e+01 5.724797e+00  lnprob = 1.868783e+03   "
       ]
      },
      {
       "output_type": "stream",
       "stream": "stdout",
       "text": [
        "\r",
        "Sample: 13000 = 65.0%   acc. fr. = 0.427677   pos = -1.331792e+01 5.674249e+00  lnprob = 1.870192e+03   "
       ]
      },
      {
       "output_type": "stream",
       "stream": "stdout",
       "text": [
        "\r",
        "Sample: 13100 = 65.5%   acc. fr. = 0.427392   pos = -1.343018e+01 4.431528e+00  lnprob = 1.869527e+03   "
       ]
      },
      {
       "output_type": "stream",
       "stream": "stdout",
       "text": [
        "\r",
        "Sample: 13200 = 66.0%   acc. fr. = 0.427637   pos = -1.333847e+01 4.453761e+00  lnprob = 1.871664e+03   "
       ]
      },
      {
       "output_type": "stream",
       "stream": "stdout",
       "text": [
        "\r",
        "Sample: 13300 = 66.5%   acc. fr. = 0.427356   pos = -1.323446e+01 4.714640e+00  lnprob = 1.871973e+03   "
       ]
      },
      {
       "output_type": "stream",
       "stream": "stdout",
       "text": [
        "\r",
        "Sample: 13400 = 67.0%   acc. fr. = 0.427968   pos = -1.326043e+01 5.743431e+00  lnprob = 1.870621e+03   "
       ]
      },
      {
       "output_type": "stream",
       "stream": "stdout",
       "text": [
        "\r",
        "Sample: 13500 = 67.5%   acc. fr. = 0.428351   pos = -1.336430e+01 6.179363e+00  lnprob = 1.869547e+03   "
       ]
      },
      {
       "output_type": "stream",
       "stream": "stdout",
       "text": [
        "\r",
        "Sample: 13600 = 68.0%   acc. fr. = 0.428436   pos = -1.343388e+01 4.888279e+00  lnprob = 1.870279e+03   "
       ]
      },
      {
       "output_type": "stream",
       "stream": "stdout",
       "text": [
        "\r",
        "Sample: 13700 = 68.5%   acc. fr. = 0.429099   pos = -1.333513e+01 4.873887e+00  lnprob = 1.871489e+03   "
       ]
      },
      {
       "output_type": "stream",
       "stream": "stdout",
       "text": [
        "\r",
        "Sample: 13800 = 69.0%   acc. fr. = 0.428674   pos = -1.341020e+01 4.888831e+00  lnprob = 1.870536e+03   "
       ]
      },
      {
       "output_type": "stream",
       "stream": "stdout",
       "text": [
        "\r",
        "Sample: 13900 = 69.5%   acc. fr. = 0.428612   pos = -1.325250e+01 4.657496e+00  lnprob = 1.871593e+03   "
       ]
      },
      {
       "output_type": "stream",
       "stream": "stdout",
       "text": [
        "\r",
        "Sample: 14000 = 70.0%   acc. fr. = 0.428338   pos = -1.337563e+01 5.009357e+00  lnprob = 1.869874e+03   "
       ]
      },
      {
       "output_type": "stream",
       "stream": "stdout",
       "text": [
        "\r",
        "Sample: 14100 = 70.5%   acc. fr. = 0.428421   pos = -1.327447e+01 4.753515e+00  lnprob = 1.870979e+03   "
       ]
      },
      {
       "output_type": "stream",
       "stream": "stdout",
       "text": [
        "\r",
        "Sample: 14200 = 71.0%   acc. fr. = 0.428781   pos = -1.320138e+01 5.430219e+00  lnprob = 1.870407e+03   "
       ]
      },
      {
       "output_type": "stream",
       "stream": "stdout",
       "text": [
        "\r",
        "Sample: 14300 = 71.5%   acc. fr. = 0.428998   pos = -1.320316e+01 4.388278e+00  lnprob = 1.871141e+03   "
       ]
      },
      {
       "output_type": "stream",
       "stream": "stdout",
       "text": [
        "\r",
        "Sample: 14400 = 72.0%   acc. fr. = 0.429143   pos = -1.339770e+01 5.064530e+00  lnprob = 1.870960e+03   "
       ]
      },
      {
       "output_type": "stream",
       "stream": "stdout",
       "text": [
        "\r",
        "Sample: 14500 = 72.5%   acc. fr. = 0.429217   pos = -1.321125e+01 6.015482e+00  lnprob = 1.868831e+03   "
       ]
      },
      {
       "output_type": "stream",
       "stream": "stdout",
       "text": [
        "\r",
        "Sample: 14600 = 73.0%   acc. fr. = 0.428950   pos = -1.328705e+01 4.213912e+00  lnprob = 1.871888e+03   "
       ]
      },
      {
       "output_type": "stream",
       "stream": "stdout",
       "text": [
        "\r",
        "Sample: 14700 = 73.5%   acc. fr. = 0.428012   pos = -1.329655e+01 4.593502e+00  lnprob = 1.872115e+03   "
       ]
      },
      {
       "output_type": "stream",
       "stream": "stdout",
       "text": [
        "\r",
        "Sample: 14800 = 74.0%   acc. fr. = 0.427824   pos = -1.312805e+01 5.048790e+00  lnprob = 1.870426e+03   "
       ]
      },
      {
       "output_type": "stream",
       "stream": "stdout",
       "text": [
        "\r",
        "Sample: 14900 = 74.5%   acc. fr. = 0.427305   pos = -1.321781e+01 4.871796e+00  lnprob = 1.871745e+03   "
       ]
      },
      {
       "output_type": "stream",
       "stream": "stdout",
       "text": [
        "\r",
        "Sample: 15000 = 75.0%   acc. fr. = 0.427521   pos = -1.325946e+01 3.979870e+00  lnprob = 1.871588e+03   "
       ]
      },
      {
       "output_type": "stream",
       "stream": "stdout",
       "text": [
        "\r",
        "Sample: 15100 = 75.5%   acc. fr. = 0.427867   pos = -1.349711e+01 4.869053e+00  lnprob = 1.868143e+03   "
       ]
      },
      {
       "output_type": "stream",
       "stream": "stdout",
       "text": [
        "\r",
        "Sample: 15200 = 76.0%   acc. fr. = 0.427750   pos = -1.322021e+01 4.416702e+00  lnprob = 1.872127e+03   "
       ]
      },
      {
       "output_type": "stream",
       "stream": "stdout",
       "text": [
        "\r",
        "Sample: 15300 = 76.5%   acc. fr. = 0.427700   pos = -1.332675e+01 4.858566e+00  lnprob = 1.871854e+03   "
       ]
      },
      {
       "output_type": "stream",
       "stream": "stdout",
       "text": [
        "\r",
        "Sample: 15400 = 77.0%   acc. fr. = 0.427069   pos = -1.318646e+01 4.316428e+00  lnprob = 1.871923e+03   "
       ]
      },
      {
       "output_type": "stream",
       "stream": "stdout",
       "text": [
        "\r",
        "Sample: 15500 = 77.5%   acc. fr. = 0.426832   pos = -1.331707e+01 5.354323e+00  lnprob = 1.871438e+03   "
       ]
      },
      {
       "output_type": "stream",
       "stream": "stdout",
       "text": [
        "\r",
        "Sample: 15600 = 78.0%   acc. fr. = 0.426852   pos = -1.306978e+01 3.890421e+00  lnprob = 1.869279e+03   "
       ]
      },
      {
       "output_type": "stream",
       "stream": "stdout",
       "text": [
        "\r",
        "Sample: 15700 = 78.5%   acc. fr. = 0.426998   pos = -1.317197e+01 5.457534e+00  lnprob = 1.869651e+03   "
       ]
      },
      {
       "output_type": "stream",
       "stream": "stdout",
       "text": [
        "\r",
        "Sample: 15800 = 79.0%   acc. fr. = 0.427080   pos = -1.337874e+01 5.380591e+00  lnprob = 1.870965e+03   "
       ]
      },
      {
       "output_type": "stream",
       "stream": "stdout",
       "text": [
        "\r",
        "Sample: 15900 = 79.5%   acc. fr. = 0.426848   pos = -1.324498e+01 4.779904e+00  lnprob = 1.872047e+03   "
       ]
      },
      {
       "output_type": "stream",
       "stream": "stdout",
       "text": [
        "\r",
        "Sample: 16000 = 80.0%   acc. fr. = 0.426744   pos = -1.303627e+01 3.910692e+00  lnprob = 1.868492e+03   "
       ]
      },
      {
       "output_type": "stream",
       "stream": "stdout",
       "text": [
        "\r",
        "Sample: 16100 = 80.5%   acc. fr. = 0.426517   pos = -1.325577e+01 6.061473e+00  lnprob = 1.869778e+03   "
       ]
      },
      {
       "output_type": "stream",
       "stream": "stdout",
       "text": [
        "\r",
        "Sample: 16200 = 81.0%   acc. fr. = 0.426600   pos = -1.319330e+01 4.943108e+00  lnprob = 1.870970e+03   "
       ]
      },
      {
       "output_type": "stream",
       "stream": "stdout",
       "text": [
        "\r",
        "Sample: 16300 = 81.5%   acc. fr. = 0.426072   pos = -1.348732e+01 4.422183e+00  lnprob = 1.866390e+03   "
       ]
      },
      {
       "output_type": "stream",
       "stream": "stdout",
       "text": [
        "\r",
        "Sample: 16400 = 82.0%   acc. fr. = 0.425792   pos = -1.323971e+01 4.775622e+00  lnprob = 1.872099e+03   "
       ]
      },
      {
       "output_type": "stream",
       "stream": "stdout",
       "text": [
        "\r",
        "Sample: 16500 = 82.5%   acc. fr. = 0.425577   pos = -1.308575e+01 5.084583e+00  lnprob = 1.869334e+03   "
       ]
      },
      {
       "output_type": "stream",
       "stream": "stdout",
       "text": [
        "\r",
        "Sample: 16600 = 83.0%   acc. fr. = 0.424825   pos = -1.314660e+01 4.283424e+00  lnprob = 1.871134e+03   "
       ]
      },
      {
       "output_type": "stream",
       "stream": "stdout",
       "text": [
        "\r",
        "Sample: 16700 = 83.5%   acc. fr. = 0.424856   pos = -1.326235e+01 4.435832e+00  lnprob = 1.872207e+03   "
       ]
      },
      {
       "output_type": "stream",
       "stream": "stdout",
       "text": [
        "\r",
        "Sample: 16800 = 84.0%   acc. fr. = 0.424235   pos = -1.339136e+01 4.564355e+00  lnprob = 1.870583e+03   "
       ]
      },
      {
       "output_type": "stream",
       "stream": "stdout",
       "text": [
        "\r",
        "Sample: 16900 = 84.5%   acc. fr. = 0.423857   pos = -1.329707e+01 4.856420e+00  lnprob = 1.871972e+03   "
       ]
      },
      {
       "output_type": "stream",
       "stream": "stdout",
       "text": [
        "\r",
        "Sample: 17000 = 85.0%   acc. fr. = 0.423367   pos = -1.331093e+01 4.925330e+00  lnprob = 1.871936e+03   "
       ]
      },
      {
       "output_type": "stream",
       "stream": "stdout",
       "text": [
        "\r",
        "Sample: 17100 = 85.5%   acc. fr. = 0.423289   pos = -1.341113e+01 4.830642e+00  lnprob = 1.870729e+03   "
       ]
      },
      {
       "output_type": "stream",
       "stream": "stdout",
       "text": [
        "\r",
        "Sample: 17200 = 86.0%   acc. fr. = 0.423270   pos = -1.339719e+01 5.979471e+00  lnprob = 1.869628e+03   "
       ]
      },
      {
       "output_type": "stream",
       "stream": "stdout",
       "text": [
        "\r",
        "Sample: 17300 = 86.5%   acc. fr. = 0.423481   pos = -1.317408e+01 5.225917e+00  lnprob = 1.869942e+03   "
       ]
      },
      {
       "output_type": "stream",
       "stream": "stdout",
       "text": [
        "\r",
        "Sample: 17400 = 87.0%   acc. fr. = 0.423690   pos = -1.322469e+01 5.553539e+00  lnprob = 1.870621e+03   "
       ]
      },
      {
       "output_type": "stream",
       "stream": "stdout",
       "text": [
        "\r",
        "Sample: 17500 = 87.5%   acc. fr. = 0.423555   pos = -1.316605e+01 3.897030e+00  lnprob = 1.870943e+03   "
       ]
      },
      {
       "output_type": "stream",
       "stream": "stdout",
       "text": [
        "\r",
        "Sample: 17600 = 88.0%   acc. fr. = 0.423422   pos = -1.333079e+01 6.128913e+00  lnprob = 1.869672e+03   "
       ]
      },
      {
       "output_type": "stream",
       "stream": "stdout",
       "text": [
        "\r",
        "Sample: 17700 = 88.5%   acc. fr. = 0.423516   pos = -1.319005e+01 3.863463e+00  lnprob = 1.870363e+03   "
       ]
      },
      {
       "output_type": "stream",
       "stream": "stdout",
       "text": [
        "\r",
        "Sample: 17800 = 89.0%   acc. fr. = 0.423943   pos = -1.332527e+01 5.638007e+00  lnprob = 1.869337e+03   "
       ]
      },
      {
       "output_type": "stream",
       "stream": "stdout",
       "text": [
        "\r",
        "Sample: 17900 = 89.5%   acc. fr. = 0.424032   pos = -1.332919e+01 4.894928e+00  lnprob = 1.871825e+03   "
       ]
      },
      {
       "output_type": "stream",
       "stream": "stdout",
       "text": [
        "\r",
        "Sample: 18000 = 90.0%   acc. fr. = 0.423844   pos = -1.332569e+01 4.283642e+00  lnprob = 1.871050e+03   "
       ]
      },
      {
       "output_type": "stream",
       "stream": "stdout",
       "text": [
        "\r",
        "Sample: 18100 = 90.5%   acc. fr. = 0.423658   pos = -1.305839e+01 4.126492e+00  lnprob = 1.869450e+03   "
       ]
      },
      {
       "output_type": "stream",
       "stream": "stdout",
       "text": [
        "\r",
        "Sample: 18200 = 91.0%   acc. fr. = 0.424130   pos = -1.345519e+01 5.598340e+00  lnprob = 1.869702e+03   "
       ]
      },
      {
       "output_type": "stream",
       "stream": "stdout",
       "text": [
        "\r",
        "Sample: 18300 = 91.5%   acc. fr. = 0.424162   pos = -1.321285e+01 5.394679e+00  lnprob = 1.870968e+03   "
       ]
      },
      {
       "output_type": "stream",
       "stream": "stdout",
       "text": [
        "\r",
        "Sample: 18400 = 92.0%   acc. fr. = 0.424085   pos = -1.322253e+01 3.940429e+00  lnprob = 1.870473e+03   "
       ]
      },
      {
       "output_type": "stream",
       "stream": "stdout",
       "text": [
        "\r",
        "Sample: 18500 = 92.5%   acc. fr. = 0.423956   pos = -1.327390e+01 4.613049e+00  lnprob = 1.872146e+03   "
       ]
      },
      {
       "output_type": "stream",
       "stream": "stdout",
       "text": [
        "\r",
        "Sample: 18600 = 93.0%   acc. fr. = 0.424148   pos = -1.339114e+01 4.310948e+00  lnprob = 1.870331e+03   "
       ]
      },
      {
       "output_type": "stream",
       "stream": "stdout",
       "text": [
        "\r",
        "Sample: 18700 = 93.5%   acc. fr. = 0.423914   pos = -1.342095e+01 5.573668e+00  lnprob = 1.870372e+03   "
       ]
      },
      {
       "output_type": "stream",
       "stream": "stdout",
       "text": [
        "\r",
        "Sample: 18800 = 94.0%   acc. fr. = 0.423946   pos = -1.315015e+01 4.649764e+00  lnprob = 1.871451e+03   "
       ]
      },
      {
       "output_type": "stream",
       "stream": "stdout",
       "text": [
        "\r",
        "Sample: 18900 = 94.5%   acc. fr. = 0.423925   pos = -1.324734e+01 4.390194e+00  lnprob = 1.872094e+03   "
       ]
      },
      {
       "output_type": "stream",
       "stream": "stdout",
       "text": [
        "\r",
        "Sample: 19000 = 95.0%   acc. fr. = 0.423905   pos = -1.338203e+01 4.621214e+00  lnprob = 1.871087e+03   "
       ]
      },
      {
       "output_type": "stream",
       "stream": "stdout",
       "text": [
        "\r",
        "Sample: 19100 = 95.5%   acc. fr. = 0.423780   pos = -1.330345e+01 4.438660e+00  lnprob = 1.872002e+03   "
       ]
      },
      {
       "output_type": "stream",
       "stream": "stdout",
       "text": [
        "\r",
        "Sample: 19200 = 96.0%   acc. fr. = 0.424071   pos = -1.321132e+01 5.456828e+00  lnprob = 1.870906e+03   "
       ]
      },
      {
       "output_type": "stream",
       "stream": "stdout",
       "text": [
        "\r",
        "Sample: 19300 = 96.5%   acc. fr. = 0.423947   pos = -1.339606e+01 5.678477e+00  lnprob = 1.870457e+03   "
       ]
      },
      {
       "output_type": "stream",
       "stream": "stdout",
       "text": [
        "\r",
        "Sample: 19400 = 97.0%   acc. fr. = 0.423824   pos = -1.328964e+01 5.040509e+00  lnprob = 1.871611e+03   "
       ]
      },
      {
       "output_type": "stream",
       "stream": "stdout",
       "text": [
        "\r",
        "Sample: 19500 = 97.5%   acc. fr. = 0.424162   pos = -1.329353e+01 4.910463e+00  lnprob = 1.868496e+03   "
       ]
      },
      {
       "output_type": "stream",
       "stream": "stdout",
       "text": [
        "\r",
        "Sample: 19600 = 98.0%   acc. fr. = 0.423938   pos = -1.326872e+01 3.908979e+00  lnprob = 1.871099e+03   "
       ]
      },
      {
       "output_type": "stream",
       "stream": "stdout",
       "text": [
        "\r",
        "Sample: 19700 = 98.5%   acc. fr. = 0.423665   pos = -1.324653e+01 4.693169e+00  lnprob = 1.871909e+03   "
       ]
      },
      {
       "output_type": "stream",
       "stream": "stdout",
       "text": [
        "\r",
        "Sample: 19800 = 99.0%   acc. fr. = 0.423949   pos = -1.326389e+01 4.039320e+00  lnprob = 1.871682e+03   "
       ]
      },
      {
       "output_type": "stream",
       "stream": "stdout",
       "text": [
        "\r",
        "Sample: 19900 = 99.5%   acc. fr. = 0.424079   pos = -1.332750e+01 5.837912e+00  lnprob = 1.870519e+03   "
       ]
      },
      {
       "output_type": "stream",
       "stream": "stdout",
       "text": [
        "\n",
        "('Mean acceptance fraction:', 0.42407879606019699)\n",
        "Install acor from github or pip: http://github.com/dfm/acor\n"
       ]
      }
     ],
     "prompt_number": 9
    },
    {
     "cell_type": "code",
     "collapsed": false,
     "input": [
      "# The parameters in the chain are stored in 'J0030-metro.txt.parameters.txt'.\n",
      "# All sampler routines use this convention\n",
      "!cat J0030-metro.txt.parameters.txt"
     ],
     "language": "python",
     "metadata": {},
     "outputs": [
      {
       "output_type": "stream",
       "stream": "stdout",
       "text": [
        "0 \t0 \tefac \tsingle \tpulsarname \tefacJ0030+0451\r\n",
        "1 \t0 \tpowerlaw \tsingle \tpowerlaw \tRN-Amplitude\r\n",
        "2 \t0 \tpowerlaw \tsingle \tpowerlaw \tRN-spectral-index\r\n",
        "-1 \t0 \tpowerlaw \tsingle \tpowerlaw \tlow-frequency-cutoff\r\n"
       ]
      }
     ],
     "prompt_number": 10
    },
    {
     "cell_type": "code",
     "collapsed": false,
     "input": [
      "# Plot the results of the MCMC (which uses the .parameters.txt file)\n",
      "pic.triplot('J0030-metro.txt')"
     ],
     "language": "python",
     "metadata": {},
     "outputs": [
      {
       "output_type": "stream",
       "stream": "stdout",
       "text": [
        "parametersfilename =  J0030-metro.txt.parameters.txt\n",
        "figurefilename =  J0030-metro.txt.fig.eps\n",
        "chainfilename =  J0030-metro.txt\n"
       ]
      },
      {
       "metadata": {},
       "output_type": "display_data",
       "png": "[encoded data removed]",
       "text": [
        "<matplotlib.figure.Figure at 0x3b76c50>"
       ]
      }
     ],
     "prompt_number": 11
    },
    {
     "cell_type": "code",
     "collapsed": false,
     "input": [
      "# Note: evidence = 1857\n",
      "# pic.RunMultiNest(likob, 'J0030-mn')"
     ],
     "language": "python",
     "metadata": {},
     "outputs": [],
     "prompt_number": 18
    },
    {
     "cell_type": "code",
     "collapsed": false,
     "input": [],
     "language": "python",
     "metadata": {},
     "outputs": [],
     "prompt_number": 8
    },
    {
     "cell_type": "code",
     "collapsed": false,
     "input": [
      "import numpy as np\n",
      "import matplotlib.pyplot as plt\n",
      "import piccard as pic"
     ],
     "language": "python",
     "metadata": {},
     "outputs": [],
     "prompt_number": 3
    },
    {
     "cell_type": "code",
     "collapsed": false,
     "input": [
      "reload(pic)"
     ],
     "language": "python",
     "metadata": {},
     "outputs": [],
     "prompt_number": 9
    },
    {
     "cell_type": "code",
     "collapsed": false,
     "input": [
      "# We are now going to do the same thing as above, but with different noise models. We make two extra likelihood objects:\n",
      "likobsm = pic.ptaLikelihood('J0030.h5')    # Same model as in the Tempo2 'spectralModel' plugin\n",
      "likobsp = pic.ptaLikelihood('J0030.h5')    # Frequencies individually parameterised"
     ],
     "language": "python",
     "metadata": {},
     "outputs": [],
     "prompt_number": 12
    },
    {
     "cell_type": "code",
     "collapsed": false,
     "input": [
      "# Prepare the likelihood objects\n",
      "likobsm.initModel(nfreqmodes=30, varyEfac=True, incRedNoise=True, noiseModel='spectralModel')\n",
      "likobsp.initModel(nfreqmodes=30, varyEfac=True, incRedNoise=True, noiseModel='spectrum')"
     ],
     "language": "python",
     "metadata": {},
     "outputs": [],
     "prompt_number": 13
    },
    {
     "cell_type": "code",
     "collapsed": false,
     "input": [
      "# Instead of using Metropolis, we'll now use MultiNest to sample. This time on the 'spectralModel' object\n",
      "# TODO: MultiNest parameters in 'piccard.py' need to be tweaked a bit\n",
      "# Note: evidence = 1858\n",
      "pic.RunMultiNest(likobsm, 'J0030-sm')"
     ],
     "language": "python",
     "metadata": {},
     "outputs": [],
     "prompt_number": 6
    },
    {
     "cell_type": "code",
     "collapsed": false,
     "input": [
      "# Plotting is done with the same triplot routine\n",
      "pic.triplot('J0030-sm.txt')"
     ],
     "language": "python",
     "metadata": {},
     "outputs": [
      {
       "output_type": "stream",
       "stream": "stdout",
       "text": [
        "parametersfilename =  J0030-sm.txt.parameters.txt\n",
        "figurefilename =  J0030-sm.txt.fig.eps\n",
        "chainfilename =  J0030-sm.txt\n"
       ]
      },
      {
       "output_type": "display_data",
       "png": "[encoded data removed]"
      }
     ],
     "prompt_number": 6
    },
    {
     "cell_type": "code",
     "collapsed": false,
     "input": [
      "# For the spectrum, we'll do a t-walk/Metropolis combo again\n",
      "pic.Runtwalk(likobsp, 50000, 'J0030-sp-twalk-burnin.txt', thin=5)\n",
      "!sed '1,300d' J0030-sp-twalk-burnin.txt > J0030-sp-twalk.txt\n",
      "pic.RunMetropolis(likobsp, 50000, 'J0030-sp-metro.txt', initfile='J0030-sp-twalk.txt', resize=0.2)"
     ],
     "language": "python",
     "metadata": {},
     "outputs": [
      {
       "output_type": "stream",
       "stream": "stdout",
       "text": [
        "pytwalk: Running the twalk with 50000 iterations. Thu, 12 Sep 2013, 14:52.\n",
        "       Finish in approx. 1 minutes and 46 seconds.\n",
        "pytwalk:      24576 iterations so far. Finish in approx. 32 seconds."
       ]
      },
      {
       "output_type": "stream",
       "stream": "stdout",
       "text": [
        "\n",
        "pytwalk: finished, Thu, 12 Sep 2013, 14:53:23."
       ]
      },
      {
       "output_type": "stream",
       "stream": "stdout",
       "text": [
        "\n"
       ]
      },
      {
       "output_type": "stream",
       "stream": "stdout",
       "text": [
        "Obtaining initial positions from 'J0030-sp-twalk.txt'\n",
        "Running Metropolis-Hastings sampler"
       ]
      },
      {
       "output_type": "stream",
       "stream": "stdout",
       "text": [
        "\n",
        "\r",
        "Sample: 0 =  0.0%   acc. fr. = 0.386139   pos = -1.640947e+01 -1.525659e+01  lnprob = 1.790729e+03   "
       ]
      },
      {
       "output_type": "stream",
       "stream": "stdout",
       "text": [
        "\r",
        "Sample: 100 =  0.2%   acc. fr. = 0.412935   pos = -1.782604e+01 -1.651313e+01  lnprob = 1.800210e+03   "
       ]
      },
      {
       "output_type": "stream",
       "stream": "stdout",
       "text": [
        "\r",
        "Sample: 200 =  0.4%   acc. fr. = 0.392027   pos = -1.608071e+01 -1.743164e+01  lnprob = 1.799771e+03   "
       ]
      },
      {
       "output_type": "stream",
       "stream": "stdout",
       "text": [
        "\r",
        "Sample: 300 =  0.6%   acc. fr. = 0.418953   pos = -1.710821e+01 -1.794444e+01  lnprob = 1.799931e+03   "
       ]
      },
      {
       "output_type": "stream",
       "stream": "stdout",
       "text": [
        "\r",
        "Sample: 400 =  0.8%   acc. fr. = 0.377246   pos = -1.778603e+01 -1.764337e+01  lnprob = 1.798346e+03   "
       ]
      },
      {
       "output_type": "stream",
       "stream": "stdout",
       "text": [
        "\r",
        "Sample: 500 =  1.0%   acc. fr. = 0.354409   pos = -1.770444e+01 -1.772120e+01  lnprob = 1.796146e+03   "
       ]
      },
      {
       "output_type": "stream",
       "stream": "stdout",
       "text": [
        "\r",
        "Sample: 600 =  1.2%   acc. fr. = 0.348074   pos = -1.659388e+01 -1.729406e+01  lnprob = 1.796895e+03   "
       ]
      },
      {
       "output_type": "stream",
       "stream": "stdout",
       "text": [
        "\r",
        "Sample: 700 =  1.4%   acc. fr. = 0.364544   pos = -1.638214e+01 -1.785503e+01  lnprob = 1.800110e+03   "
       ]
      },
      {
       "output_type": "stream",
       "stream": "stdout",
       "text": [
        "\r",
        "Sample: 800 =  1.6%   acc. fr. = 0.360710   pos = -1.762104e+01 -1.717107e+01  lnprob = 1.799578e+03   "
       ]
      },
      {
       "output_type": "stream",
       "stream": "stdout",
       "text": [
        "\r",
        "Sample: 900 =  1.8%   acc. fr. = 0.366633   pos = -1.698538e+01 -1.753386e+01  lnprob = 1.793277e+03   "
       ]
      },
      {
       "output_type": "stream",
       "stream": "stdout",
       "text": [
        "\r",
        "Sample: 1000 =  2.0%   acc. fr. = 0.366939   pos = -1.774850e+01 -1.683819e+01  lnprob = 1.792720e+03   "
       ]
      },
      {
       "output_type": "stream",
       "stream": "stdout",
       "text": [
        "\r",
        "Sample: 1100 =  2.2%   acc. fr. = 0.373022   pos = -1.731139e+01 -1.600452e+01  lnprob = 1.798826e+03   "
       ]
      },
      {
       "output_type": "stream",
       "stream": "stdout",
       "text": [
        "\r",
        "Sample: 1200 =  2.4%   acc. fr. = 0.370484   pos = -1.791070e+01 -1.673836e+01  lnprob = 1.798714e+03   "
       ]
      },
      {
       "output_type": "stream",
       "stream": "stdout",
       "text": [
        "\r",
        "Sample: 1300 =  2.6%   acc. fr. = 0.365453   pos = -1.748042e+01 -1.546382e+01  lnprob = 1.794848e+03   "
       ]
      },
      {
       "output_type": "stream",
       "stream": "stdout",
       "text": [
        "\r",
        "Sample: 1400 =  2.8%   acc. fr. = 0.361759   pos = -1.706449e+01 -1.562513e+01  lnprob = 1.794564e+03   "
       ]
      },
      {
       "output_type": "stream",
       "stream": "stdout",
       "text": [
        "\r",
        "Sample: 1500 =  3.0%   acc. fr. = 0.370394   pos = -1.754829e+01 -1.471343e+01  lnprob = 1.791937e+03   "
       ]
      },
      {
       "output_type": "stream",
       "stream": "stdout",
       "text": [
        "\r",
        "Sample: 1600 =  3.2%   acc. fr. = 0.375073   pos = -1.681295e+01 -1.752661e+01  lnprob = 1.799892e+03   "
       ]
      },
      {
       "output_type": "stream",
       "stream": "stdout",
       "text": [
        "\r",
        "Sample: 1700 =  3.4%   acc. fr. = 0.363132   pos = -1.757812e+01 -1.727706e+01  lnprob = 1.801109e+03   "
       ]
      },
      {
       "output_type": "stream",
       "stream": "stdout",
       "text": [
        "\r",
        "Sample: 1800 =  3.6%   acc. fr. = 0.359811   pos = -1.793258e+01 -1.693265e+01  lnprob = 1.799016e+03   "
       ]
      },
      {
       "output_type": "stream",
       "stream": "stdout",
       "text": [
        "\r",
        "Sample: 1900 =  3.8%   acc. fr. = 0.355322   pos = -1.761045e+01 -1.629824e+01  lnprob = 1.796244e+03   "
       ]
      },
      {
       "output_type": "stream",
       "stream": "stdout",
       "text": [
        "\r",
        "Sample: 2000 =  4.0%   acc. fr. = 0.353165   pos = -1.710216e+01 -1.641751e+01  lnprob = 1.799233e+03   "
       ]
      },
      {
       "output_type": "stream",
       "stream": "stdout",
       "text": [
        "\r",
        "Sample: 2100 =  4.2%   acc. fr. = 0.354839   pos = -1.654704e+01 -1.517561e+01  lnprob = 1.802621e+03   "
       ]
      },
      {
       "output_type": "stream",
       "stream": "stdout",
       "text": [
        "\r",
        "Sample: 2200 =  4.4%   acc. fr. = 0.351586   pos = -1.722369e+01 -1.560890e+01  lnprob = 1.795737e+03   "
       ]
      },
      {
       "output_type": "stream",
       "stream": "stdout",
       "text": [
        "\r",
        "Sample: 2300 =  4.6%   acc. fr. = 0.353186   pos = -1.558238e+01 -1.630963e+01  lnprob = 1.803284e+03   "
       ]
      },
      {
       "output_type": "stream",
       "stream": "stdout",
       "text": [
        "\r",
        "Sample: 2400 =  4.8%   acc. fr. = 0.351459   pos = -1.546857e+01 -1.624649e+01  lnprob = 1.799425e+03   "
       ]
      },
      {
       "output_type": "stream",
       "stream": "stdout",
       "text": [
        "\r",
        "Sample: 2500 =  5.0%   acc. fr. = 0.352557   pos = -1.679101e+01 -1.707580e+01  lnprob = 1.799625e+03   "
       ]
      },
      {
       "output_type": "stream",
       "stream": "stdout",
       "text": [
        "\r",
        "Sample: 2600 =  5.2%   acc. fr. = 0.352832   pos = -1.509372e+01 -1.512161e+01  lnprob = 1.800789e+03   "
       ]
      },
      {
       "output_type": "stream",
       "stream": "stdout",
       "text": [
        "\r",
        "Sample: 2700 =  5.4%   acc. fr. = 0.354516   pos = -1.404473e+01 -1.609739e+01  lnprob = 1.795247e+03   "
       ]
      },
      {
       "output_type": "stream",
       "stream": "stdout",
       "text": [
        "\r",
        "Sample: 2800 =  5.6%   acc. fr. = 0.360221   pos = -1.392500e+01 -1.763732e+01  lnprob = 1.799156e+03   "
       ]
      },
      {
       "output_type": "stream",
       "stream": "stdout",
       "text": [
        "\r",
        "Sample: 2900 =  5.8%   acc. fr. = 0.357881   pos = -1.430637e+01 -1.787763e+01  lnprob = 1.797199e+03   "
       ]
      },
      {
       "output_type": "stream",
       "stream": "stdout",
       "text": [
        "\r",
        "Sample: 3000 =  6.0%   acc. fr. = 0.355369   pos = -1.498496e+01 -1.651803e+01  lnprob = 1.799297e+03   "
       ]
      },
      {
       "output_type": "stream",
       "stream": "stdout",
       "text": [
        "\r",
        "Sample: 3100 =  6.2%   acc. fr. = 0.357076   pos = -1.603848e+01 -1.514231e+01  lnprob = 1.796215e+03   "
       ]
      },
      {
       "output_type": "stream",
       "stream": "stdout",
       "text": [
        "\r",
        "Sample: 3200 =  6.4%   acc. fr. = 0.355953   pos = -1.563172e+01 -1.606814e+01  lnprob = 1.800550e+03   "
       ]
      },
      {
       "output_type": "stream",
       "stream": "stdout",
       "text": [
        "\r",
        "Sample: 3300 =  6.6%   acc. fr. = 0.356954   pos = -1.540251e+01 -1.640768e+01  lnprob = 1.790685e+03   "
       ]
      },
      {
       "output_type": "stream",
       "stream": "stdout",
       "text": [
        "\r",
        "Sample: 3400 =  6.8%   acc. fr. = 0.355898   pos = -1.486414e+01 -1.797109e+01  lnprob = 1.801203e+03   "
       ]
      },
      {
       "output_type": "stream",
       "stream": "stdout",
       "text": [
        "\r",
        "Sample: 3500 =  7.0%   acc. fr. = 0.357678   pos = -1.559412e+01 -1.720265e+01  lnprob = 1.797976e+03   "
       ]
      },
      {
       "output_type": "stream",
       "stream": "stdout",
       "text": [
        "\r",
        "Sample: 3600 =  7.2%   acc. fr. = 0.357201   pos = -1.759689e+01 -1.720114e+01  lnprob = 1.796403e+03   "
       ]
      },
      {
       "output_type": "stream",
       "stream": "stdout",
       "text": [
        "\r",
        "Sample: 3700 =  7.4%   acc. fr. = 0.355170   pos = -1.737401e+01 -1.721563e+01  lnprob = 1.793520e+03   "
       ]
      },
      {
       "output_type": "stream",
       "stream": "stdout",
       "text": [
        "\r",
        "Sample: 3800 =  7.6%   acc. fr. = 0.355550   pos = -1.742713e+01 -1.650856e+01  lnprob = 1.801430e+03   "
       ]
      },
      {
       "output_type": "stream",
       "stream": "stdout",
       "text": [
        "\r",
        "Sample: 3900 =  7.8%   acc. fr. = 0.357911   pos = -1.570075e+01 -1.639706e+01  lnprob = 1.800014e+03   "
       ]
      },
      {
       "output_type": "stream",
       "stream": "stdout",
       "text": [
        "\r",
        "Sample: 4000 =  8.0%   acc. fr. = 0.358693   pos = -1.591437e+01 -1.683079e+01  lnprob = 1.802735e+03   "
       ]
      },
      {
       "output_type": "stream",
       "stream": "stdout",
       "text": [
        "\r",
        "Sample: 4100 =  8.2%   acc. fr. = 0.359914   pos = -1.569529e+01 -1.652102e+01  lnprob = 1.800340e+03   "
       ]
      },
      {
       "output_type": "stream",
       "stream": "stdout",
       "text": [
        "\r",
        "Sample: 4200 =  8.4%   acc. fr. = 0.360381   pos = -1.677292e+01 -1.617057e+01  lnprob = 1.801003e+03   "
       ]
      },
      {
       "output_type": "stream",
       "stream": "stdout",
       "text": [
        "\r",
        "Sample: 4300 =  8.6%   acc. fr. = 0.361963   pos = -1.604937e+01 -1.622141e+01  lnprob = 1.799929e+03   "
       ]
      },
      {
       "output_type": "stream",
       "stream": "stdout",
       "text": [
        "\r",
        "Sample: 4400 =  8.8%   acc. fr. = 0.363697   pos = -1.616052e+01 -1.468617e+01  lnprob = 1.804256e+03   "
       ]
      },
      {
       "output_type": "stream",
       "stream": "stdout",
       "text": [
        "\r",
        "Sample: 4500 =  9.0%   acc. fr. = 0.364486   pos = -1.679816e+01 -1.507773e+01  lnprob = 1.804917e+03   "
       ]
      },
      {
       "output_type": "stream",
       "stream": "stdout",
       "text": [
        "\r",
        "Sample: 4600 =  9.2%   acc. fr. = 0.363327   pos = -1.770109e+01 -1.620923e+01  lnprob = 1.804107e+03   "
       ]
      },
      {
       "output_type": "stream",
       "stream": "stdout",
       "text": [
        "\r",
        "Sample: 4700 =  9.4%   acc. fr. = 0.362841   pos = -1.675601e+01 -1.569520e+01  lnprob = 1.803778e+03   "
       ]
      },
      {
       "output_type": "stream",
       "stream": "stdout",
       "text": [
        "\r",
        "Sample: 4800 =  9.6%   acc. fr. = 0.361355   pos = -1.641285e+01 -1.648836e+01  lnprob = 1.800806e+03   "
       ]
      },
      {
       "output_type": "stream",
       "stream": "stdout",
       "text": [
        "\r",
        "Sample: 4900 =  9.8%   acc. fr. = 0.362527   pos = -1.583192e+01 -1.662315e+01  lnprob = 1.801278e+03   "
       ]
      },
      {
       "output_type": "stream",
       "stream": "stdout",
       "text": [
        "\r",
        "Sample: 5000 = 10.0%   acc. fr. = 0.361498   pos = -1.556198e+01 -1.555640e+01  lnprob = 1.802115e+03   "
       ]
      },
      {
       "output_type": "stream",
       "stream": "stdout",
       "text": [
        "\r",
        "Sample: 5100 = 10.2%   acc. fr. = 0.361084   pos = -1.627387e+01 -1.619787e+01  lnprob = 1.792670e+03   "
       ]
      },
      {
       "output_type": "stream",
       "stream": "stdout",
       "text": [
        "\r",
        "Sample: 5200 = 10.4%   acc. fr. = 0.358800   pos = -1.589607e+01 -1.672195e+01  lnprob = 1.798190e+03   "
       ]
      },
      {
       "output_type": "stream",
       "stream": "stdout",
       "text": [
        "\r",
        "Sample: 5300 = 10.6%   acc. fr. = 0.358267   pos = -1.538670e+01 -1.608376e+01  lnprob = 1.805321e+03   "
       ]
      },
      {
       "output_type": "stream",
       "stream": "stdout",
       "text": [
        "\r",
        "Sample: 5400 = 10.8%   acc. fr. = 0.357935   pos = -1.577577e+01 -1.664829e+01  lnprob = 1.802599e+03   "
       ]
      },
      {
       "output_type": "stream",
       "stream": "stdout",
       "text": [
        "\r",
        "Sample: 5500 = 11.0%   acc. fr. = 0.356543   pos = -1.758854e+01 -1.615202e+01  lnprob = 1.801056e+03   "
       ]
      },
      {
       "output_type": "stream",
       "stream": "stdout",
       "text": [
        "\r",
        "Sample: 5600 = 11.2%   acc. fr. = 0.357481   pos = -1.671415e+01 -1.555458e+01  lnprob = 1.804578e+03   "
       ]
      },
      {
       "output_type": "stream",
       "stream": "stdout",
       "text": [
        "\r",
        "Sample: 5700 = 11.4%   acc. fr. = 0.357697   pos = -1.598065e+01 -1.573674e+01  lnprob = 1.805222e+03   "
       ]
      },
      {
       "output_type": "stream",
       "stream": "stdout",
       "text": [
        "\r",
        "Sample: 5800 = 11.6%   acc. fr. = 0.357567   pos = -1.520635e+01 -1.552652e+01  lnprob = 1.800674e+03   "
       ]
      },
      {
       "output_type": "stream",
       "stream": "stdout",
       "text": [
        "\r",
        "Sample: 5900 = 11.8%   acc. fr. = 0.354774   pos = -1.572757e+01 -1.532701e+01  lnprob = 1.798373e+03   "
       ]
      },
      {
       "output_type": "stream",
       "stream": "stdout",
       "text": [
        "\r",
        "Sample: 6000 = 12.0%   acc. fr. = 0.354860   pos = -1.681962e+01 -1.500836e+01  lnprob = 1.800431e+03   "
       ]
      },
      {
       "output_type": "stream",
       "stream": "stdout",
       "text": [
        "\r",
        "Sample: 6100 = 12.2%   acc. fr. = 0.355588   pos = -1.576873e+01 -1.593396e+01  lnprob = 1.797769e+03   "
       ]
      },
      {
       "output_type": "stream",
       "stream": "stdout",
       "text": [
        "\r",
        "Sample: 6200 = 12.4%   acc. fr. = 0.355975   pos = -1.611452e+01 -1.591467e+01  lnprob = 1.803382e+03   "
       ]
      },
      {
       "output_type": "stream",
       "stream": "stdout",
       "text": [
        "\r",
        "Sample: 6300 = 12.6%   acc. fr. = 0.356507   pos = -1.642999e+01 -1.602506e+01  lnprob = 1.798749e+03   "
       ]
      },
      {
       "output_type": "stream",
       "stream": "stdout",
       "text": [
        "\r",
        "Sample: 6400 = 12.8%   acc. fr. = 0.355791   pos = -1.587520e+01 -1.624926e+01  lnprob = 1.800321e+03   "
       ]
      },
      {
       "output_type": "stream",
       "stream": "stdout",
       "text": [
        "\r",
        "Sample: 6500 = 13.0%   acc. fr. = 0.355704   pos = -1.491172e+01 -1.769574e+01  lnprob = 1.796623e+03   "
       ]
      },
      {
       "output_type": "stream",
       "stream": "stdout",
       "text": [
        "\r",
        "Sample: 6600 = 13.2%   acc. fr. = 0.355022   pos = -1.570709e+01 -1.677557e+01  lnprob = 1.803977e+03   "
       ]
      },
      {
       "output_type": "stream",
       "stream": "stdout",
       "text": [
        "\r",
        "Sample: 6700 = 13.4%   acc. fr. = 0.354507   pos = -1.593407e+01 -1.564553e+01  lnprob = 1.799009e+03   "
       ]
      },
      {
       "output_type": "stream",
       "stream": "stdout",
       "text": [
        "\r",
        "Sample: 6800 = 13.6%   acc. fr. = 0.353427   pos = -1.509497e+01 -1.476605e+01  lnprob = 1.799318e+03   "
       ]
      },
      {
       "output_type": "stream",
       "stream": "stdout",
       "text": [
        "\r",
        "Sample: 6900 = 13.8%   acc. fr. = 0.354521   pos = -1.538496e+01 -1.707598e+01  lnprob = 1.805027e+03   "
       ]
      },
      {
       "output_type": "stream",
       "stream": "stdout",
       "text": [
        "\r",
        "Sample: 7000 = 14.0%   acc. fr. = 0.354739   pos = -1.524438e+01 -1.664853e+01  lnprob = 1.805371e+03   "
       ]
      },
      {
       "output_type": "stream",
       "stream": "stdout",
       "text": [
        "\r",
        "Sample: 7100 = 14.2%   acc. fr. = 0.354117   pos = -1.436475e+01 -1.750954e+01  lnprob = 1.798076e+03   "
       ]
      },
      {
       "output_type": "stream",
       "stream": "stdout",
       "text": [
        "\r",
        "Sample: 7200 = 14.4%   acc. fr. = 0.351596   pos = -1.532603e+01 -1.749854e+01  lnprob = 1.799111e+03   "
       ]
      },
      {
       "output_type": "stream",
       "stream": "stdout",
       "text": [
        "\r",
        "Sample: 7300 = 14.6%   acc. fr. = 0.350223   pos = -1.600375e+01 -1.699034e+01  lnprob = 1.797170e+03   "
       ]
      },
      {
       "output_type": "stream",
       "stream": "stdout",
       "text": [
        "\r",
        "Sample: 7400 = 14.8%   acc. fr. = 0.351153   pos = -1.656943e+01 -1.639305e+01  lnprob = 1.795294e+03   "
       ]
      },
      {
       "output_type": "stream",
       "stream": "stdout",
       "text": [
        "\r",
        "Sample: 7500 = 15.0%   acc. fr. = 0.351796   pos = -1.520781e+01 -1.629273e+01  lnprob = 1.792656e+03   "
       ]
      },
      {
       "output_type": "stream",
       "stream": "stdout",
       "text": [
        "\r",
        "Sample: 7600 = 15.2%   acc. fr. = 0.352292   pos = -1.725934e+01 -1.550383e+01  lnprob = 1.797082e+03   "
       ]
      },
      {
       "output_type": "stream",
       "stream": "stdout",
       "text": [
        "\r",
        "Sample: 7700 = 15.4%   acc. fr. = 0.353160   pos = -1.776643e+01 -1.557004e+01  lnprob = 1.802023e+03   "
       ]
      },
      {
       "output_type": "stream",
       "stream": "stdout",
       "text": [
        "\r",
        "Sample: 7800 = 15.6%   acc. fr. = 0.352107   pos = -1.749278e+01 -1.514530e+01  lnprob = 1.800512e+03   "
       ]
      },
      {
       "output_type": "stream",
       "stream": "stdout",
       "text": [
        "\r",
        "Sample: 7900 = 15.8%   acc. fr. = 0.351956   pos = -1.703661e+01 -1.515576e+01  lnprob = 1.798859e+03   "
       ]
      },
      {
       "output_type": "stream",
       "stream": "stdout",
       "text": [
        "\r",
        "Sample: 8000 = 16.0%   acc. fr. = 0.351191   pos = -1.767049e+01 -1.576530e+01  lnprob = 1.797973e+03   "
       ]
      },
      {
       "output_type": "stream",
       "stream": "stdout",
       "text": [
        "\r",
        "Sample: 8100 = 16.2%   acc. fr. = 0.349348   pos = -1.736438e+01 -1.521763e+01  lnprob = 1.797450e+03   "
       ]
      },
      {
       "output_type": "stream",
       "stream": "stdout",
       "text": [
        "\r",
        "Sample: 8200 = 16.4%   acc. fr. = 0.349235   pos = -1.722408e+01 -1.528645e+01  lnprob = 1.796171e+03   "
       ]
      },
      {
       "output_type": "stream",
       "stream": "stdout",
       "text": [
        "\r",
        "Sample: 8300 = 16.6%   acc. fr. = 0.348054   pos = -1.766629e+01 -1.504661e+01  lnprob = 1.794327e+03   "
       ]
      },
      {
       "output_type": "stream",
       "stream": "stdout",
       "text": [
        "\r",
        "Sample: 8400 = 16.8%   acc. fr. = 0.348077   pos = -1.614127e+01 -1.386042e+01  lnprob = 1.792520e+03   "
       ]
      },
      {
       "output_type": "stream",
       "stream": "stdout",
       "text": [
        "\r",
        "Sample: 8500 = 17.0%   acc. fr. = 0.349029   pos = -1.552619e+01 -1.559871e+01  lnprob = 1.798537e+03   "
       ]
      },
      {
       "output_type": "stream",
       "stream": "stdout",
       "text": [
        "\r",
        "Sample: 8600 = 17.2%   acc. fr. = 0.348581   pos = -1.424443e+01 -1.549499e+01  lnprob = 1.797411e+03   "
       ]
      },
      {
       "output_type": "stream",
       "stream": "stdout",
       "text": [
        "\r",
        "Sample: 8700 = 17.4%   acc. fr. = 0.350187   pos = -1.498578e+01 -1.601236e+01  lnprob = 1.797266e+03   "
       ]
      },
      {
       "output_type": "stream",
       "stream": "stdout",
       "text": [
        "\r",
        "Sample: 8800 = 17.6%   acc. fr. = 0.350185   pos = -1.721190e+01 -1.688928e+01  lnprob = 1.795500e+03   "
       ]
      },
      {
       "output_type": "stream",
       "stream": "stdout",
       "text": [
        "\r",
        "Sample: 8900 = 17.8%   acc. fr. = 0.349406   pos = -1.746554e+01 -1.561130e+01  lnprob = 1.798354e+03   "
       ]
      },
      {
       "output_type": "stream",
       "stream": "stdout",
       "text": [
        "\r",
        "Sample: 9000 = 18.0%   acc. fr. = 0.349632   pos = -1.761994e+01 -1.561490e+01  lnprob = 1.792708e+03   "
       ]
      },
      {
       "output_type": "stream",
       "stream": "stdout",
       "text": [
        "\r",
        "Sample: 9100 = 18.2%   acc. fr. = 0.346919   pos = -1.797674e+01 -1.508933e+01  lnprob = 1.796208e+03   "
       ]
      },
      {
       "output_type": "stream",
       "stream": "stdout",
       "text": [
        "\r",
        "Sample: 9200 = 18.4%   acc. fr. = 0.347167   pos = -1.798874e+01 -1.571848e+01  lnprob = 1.799745e+03   "
       ]
      },
      {
       "output_type": "stream",
       "stream": "stdout",
       "text": [
        "\r",
        "Sample: 9300 = 18.6%   acc. fr. = 0.346346   pos = -1.790718e+01 -1.576634e+01  lnprob = 1.802656e+03   "
       ]
      },
      {
       "output_type": "stream",
       "stream": "stdout",
       "text": [
        "\r",
        "Sample: 9400 = 18.8%   acc. fr. = 0.345332   pos = -1.569924e+01 -1.519547e+01  lnprob = 1.800419e+03   "
       ]
      },
      {
       "output_type": "stream",
       "stream": "stdout",
       "text": [
        "\r",
        "Sample: 9500 = 19.0%   acc. fr. = 0.343193   pos = -1.586487e+01 -1.640142e+01  lnprob = 1.804203e+03   "
       ]
      },
      {
       "output_type": "stream",
       "stream": "stdout",
       "text": [
        "\r",
        "Sample: 9600 = 19.2%   acc. fr. = 0.342954   pos = -1.616079e+01 -1.600024e+01  lnprob = 1.797565e+03   "
       ]
      },
      {
       "output_type": "stream",
       "stream": "stdout",
       "text": [
        "\r",
        "Sample: 9700 = 19.4%   acc. fr. = 0.340782   pos = -1.599366e+01 -1.739781e+01  lnprob = 1.797778e+03   "
       ]
      },
      {
       "output_type": "stream",
       "stream": "stdout",
       "text": [
        "\r",
        "Sample: 9800 = 19.6%   acc. fr. = 0.339360   pos = -1.504557e+01 -1.681959e+01  lnprob = 1.797312e+03   "
       ]
      },
      {
       "output_type": "stream",
       "stream": "stdout",
       "text": [
        "\r",
        "Sample: 9900 = 19.8%   acc. fr. = 0.339066   pos = -1.451158e+01 -1.722554e+01  lnprob = 1.796957e+03   "
       ]
      },
      {
       "output_type": "stream",
       "stream": "stdout",
       "text": [
        "\r",
        "Sample: 10000 = 20.0%   acc. fr. = 0.339075   pos = -1.514671e+01 -1.787574e+01  lnprob = 1.800272e+03   "
       ]
      },
      {
       "output_type": "stream",
       "stream": "stdout",
       "text": [
        "\r",
        "Sample: 10100 = 20.2%   acc. fr. = 0.339182   pos = -1.575559e+01 -1.780972e+01  lnprob = 1.801640e+03   "
       ]
      },
      {
       "output_type": "stream",
       "stream": "stdout",
       "text": [
        "\r",
        "Sample: 10200 = 20.4%   acc. fr. = 0.338220   pos = -1.652841e+01 -1.671393e+01  lnprob = 1.801029e+03   "
       ]
      },
      {
       "output_type": "stream",
       "stream": "stdout",
       "text": [
        "\r",
        "Sample: 10300 = 20.6%   acc. fr. = 0.339390   pos = -1.591108e+01 -1.650183e+01  lnprob = 1.800714e+03   "
       ]
      },
      {
       "output_type": "stream",
       "stream": "stdout",
       "text": [
        "\r",
        "Sample: 10400 = 20.8%   acc. fr. = 0.339682   pos = -1.627202e+01 -1.564013e+01  lnprob = 1.794434e+03   "
       ]
      },
      {
       "output_type": "stream",
       "stream": "stdout",
       "text": [
        "\r",
        "Sample: 10500 = 21.0%   acc. fr. = 0.340157   pos = -1.610840e+01 -1.581445e+01  lnprob = 1.795922e+03   "
       ]
      },
      {
       "output_type": "stream",
       "stream": "stdout",
       "text": [
        "\r",
        "Sample: 10600 = 21.2%   acc. fr. = 0.341183   pos = -1.728665e+01 -1.672918e+01  lnprob = 1.803799e+03   "
       ]
      },
      {
       "output_type": "stream",
       "stream": "stdout",
       "text": [
        "\r",
        "Sample: 10700 = 21.4%   acc. fr. = 0.341542   pos = -1.694606e+01 -1.767509e+01  lnprob = 1.803981e+03   "
       ]
      },
      {
       "output_type": "stream",
       "stream": "stdout",
       "text": [
        "\r",
        "Sample: 10800 = 21.6%   acc. fr. = 0.339510   pos = -1.787638e+01 -1.794077e+01  lnprob = 1.804539e+03   "
       ]
      },
      {
       "output_type": "stream",
       "stream": "stdout",
       "text": [
        "\r",
        "Sample: 10900 = 21.8%   acc. fr. = 0.339333   pos = -1.519550e+01 -1.702464e+01  lnprob = 1.805197e+03   "
       ]
      },
      {
       "output_type": "stream",
       "stream": "stdout",
       "text": [
        "\r",
        "Sample: 11000 = 22.0%   acc. fr. = 0.338888   pos = -1.484161e+01 -1.763228e+01  lnprob = 1.800564e+03   "
       ]
      },
      {
       "output_type": "stream",
       "stream": "stdout",
       "text": [
        "\r",
        "Sample: 11100 = 22.2%   acc. fr. = 0.338720   pos = -1.413743e+01 -1.701539e+01  lnprob = 1.800832e+03   "
       ]
      },
      {
       "output_type": "stream",
       "stream": "stdout",
       "text": [
        "\r",
        "Sample: 11200 = 22.4%   acc. fr. = 0.338112   pos = -1.552023e+01 -1.740816e+01  lnprob = 1.801625e+03   "
       ]
      },
      {
       "output_type": "stream",
       "stream": "stdout",
       "text": [
        "\r",
        "Sample: 11300 = 22.6%   acc. fr. = 0.338216   pos = -1.695229e+01 -1.750121e+01  lnprob = 1.802576e+03   "
       ]
      },
      {
       "output_type": "stream",
       "stream": "stdout",
       "text": [
        "\r",
        "Sample: 11400 = 22.8%   acc. fr. = 0.336666   pos = -1.632409e+01 -1.691396e+01  lnprob = 1.803798e+03   "
       ]
      },
      {
       "output_type": "stream",
       "stream": "stdout",
       "text": [
        "\r",
        "Sample: 11500 = 23.0%   acc. fr. = 0.334971   pos = -1.630025e+01 -1.650003e+01  lnprob = 1.804226e+03   "
       ]
      },
      {
       "output_type": "stream",
       "stream": "stdout",
       "text": [
        "\r",
        "Sample: 11600 = 23.2%   acc. fr. = 0.335783   pos = -1.669055e+01 -1.658054e+01  lnprob = 1.802954e+03   "
       ]
      },
      {
       "output_type": "stream",
       "stream": "stdout",
       "text": [
        "\r",
        "Sample: 11700 = 23.4%   acc. fr. = 0.336582   pos = -1.696741e+01 -1.617752e+01  lnprob = 1.798122e+03   "
       ]
      },
      {
       "output_type": "stream",
       "stream": "stdout",
       "text": [
        "\r",
        "Sample: 11800 = 23.6%   acc. fr. = 0.336946   pos = -1.611021e+01 -1.797065e+01  lnprob = 1.799200e+03   "
       ]
      },
      {
       "output_type": "stream",
       "stream": "stdout",
       "text": [
        "\r",
        "Sample: 11900 = 23.8%   acc. fr. = 0.336389   pos = -1.631598e+01 -1.773160e+01  lnprob = 1.801263e+03   "
       ]
      },
      {
       "output_type": "stream",
       "stream": "stdout",
       "text": [
        "\r",
        "Sample: 12000 = 24.0%   acc. fr. = 0.337741   pos = -1.549699e+01 -1.760138e+01  lnprob = 1.802337e+03   "
       ]
      },
      {
       "output_type": "stream",
       "stream": "stdout",
       "text": [
        "\r",
        "Sample: 12100 = 24.2%   acc. fr. = 0.337923   pos = -1.642843e+01 -1.758282e+01  lnprob = 1.796968e+03   "
       ]
      },
      {
       "output_type": "stream",
       "stream": "stdout",
       "text": [
        "\r",
        "Sample: 12200 = 24.4%   acc. fr. = 0.337046   pos = -1.773577e+01 -1.644139e+01  lnprob = 1.802258e+03   "
       ]
      },
      {
       "output_type": "stream",
       "stream": "stdout",
       "text": [
        "\r",
        "Sample: 12300 = 24.6%   acc. fr. = 0.337070   pos = -1.628232e+01 -1.559526e+01  lnprob = 1.800655e+03   "
       ]
      },
      {
       "output_type": "stream",
       "stream": "stdout",
       "text": [
        "\r",
        "Sample: 12400 = 24.8%   acc. fr. = 0.336693   pos = -1.556958e+01 -1.684244e+01  lnprob = 1.798183e+03   "
       ]
      },
      {
       "output_type": "stream",
       "stream": "stdout",
       "text": [
        "\r",
        "Sample: 12500 = 25.0%   acc. fr. = 0.337910   pos = -1.640039e+01 -1.554816e+01  lnprob = 1.799040e+03   "
       ]
      },
      {
       "output_type": "stream",
       "stream": "stdout",
       "text": [
        "\r",
        "Sample: 12600 = 25.2%   acc. fr. = 0.338556   pos = -1.543688e+01 -1.583050e+01  lnprob = 1.798485e+03   "
       ]
      },
      {
       "output_type": "stream",
       "stream": "stdout",
       "text": [
        "\r",
        "Sample: 12700 = 25.4%   acc. fr. = 0.337708   pos = -1.522657e+01 -1.532079e+01  lnprob = 1.795303e+03   "
       ]
      },
      {
       "output_type": "stream",
       "stream": "stdout",
       "text": [
        "\r",
        "Sample: 12800 = 25.6%   acc. fr. = 0.337571   pos = -1.566378e+01 -1.557037e+01  lnprob = 1.795416e+03   "
       ]
      },
      {
       "output_type": "stream",
       "stream": "stdout",
       "text": [
        "\r",
        "Sample: 12900 = 25.8%   acc. fr. = 0.338205   pos = -1.737492e+01 -1.614574e+01  lnprob = 1.799108e+03   "
       ]
      },
      {
       "output_type": "stream",
       "stream": "stdout",
       "text": [
        "\r",
        "Sample: 13000 = 26.0%   acc. fr. = 0.338982   pos = -1.497371e+01 -1.487819e+01  lnprob = 1.801226e+03   "
       ]
      },
      {
       "output_type": "stream",
       "stream": "stdout",
       "text": [
        "\r",
        "Sample: 13100 = 26.2%   acc. fr. = 0.337702   pos = -1.502951e+01 -1.633844e+01  lnprob = 1.803594e+03   "
       ]
      },
      {
       "output_type": "stream",
       "stream": "stdout",
       "text": [
        "\r",
        "Sample: 13200 = 26.4%   acc. fr. = 0.337268   pos = -1.400070e+01 -1.539507e+01  lnprob = 1.797937e+03   "
       ]
      },
      {
       "output_type": "stream",
       "stream": "stdout",
       "text": [
        "\r",
        "Sample: 13300 = 26.6%   acc. fr. = 0.336318   pos = -1.526686e+01 -1.543767e+01  lnprob = 1.802029e+03   "
       ]
      },
      {
       "output_type": "stream",
       "stream": "stdout",
       "text": [
        "\r",
        "Sample: 13400 = 26.8%   acc. fr. = 0.336123   pos = -1.506366e+01 -1.590821e+01  lnprob = 1.803395e+03   "
       ]
      },
      {
       "output_type": "stream",
       "stream": "stdout",
       "text": [
        "\r",
        "Sample: 13500 = 27.0%   acc. fr. = 0.335049   pos = -1.609368e+01 -1.656583e+01  lnprob = 1.800147e+03   "
       ]
      },
      {
       "output_type": "stream",
       "stream": "stdout",
       "text": [
        "\r",
        "Sample: 13600 = 27.2%   acc. fr. = 0.335158   pos = -1.666199e+01 -1.619428e+01  lnprob = 1.801565e+03   "
       ]
      },
      {
       "output_type": "stream",
       "stream": "stdout",
       "text": [
        "\r",
        "Sample: 13700 = 27.4%   acc. fr. = 0.335121   pos = -1.721672e+01 -1.631438e+01  lnprob = 1.801092e+03   "
       ]
      },
      {
       "output_type": "stream",
       "stream": "stdout",
       "text": [
        "\r",
        "Sample: 13800 = 27.6%   acc. fr. = 0.334796   pos = -1.790551e+01 -1.693468e+01  lnprob = 1.798258e+03   "
       ]
      },
      {
       "output_type": "stream",
       "stream": "stdout",
       "text": [
        "\r",
        "Sample: 13900 = 27.8%   acc. fr. = 0.335333   pos = -1.740616e+01 -1.682079e+01  lnprob = 1.800575e+03   "
       ]
      },
      {
       "output_type": "stream",
       "stream": "stdout",
       "text": [
        "\r",
        "Sample: 14000 = 28.0%   acc. fr. = 0.335224   pos = -1.769494e+01 -1.569953e+01  lnprob = 1.799033e+03   "
       ]
      },
      {
       "output_type": "stream",
       "stream": "stdout",
       "text": [
        "\r",
        "Sample: 14100 = 28.2%   acc. fr. = 0.336174   pos = -1.786558e+01 -1.626014e+01  lnprob = 1.794100e+03   "
       ]
      },
      {
       "output_type": "stream",
       "stream": "stdout",
       "text": [
        "\r",
        "Sample: 14200 = 28.4%   acc. fr. = 0.336130   pos = -1.667058e+01 -1.702349e+01  lnprob = 1.796682e+03   "
       ]
      },
      {
       "output_type": "stream",
       "stream": "stdout",
       "text": [
        "\r",
        "Sample: 14300 = 28.6%   acc. fr. = 0.335879   pos = -1.780689e+01 -1.771902e+01  lnprob = 1.799833e+03   "
       ]
      },
      {
       "output_type": "stream",
       "stream": "stdout",
       "text": [
        "\r",
        "Sample: 14400 = 28.8%   acc. fr. = 0.336597   pos = -1.625288e+01 -1.638831e+01  lnprob = 1.794325e+03   "
       ]
      },
      {
       "output_type": "stream",
       "stream": "stdout",
       "text": [
        "\r",
        "Sample: 14500 = 29.0%   acc. fr. = 0.335936   pos = -1.564699e+01 -1.499698e+01  lnprob = 1.793668e+03   "
       ]
      },
      {
       "output_type": "stream",
       "stream": "stdout",
       "text": [
        "\r",
        "Sample: 14600 = 29.2%   acc. fr. = 0.336712   pos = -1.673980e+01 -1.687866e+01  lnprob = 1.798566e+03   "
       ]
      },
      {
       "output_type": "stream",
       "stream": "stdout",
       "text": [
        "\r",
        "Sample: 14700 = 29.4%   acc. fr. = 0.338018   pos = -1.767498e+01 -1.681524e+01  lnprob = 1.797346e+03   "
       ]
      },
      {
       "output_type": "stream",
       "stream": "stdout",
       "text": [
        "\r",
        "Sample: 14800 = 29.6%   acc. fr. = 0.337695   pos = -1.789161e+01 -1.718944e+01  lnprob = 1.791155e+03   "
       ]
      },
      {
       "output_type": "stream",
       "stream": "stdout",
       "text": [
        "\r",
        "Sample: 14900 = 29.8%   acc. fr. = 0.338311   pos = -1.632687e+01 -1.681527e+01  lnprob = 1.794338e+03   "
       ]
      },
      {
       "output_type": "stream",
       "stream": "stdout",
       "text": [
        "\r",
        "Sample: 15000 = 30.0%   acc. fr. = 0.338587   pos = -1.630275e+01 -1.727103e+01  lnprob = 1.790567e+03   "
       ]
      },
      {
       "output_type": "stream",
       "stream": "stdout",
       "text": [
        "\r",
        "Sample: 15100 = 30.2%   acc. fr. = 0.338070   pos = -1.488336e+01 -1.552066e+01  lnprob = 1.798879e+03   "
       ]
      },
      {
       "output_type": "stream",
       "stream": "stdout",
       "text": [
        "\r",
        "Sample: 15200 = 30.4%   acc. fr. = 0.338736   pos = -1.516046e+01 -1.734291e+01  lnprob = 1.794317e+03   "
       ]
      },
      {
       "output_type": "stream",
       "stream": "stdout",
       "text": [
        "\r",
        "Sample: 15300 = 30.6%   acc. fr. = 0.338614   pos = -1.467928e+01 -1.741471e+01  lnprob = 1.797863e+03   "
       ]
      },
      {
       "output_type": "stream",
       "stream": "stdout",
       "text": [
        "\r",
        "Sample: 15400 = 30.8%   acc. fr. = 0.338172   pos = -1.472600e+01 -1.637743e+01  lnprob = 1.803089e+03   "
       ]
      },
      {
       "output_type": "stream",
       "stream": "stdout",
       "text": [
        "\r",
        "Sample: 15500 = 31.0%   acc. fr. = 0.338824   pos = -1.542873e+01 -1.614765e+01  lnprob = 1.797396e+03   "
       ]
      },
      {
       "output_type": "stream",
       "stream": "stdout",
       "text": [
        "\r",
        "Sample: 15600 = 31.2%   acc. fr. = 0.338386   pos = -1.427774e+01 -1.482093e+01  lnprob = 1.796390e+03   "
       ]
      },
      {
       "output_type": "stream",
       "stream": "stdout",
       "text": [
        "\r",
        "Sample: 15700 = 31.4%   acc. fr. = 0.338966   pos = -1.440479e+01 -1.535049e+01  lnprob = 1.794137e+03   "
       ]
      },
      {
       "output_type": "stream",
       "stream": "stdout",
       "text": [
        "\r",
        "Sample: 15800 = 31.6%   acc. fr. = 0.339727   pos = -1.506136e+01 -1.655171e+01  lnprob = 1.798079e+03   "
       ]
      },
      {
       "output_type": "stream",
       "stream": "stdout",
       "text": [
        "\r",
        "Sample: 15900 = 31.8%   acc. fr. = 0.338979   pos = -1.530253e+01 -1.711079e+01  lnprob = 1.804346e+03   "
       ]
      },
      {
       "output_type": "stream",
       "stream": "stdout",
       "text": [
        "\r",
        "Sample: 16000 = 32.0%   acc. fr. = 0.339047   pos = -1.444538e+01 -1.656127e+01  lnprob = 1.801631e+03   "
       ]
      },
      {
       "output_type": "stream",
       "stream": "stdout",
       "text": [
        "\r",
        "Sample: 16100 = 32.2%   acc. fr. = 0.338806   pos = -1.403022e+01 -1.663089e+01  lnprob = 1.801912e+03   "
       ]
      },
      {
       "output_type": "stream",
       "stream": "stdout",
       "text": [
        "\r",
        "Sample: 16200 = 32.4%   acc. fr. = 0.338323   pos = -1.283462e+01 -1.785736e+01  lnprob = 1.799395e+03   "
       ]
      },
      {
       "output_type": "stream",
       "stream": "stdout",
       "text": [
        "\r",
        "Sample: 16300 = 32.6%   acc. fr. = 0.337967   pos = -1.286037e+01 -1.690530e+01  lnprob = 1.795811e+03   "
       ]
      },
      {
       "output_type": "stream",
       "stream": "stdout",
       "text": [
        "\r",
        "Sample: 16400 = 32.8%   acc. fr. = 0.337737   pos = -1.558321e+01 -1.638588e+01  lnprob = 1.800611e+03   "
       ]
      },
      {
       "output_type": "stream",
       "stream": "stdout",
       "text": [
        "\r",
        "Sample: 16500 = 33.0%   acc. fr. = 0.338474   pos = -1.755061e+01 -1.615768e+01  lnprob = 1.797188e+03   "
       ]
      },
      {
       "output_type": "stream",
       "stream": "stdout",
       "text": [
        "\r",
        "Sample: 16600 = 33.2%   acc. fr. = 0.338602   pos = -1.741592e+01 -1.776860e+01  lnprob = 1.796020e+03   "
       ]
      },
      {
       "output_type": "stream",
       "stream": "stdout",
       "text": [
        "\r",
        "Sample: 16700 = 33.4%   acc. fr. = 0.338016   pos = -1.677910e+01 -1.712456e+01  lnprob = 1.796797e+03   "
       ]
      },
      {
       "output_type": "stream",
       "stream": "stdout",
       "text": [
        "\r",
        "Sample: 16800 = 33.6%   acc. fr. = 0.337613   pos = -1.574175e+01 -1.764578e+01  lnprob = 1.800930e+03   "
       ]
      },
      {
       "output_type": "stream",
       "stream": "stdout",
       "text": [
        "\r",
        "Sample: 16900 = 33.8%   acc. fr. = 0.336686   pos = -1.609549e+01 -1.773728e+01  lnprob = 1.801785e+03   "
       ]
      },
      {
       "output_type": "stream",
       "stream": "stdout",
       "text": [
        "\r",
        "Sample: 17000 = 34.0%   acc. fr. = 0.335536   pos = -1.668013e+01 -1.748536e+01  lnprob = 1.800886e+03   "
       ]
      },
      {
       "output_type": "stream",
       "stream": "stdout",
       "text": [
        "\r",
        "Sample: 17100 = 34.2%   acc. fr. = 0.334515   pos = -1.660856e+01 -1.783892e+01  lnprob = 1.800681e+03   "
       ]
      },
      {
       "output_type": "stream",
       "stream": "stdout",
       "text": [
        "\r",
        "Sample: 17200 = 34.4%   acc. fr. = 0.334200   pos = -1.684921e+01 -1.617336e+01  lnprob = 1.800680e+03   "
       ]
      },
      {
       "output_type": "stream",
       "stream": "stdout",
       "text": [
        "\r",
        "Sample: 17300 = 34.6%   acc. fr. = 0.333659   pos = -1.640397e+01 -1.714387e+01  lnprob = 1.801040e+03   "
       ]
      },
      {
       "output_type": "stream",
       "stream": "stdout",
       "text": [
        "\r",
        "Sample: 17400 = 34.8%   acc. fr. = 0.332152   pos = -1.676345e+01 -1.791038e+01  lnprob = 1.800831e+03   "
       ]
      },
      {
       "output_type": "stream",
       "stream": "stdout",
       "text": [
        "\r",
        "Sample: 17500 = 35.0%   acc. fr. = 0.331402   pos = -1.689823e+01 -1.725974e+01  lnprob = 1.797353e+03   "
       ]
      },
      {
       "output_type": "stream",
       "stream": "stdout",
       "text": [
        "\r",
        "Sample: 17600 = 35.2%   acc. fr. = 0.330490   pos = -1.660665e+01 -1.753527e+01  lnprob = 1.800949e+03   "
       ]
      },
      {
       "output_type": "stream",
       "stream": "stdout",
       "text": [
        "\r",
        "Sample: 17700 = 35.4%   acc. fr. = 0.329981   pos = -1.646306e+01 -1.778582e+01  lnprob = 1.798725e+03   "
       ]
      },
      {
       "output_type": "stream",
       "stream": "stdout",
       "text": [
        "\r",
        "Sample: 17800 = 35.6%   acc. fr. = 0.330093   pos = -1.613182e+01 -1.794112e+01  lnprob = 1.800475e+03   "
       ]
      },
      {
       "output_type": "stream",
       "stream": "stdout",
       "text": [
        "\r",
        "Sample: 17900 = 35.8%   acc. fr. = 0.330148   pos = -1.503198e+01 -1.610867e+01  lnprob = 1.801279e+03   "
       ]
      },
      {
       "output_type": "stream",
       "stream": "stdout",
       "text": [
        "\r",
        "Sample: 18000 = 36.0%   acc. fr. = 0.330479   pos = -1.704244e+01 -1.585981e+01  lnprob = 1.801175e+03   "
       ]
      },
      {
       "output_type": "stream",
       "stream": "stdout",
       "text": [
        "\r",
        "Sample: 18100 = 36.2%   acc. fr. = 0.330421   pos = -1.752567e+01 -1.605389e+01  lnprob = 1.798108e+03   "
       ]
      },
      {
       "output_type": "stream",
       "stream": "stdout",
       "text": [
        "\r",
        "Sample: 18200 = 36.4%   acc. fr. = 0.330583   pos = -1.737052e+01 -1.571748e+01  lnprob = 1.802335e+03   "
       ]
      },
      {
       "output_type": "stream",
       "stream": "stdout",
       "text": [
        "\r",
        "Sample: 18300 = 36.6%   acc. fr. = 0.330362   pos = -1.736916e+01 -1.605479e+01  lnprob = 1.801054e+03   "
       ]
      },
      {
       "output_type": "stream",
       "stream": "stdout",
       "text": [
        "\r",
        "Sample: 18400 = 36.8%   acc. fr. = 0.331225   pos = -1.706470e+01 -1.528525e+01  lnprob = 1.798412e+03   "
       ]
      },
      {
       "output_type": "stream",
       "stream": "stdout",
       "text": [
        "\r",
        "Sample: 18500 = 37.0%   acc. fr. = 0.330789   pos = -1.794941e+01 -1.523644e+01  lnprob = 1.798685e+03   "
       ]
      },
      {
       "output_type": "stream",
       "stream": "stdout",
       "text": [
        "\r",
        "Sample: 18600 = 37.2%   acc. fr. = 0.331266   pos = -1.672011e+01 -1.564406e+01  lnprob = 1.801604e+03   "
       ]
      },
      {
       "output_type": "stream",
       "stream": "stdout",
       "text": [
        "\r",
        "Sample: 18700 = 37.4%   acc. fr. = 0.331046   pos = -1.716880e+01 -1.548080e+01  lnprob = 1.799012e+03   "
       ]
      },
      {
       "output_type": "stream",
       "stream": "stdout",
       "text": [
        "\r",
        "Sample: 18800 = 37.6%   acc. fr. = 0.331411   pos = -1.653451e+01 -1.620491e+01  lnprob = 1.802339e+03   "
       ]
      },
      {
       "output_type": "stream",
       "stream": "stdout",
       "text": [
        "\r",
        "Sample: 18900 = 37.8%   acc. fr. = 0.331351   pos = -1.585956e+01 -1.658072e+01  lnprob = 1.800233e+03   "
       ]
      },
      {
       "output_type": "stream",
       "stream": "stdout",
       "text": [
        "\r",
        "Sample: 19000 = 38.0%   acc. fr. = 0.331082   pos = -1.608728e+01 -1.746304e+01  lnprob = 1.798217e+03   "
       ]
      },
      {
       "output_type": "stream",
       "stream": "stdout",
       "text": [
        "\r",
        "Sample: 19100 = 38.2%   acc. fr. = 0.330972   pos = -1.652381e+01 -1.761787e+01  lnprob = 1.799736e+03   "
       ]
      },
      {
       "output_type": "stream",
       "stream": "stdout",
       "text": [
        "\r",
        "Sample: 19200 = 38.4%   acc. fr. = 0.330501   pos = -1.684567e+01 -1.794961e+01  lnprob = 1.797892e+03   "
       ]
      },
      {
       "output_type": "stream",
       "stream": "stdout",
       "text": [
        "\r",
        "Sample: 19300 = 38.6%   acc. fr. = 0.330035   pos = -1.690674e+01 -1.771226e+01  lnprob = 1.796110e+03   "
       ]
      },
      {
       "output_type": "stream",
       "stream": "stdout",
       "text": [
        "\r",
        "Sample: 19400 = 38.8%   acc. fr. = 0.330496   pos = -1.768383e+01 -1.748304e+01  lnprob = 1.788938e+03   "
       ]
      },
      {
       "output_type": "stream",
       "stream": "stdout",
       "text": [
        "\r",
        "Sample: 19500 = 39.0%   acc. fr. = 0.330901   pos = -1.772939e+01 -1.662460e+01  lnprob = 1.789254e+03   "
       ]
      },
      {
       "output_type": "stream",
       "stream": "stdout",
       "text": [
        "\r",
        "Sample: 19600 = 39.2%   acc. fr. = 0.331557   pos = -1.561651e+01 -1.728817e+01  lnprob = 1.794133e+03   "
       ]
      },
      {
       "output_type": "stream",
       "stream": "stdout",
       "text": [
        "\r",
        "Sample: 19700 = 39.4%   acc. fr. = 0.331195   pos = -1.613045e+01 -1.722138e+01  lnprob = 1.789362e+03   "
       ]
      },
      {
       "output_type": "stream",
       "stream": "stdout",
       "text": [
        "\r",
        "Sample: 19800 = 39.6%   acc. fr. = 0.331491   pos = -1.721987e+01 -1.779398e+01  lnprob = 1.791514e+03   "
       ]
      },
      {
       "output_type": "stream",
       "stream": "stdout",
       "text": [
        "\r",
        "Sample: 19900 = 39.8%   acc. fr. = 0.331833   pos = -1.759042e+01 -1.594511e+01  lnprob = 1.791579e+03   "
       ]
      },
      {
       "output_type": "stream",
       "stream": "stdout",
       "text": [
        "\r",
        "Sample: 20000 = 40.0%   acc. fr. = 0.332720   pos = -1.625546e+01 -1.611567e+01  lnprob = 1.801573e+03   "
       ]
      },
      {
       "output_type": "stream",
       "stream": "stdout",
       "text": [
        "\r",
        "Sample: 20100 = 40.2%   acc. fr. = 0.333399   pos = -1.474338e+01 -1.729507e+01  lnprob = 1.804201e+03   "
       ]
      },
      {
       "output_type": "stream",
       "stream": "stdout",
       "text": [
        "\r",
        "Sample: 20200 = 40.4%   acc. fr. = 0.332594   pos = -1.464069e+01 -1.718069e+01  lnprob = 1.804196e+03   "
       ]
      },
      {
       "output_type": "stream",
       "stream": "stdout",
       "text": [
        "\r",
        "Sample: 20300 = 40.6%   acc. fr. = 0.332827   pos = -1.640139e+01 -1.788030e+01  lnprob = 1.802984e+03   "
       ]
      },
      {
       "output_type": "stream",
       "stream": "stdout",
       "text": [
        "\r",
        "Sample: 20400 = 40.8%   acc. fr. = 0.332423   pos = -1.655292e+01 -1.627044e+01  lnprob = 1.800162e+03   "
       ]
      },
      {
       "output_type": "stream",
       "stream": "stdout",
       "text": [
        "\r",
        "Sample: 20500 = 41.0%   acc. fr. = 0.332605   pos = -1.615298e+01 -1.562312e+01  lnprob = 1.800784e+03   "
       ]
      },
      {
       "output_type": "stream",
       "stream": "stdout",
       "text": [
        "\r",
        "Sample: 20600 = 41.2%   acc. fr. = 0.332641   pos = -1.404486e+01 -1.692911e+01  lnprob = 1.800370e+03   "
       ]
      },
      {
       "output_type": "stream",
       "stream": "stdout",
       "text": [
        "\r",
        "Sample: 20700 = 41.4%   acc. fr. = 0.333157   pos = -1.533821e+01 -1.604848e+01  lnprob = 1.801105e+03   "
       ]
      },
      {
       "output_type": "stream",
       "stream": "stdout",
       "text": [
        "\r",
        "Sample: 20800 = 41.6%   acc. fr. = 0.333620   pos = -1.582297e+01 -1.710194e+01  lnprob = 1.804515e+03   "
       ]
      },
      {
       "output_type": "stream",
       "stream": "stdout",
       "text": [
        "\r",
        "Sample: 20900 = 41.8%   acc. fr. = 0.333889   pos = -1.660521e+01 -1.545639e+01  lnprob = 1.797083e+03   "
       ]
      },
      {
       "output_type": "stream",
       "stream": "stdout",
       "text": [
        "\r",
        "Sample: 21000 = 42.0%   acc. fr. = 0.334155   pos = -1.544167e+01 -1.628856e+01  lnprob = 1.795797e+03   "
       ]
      },
      {
       "output_type": "stream",
       "stream": "stdout",
       "text": [
        "\r",
        "Sample: 21100 = 42.2%   acc. fr. = 0.334371   pos = -1.691695e+01 -1.664565e+01  lnprob = 1.801463e+03   "
       ]
      },
      {
       "output_type": "stream",
       "stream": "stdout",
       "text": [
        "\r",
        "Sample: 21200 = 42.4%   acc. fr. = 0.334538   pos = -1.712860e+01 -1.518991e+01  lnprob = 1.798998e+03   "
       ]
      },
      {
       "output_type": "stream",
       "stream": "stdout",
       "text": [
        "\r",
        "Sample: 21300 = 42.6%   acc. fr. = 0.334377   pos = -1.751486e+01 -1.451385e+01  lnprob = 1.794480e+03   "
       ]
      },
      {
       "output_type": "stream",
       "stream": "stdout",
       "text": [
        "\r",
        "Sample: 21400 = 42.8%   acc. fr. = 0.334217   pos = -1.791356e+01 -1.591463e+01  lnprob = 1.797095e+03   "
       ]
      },
      {
       "output_type": "stream",
       "stream": "stdout",
       "text": [
        "\r",
        "Sample: 21500 = 43.0%   acc. fr. = 0.334290   pos = -1.787988e+01 -1.549405e+01  lnprob = 1.797407e+03   "
       ]
      },
      {
       "output_type": "stream",
       "stream": "stdout",
       "text": [
        "\r",
        "Sample: 21600 = 43.2%   acc. fr. = 0.334593   pos = -1.782573e+01 -1.603934e+01  lnprob = 1.793853e+03   "
       ]
      },
      {
       "output_type": "stream",
       "stream": "stdout",
       "text": [
        "\r",
        "Sample: 21700 = 43.4%   acc. fr. = 0.334801   pos = -1.617466e+01 -1.607803e+01  lnprob = 1.792141e+03   "
       ]
      },
      {
       "output_type": "stream",
       "stream": "stdout",
       "text": [
        "\r",
        "Sample: 21800 = 43.6%   acc. fr. = 0.335555   pos = -1.591922e+01 -1.636104e+01  lnprob = 1.800379e+03   "
       ]
      },
      {
       "output_type": "stream",
       "stream": "stdout",
       "text": [
        "\r",
        "Sample: 21900 = 43.8%   acc. fr. = 0.336076   pos = -1.747410e+01 -1.711070e+01  lnprob = 1.803301e+03   "
       ]
      },
      {
       "output_type": "stream",
       "stream": "stdout",
       "text": [
        "\r",
        "Sample: 22000 = 44.0%   acc. fr. = 0.336229   pos = -1.772659e+01 -1.721227e+01  lnprob = 1.801954e+03   "
       ]
      },
      {
       "output_type": "stream",
       "stream": "stdout",
       "text": [
        "\r",
        "Sample: 22100 = 44.2%   acc. fr. = 0.336471   pos = -1.788957e+01 -1.708633e+01  lnprob = 1.801951e+03   "
       ]
      },
      {
       "output_type": "stream",
       "stream": "stdout",
       "text": [
        "\r",
        "Sample: 22200 = 44.4%   acc. fr. = 0.336711   pos = -1.699108e+01 -1.720663e+01  lnprob = 1.795857e+03   "
       ]
      },
      {
       "output_type": "stream",
       "stream": "stdout",
       "text": [
        "\r",
        "Sample: 22300 = 44.6%   acc. fr. = 0.336860   pos = -1.671180e+01 -1.705647e+01  lnprob = 1.800884e+03   "
       ]
      },
      {
       "output_type": "stream",
       "stream": "stdout",
       "text": [
        "\r",
        "Sample: 22400 = 44.8%   acc. fr. = 0.336785   pos = -1.690177e+01 -1.656820e+01  lnprob = 1.798718e+03   "
       ]
      },
      {
       "output_type": "stream",
       "stream": "stdout",
       "text": [
        "\r",
        "Sample: 22500 = 45.0%   acc. fr. = 0.336534   pos = -1.777486e+01 -1.634312e+01  lnprob = 1.798995e+03   "
       ]
      },
      {
       "output_type": "stream",
       "stream": "stdout",
       "text": [
        "\r",
        "Sample: 22600 = 45.2%   acc. fr. = 0.336373   pos = -1.564165e+01 -1.624489e+01  lnprob = 1.800583e+03   "
       ]
      },
      {
       "output_type": "stream",
       "stream": "stdout",
       "text": [
        "\r",
        "Sample: 22700 = 45.4%   acc. fr. = 0.336389   pos = -1.702236e+01 -1.676255e+01  lnprob = 1.807058e+03   "
       ]
      },
      {
       "output_type": "stream",
       "stream": "stdout",
       "text": [
        "\r",
        "Sample: 22800 = 45.6%   acc. fr. = 0.336186   pos = -1.720461e+01 -1.676341e+01  lnprob = 1.804642e+03   "
       ]
      },
      {
       "output_type": "stream",
       "stream": "stdout",
       "text": [
        "\r",
        "Sample: 22900 = 45.8%   acc. fr. = 0.336377   pos = -1.588059e+01 -1.749418e+01  lnprob = 1.800968e+03   "
       ]
      },
      {
       "output_type": "stream",
       "stream": "stdout",
       "text": [
        "\r",
        "Sample: 23000 = 46.0%   acc. fr. = 0.336436   pos = -1.598816e+01 -1.733775e+01  lnprob = 1.800991e+03   "
       ]
      },
      {
       "output_type": "stream",
       "stream": "stdout",
       "text": [
        "\r",
        "Sample: 23100 = 46.2%   acc. fr. = 0.336580   pos = -1.657348e+01 -1.611308e+01  lnprob = 1.797873e+03   "
       ]
      },
      {
       "output_type": "stream",
       "stream": "stdout",
       "text": [
        "\r",
        "Sample: 23200 = 46.4%   acc. fr. = 0.336767   pos = -1.604831e+01 -1.717480e+01  lnprob = 1.800942e+03   "
       ]
      },
      {
       "output_type": "stream",
       "stream": "stdout",
       "text": [
        "\r",
        "Sample: 23300 = 46.6%   acc. fr. = 0.336481   pos = -1.607111e+01 -1.754502e+01  lnprob = 1.800420e+03   "
       ]
      },
      {
       "output_type": "stream",
       "stream": "stdout",
       "text": [
        "\r",
        "Sample: 23400 = 46.8%   acc. fr. = 0.336369   pos = -1.568507e+01 -1.738717e+01  lnprob = 1.798267e+03   "
       ]
      },
      {
       "output_type": "stream",
       "stream": "stdout",
       "text": [
        "\r",
        "Sample: 23500 = 47.0%   acc. fr. = 0.336511   pos = -1.574105e+01 -1.703322e+01  lnprob = 1.797325e+03   "
       ]
      },
      {
       "output_type": "stream",
       "stream": "stdout",
       "text": [
        "\r",
        "Sample: 23600 = 47.2%   acc. fr. = 0.337496   pos = -1.659771e+01 -1.633579e+01  lnprob = 1.800991e+03   "
       ]
      },
      {
       "output_type": "stream",
       "stream": "stdout",
       "text": [
        "\r",
        "Sample: 23700 = 47.4%   acc. fr. = 0.337969   pos = -1.538870e+01 -1.795909e+01  lnprob = 1.792358e+03   "
       ]
      },
      {
       "output_type": "stream",
       "stream": "stdout",
       "text": [
        "\r",
        "Sample: 23800 = 47.6%   acc. fr. = 0.337517   pos = -1.549993e+01 -1.784192e+01  lnprob = 1.797824e+03   "
       ]
      },
      {
       "output_type": "stream",
       "stream": "stdout",
       "text": [
        "\r",
        "Sample: 23900 = 47.8%   acc. fr. = 0.337069   pos = -1.638439e+01 -1.692261e+01  lnprob = 1.799488e+03   "
       ]
      },
      {
       "output_type": "stream",
       "stream": "stdout",
       "text": [
        "\r",
        "Sample: 24000 = 48.0%   acc. fr. = 0.337538   pos = -1.603930e+01 -1.790674e+01  lnprob = 1.791231e+03   "
       ]
      },
      {
       "output_type": "stream",
       "stream": "stdout",
       "text": [
        "\r",
        "Sample: 24100 = 48.2%   acc. fr. = 0.337920   pos = -1.678538e+01 -1.626735e+01  lnprob = 1.793718e+03   "
       ]
      },
      {
       "output_type": "stream",
       "stream": "stdout",
       "text": [
        "\r",
        "Sample: 24200 = 48.4%   acc. fr. = 0.337805   pos = -1.678218e+01 -1.701399e+01  lnprob = 1.800413e+03   "
       ]
      },
      {
       "output_type": "stream",
       "stream": "stdout",
       "text": [
        "\r",
        "Sample: 24300 = 48.6%   acc. fr. = 0.337896   pos = -1.585169e+01 -1.656688e+01  lnprob = 1.799671e+03   "
       ]
      },
      {
       "output_type": "stream",
       "stream": "stdout",
       "text": [
        "\r",
        "Sample: 24400 = 48.8%   acc. fr. = 0.337619   pos = -1.687479e+01 -1.637149e+01  lnprob = 1.800819e+03   "
       ]
      },
      {
       "output_type": "stream",
       "stream": "stdout",
       "text": [
        "\r",
        "Sample: 24500 = 49.0%   acc. fr. = 0.337832   pos = -1.542314e+01 -1.706515e+01  lnprob = 1.799765e+03   "
       ]
      },
      {
       "output_type": "stream",
       "stream": "stdout",
       "text": [
        "\r",
        "Sample: 24600 = 49.2%   acc. fr. = 0.338043   pos = -1.482218e+01 -1.683735e+01  lnprob = 1.802541e+03   "
       ]
      },
      {
       "output_type": "stream",
       "stream": "stdout",
       "text": [
        "\r",
        "Sample: 24700 = 49.4%   acc. fr. = 0.337728   pos = -1.586482e+01 -1.686379e+01  lnprob = 1.802285e+03   "
       ]
      },
      {
       "output_type": "stream",
       "stream": "stdout",
       "text": [
        "\r",
        "Sample: 24800 = 49.6%   acc. fr. = 0.337858   pos = -1.460446e+01 -1.796392e+01  lnprob = 1.800225e+03   "
       ]
      },
      {
       "output_type": "stream",
       "stream": "stdout",
       "text": [
        "\r",
        "Sample: 24900 = 49.8%   acc. fr. = 0.337946   pos = -1.484301e+01 -1.783362e+01  lnprob = 1.804960e+03   "
       ]
      },
      {
       "output_type": "stream",
       "stream": "stdout",
       "text": [
        "\r",
        "Sample: 25000 = 50.0%   acc. fr. = 0.337038   pos = -1.549480e+01 -1.715361e+01  lnprob = 1.801696e+03   "
       ]
      },
      {
       "output_type": "stream",
       "stream": "stdout",
       "text": [
        "\r",
        "Sample: 25100 = 50.2%   acc. fr. = 0.336534   pos = -1.512142e+01 -1.730044e+01  lnprob = 1.800847e+03   "
       ]
      },
      {
       "output_type": "stream",
       "stream": "stdout",
       "text": [
        "\r",
        "Sample: 25200 = 50.4%   acc. fr. = 0.336429   pos = -1.608447e+01 -1.527760e+01  lnprob = 1.799864e+03   "
       ]
      },
      {
       "output_type": "stream",
       "stream": "stdout",
       "text": [
        "\r",
        "Sample: 25300 = 50.6%   acc. fr. = 0.336798   pos = -1.531695e+01 -1.586687e+01  lnprob = 1.800804e+03   "
       ]
      },
      {
       "output_type": "stream",
       "stream": "stdout",
       "text": [
        "\r",
        "Sample: 25400 = 50.8%   acc. fr. = 0.337399   pos = -1.565691e+01 -1.737374e+01  lnprob = 1.800796e+03   "
       ]
      },
      {
       "output_type": "stream",
       "stream": "stdout",
       "text": [
        "\r",
        "Sample: 25500 = 51.0%   acc. fr. = 0.337643   pos = -1.637394e+01 -1.546298e+01  lnprob = 1.799861e+03   "
       ]
      },
      {
       "output_type": "stream",
       "stream": "stdout",
       "text": [
        "\r",
        "Sample: 25600 = 51.2%   acc. fr. = 0.337497   pos = -1.608989e+01 -1.626498e+01  lnprob = 1.805624e+03   "
       ]
      },
      {
       "output_type": "stream",
       "stream": "stdout",
       "text": [
        "\r",
        "Sample: 25700 = 51.4%   acc. fr. = 0.337739   pos = -1.631625e+01 -1.639608e+01  lnprob = 1.794744e+03   "
       ]
      },
      {
       "output_type": "stream",
       "stream": "stdout",
       "text": [
        "\r",
        "Sample: 25800 = 51.6%   acc. fr. = 0.337246   pos = -1.530256e+01 -1.615641e+01  lnprob = 1.807152e+03   "
       ]
      },
      {
       "output_type": "stream",
       "stream": "stdout",
       "text": [
        "\r",
        "Sample: 25900 = 51.8%   acc. fr. = 0.336602   pos = -1.522408e+01 -1.670749e+01  lnprob = 1.802400e+03   "
       ]
      },
      {
       "output_type": "stream",
       "stream": "stdout",
       "text": [
        "\r",
        "Sample: 26000 = 52.0%   acc. fr. = 0.336041   pos = -1.492741e+01 -1.665041e+01  lnprob = 1.799481e+03   "
       ]
      },
      {
       "output_type": "stream",
       "stream": "stdout",
       "text": [
        "\r",
        "Sample: 26100 = 52.2%   acc. fr. = 0.335903   pos = -1.473927e+01 -1.641380e+01  lnprob = 1.800153e+03   "
       ]
      },
      {
       "output_type": "stream",
       "stream": "stdout",
       "text": [
        "\r",
        "Sample: 26200 = 52.4%   acc. fr. = 0.335957   pos = -1.384990e+01 -1.685758e+01  lnprob = 1.800058e+03   "
       ]
      },
      {
       "output_type": "stream",
       "stream": "stdout",
       "text": [
        "\r",
        "Sample: 26300 = 52.6%   acc. fr. = 0.335480   pos = -1.532995e+01 -1.614706e+01  lnprob = 1.801504e+03   "
       ]
      },
      {
       "output_type": "stream",
       "stream": "stdout",
       "text": [
        "\r",
        "Sample: 26400 = 52.8%   acc. fr. = 0.335270   pos = -1.464158e+01 -1.568127e+01  lnprob = 1.787680e+03   "
       ]
      },
      {
       "output_type": "stream",
       "stream": "stdout",
       "text": [
        "\r",
        "Sample: 26500 = 53.0%   acc. fr. = 0.335288   pos = -1.519292e+01 -1.592064e+01  lnprob = 1.795105e+03   "
       ]
      },
      {
       "output_type": "stream",
       "stream": "stdout",
       "text": [
        "\r",
        "Sample: 26600 = 53.2%   acc. fr. = 0.335568   pos = -1.557571e+01 -1.683388e+01  lnprob = 1.799555e+03   "
       ]
      },
      {
       "output_type": "stream",
       "stream": "stdout",
       "text": [
        "\r",
        "Sample: 26700 = 53.4%   acc. fr. = 0.334876   pos = -1.573134e+01 -1.638209e+01  lnprob = 1.800460e+03   "
       ]
      },
      {
       "output_type": "stream",
       "stream": "stdout",
       "text": [
        "\r",
        "Sample: 26800 = 53.6%   acc. fr. = 0.334040   pos = -1.654275e+01 -1.705868e+01  lnprob = 1.800713e+03   "
       ]
      },
      {
       "output_type": "stream",
       "stream": "stdout",
       "text": [
        "\r",
        "Sample: 26900 = 53.8%   acc. fr. = 0.333580   pos = -1.739487e+01 -1.562072e+01  lnprob = 1.798388e+03   "
       ]
      },
      {
       "output_type": "stream",
       "stream": "stdout",
       "text": [
        "\r",
        "Sample: 27000 = 54.0%   acc. fr. = 0.334342   pos = -1.796492e+01 -1.492220e+01  lnprob = 1.791155e+03   "
       ]
      },
      {
       "output_type": "stream",
       "stream": "stdout",
       "text": [
        "\r",
        "Sample: 27100 = 54.2%   acc. fr. = 0.334583   pos = -1.791260e+01 -1.630962e+01  lnprob = 1.788489e+03   "
       ]
      },
      {
       "output_type": "stream",
       "stream": "stdout",
       "text": [
        "\r",
        "Sample: 27200 = 54.4%   acc. fr. = 0.334969   pos = -1.627665e+01 -1.694815e+01  lnprob = 1.790326e+03   "
       ]
      },
      {
       "output_type": "stream",
       "stream": "stdout",
       "text": [
        "\r",
        "Sample: 27300 = 54.6%   acc. fr. = 0.334842   pos = -1.509855e+01 -1.641033e+01  lnprob = 1.791400e+03   "
       ]
      },
      {
       "output_type": "stream",
       "stream": "stdout",
       "text": [
        "\r",
        "Sample: 27400 = 54.8%   acc. fr. = 0.335079   pos = -1.631339e+01 -1.727854e+01  lnprob = 1.801018e+03   "
       ]
      },
      {
       "output_type": "stream",
       "stream": "stdout",
       "text": [
        "\r",
        "Sample: 27500 = 55.0%   acc. fr. = 0.335024   pos = -1.788081e+01 -1.767599e+01  lnprob = 1.799829e+03   "
       ]
      },
      {
       "output_type": "stream",
       "stream": "stdout",
       "text": [
        "\r",
        "Sample: 27600 = 55.2%   acc. fr. = 0.335078   pos = -1.741479e+01 -1.670042e+01  lnprob = 1.799022e+03   "
       ]
      },
      {
       "output_type": "stream",
       "stream": "stdout",
       "text": [
        "\r",
        "Sample: 27700 = 55.4%   acc. fr. = 0.334736   pos = -1.790206e+01 -1.610589e+01  lnprob = 1.799997e+03   "
       ]
      },
      {
       "output_type": "stream",
       "stream": "stdout",
       "text": [
        "\r",
        "Sample: 27800 = 55.6%   acc. fr. = 0.334217   pos = -1.762522e+01 -1.506361e+01  lnprob = 1.798835e+03   "
       ]
      },
      {
       "output_type": "stream",
       "stream": "stdout",
       "text": [
        "\r",
        "Sample: 27900 = 55.8%   acc. fr. = 0.334381   pos = -1.647929e+01 -1.558208e+01  lnprob = 1.799469e+03   "
       ]
      },
      {
       "output_type": "stream",
       "stream": "stdout",
       "text": [
        "\r",
        "Sample: 28000 = 56.0%   acc. fr. = 0.334152   pos = -1.675419e+01 -1.664959e+01  lnprob = 1.800357e+03   "
       ]
      },
      {
       "output_type": "stream",
       "stream": "stdout",
       "text": [
        "\r",
        "Sample: 28100 = 56.2%   acc. fr. = 0.334243   pos = -1.661922e+01 -1.623660e+01  lnprob = 1.799294e+03   "
       ]
      },
      {
       "output_type": "stream",
       "stream": "stdout",
       "text": [
        "\r",
        "Sample: 28200 = 56.4%   acc. fr. = 0.334087   pos = -1.621828e+01 -1.735663e+01  lnprob = 1.801669e+03   "
       ]
      },
      {
       "output_type": "stream",
       "stream": "stdout",
       "text": [
        "\r",
        "Sample: 28300 = 56.6%   acc. fr. = 0.334073   pos = -1.590505e+01 -1.622737e+01  lnprob = 1.798809e+03   "
       ]
      },
      {
       "output_type": "stream",
       "stream": "stdout",
       "text": [
        "\r",
        "Sample: 28400 = 56.8%   acc. fr. = 0.333883   pos = -1.568550e+01 -1.628760e+01  lnprob = 1.799580e+03   "
       ]
      },
      {
       "output_type": "stream",
       "stream": "stdout",
       "text": [
        "\r",
        "Sample: 28500 = 57.0%   acc. fr. = 0.334079   pos = -1.528617e+01 -1.697079e+01  lnprob = 1.801323e+03   "
       ]
      },
      {
       "output_type": "stream",
       "stream": "stdout",
       "text": [
        "\r",
        "Sample: 28600 = 57.2%   acc. fr. = 0.334065   pos = -1.576535e+01 -1.719768e+01  lnprob = 1.803928e+03   "
       ]
      },
      {
       "output_type": "stream",
       "stream": "stdout",
       "text": [
        "\r",
        "Sample: 28700 = 57.4%   acc. fr. = 0.334676   pos = -1.609583e+01 -1.479650e+01  lnprob = 1.805054e+03   "
       ]
      },
      {
       "output_type": "stream",
       "stream": "stdout",
       "text": [
        "\r",
        "Sample: 28800 = 57.6%   acc. fr. = 0.334833   pos = -1.549707e+01 -1.419931e+01  lnprob = 1.801509e+03   "
       ]
      },
      {
       "output_type": "stream",
       "stream": "stdout",
       "text": [
        "\r",
        "Sample: 28900 = 57.8%   acc. fr. = 0.335402   pos = -1.741629e+01 -1.527443e+01  lnprob = 1.798095e+03   "
       ]
      },
      {
       "output_type": "stream",
       "stream": "stdout",
       "text": [
        "\r",
        "Sample: 29000 = 58.0%   acc. fr. = 0.335624   pos = -1.483714e+01 -1.652984e+01  lnprob = 1.796378e+03   "
       ]
      },
      {
       "output_type": "stream",
       "stream": "stdout",
       "text": [
        "\r",
        "Sample: 29100 = 58.2%   acc. fr. = 0.335228   pos = -1.530442e+01 -1.661621e+01  lnprob = 1.796915e+03   "
       ]
      },
      {
       "output_type": "stream",
       "stream": "stdout",
       "text": [
        "\r",
        "Sample: 29200 = 58.4%   acc. fr. = 0.335449   pos = -1.529955e+01 -1.587583e+01  lnprob = 1.798884e+03   "
       ]
      },
      {
       "output_type": "stream",
       "stream": "stdout",
       "text": [
        "\r",
        "Sample: 29300 = 58.6%   acc. fr. = 0.335397   pos = -1.529453e+01 -1.543526e+01  lnprob = 1.794481e+03   "
       ]
      },
      {
       "output_type": "stream",
       "stream": "stdout",
       "text": [
        "\r",
        "Sample: 29400 = 58.8%   acc. fr. = 0.335684   pos = -1.513106e+01 -1.681619e+01  lnprob = 1.796552e+03   "
       ]
      },
      {
       "output_type": "stream",
       "stream": "stdout",
       "text": [
        "\r",
        "Sample: 29500 = 59.0%   acc. fr. = 0.335867   pos = -1.431091e+01 -1.648555e+01  lnprob = 1.800911e+03   "
       ]
      },
      {
       "output_type": "stream",
       "stream": "stdout",
       "text": [
        "\r",
        "Sample: 29600 = 59.2%   acc. fr. = 0.336689   pos = -1.481588e+01 -1.543064e+01  lnprob = 1.799218e+03   "
       ]
      },
      {
       "output_type": "stream",
       "stream": "stdout",
       "text": [
        "\r",
        "Sample: 29700 = 59.4%   acc. fr. = 0.336935   pos = -1.562025e+01 -1.741214e+01  lnprob = 1.801426e+03   "
       ]
      },
      {
       "output_type": "stream",
       "stream": "stdout",
       "text": [
        "\r",
        "Sample: 29800 = 59.6%   acc. fr. = 0.336979   pos = -1.572869e+01 -1.792204e+01  lnprob = 1.799252e+03   "
       ]
      },
      {
       "output_type": "stream",
       "stream": "stdout",
       "text": [
        "\r",
        "Sample: 29900 = 59.8%   acc. fr. = 0.337022   pos = -1.559307e+01 -1.606685e+01  lnprob = 1.791148e+03   "
       ]
      },
      {
       "output_type": "stream",
       "stream": "stdout",
       "text": [
        "\r",
        "Sample: 30000 = 60.0%   acc. fr. = 0.337065   pos = -1.604150e+01 -1.667681e+01  lnprob = 1.788595e+03   "
       ]
      },
      {
       "output_type": "stream",
       "stream": "stdout",
       "text": [
        "\r",
        "Sample: 30100 = 60.2%   acc. fr. = 0.337108   pos = -1.701075e+01 -1.615017e+01  lnprob = 1.795033e+03   "
       ]
      },
      {
       "output_type": "stream",
       "stream": "stdout",
       "text": [
        "\r",
        "Sample: 30200 = 60.4%   acc. fr. = 0.337778   pos = -1.685651e+01 -1.669811e+01  lnprob = 1.796225e+03   "
       ]
      },
      {
       "output_type": "stream",
       "stream": "stdout",
       "text": [
        "\r",
        "Sample: 30300 = 60.6%   acc. fr. = 0.338311   pos = -1.560495e+01 -1.784938e+01  lnprob = 1.795776e+03   "
       ]
      },
      {
       "output_type": "stream",
       "stream": "stdout",
       "text": [
        "\r",
        "Sample: 30400 = 60.8%   acc. fr. = 0.338415   pos = -1.599484e+01 -1.653785e+01  lnprob = 1.796025e+03   "
       ]
      },
      {
       "output_type": "stream",
       "stream": "stdout",
       "text": [
        "\r",
        "Sample: 30500 = 61.0%   acc. fr. = 0.339107   pos = -1.523691e+01 -1.681936e+01  lnprob = 1.797812e+03   "
       ]
      },
      {
       "output_type": "stream",
       "stream": "stdout",
       "text": [
        "\r",
        "Sample: 30600 = 61.2%   acc. fr. = 0.339109   pos = -1.574048e+01 -1.586424e+01  lnprob = 1.794951e+03   "
       ]
      },
      {
       "output_type": "stream",
       "stream": "stdout",
       "text": [
        "\r",
        "Sample: 30700 = 61.4%   acc. fr. = 0.339177   pos = -1.521611e+01 -1.544422e+01  lnprob = 1.801465e+03   "
       ]
      },
      {
       "output_type": "stream",
       "stream": "stdout",
       "text": [
        "\r",
        "Sample: 30800 = 61.6%   acc. fr. = 0.339374   pos = -1.610167e+01 -1.502239e+01  lnprob = 1.798835e+03   "
       ]
      },
      {
       "output_type": "stream",
       "stream": "stdout",
       "text": [
        "\r",
        "Sample: 30900 = 61.8%   acc. fr. = 0.339763   pos = -1.568424e+01 -1.728274e+01  lnprob = 1.798046e+03   "
       ]
      },
      {
       "output_type": "stream",
       "stream": "stdout",
       "text": [
        "\r",
        "Sample: 31000 = 62.0%   acc. fr. = 0.339989   pos = -1.578050e+01 -1.775796e+01  lnprob = 1.800956e+03   "
       ]
      },
      {
       "output_type": "stream",
       "stream": "stdout",
       "text": [
        "\r",
        "Sample: 31100 = 62.2%   acc. fr. = 0.340406   pos = -1.704566e+01 -1.708219e+01  lnprob = 1.796774e+03   "
       ]
      },
      {
       "output_type": "stream",
       "stream": "stdout",
       "text": [
        "\r",
        "Sample: 31200 = 62.4%   acc. fr. = 0.340468   pos = -1.654985e+01 -1.582085e+01  lnprob = 1.798023e+03   "
       ]
      },
      {
       "output_type": "stream",
       "stream": "stdout",
       "text": [
        "\r",
        "Sample: 31300 = 62.6%   acc. fr. = 0.340435   pos = -1.738560e+01 -1.686410e+01  lnprob = 1.795498e+03   "
       ]
      },
      {
       "output_type": "stream",
       "stream": "stdout",
       "text": [
        "\r",
        "Sample: 31400 = 62.8%   acc. fr. = 0.340688   pos = -1.785006e+01 -1.674651e+01  lnprob = 1.797164e+03   "
       ]
      },
      {
       "output_type": "stream",
       "stream": "stdout",
       "text": [
        "\r",
        "Sample: 31500 = 63.0%   acc. fr. = 0.340369   pos = -1.776504e+01 -1.624960e+01  lnprob = 1.801116e+03   "
       ]
      },
      {
       "output_type": "stream",
       "stream": "stdout",
       "text": [
        "\r",
        "Sample: 31600 = 63.2%   acc. fr. = 0.340242   pos = -1.672884e+01 -1.519355e+01  lnprob = 1.801432e+03   "
       ]
      },
      {
       "output_type": "stream",
       "stream": "stdout",
       "text": [
        "\r",
        "Sample: 31700 = 63.4%   acc. fr. = 0.339989   pos = -1.676267e+01 -1.599193e+01  lnprob = 1.803355e+03   "
       ]
      },
      {
       "output_type": "stream",
       "stream": "stdout",
       "text": [
        "\r",
        "Sample: 31800 = 63.6%   acc. fr. = 0.339927   pos = -1.594506e+01 -1.536269e+01  lnprob = 1.804616e+03   "
       ]
      },
      {
       "output_type": "stream",
       "stream": "stdout",
       "text": [
        "\r",
        "Sample: 31900 = 63.8%   acc. fr. = 0.340427   pos = -1.604255e+01 -1.612515e+01  lnprob = 1.800172e+03   "
       ]
      },
      {
       "output_type": "stream",
       "stream": "stdout",
       "text": [
        "\r",
        "Sample: 32000 = 64.0%   acc. fr. = 0.340862   pos = -1.549919e+01 -1.455377e+01  lnprob = 1.796499e+03   "
       ]
      },
      {
       "output_type": "stream",
       "stream": "stdout",
       "text": [
        "\r",
        "Sample: 32100 = 64.2%   acc. fr. = 0.340921   pos = -1.525756e+01 -1.666222e+01  lnprob = 1.792279e+03   "
       ]
      },
      {
       "output_type": "stream",
       "stream": "stdout",
       "text": [
        "\r",
        "Sample: 32200 = 64.4%   acc. fr. = 0.340702   pos = -1.491763e+01 -1.768270e+01  lnprob = 1.797538e+03   "
       ]
      },
      {
       "output_type": "stream",
       "stream": "stdout",
       "text": [
        "\r",
        "Sample: 32300 = 64.6%   acc. fr. = 0.340298   pos = -1.610093e+01 -1.799070e+01  lnprob = 1.793441e+03   "
       ]
      },
      {
       "output_type": "stream",
       "stream": "stdout",
       "text": [
        "\r",
        "Sample: 32400 = 64.8%   acc. fr. = 0.340113   pos = -1.611660e+01 -1.693541e+01  lnprob = 1.796217e+03   "
       ]
      },
      {
       "output_type": "stream",
       "stream": "stdout",
       "text": [
        "\r",
        "Sample: 32500 = 65.0%   acc. fr. = 0.340296   pos = -1.578994e+01 -1.592206e+01  lnprob = 1.798949e+03   "
       ]
      },
      {
       "output_type": "stream",
       "stream": "stdout",
       "text": [
        "\r",
        "Sample: 32600 = 65.2%   acc. fr. = 0.340448   pos = -1.566324e+01 -1.633968e+01  lnprob = 1.796038e+03   "
       ]
      },
      {
       "output_type": "stream",
       "stream": "stdout",
       "text": [
        "\r",
        "Sample: 32700 = 65.4%   acc. fr. = 0.340935   pos = -1.612764e+01 -1.502948e+01  lnprob = 1.796818e+03   "
       ]
      },
      {
       "output_type": "stream",
       "stream": "stdout",
       "text": [
        "\r",
        "Sample: 32800 = 65.6%   acc. fr. = 0.341053   pos = -1.502579e+01 -1.492902e+01  lnprob = 1.785625e+03   "
       ]
      },
      {
       "output_type": "stream",
       "stream": "stdout",
       "text": [
        "\r",
        "Sample: 32900 = 65.8%   acc. fr. = 0.340929   pos = -1.780366e+01 -1.600450e+01  lnprob = 1.800701e+03   "
       ]
      },
      {
       "output_type": "stream",
       "stream": "stdout",
       "text": [
        "\r",
        "Sample: 33000 = 66.0%   acc. fr. = 0.341530   pos = -1.692739e+01 -1.699862e+01  lnprob = 1.795932e+03   "
       ]
      },
      {
       "output_type": "stream",
       "stream": "stdout",
       "text": [
        "\r",
        "Sample: 33100 = 66.2%   acc. fr. = 0.341797   pos = -1.793498e+01 -1.646675e+01  lnprob = 1.799960e+03   "
       ]
      },
      {
       "output_type": "stream",
       "stream": "stdout",
       "text": [
        "\r",
        "Sample: 33200 = 66.4%   acc. fr. = 0.342122   pos = -1.655129e+01 -1.761626e+01  lnprob = 1.802144e+03   "
       ]
      },
      {
       "output_type": "stream",
       "stream": "stdout",
       "text": [
        "\r",
        "Sample: 33300 = 66.6%   acc. fr. = 0.342145   pos = -1.660313e+01 -1.757047e+01  lnprob = 1.796303e+03   "
       ]
      },
      {
       "output_type": "stream",
       "stream": "stdout",
       "text": [
        "\r",
        "Sample: 33400 = 66.8%   acc. fr. = 0.342438   pos = -1.796324e+01 -1.741515e+01  lnprob = 1.796130e+03   "
       ]
      },
      {
       "output_type": "stream",
       "stream": "stdout",
       "text": [
        "\r",
        "Sample: 33500 = 67.0%   acc. fr. = 0.342401   pos = -1.688593e+01 -1.731683e+01  lnprob = 1.798200e+03   "
       ]
      },
      {
       "output_type": "stream",
       "stream": "stdout",
       "text": [
        "\r",
        "Sample: 33600 = 67.2%   acc. fr. = 0.342393   pos = -1.558438e+01 -1.674258e+01  lnprob = 1.799888e+03   "
       ]
      },
      {
       "output_type": "stream",
       "stream": "stdout",
       "text": [
        "\r",
        "Sample: 33700 = 67.4%   acc. fr. = 0.342357   pos = -1.523090e+01 -1.697085e+01  lnprob = 1.798931e+03   "
       ]
      },
      {
       "output_type": "stream",
       "stream": "stdout",
       "text": [
        "\r",
        "Sample: 33800 = 67.6%   acc. fr. = 0.342202   pos = -1.579630e+01 -1.794212e+01  lnprob = 1.802758e+03   "
       ]
      },
      {
       "output_type": "stream",
       "stream": "stdout",
       "text": [
        "\r",
        "Sample: 33900 = 67.8%   acc. fr. = 0.342019   pos = -1.530645e+01 -1.759834e+01  lnprob = 1.801766e+03   "
       ]
      },
      {
       "output_type": "stream",
       "stream": "stdout",
       "text": [
        "\r",
        "Sample: 34000 = 68.0%   acc. fr. = 0.341808   pos = -1.546331e+01 -1.728903e+01  lnprob = 1.794235e+03   "
       ]
      },
      {
       "output_type": "stream",
       "stream": "stdout",
       "text": [
        "\r",
        "Sample: 34100 = 68.2%   acc. fr. = 0.341803   pos = -1.540917e+01 -1.723379e+01  lnprob = 1.797354e+03   "
       ]
      },
      {
       "output_type": "stream",
       "stream": "stdout",
       "text": [
        "\r",
        "Sample: 34200 = 68.4%   acc. fr. = 0.341477   pos = -1.591540e+01 -1.763830e+01  lnprob = 1.792103e+03   "
       ]
      },
      {
       "output_type": "stream",
       "stream": "stdout",
       "text": [
        "\r",
        "Sample: 34300 = 68.6%   acc. fr. = 0.341647   pos = -1.693594e+01 -1.709248e+01  lnprob = 1.794035e+03   "
       ]
      },
      {
       "output_type": "stream",
       "stream": "stdout",
       "text": [
        "\r",
        "Sample: 34400 = 68.8%   acc. fr. = 0.341555   pos = -1.637692e+01 -1.608594e+01  lnprob = 1.794901e+03   "
       ]
      },
      {
       "output_type": "stream",
       "stream": "stdout",
       "text": [
        "\r",
        "Sample: 34500 = 69.0%   acc. fr. = 0.341551   pos = -1.705786e+01 -1.482443e+01  lnprob = 1.796198e+03   "
       ]
      },
      {
       "output_type": "stream",
       "stream": "stdout",
       "text": [
        "\r",
        "Sample: 34600 = 69.2%   acc. fr. = 0.341316   pos = -1.664063e+01 -1.539702e+01  lnprob = 1.798183e+03   "
       ]
      },
      {
       "output_type": "stream",
       "stream": "stdout",
       "text": [
        "\r",
        "Sample: 34700 = 69.4%   acc. fr. = 0.341484   pos = -1.641255e+01 -1.709370e+01  lnprob = 1.799939e+03   "
       ]
      },
      {
       "output_type": "stream",
       "stream": "stdout",
       "text": [
        "\r",
        "Sample: 34800 = 69.6%   acc. fr. = 0.341452   pos = -1.657534e+01 -1.751538e+01  lnprob = 1.801178e+03   "
       ]
      },
      {
       "output_type": "stream",
       "stream": "stdout",
       "text": [
        "\r",
        "Sample: 34900 = 69.8%   acc. fr. = 0.341562   pos = -1.634219e+01 -1.656691e+01  lnprob = 1.801261e+03   "
       ]
      },
      {
       "output_type": "stream",
       "stream": "stdout",
       "text": [
        "\r",
        "Sample: 35000 = 70.0%   acc. fr. = 0.341415   pos = -1.630834e+01 -1.553357e+01  lnprob = 1.799474e+03   "
       ]
      },
      {
       "output_type": "stream",
       "stream": "stdout",
       "text": [
        "\r",
        "Sample: 35100 = 70.2%   acc. fr. = 0.341666   pos = -1.740449e+01 -1.667680e+01  lnprob = 1.800519e+03   "
       ]
      },
      {
       "output_type": "stream",
       "stream": "stdout",
       "text": [
        "\r",
        "Sample: 35200 = 70.4%   acc. fr. = 0.342030   pos = -1.556181e+01 -1.727457e+01  lnprob = 1.800737e+03   "
       ]
      },
      {
       "output_type": "stream",
       "stream": "stdout",
       "text": [
        "\r",
        "Sample: 35300 = 70.6%   acc. fr. = 0.342307   pos = -1.658365e+01 -1.768512e+01  lnprob = 1.802189e+03   "
       ]
      },
      {
       "output_type": "stream",
       "stream": "stdout",
       "text": [
        "\r",
        "Sample: 35400 = 70.8%   acc. fr. = 0.342103   pos = -1.541320e+01 -1.758106e+01  lnprob = 1.799888e+03   "
       ]
      },
      {
       "output_type": "stream",
       "stream": "stdout",
       "text": [
        "\r",
        "Sample: 35500 = 71.0%   acc. fr. = 0.342013   pos = -1.612926e+01 -1.676434e+01  lnprob = 1.801756e+03   "
       ]
      },
      {
       "output_type": "stream",
       "stream": "stdout",
       "text": [
        "\r",
        "Sample: 35600 = 71.2%   acc. fr. = 0.341699   pos = -1.684672e+01 -1.647162e+01  lnprob = 1.802056e+03   "
       ]
      },
      {
       "output_type": "stream",
       "stream": "stdout",
       "text": [
        "\r",
        "Sample: 35700 = 71.4%   acc. fr. = 0.341639   pos = -1.648534e+01 -1.607306e+01  lnprob = 1.803143e+03   "
       ]
      },
      {
       "output_type": "stream",
       "stream": "stdout",
       "text": [
        "\r",
        "Sample: 35800 = 71.6%   acc. fr. = 0.341745   pos = -1.724620e+01 -1.575481e+01  lnprob = 1.801757e+03   "
       ]
      },
      {
       "output_type": "stream",
       "stream": "stdout",
       "text": [
        "\r",
        "Sample: 35900 = 71.8%   acc. fr. = 0.341407   pos = -1.768329e+01 -1.620603e+01  lnprob = 1.801862e+03   "
       ]
      },
      {
       "output_type": "stream",
       "stream": "stdout",
       "text": [
        "\r",
        "Sample: 36000 = 72.0%   acc. fr. = 0.340988   pos = -1.725854e+01 -1.637567e+01  lnprob = 1.802461e+03   "
       ]
      },
      {
       "output_type": "stream",
       "stream": "stdout",
       "text": [
        "\r",
        "Sample: 36100 = 72.2%   acc. fr. = 0.341151   pos = -1.733789e+01 -1.607111e+01  lnprob = 1.802595e+03   "
       ]
      },
      {
       "output_type": "stream",
       "stream": "stdout",
       "text": [
        "\r",
        "Sample: 36200 = 72.4%   acc. fr. = 0.341340   pos = -1.590945e+01 -1.603833e+01  lnprob = 1.800177e+03   "
       ]
      },
      {
       "output_type": "stream",
       "stream": "stdout",
       "text": [
        "\r",
        "Sample: 36300 = 72.6%   acc. fr. = 0.341502   pos = -1.738857e+01 -1.709101e+01  lnprob = 1.799739e+03   "
       ]
      },
      {
       "output_type": "stream",
       "stream": "stdout",
       "text": [
        "\r",
        "Sample: 36400 = 72.8%   acc. fr. = 0.341525   pos = -1.770298e+01 -1.794272e+01  lnprob = 1.798997e+03   "
       ]
      },
      {
       "output_type": "stream",
       "stream": "stdout",
       "text": [
        "\r",
        "Sample: 36500 = 73.0%   acc. fr. = 0.341849   pos = -1.471290e+01 -1.676839e+01  lnprob = 1.796558e+03   "
       ]
      },
      {
       "output_type": "stream",
       "stream": "stdout",
       "text": [
        "\r",
        "Sample: 36600 = 73.2%   acc. fr. = 0.341626   pos = -1.559395e+01 -1.654826e+01  lnprob = 1.802162e+03   "
       ]
      },
      {
       "output_type": "stream",
       "stream": "stdout",
       "text": [
        "\r",
        "Sample: 36700 = 73.4%   acc. fr. = 0.341485   pos = -1.534473e+01 -1.618874e+01  lnprob = 1.802296e+03   "
       ]
      },
      {
       "output_type": "stream",
       "stream": "stdout",
       "text": [
        "\r",
        "Sample: 36800 = 73.6%   acc. fr. = 0.341075   pos = -1.557469e+01 -1.613173e+01  lnprob = 1.802669e+03   "
       ]
      },
      {
       "output_type": "stream",
       "stream": "stdout",
       "text": [
        "\r",
        "Sample: 36900 = 73.8%   acc. fr. = 0.340856   pos = -1.535976e+01 -1.607995e+01  lnprob = 1.804239e+03   "
       ]
      },
      {
       "output_type": "stream",
       "stream": "stdout",
       "text": [
        "\r",
        "Sample: 37000 = 74.0%   acc. fr. = 0.341258   pos = -1.479873e+01 -1.527752e+01  lnprob = 1.803722e+03   "
       ]
      },
      {
       "output_type": "stream",
       "stream": "stdout",
       "text": [
        "\r",
        "Sample: 37100 = 74.2%   acc. fr. = 0.341604   pos = -1.602050e+01 -1.546378e+01  lnprob = 1.796336e+03   "
       ]
      },
      {
       "output_type": "stream",
       "stream": "stdout",
       "text": [
        "\r",
        "Sample: 37200 = 74.4%   acc. fr. = 0.341787   pos = -1.675687e+01 -1.659150e+01  lnprob = 1.796626e+03   "
       ]
      },
      {
       "output_type": "stream",
       "stream": "stdout",
       "text": [
        "\r",
        "Sample: 37300 = 74.6%   acc. fr. = 0.341702   pos = -1.583860e+01 -1.726505e+01  lnprob = 1.802401e+03   "
       ]
      },
      {
       "output_type": "stream",
       "stream": "stdout",
       "text": [
        "\r",
        "Sample: 37400 = 74.8%   acc. fr. = 0.341698   pos = -1.641722e+01 -1.654577e+01  lnprob = 1.803666e+03   "
       ]
      },
      {
       "output_type": "stream",
       "stream": "stdout",
       "text": [
        "\r",
        "Sample: 37500 = 75.0%   acc. fr. = 0.341666   pos = -1.545714e+01 -1.581020e+01  lnprob = 1.802944e+03   "
       ]
      },
      {
       "output_type": "stream",
       "stream": "stdout",
       "text": [
        "\r",
        "Sample: 37600 = 75.2%   acc. fr. = 0.341662   pos = -1.638239e+01 -1.572133e+01  lnprob = 1.802257e+03   "
       ]
      },
      {
       "output_type": "stream",
       "stream": "stdout",
       "text": [
        "\r",
        "Sample: 37700 = 75.4%   acc. fr. = 0.341525   pos = -1.694356e+01 -1.521316e+01  lnprob = 1.796385e+03   "
       ]
      },
      {
       "output_type": "stream",
       "stream": "stdout",
       "text": [
        "\r",
        "Sample: 37800 = 75.6%   acc. fr. = 0.341970   pos = -1.706065e+01 -1.688742e+01  lnprob = 1.799507e+03   "
       ]
      },
      {
       "output_type": "stream",
       "stream": "stdout",
       "text": [
        "\r",
        "Sample: 37900 = 75.8%   acc. fr. = 0.341596   pos = -1.776112e+01 -1.636711e+01  lnprob = 1.795622e+03   "
       ]
      },
      {
       "output_type": "stream",
       "stream": "stdout",
       "text": [
        "\r",
        "Sample: 38000 = 76.0%   acc. fr. = 0.341225   pos = -1.797933e+01 -1.742643e+01  lnprob = 1.800588e+03   "
       ]
      },
      {
       "output_type": "stream",
       "stream": "stdout",
       "text": [
        "\r",
        "Sample: 38100 = 76.2%   acc. fr. = 0.340829   pos = -1.766210e+01 -1.660594e+01  lnprob = 1.800710e+03   "
       ]
      },
      {
       "output_type": "stream",
       "stream": "stdout",
       "text": [
        "\r",
        "Sample: 38200 = 76.4%   acc. fr. = 0.340853   pos = -1.660618e+01 -1.753987e+01  lnprob = 1.802961e+03   "
       ]
      },
      {
       "output_type": "stream",
       "stream": "stdout",
       "text": [
        "\r",
        "Sample: 38300 = 76.6%   acc. fr. = 0.340564   pos = -1.727514e+01 -1.679628e+01  lnprob = 1.803092e+03   "
       ]
      },
      {
       "output_type": "stream",
       "stream": "stdout",
       "text": [
        "\r",
        "Sample: 38400 = 76.8%   acc. fr. = 0.340459   pos = -1.769270e+01 -1.641415e+01  lnprob = 1.796764e+03   "
       ]
      },
      {
       "output_type": "stream",
       "stream": "stdout",
       "text": [
        "\r",
        "Sample: 38500 = 77.0%   acc. fr. = 0.340328   pos = -1.791947e+01 -1.637085e+01  lnprob = 1.800011e+03   "
       ]
      },
      {
       "output_type": "stream",
       "stream": "stdout",
       "text": [
        "\r",
        "Sample: 38600 = 77.2%   acc. fr. = 0.340353   pos = -1.611949e+01 -1.505768e+01  lnprob = 1.802370e+03   "
       ]
      },
      {
       "output_type": "stream",
       "stream": "stdout",
       "text": [
        "\r",
        "Sample: 38700 = 77.4%   acc. fr. = 0.340532   pos = -1.528933e+01 -1.643367e+01  lnprob = 1.797519e+03   "
       ]
      },
      {
       "output_type": "stream",
       "stream": "stdout",
       "text": [
        "\r",
        "Sample: 38800 = 77.6%   acc. fr. = 0.340891   pos = -1.645235e+01 -1.584840e+01  lnprob = 1.800864e+03   "
       ]
      },
      {
       "output_type": "stream",
       "stream": "stdout",
       "text": [
        "\r",
        "Sample: 38900 = 77.8%   acc. fr. = 0.340889   pos = -1.711049e+01 -1.791396e+01  lnprob = 1.803259e+03   "
       ]
      },
      {
       "output_type": "stream",
       "stream": "stdout",
       "text": [
        "\r",
        "Sample: 39000 = 78.0%   acc. fr. = 0.340707   pos = -1.787302e+01 -1.794755e+01  lnprob = 1.800975e+03   "
       ]
      },
      {
       "output_type": "stream",
       "stream": "stdout",
       "text": [
        "\r",
        "Sample: 39100 = 78.2%   acc. fr. = 0.340348   pos = -1.611607e+01 -1.771163e+01  lnprob = 1.802983e+03   "
       ]
      },
      {
       "output_type": "stream",
       "stream": "stdout",
       "text": [
        "\r",
        "Sample: 39200 = 78.4%   acc. fr. = 0.340220   pos = -1.665402e+01 -1.625705e+01  lnprob = 1.805058e+03   "
       ]
      },
      {
       "output_type": "stream",
       "stream": "stdout",
       "text": [
        "\r",
        "Sample: 39300 = 78.6%   acc. fr. = 0.340397   pos = -1.543705e+01 -1.581420e+01  lnprob = 1.800561e+03   "
       ]
      },
      {
       "output_type": "stream",
       "stream": "stdout",
       "text": [
        "\r",
        "Sample: 39400 = 78.8%   acc. fr. = 0.340599   pos = -1.664952e+01 -1.615122e+01  lnprob = 1.798781e+03   "
       ]
      },
      {
       "output_type": "stream",
       "stream": "stdout",
       "text": [
        "\r",
        "Sample: 39500 = 79.0%   acc. fr. = 0.340926   pos = -1.761283e+01 -1.663466e+01  lnprob = 1.798377e+03   "
       ]
      },
      {
       "output_type": "stream",
       "stream": "stdout",
       "text": [
        "\r",
        "Sample: 39600 = 79.2%   acc. fr. = 0.341049   pos = -1.725958e+01 -1.692272e+01  lnprob = 1.797053e+03   "
       ]
      },
      {
       "output_type": "stream",
       "stream": "stdout",
       "text": [
        "\r",
        "Sample: 39700 = 79.4%   acc. fr. = 0.341348   pos = -1.722253e+01 -1.687709e+01  lnprob = 1.795501e+03   "
       ]
      },
      {
       "output_type": "stream",
       "stream": "stdout",
       "text": [
        "\r",
        "Sample: 39800 = 79.6%   acc. fr. = 0.341194   pos = -1.799868e+01 -1.519829e+01  lnprob = 1.801324e+03   "
       ]
      },
      {
       "output_type": "stream",
       "stream": "stdout",
       "text": [
        "\r",
        "Sample: 39900 = 79.8%   acc. fr. = 0.341141   pos = -1.698829e+01 -1.692389e+01  lnprob = 1.798394e+03   "
       ]
      },
      {
       "output_type": "stream",
       "stream": "stdout",
       "text": [
        "\r",
        "Sample: 40000 = 80.0%   acc. fr. = 0.341213   pos = -1.635824e+01 -1.485120e+01  lnprob = 1.800745e+03   "
       ]
      },
      {
       "output_type": "stream",
       "stream": "stdout",
       "text": [
        "\r",
        "Sample: 40100 = 80.2%   acc. fr. = 0.341061   pos = -1.740142e+01 -1.478768e+01  lnprob = 1.797317e+03   "
       ]
      },
      {
       "output_type": "stream",
       "stream": "stdout",
       "text": [
        "\r",
        "Sample: 40200 = 80.4%   acc. fr. = 0.341356   pos = -1.786111e+01 -1.553681e+01  lnprob = 1.791975e+03   "
       ]
      },
      {
       "output_type": "stream",
       "stream": "stdout",
       "text": [
        "\r",
        "Sample: 40300 = 80.6%   acc. fr. = 0.341427   pos = -1.722637e+01 -1.502310e+01  lnprob = 1.800086e+03   "
       ]
      },
      {
       "output_type": "stream",
       "stream": "stdout",
       "text": [
        "\r",
        "Sample: 40400 = 80.8%   acc. fr. = 0.341522   pos = -1.755157e+01 -1.390038e+01  lnprob = 1.797190e+03   "
       ]
      },
      {
       "output_type": "stream",
       "stream": "stdout",
       "text": [
        "\r",
        "Sample: 40500 = 81.0%   acc. fr. = 0.341568   pos = -1.792691e+01 -1.408393e+01  lnprob = 1.794662e+03   "
       ]
      },
      {
       "output_type": "stream",
       "stream": "stdout",
       "text": [
        "\r",
        "Sample: 40600 = 81.2%   acc. fr. = 0.341294   pos = -1.764214e+01 -1.507637e+01  lnprob = 1.796334e+03   "
       ]
      },
      {
       "output_type": "stream",
       "stream": "stdout",
       "text": [
        "\r",
        "Sample: 40700 = 81.4%   acc. fr. = 0.341070   pos = -1.784527e+01 -1.606637e+01  lnprob = 1.801211e+03   "
       ]
      },
      {
       "output_type": "stream",
       "stream": "stdout",
       "text": [
        "\r",
        "Sample: 40800 = 81.6%   acc. fr. = 0.341239   pos = -1.722580e+01 -1.677347e+01  lnprob = 1.806316e+03   "
       ]
      },
      {
       "output_type": "stream",
       "stream": "stdout",
       "text": [
        "\r",
        "Sample: 40900 = 81.8%   acc. fr. = 0.341626   pos = -1.760211e+01 -1.669706e+01  lnprob = 1.801641e+03   "
       ]
      },
      {
       "output_type": "stream",
       "stream": "stdout",
       "text": [
        "\r",
        "Sample: 41000 = 82.0%   acc. fr. = 0.341817   pos = -1.774398e+01 -1.628933e+01  lnprob = 1.798311e+03   "
       ]
      },
      {
       "output_type": "stream",
       "stream": "stdout",
       "text": [
        "\r",
        "Sample: 41100 = 82.2%   acc. fr. = 0.341399   pos = -1.720272e+01 -1.666949e+01  lnprob = 1.795396e+03   "
       ]
      },
      {
       "output_type": "stream",
       "stream": "stdout",
       "text": [
        "\r",
        "Sample: 41200 = 82.4%   acc. fr. = 0.340888   pos = -1.748249e+01 -1.713711e+01  lnprob = 1.800381e+03   "
       ]
      },
      {
       "output_type": "stream",
       "stream": "stdout",
       "text": [
        "\r",
        "Sample: 41300 = 82.6%   acc. fr. = 0.340910   pos = -1.766554e+01 -1.773829e+01  lnprob = 1.801426e+03   "
       ]
      },
      {
       "output_type": "stream",
       "stream": "stdout",
       "text": [
        "\r",
        "Sample: 41400 = 82.8%   acc. fr. = 0.340522   pos = -1.715165e+01 -1.629677e+01  lnprob = 1.800702e+03   "
       ]
      },
      {
       "output_type": "stream",
       "stream": "stdout",
       "text": [
        "\r",
        "Sample: 41500 = 83.0%   acc. fr. = 0.340665   pos = -1.784362e+01 -1.779938e+01  lnprob = 1.802991e+03   "
       ]
      },
      {
       "output_type": "stream",
       "stream": "stdout",
       "text": [
        "\r",
        "Sample: 41600 = 83.2%   acc. fr. = 0.340639   pos = -1.678551e+01 -1.784248e+01  lnprob = 1.804920e+03   "
       ]
      },
      {
       "output_type": "stream",
       "stream": "stdout",
       "text": [
        "\r",
        "Sample: 41700 = 83.4%   acc. fr. = 0.340853   pos = -1.698695e+01 -1.731330e+01  lnprob = 1.799798e+03   "
       ]
      },
      {
       "output_type": "stream",
       "stream": "stdout",
       "text": [
        "\r",
        "Sample: 41800 = 83.6%   acc. fr. = 0.340851   pos = -1.589364e+01 -1.734497e+01  lnprob = 1.804641e+03   "
       ]
      },
      {
       "output_type": "stream",
       "stream": "stdout",
       "text": [
        "\r",
        "Sample: 41900 = 83.8%   acc. fr. = 0.340635   pos = -1.737145e+01 -1.750893e+01  lnprob = 1.804968e+03   "
       ]
      },
      {
       "output_type": "stream",
       "stream": "stdout",
       "text": [
        "\r",
        "Sample: 42000 = 84.0%   acc. fr. = 0.340324   pos = -1.685292e+01 -1.634695e+01  lnprob = 1.802017e+03   "
       ]
      },
      {
       "output_type": "stream",
       "stream": "stdout",
       "text": [
        "\r",
        "Sample: 42100 = 84.2%   acc. fr. = 0.340418   pos = -1.680419e+01 -1.691741e+01  lnprob = 1.800230e+03   "
       ]
      },
      {
       "output_type": "stream",
       "stream": "stdout",
       "text": [
        "\r",
        "Sample: 42200 = 84.4%   acc. fr. = 0.340323   pos = -1.716480e+01 -1.502973e+01  lnprob = 1.800763e+03   "
       ]
      },
      {
       "output_type": "stream",
       "stream": "stdout",
       "text": [
        "\r",
        "Sample: 42300 = 84.6%   acc. fr. = 0.340393   pos = -1.723919e+01 -1.688889e+01  lnprob = 1.802965e+03   "
       ]
      },
      {
       "output_type": "stream",
       "stream": "stdout",
       "text": [
        "\r",
        "Sample: 42400 = 84.8%   acc. fr. = 0.340227   pos = -1.580536e+01 -1.737226e+01  lnprob = 1.802234e+03   "
       ]
      },
      {
       "output_type": "stream",
       "stream": "stdout",
       "text": [
        "\r",
        "Sample: 42500 = 85.0%   acc. fr. = 0.340015   pos = -1.476191e+01 -1.741227e+01  lnprob = 1.799565e+03   "
       ]
      },
      {
       "output_type": "stream",
       "stream": "stdout",
       "text": [
        "\r",
        "Sample: 42600 = 85.2%   acc. fr. = 0.340039   pos = -1.521447e+01 -1.795426e+01  lnprob = 1.795148e+03   "
       ]
      },
      {
       "output_type": "stream",
       "stream": "stdout",
       "text": [
        "\r",
        "Sample: 42700 = 85.4%   acc. fr. = 0.339688   pos = -1.567101e+01 -1.740619e+01  lnprob = 1.790832e+03   "
       ]
      },
      {
       "output_type": "stream",
       "stream": "stdout",
       "text": [
        "\r",
        "Sample: 42800 = 85.6%   acc. fr. = 0.339526   pos = -1.524957e+01 -1.670255e+01  lnprob = 1.797683e+03   "
       ]
      },
      {
       "output_type": "stream",
       "stream": "stdout",
       "text": [
        "\r",
        "Sample: 42900 = 85.8%   acc. fr. = 0.339271   pos = -1.592322e+01 -1.692724e+01  lnprob = 1.799325e+03   "
       ]
      },
      {
       "output_type": "stream",
       "stream": "stdout",
       "text": [
        "\r",
        "Sample: 43000 = 86.0%   acc. fr. = 0.339064   pos = -1.570750e+01 -1.748339e+01  lnprob = 1.799721e+03   "
       ]
      },
      {
       "output_type": "stream",
       "stream": "stdout",
       "text": [
        "\r",
        "Sample: 43100 = 86.2%   acc. fr. = 0.338950   pos = -1.627565e+01 -1.778080e+01  lnprob = 1.801189e+03   "
       ]
      },
      {
       "output_type": "stream",
       "stream": "stdout",
       "text": [
        "\r",
        "Sample: 43200 = 86.4%   acc. fr. = 0.338768   pos = -1.697600e+01 -1.797332e+01  lnprob = 1.799289e+03   "
       ]
      },
      {
       "output_type": "stream",
       "stream": "stdout",
       "text": [
        "\r",
        "Sample: 43300 = 86.6%   acc. fr. = 0.338656   pos = -1.492931e+01 -1.697937e+01  lnprob = 1.799640e+03   "
       ]
      },
      {
       "output_type": "stream",
       "stream": "stdout",
       "text": [
        "\r",
        "Sample: 43400 = 86.8%   acc. fr. = 0.338981   pos = -1.555784e+01 -1.780542e+01  lnprob = 1.793594e+03   "
       ]
      },
      {
       "output_type": "stream",
       "stream": "stdout",
       "text": [
        "\r",
        "Sample: 43500 = 87.0%   acc. fr. = 0.339304   pos = -1.632038e+01 -1.565866e+01  lnprob = 1.792441e+03   "
       ]
      },
      {
       "output_type": "stream",
       "stream": "stdout",
       "text": [
        "\r",
        "Sample: 43600 = 87.2%   acc. fr. = 0.339512   pos = -1.539467e+01 -1.528625e+01  lnprob = 1.792439e+03   "
       ]
      },
      {
       "output_type": "stream",
       "stream": "stdout",
       "text": [
        "\r",
        "Sample: 43700 = 87.4%   acc. fr. = 0.339787   pos = -1.662196e+01 -1.445809e+01  lnprob = 1.795179e+03   "
       ]
      },
      {
       "output_type": "stream",
       "stream": "stdout",
       "text": [
        "\r",
        "Sample: 43800 = 87.6%   acc. fr. = 0.340061   pos = -1.550419e+01 -1.308650e+01  lnprob = 1.794735e+03   "
       ]
      },
      {
       "output_type": "stream",
       "stream": "stdout",
       "text": [
        "\r",
        "Sample: 43900 = 87.8%   acc. fr. = 0.339742   pos = -1.553124e+01 -1.334937e+01  lnprob = 1.796611e+03   "
       ]
      },
      {
       "output_type": "stream",
       "stream": "stdout",
       "text": [
        "\r",
        "Sample: 44000 = 88.0%   acc. fr. = 0.339448   pos = -1.606044e+01 -1.410733e+01  lnprob = 1.796592e+03   "
       ]
      },
      {
       "output_type": "stream",
       "stream": "stdout",
       "text": [
        "\r",
        "Sample: 44100 = 88.2%   acc. fr. = 0.339381   pos = -1.642977e+01 -1.438272e+01  lnprob = 1.795774e+03   "
       ]
      },
      {
       "output_type": "stream",
       "stream": "stdout",
       "text": [
        "\r",
        "Sample: 44200 = 88.4%   acc. fr. = 0.339338   pos = -1.609462e+01 -1.379969e+01  lnprob = 1.795273e+03   "
       ]
      },
      {
       "output_type": "stream",
       "stream": "stdout",
       "text": [
        "\r",
        "Sample: 44300 = 88.6%   acc. fr. = 0.339159   pos = -1.567749e+01 -1.387536e+01  lnprob = 1.799066e+03   "
       ]
      },
      {
       "output_type": "stream",
       "stream": "stdout",
       "text": [
        "\r",
        "Sample: 44400 = 88.8%   acc. fr. = 0.339700   pos = -1.741382e+01 -1.481067e+01  lnprob = 1.801700e+03   "
       ]
      },
      {
       "output_type": "stream",
       "stream": "stdout",
       "text": [
        "\r",
        "Sample: 44500 = 89.0%   acc. fr. = 0.339746   pos = -1.529060e+01 -1.568131e+01  lnprob = 1.801229e+03   "
       ]
      },
      {
       "output_type": "stream",
       "stream": "stdout",
       "text": [
        "\r",
        "Sample: 44600 = 89.2%   acc. fr. = 0.339455   pos = -1.471045e+01 -1.574062e+01  lnprob = 1.797951e+03   "
       ]
      },
      {
       "output_type": "stream",
       "stream": "stdout",
       "text": [
        "\r",
        "Sample: 44700 = 89.4%   acc. fr. = 0.339434   pos = -1.598010e+01 -1.681311e+01  lnprob = 1.802939e+03   "
       ]
      },
      {
       "output_type": "stream",
       "stream": "stdout",
       "text": [
        "\r",
        "Sample: 44800 = 89.6%   acc. fr. = 0.339480   pos = -1.671421e+01 -1.640965e+01  lnprob = 1.799781e+03   "
       ]
      },
      {
       "output_type": "stream",
       "stream": "stdout",
       "text": [
        "\r",
        "Sample: 44900 = 89.8%   acc. fr. = 0.339504   pos = -1.655330e+01 -1.575887e+01  lnprob = 1.798478e+03   "
       ]
      },
      {
       "output_type": "stream",
       "stream": "stdout",
       "text": [
        "\r",
        "Sample: 45000 = 90.0%   acc. fr. = 0.339239   pos = -1.561203e+01 -1.505640e+01  lnprob = 1.801641e+03   "
       ]
      },
      {
       "output_type": "stream",
       "stream": "stdout",
       "text": [
        "\r",
        "Sample: 45100 = 90.2%   acc. fr. = 0.339329   pos = -1.607214e+01 -1.602994e+01  lnprob = 1.798697e+03   "
       ]
      },
      {
       "output_type": "stream",
       "stream": "stdout",
       "text": [
        "\r",
        "Sample: 45200 = 90.4%   acc. fr. = 0.339463   pos = -1.707709e+01 -1.642262e+01  lnprob = 1.802151e+03   "
       ]
      },
      {
       "output_type": "stream",
       "stream": "stdout",
       "text": [
        "\r",
        "Sample: 45300 = 90.6%   acc. fr. = 0.339332   pos = -1.720608e+01 -1.759925e+01  lnprob = 1.801667e+03   "
       ]
      },
      {
       "output_type": "stream",
       "stream": "stdout",
       "text": [
        "\r",
        "Sample: 45400 = 90.8%   acc. fr. = 0.339509   pos = -1.704035e+01 -1.777182e+01  lnprob = 1.802465e+03   "
       ]
      },
      {
       "output_type": "stream",
       "stream": "stdout",
       "text": [
        "\r",
        "Sample: 45500 = 91.0%   acc. fr. = 0.339620   pos = -1.743311e+01 -1.728893e+01  lnprob = 1.802076e+03   "
       ]
      },
      {
       "output_type": "stream",
       "stream": "stdout",
       "text": [
        "\r",
        "Sample: 45600 = 91.2%   acc. fr. = 0.339796   pos = -1.612872e+01 -1.557643e+01  lnprob = 1.803658e+03   "
       ]
      },
      {
       "output_type": "stream",
       "stream": "stdout",
       "text": [
        "\r",
        "Sample: 45700 = 91.4%   acc. fr. = 0.339818   pos = -1.621910e+01 -1.642543e+01  lnprob = 1.807472e+03   "
       ]
      },
      {
       "output_type": "stream",
       "stream": "stdout",
       "text": [
        "\r",
        "Sample: 45800 = 91.6%   acc. fr. = 0.340058   pos = -1.701698e+01 -1.595476e+01  lnprob = 1.800771e+03   "
       ]
      },
      {
       "output_type": "stream",
       "stream": "stdout",
       "text": [
        "\r",
        "Sample: 45900 = 91.8%   acc. fr. = 0.340188   pos = -1.751875e+01 -1.501855e+01  lnprob = 1.800027e+03   "
       ]
      },
      {
       "output_type": "stream",
       "stream": "stdout",
       "text": [
        "\r",
        "Sample: 46000 = 92.0%   acc. fr. = 0.340296   pos = -1.534461e+01 -1.517920e+01  lnprob = 1.803514e+03   "
       ]
      },
      {
       "output_type": "stream",
       "stream": "stdout",
       "text": [
        "\r",
        "Sample: 46100 = 92.2%   acc. fr. = 0.340166   pos = -1.692457e+01 -1.592083e+01  lnprob = 1.801409e+03   "
       ]
      },
      {
       "output_type": "stream",
       "stream": "stdout",
       "text": [
        "\r",
        "Sample: 46200 = 92.4%   acc. fr. = 0.339863   pos = -1.623679e+01 -1.566525e+01  lnprob = 1.803335e+03   "
       ]
      },
      {
       "output_type": "stream",
       "stream": "stdout",
       "text": [
        "\r",
        "Sample: 46300 = 92.6%   acc. fr. = 0.339820   pos = -1.713520e+01 -1.671578e+01  lnprob = 1.798442e+03   "
       ]
      },
      {
       "output_type": "stream",
       "stream": "stdout",
       "text": [
        "\r",
        "Sample: 46400 = 92.8%   acc. fr. = 0.339928   pos = -1.548982e+01 -1.788168e+01  lnprob = 1.798865e+03   "
       ]
      },
      {
       "output_type": "stream",
       "stream": "stdout",
       "text": [
        "\r",
        "Sample: 46500 = 93.0%   acc. fr. = 0.340057   pos = -1.685233e+01 -1.765120e+01  lnprob = 1.798348e+03   "
       ]
      },
      {
       "output_type": "stream",
       "stream": "stdout",
       "text": [
        "\r",
        "Sample: 46600 = 93.2%   acc. fr. = 0.339907   pos = -1.513130e+01 -1.786156e+01  lnprob = 1.800888e+03   "
       ]
      },
      {
       "output_type": "stream",
       "stream": "stdout",
       "text": [
        "\r",
        "Sample: 46700 = 93.4%   acc. fr. = 0.339822   pos = -1.617771e+01 -1.711121e+01  lnprob = 1.797811e+03   "
       ]
      },
      {
       "output_type": "stream",
       "stream": "stdout",
       "text": [
        "\r",
        "Sample: 46800 = 93.6%   acc. fr. = 0.339396   pos = -1.630641e+01 -1.760472e+01  lnprob = 1.799034e+03   "
       ]
      },
      {
       "output_type": "stream",
       "stream": "stdout",
       "text": [
        "\r",
        "Sample: 46900 = 93.8%   acc. fr. = 0.339227   pos = -1.603171e+01 -1.740664e+01  lnprob = 1.797682e+03   "
       ]
      },
      {
       "output_type": "stream",
       "stream": "stdout",
       "text": [
        "\r",
        "Sample: 47000 = 94.0%   acc. fr. = 0.339250   pos = -1.532687e+01 -1.799003e+01  lnprob = 1.798211e+03   "
       ]
      },
      {
       "output_type": "stream",
       "stream": "stdout",
       "text": [
        "\r",
        "Sample: 47100 = 94.2%   acc. fr. = 0.338870   pos = -1.494075e+01 -1.709365e+01  lnprob = 1.798055e+03   "
       ]
      },
      {
       "output_type": "stream",
       "stream": "stdout",
       "text": [
        "\r",
        "Sample: 47200 = 94.4%   acc. fr. = 0.338893   pos = -1.599855e+01 -1.757532e+01  lnprob = 1.799689e+03   "
       ]
      },
      {
       "output_type": "stream",
       "stream": "stdout",
       "text": [
        "\r",
        "Sample: 47300 = 94.6%   acc. fr. = 0.338833   pos = -1.648371e+01 -1.698784e+01  lnprob = 1.798703e+03   "
       ]
      },
      {
       "output_type": "stream",
       "stream": "stdout",
       "text": [
        "\r",
        "Sample: 47400 = 94.8%   acc. fr. = 0.338982   pos = -1.693845e+01 -1.584653e+01  lnprob = 1.798421e+03   "
       ]
      },
      {
       "output_type": "stream",
       "stream": "stdout",
       "text": [
        "\r",
        "Sample: 47500 = 95.0%   acc. fr. = 0.338984   pos = -1.736715e+01 -1.491059e+01  lnprob = 1.800310e+03   "
       ]
      },
      {
       "output_type": "stream",
       "stream": "stdout",
       "text": [
        "\r",
        "Sample: 47600 = 95.2%   acc. fr. = 0.338903   pos = -1.623902e+01 -1.542499e+01  lnprob = 1.799900e+03   "
       ]
      },
      {
       "output_type": "stream",
       "stream": "stdout",
       "text": [
        "\r",
        "Sample: 47700 = 95.4%   acc. fr. = 0.338549   pos = -1.538495e+01 -1.583738e+01  lnprob = 1.803572e+03   "
       ]
      },
      {
       "output_type": "stream",
       "stream": "stdout",
       "text": [
        "\r",
        "Sample: 47800 = 95.6%   acc. fr. = 0.338490   pos = -1.630597e+01 -1.740712e+01  lnprob = 1.807026e+03   "
       ]
      },
      {
       "output_type": "stream",
       "stream": "stdout",
       "text": [
        "\r",
        "Sample: 47900 = 95.8%   acc. fr. = 0.338222   pos = -1.461543e+01 -1.748296e+01  lnprob = 1.801598e+03   "
       ]
      },
      {
       "output_type": "stream",
       "stream": "stdout",
       "text": [
        "\r",
        "Sample: 48000 = 96.0%   acc. fr. = 0.338018   pos = -1.525393e+01 -1.714194e+01  lnprob = 1.803793e+03   "
       ]
      },
      {
       "output_type": "stream",
       "stream": "stdout",
       "text": [
        "\r",
        "Sample: 48100 = 96.2%   acc. fr. = 0.338064   pos = -1.537025e+01 -1.659977e+01  lnprob = 1.803445e+03   "
       ]
      },
      {
       "output_type": "stream",
       "stream": "stdout",
       "text": [
        "\r",
        "Sample: 48200 = 96.4%   acc. fr. = 0.338047   pos = -1.478986e+01 -1.686477e+01  lnprob = 1.797741e+03   "
       ]
      },
      {
       "output_type": "stream",
       "stream": "stdout",
       "text": [
        "\r",
        "Sample: 48300 = 96.6%   acc. fr. = 0.338113   pos = -1.512946e+01 -1.735109e+01  lnprob = 1.801707e+03   "
       ]
      },
      {
       "output_type": "stream",
       "stream": "stdout",
       "text": [
        "\r",
        "Sample: 48400 = 96.8%   acc. fr. = 0.338426   pos = -1.515649e+01 -1.601439e+01  lnprob = 1.802311e+03   "
       ]
      },
      {
       "output_type": "stream",
       "stream": "stdout",
       "text": [
        "\r",
        "Sample: 48500 = 97.0%   acc. fr. = 0.338162   pos = -1.632585e+01 -1.594343e+01  lnprob = 1.801735e+03   "
       ]
      },
      {
       "output_type": "stream",
       "stream": "stdout",
       "text": [
        "\r",
        "Sample: 48600 = 97.2%   acc. fr. = 0.337960   pos = -1.612274e+01 -1.612325e+01  lnprob = 1.799277e+03   "
       ]
      },
      {
       "output_type": "stream",
       "stream": "stdout",
       "text": [
        "\r",
        "Sample: 48700 = 97.4%   acc. fr. = 0.338210   pos = -1.634690e+01 -1.590895e+01  lnprob = 1.796093e+03   "
       ]
      },
      {
       "output_type": "stream",
       "stream": "stdout",
       "text": [
        "\r",
        "Sample: 48800 = 97.6%   acc. fr. = 0.338091   pos = -1.675339e+01 -1.651016e+01  lnprob = 1.801480e+03   "
       ]
      },
      {
       "output_type": "stream",
       "stream": "stdout",
       "text": [
        "\r",
        "Sample: 48900 = 97.8%   acc. fr. = 0.338197   pos = -1.545457e+01 -1.447892e+01  lnprob = 1.798296e+03   "
       ]
      },
      {
       "output_type": "stream",
       "stream": "stdout",
       "text": [
        "\r",
        "Sample: 49000 = 98.0%   acc. fr. = 0.338486   pos = -1.561646e+01 -1.599614e+01  lnprob = 1.804944e+03   "
       ]
      },
      {
       "output_type": "stream",
       "stream": "stdout",
       "text": [
        "\r",
        "Sample: 49100 = 98.2%   acc. fr. = 0.338591   pos = -1.559891e+01 -1.799006e+01  lnprob = 1.801831e+03   "
       ]
      },
      {
       "output_type": "stream",
       "stream": "stdout",
       "text": [
        "\r",
        "Sample: 49200 = 98.4%   acc. fr. = 0.338431   pos = -1.591899e+01 -1.627920e+01  lnprob = 1.798136e+03   "
       ]
      },
      {
       "output_type": "stream",
       "stream": "stdout",
       "text": [
        "\r",
        "Sample: 49300 = 98.6%   acc. fr. = 0.338718   pos = -1.778537e+01 -1.660398e+01  lnprob = 1.795680e+03   "
       ]
      },
      {
       "output_type": "stream",
       "stream": "stdout",
       "text": [
        "\r",
        "Sample: 49400 = 98.8%   acc. fr. = 0.338478   pos = -1.723796e+01 -1.664744e+01  lnprob = 1.798264e+03   "
       ]
      },
      {
       "output_type": "stream",
       "stream": "stdout",
       "text": [
        "\r",
        "Sample: 49500 = 99.0%   acc. fr. = 0.338179   pos = -1.640103e+01 -1.695160e+01  lnprob = 1.799974e+03   "
       ]
      },
      {
       "output_type": "stream",
       "stream": "stdout",
       "text": [
        "\r",
        "Sample: 49600 = 99.2%   acc. fr. = 0.338021   pos = -1.588577e+01 -1.770692e+01  lnprob = 1.802764e+03   "
       ]
      },
      {
       "output_type": "stream",
       "stream": "stdout",
       "text": [
        "\r",
        "Sample: 49700 = 99.4%   acc. fr. = 0.337905   pos = -1.637683e+01 -1.764390e+01  lnprob = 1.801152e+03   "
       ]
      },
      {
       "output_type": "stream",
       "stream": "stdout",
       "text": [
        "\r",
        "Sample: 49800 = 99.6%   acc. fr. = 0.337809   pos = -1.544882e+01 -1.722535e+01  lnprob = 1.800952e+03   "
       ]
      },
      {
       "output_type": "stream",
       "stream": "stdout",
       "text": [
        "\r",
        "Sample: 49900 = 99.8%   acc. fr. = 0.337693   pos = -1.547644e+01 -1.694512e+01  lnprob = 1.802037e+03   "
       ]
      },
      {
       "output_type": "stream",
       "stream": "stdout",
       "text": [
        "\n",
        "('Mean acceptance fraction:', 0.33769324613507729)\n",
        "Install acor from github or pip: http://github.com/dfm/acor\n"
       ]
      }
     ],
     "prompt_number": 14
    },
    {
     "cell_type": "code",
     "collapsed": false,
     "input": [
      "# The spectrum of likobsp can be plotted\n",
      "Tmax = likobsm.ptasignals[1].Tmax\n",
      "pic.makespectrumplot('J0030-sp-metro.txt', parstart=1, numfreqs=30, freqs=likobsp.ptapsrs[0].Ffreqs, plotlog=True, Apl=np.log10(5e-14), gpl=4.33, Asm=-23.9, asm=4.7, Tmax=Tmax)"
     ],
     "language": "python",
     "metadata": {},
     "outputs": [
      {
       "metadata": {},
       "output_type": "display_data",
       "png": "[encoded data removed]",
       "text": [
        "<matplotlib.figure.Figure at 0x3b3f2d0>"
       ]
      }
     ],
     "prompt_number": 15
    },
    {
     "cell_type": "code",
     "collapsed": false,
     "input": [],
     "language": "python",
     "metadata": {},
     "outputs": [],
     "prompt_number": 46
    },
    {
     "cell_type": "code",
     "collapsed": false,
     "input": [
      "# Generating signals is possible, too\n",
      "likob = pic.ptaLikelihood('J0030.h5')\n",
      "likob.initModel(nfreqmodes=120, varyEfac=True, incRedNoise=True, noiseModel='powerlaw', likfunc='mark3')"
     ],
     "language": "python",
     "metadata": {},
     "outputs": [],
     "prompt_number": 2
    },
    {
     "cell_type": "code",
     "collapsed": false,
     "input": [
      "parameters = likob.pstart\n",
      "print parameters"
     ],
     "language": "python",
     "metadata": {},
     "outputs": [
      {
       "output_type": "stream",
       "stream": "stdout",
       "text": [
        "[  1.   -14.     2.01]\n"
       ]
      }
     ],
     "prompt_number": 3
    },
    {
     "cell_type": "code",
     "collapsed": false,
     "input": [
      "parameters = np.array([1.0, -11, 6.73])"
     ],
     "language": "python",
     "metadata": {},
     "outputs": [],
     "prompt_number": 4
    },
    {
     "cell_type": "code",
     "collapsed": false,
     "input": [
      "likob.gensig(parameters, timedomain=False)"
     ],
     "language": "python",
     "metadata": {},
     "outputs": [
      {
       "metadata": {},
       "output_type": "display_data",
       "png": "[encoded data removed]",
       "text": [
        "<matplotlib.figure.Figure at 0x4424d90>"
       ]
      }
     ],
     "prompt_number": 5
    },
    {
     "cell_type": "code",
     "collapsed": false,
     "input": [],
     "language": "python",
     "metadata": {},
     "outputs": [],
     "prompt_number": 5
    },
    {
     "cell_type": "code",
     "collapsed": false,
     "input": [
      "# Analyzing Mingarelli-Vecchio anisotropic stochastic backgrounds with the Taylor-Gair method\n",
      "reload(pic)"
     ],
     "language": "python",
     "metadata": {},
     "outputs": [
      {
       "metadata": {},
       "output_type": "pyout",
       "prompt_number": 37,
       "text": [
        "<module 'piccard' from 'piccard.py'>"
       ]
      }
     ],
     "prompt_number": 37
    },
    {
     "cell_type": "code",
     "collapsed": false,
     "input": [
      "# Create a likelihood object\n",
      "likob = pic.ptaLikelihood('J0030.h5')"
     ],
     "language": "python",
     "metadata": {},
     "outputs": [],
     "prompt_number": 38
    },
    {
     "cell_type": "code",
     "collapsed": false,
     "input": [
      "# Include power-law red noise, and a quadrupole aGWB (You can see how it can be modified)\n",
      "likob.initModel(nfreqmodes=30, incRedNoise=True, noiseModel='powerlaw', incAniGWB=True, lAniGWB=2, anigwbModel='powerlaw', likfunc='mark3')"
     ],
     "language": "python",
     "metadata": {},
     "outputs": [],
     "prompt_number": 39
    },
    {
     "cell_type": "code",
     "collapsed": false,
     "input": [
      "# As before, we now can run the chains\n",
      "pic.Runtwalk(likob, 20000, 'J0030-ani-twalk-burnin.txt', thin=5, analyse=False)\n",
      "!sed '1,300d' J0030-ani-twalk-burnin.txt > J0030-ani-twalk.txt\n",
      "pic.RunMetropolis(likob, 20000, 'J0030-ani-metro.txt', initfile='J0030-ani-twalk.txt', resize=1.0)"
     ],
     "language": "python",
     "metadata": {},
     "outputs": [
      {
       "output_type": "stream",
       "stream": "stdout",
       "text": [
        "pytwalk: Running the twalk with 20000 iterations. Thu, 19 Sep 2013, 08:59.\n",
        "       Finish in approx. 6 seconds.\n",
        "pytwalk: finished, Thu, 19 Sep 2013, 08:59:35."
       ]
      },
      {
       "output_type": "stream",
       "stream": "stdout",
       "text": [
        "\n"
       ]
      },
      {
       "output_type": "stream",
       "stream": "stdout",
       "text": [
        "Obtaining initial positions from 'J0030-ani-twalk.txt'\n",
        "Running Metropolis-Hastings sampler"
       ]
      },
      {
       "output_type": "stream",
       "stream": "stdout",
       "text": [
        "\n",
        "\r",
        "Sample: 0 =  0.0%   acc. fr. = 0.000000   pos = -7.973995e+00 2.327632e+00  lnprob = -1.000000e+99   "
       ]
      },
      {
       "output_type": "stream",
       "stream": "stdout",
       "text": [
        "\r",
        "Sample: 100 =  0.5%   acc. fr. = 0.000000   pos = -7.973995e+00 2.327632e+00  lnprob = -1.000000e+99   "
       ]
      },
      {
       "output_type": "stream",
       "stream": "stdout",
       "text": [
        "\r",
        "Sample: 200 =  1.0%   acc. fr. = 0.000000   pos = -7.973995e+00 2.327632e+00  lnprob = -1.000000e+99   "
       ]
      },
      {
       "output_type": "stream",
       "stream": "stdout",
       "text": [
        "\r",
        "Sample: 300 =  1.5%   acc. fr. = 0.000000   pos = -7.973995e+00 2.327632e+00  lnprob = -1.000000e+99   "
       ]
      },
      {
       "output_type": "stream",
       "stream": "stdout",
       "text": [
        "\r",
        "Sample: 400 =  2.0%   acc. fr. = 0.000000   pos = -7.973995e+00 2.327632e+00  lnprob = -1.000000e+99   "
       ]
      },
      {
       "output_type": "stream",
       "stream": "stdout",
       "text": [
        "\r",
        "Sample: 500 =  2.5%   acc. fr. = 0.000000   pos = -7.973995e+00 2.327632e+00  lnprob = -1.000000e+99   "
       ]
      },
      {
       "output_type": "stream",
       "stream": "stdout",
       "text": [
        "\r",
        "Sample: 600 =  3.0%   acc. fr. = 0.000000   pos = -7.973995e+00 2.327632e+00  lnprob = -1.000000e+99   "
       ]
      },
      {
       "output_type": "stream",
       "stream": "stdout",
       "text": [
        "\r",
        "Sample: 700 =  3.5%   acc. fr. = 0.000000   pos = -7.973995e+00 2.327632e+00  lnprob = -1.000000e+99   "
       ]
      },
      {
       "output_type": "stream",
       "stream": "stdout",
       "text": [
        "\r",
        "Sample: 800 =  4.0%   acc. fr. = 0.000000   pos = -7.973995e+00 2.327632e+00  lnprob = -1.000000e+99   "
       ]
      },
      {
       "output_type": "stream",
       "stream": "stdout",
       "text": [
        "\r",
        "Sample: 900 =  4.5%   acc. fr. = 0.000000   pos = -7.973995e+00 2.327632e+00  lnprob = -1.000000e+99   "
       ]
      },
      {
       "output_type": "stream",
       "stream": "stdout",
       "text": [
        "\r",
        "Sample: 1000 =  5.0%   acc. fr. = 0.000000   pos = -7.973995e+00 2.327632e+00  lnprob = -1.000000e+99   "
       ]
      },
      {
       "output_type": "stream",
       "stream": "stdout",
       "text": [
        "\r",
        "Sample: 1100 =  5.5%   acc. fr. = 0.000000   pos = -7.973995e+00 2.327632e+00  lnprob = -1.000000e+99   "
       ]
      },
      {
       "output_type": "stream",
       "stream": "stdout",
       "text": [
        "\r",
        "Sample: 1200 =  6.0%   acc. fr. = 0.000000   pos = -7.973995e+00 2.327632e+00  lnprob = -1.000000e+99   "
       ]
      },
      {
       "output_type": "stream",
       "stream": "stdout",
       "text": [
        "\r",
        "Sample: 1300 =  6.5%   acc. fr. = 0.000000   pos = -7.973995e+00 2.327632e+00  lnprob = -1.000000e+99   "
       ]
      },
      {
       "output_type": "stream",
       "stream": "stdout",
       "text": [
        "\r",
        "Sample: 1400 =  7.0%   acc. fr. = 0.000000   pos = -7.973995e+00 2.327632e+00  lnprob = -1.000000e+99   "
       ]
      },
      {
       "output_type": "stream",
       "stream": "stdout",
       "text": [
        "\r",
        "Sample: 1500 =  7.5%   acc. fr. = 0.000000   pos = -7.973995e+00 2.327632e+00  lnprob = -1.000000e+99   "
       ]
      },
      {
       "output_type": "stream",
       "stream": "stdout",
       "text": [
        "\r",
        "Sample: 1600 =  8.0%   acc. fr. = 0.000000   pos = -7.973995e+00 2.327632e+00  lnprob = -1.000000e+99   "
       ]
      },
      {
       "output_type": "stream",
       "stream": "stdout",
       "text": [
        "\r",
        "Sample: 1700 =  8.5%   acc. fr. = 0.000000   pos = -7.973995e+00 2.327632e+00  lnprob = -1.000000e+99   "
       ]
      },
      {
       "output_type": "stream",
       "stream": "stdout",
       "text": [
        "\r",
        "Sample: 1800 =  9.0%   acc. fr. = 0.000000   pos = -7.973995e+00 2.327632e+00  lnprob = -1.000000e+99   "
       ]
      },
      {
       "output_type": "stream",
       "stream": "stdout",
       "text": [
        "\r",
        "Sample: 1900 =  9.5%   acc. fr. = 0.000000   pos = -7.973995e+00 2.327632e+00  lnprob = -1.000000e+99   "
       ]
      },
      {
       "output_type": "stream",
       "stream": "stdout",
       "text": [
        "\r",
        "Sample: 2000 = 10.0%   acc. fr. = 0.000000   pos = -7.973995e+00 2.327632e+00  lnprob = -1.000000e+99   "
       ]
      },
      {
       "output_type": "stream",
       "stream": "stdout",
       "text": [
        "\r",
        "Sample: 2100 = 10.5%   acc. fr. = 0.000000   pos = -7.973995e+00 2.327632e+00  lnprob = -1.000000e+99   "
       ]
      },
      {
       "output_type": "stream",
       "stream": "stdout",
       "text": [
        "\r",
        "Sample: 2200 = 11.0%   acc. fr. = 0.000000   pos = -7.973995e+00 2.327632e+00  lnprob = -1.000000e+99   "
       ]
      },
      {
       "output_type": "stream",
       "stream": "stdout",
       "text": [
        "\r",
        "Sample: 2300 = 11.5%   acc. fr. = 0.000000   pos = -7.973995e+00 2.327632e+00  lnprob = -1.000000e+99   "
       ]
      },
      {
       "output_type": "stream",
       "stream": "stdout",
       "text": [
        "\r",
        "Sample: 2400 = 12.0%   acc. fr. = 0.000000   pos = -7.973995e+00 2.327632e+00  lnprob = -1.000000e+99   "
       ]
      },
      {
       "output_type": "stream",
       "stream": "stdout",
       "text": [
        "\r",
        "Sample: 2500 = 12.5%   acc. fr. = 0.000000   pos = -7.973995e+00 2.327632e+00  lnprob = -1.000000e+99   "
       ]
      },
      {
       "output_type": "stream",
       "stream": "stdout",
       "text": [
        "\r",
        "Sample: 2600 = 13.0%   acc. fr. = 0.000000   pos = -7.973995e+00 2.327632e+00  lnprob = -1.000000e+99   "
       ]
      },
      {
       "output_type": "stream",
       "stream": "stdout",
       "text": [
        "\r",
        "Sample: 2700 = 13.5%   acc. fr. = 0.000000   pos = -7.973995e+00 2.327632e+00  lnprob = -1.000000e+99   "
       ]
      },
      {
       "output_type": "stream",
       "stream": "stdout",
       "text": [
        "\r",
        "Sample: 2800 = 14.0%   acc. fr. = 0.000000   pos = -7.973995e+00 2.327632e+00  lnprob = -1.000000e+99   "
       ]
      },
      {
       "output_type": "stream",
       "stream": "stdout",
       "text": [
        "\r",
        "Sample: 2900 = 14.5%   acc. fr. = 0.000000   pos = -7.973995e+00 2.327632e+00  lnprob = -1.000000e+99   "
       ]
      },
      {
       "output_type": "stream",
       "stream": "stdout",
       "text": [
        "\r",
        "Sample: 3000 = 15.0%   acc. fr. = 0.000000   pos = -7.973995e+00 2.327632e+00  lnprob = -1.000000e+99   "
       ]
      },
      {
       "output_type": "stream",
       "stream": "stdout",
       "text": [
        "\r",
        "Sample: 3100 = 15.5%   acc. fr. = 0.000000   pos = -7.973995e+00 2.327632e+00  lnprob = -1.000000e+99   "
       ]
      },
      {
       "output_type": "stream",
       "stream": "stdout",
       "text": [
        "\r",
        "Sample: 3200 = 16.0%   acc. fr. = 0.000000   pos = -7.973995e+00 2.327632e+00  lnprob = -1.000000e+99   "
       ]
      },
      {
       "output_type": "stream",
       "stream": "stdout",
       "text": [
        "\r",
        "Sample: 3300 = 16.5%   acc. fr. = 0.000000   pos = -7.973995e+00 2.327632e+00  lnprob = -1.000000e+99   "
       ]
      },
      {
       "output_type": "stream",
       "stream": "stdout",
       "text": [
        "\r",
        "Sample: 3400 = 17.0%   acc. fr. = 0.000000   pos = -7.973995e+00 2.327632e+00  lnprob = -1.000000e+99   "
       ]
      },
      {
       "output_type": "stream",
       "stream": "stdout",
       "text": [
        "\r",
        "Sample: 3500 = 17.5%   acc. fr. = 0.000000   pos = -7.973995e+00 2.327632e+00  lnprob = -1.000000e+99   "
       ]
      },
      {
       "output_type": "stream",
       "stream": "stdout",
       "text": [
        "\r",
        "Sample: 3600 = 18.0%   acc. fr. = 0.000000   pos = -7.973995e+00 2.327632e+00  lnprob = -1.000000e+99   "
       ]
      },
      {
       "output_type": "stream",
       "stream": "stdout",
       "text": [
        "\r",
        "Sample: 3700 = 18.5%   acc. fr. = 0.000000   pos = -7.973995e+00 2.327632e+00  lnprob = -1.000000e+99   "
       ]
      },
      {
       "output_type": "stream",
       "stream": "stdout",
       "text": [
        "\r",
        "Sample: 3800 = 19.0%   acc. fr. = 0.000000   pos = -7.973995e+00 2.327632e+00  lnprob = -1.000000e+99   "
       ]
      },
      {
       "output_type": "stream",
       "stream": "stdout",
       "text": [
        "\r",
        "Sample: 3900 = 19.5%   acc. fr. = 0.000000   pos = -7.973995e+00 2.327632e+00  lnprob = -1.000000e+99   "
       ]
      },
      {
       "output_type": "stream",
       "stream": "stdout",
       "text": [
        "\r",
        "Sample: 4000 = 20.0%   acc. fr. = 0.000000   pos = -7.973995e+00 2.327632e+00  lnprob = -1.000000e+99   "
       ]
      },
      {
       "output_type": "stream",
       "stream": "stdout",
       "text": [
        "\r",
        "Sample: 4100 = 20.5%   acc. fr. = 0.000000   pos = -7.973995e+00 2.327632e+00  lnprob = -1.000000e+99   "
       ]
      },
      {
       "output_type": "stream",
       "stream": "stdout",
       "text": [
        "\r",
        "Sample: 4200 = 21.0%   acc. fr. = 0.000000   pos = -7.973995e+00 2.327632e+00  lnprob = -1.000000e+99   "
       ]
      },
      {
       "output_type": "stream",
       "stream": "stdout",
       "text": [
        "\r",
        "Sample: 4300 = 21.5%   acc. fr. = 0.000000   pos = -7.973995e+00 2.327632e+00  lnprob = -1.000000e+99   "
       ]
      },
      {
       "output_type": "stream",
       "stream": "stdout",
       "text": [
        "\r",
        "Sample: 4400 = 22.0%   acc. fr. = 0.000000   pos = -7.973995e+00 2.327632e+00  lnprob = -1.000000e+99   "
       ]
      },
      {
       "output_type": "stream",
       "stream": "stdout",
       "text": [
        "\r",
        "Sample: 4500 = 22.5%   acc. fr. = 0.000000   pos = -7.973995e+00 2.327632e+00  lnprob = -1.000000e+99   "
       ]
      },
      {
       "output_type": "stream",
       "stream": "stdout",
       "text": [
        "\r",
        "Sample: 4600 = 23.0%   acc. fr. = 0.000000   pos = -7.973995e+00 2.327632e+00  lnprob = -1.000000e+99   "
       ]
      },
      {
       "output_type": "stream",
       "stream": "stdout",
       "text": [
        "\r",
        "Sample: 4700 = 23.5%   acc. fr. = 0.000000   pos = -7.973995e+00 2.327632e+00  lnprob = -1.000000e+99   "
       ]
      },
      {
       "output_type": "stream",
       "stream": "stdout",
       "text": [
        "\r",
        "Sample: 4800 = 24.0%   acc. fr. = 0.000000   pos = -7.973995e+00 2.327632e+00  lnprob = -1.000000e+99   "
       ]
      },
      {
       "output_type": "stream",
       "stream": "stdout",
       "text": [
        "\r",
        "Sample: 4900 = 24.5%   acc. fr. = 0.000000   pos = -7.973995e+00 2.327632e+00  lnprob = -1.000000e+99   "
       ]
      },
      {
       "output_type": "stream",
       "stream": "stdout",
       "text": [
        "\r",
        "Sample: 5000 = 25.0%   acc. fr. = 0.000000   pos = -7.973995e+00 2.327632e+00  lnprob = -1.000000e+99   "
       ]
      },
      {
       "output_type": "stream",
       "stream": "stdout",
       "text": [
        "\r",
        "Sample: 5100 = 25.5%   acc. fr. = 0.000000   pos = -7.973995e+00 2.327632e+00  lnprob = -1.000000e+99   "
       ]
      },
      {
       "output_type": "stream",
       "stream": "stdout",
       "text": [
        "\r",
        "Sample: 5200 = 26.0%   acc. fr. = 0.000000   pos = -7.973995e+00 2.327632e+00  lnprob = -1.000000e+99   "
       ]
      },
      {
       "output_type": "stream",
       "stream": "stdout",
       "text": [
        "\r",
        "Sample: 5300 = 26.5%   acc. fr. = 0.000000   pos = -7.973995e+00 2.327632e+00  lnprob = -1.000000e+99   "
       ]
      },
      {
       "output_type": "stream",
       "stream": "stdout",
       "text": [
        "\r",
        "Sample: 5400 = 27.0%   acc. fr. = 0.000000   pos = -7.973995e+00 2.327632e+00  lnprob = -1.000000e+99   "
       ]
      },
      {
       "output_type": "stream",
       "stream": "stdout",
       "text": [
        "\r",
        "Sample: 5500 = 27.5%   acc. fr. = 0.000000   pos = -7.973995e+00 2.327632e+00  lnprob = -1.000000e+99   "
       ]
      },
      {
       "output_type": "stream",
       "stream": "stdout",
       "text": [
        "\r",
        "Sample: 5600 = 28.0%   acc. fr. = 0.000000   pos = -7.973995e+00 2.327632e+00  lnprob = -1.000000e+99   "
       ]
      },
      {
       "output_type": "stream",
       "stream": "stdout",
       "text": [
        "\r",
        "Sample: 5700 = 28.5%   acc. fr. = 0.000000   pos = -7.973995e+00 2.327632e+00  lnprob = -1.000000e+99   "
       ]
      },
      {
       "output_type": "stream",
       "stream": "stdout",
       "text": [
        "\r",
        "Sample: 5800 = 29.0%   acc. fr. = 0.000000   pos = -7.973995e+00 2.327632e+00  lnprob = -1.000000e+99   "
       ]
      },
      {
       "output_type": "stream",
       "stream": "stdout",
       "text": [
        "\r",
        "Sample: 5900 = 29.5%   acc. fr. = 0.000000   pos = -7.973995e+00 2.327632e+00  lnprob = -1.000000e+99   "
       ]
      },
      {
       "output_type": "stream",
       "stream": "stdout",
       "text": [
        "\r",
        "Sample: 6000 = 30.0%   acc. fr. = 0.000000   pos = -7.973995e+00 2.327632e+00  lnprob = -1.000000e+99   "
       ]
      },
      {
       "output_type": "stream",
       "stream": "stdout",
       "text": [
        "\r",
        "Sample: 6100 = 30.5%   acc. fr. = 0.000000   pos = -7.973995e+00 2.327632e+00  lnprob = -1.000000e+99   "
       ]
      },
      {
       "output_type": "stream",
       "stream": "stdout",
       "text": [
        "\r",
        "Sample: 6200 = 31.0%   acc. fr. = 0.000000   pos = -7.973995e+00 2.327632e+00  lnprob = -1.000000e+99   "
       ]
      },
      {
       "output_type": "stream",
       "stream": "stdout",
       "text": [
        "\r",
        "Sample: 6300 = 31.5%   acc. fr. = 0.000000   pos = -7.973995e+00 2.327632e+00  lnprob = -1.000000e+99   "
       ]
      },
      {
       "output_type": "stream",
       "stream": "stdout",
       "text": [
        "\r",
        "Sample: 6400 = 32.0%   acc. fr. = 0.000000   pos = -7.973995e+00 2.327632e+00  lnprob = -1.000000e+99   "
       ]
      },
      {
       "output_type": "stream",
       "stream": "stdout",
       "text": [
        "\r",
        "Sample: 6500 = 32.5%   acc. fr. = 0.000000   pos = -7.973995e+00 2.327632e+00  lnprob = -1.000000e+99   "
       ]
      },
      {
       "output_type": "stream",
       "stream": "stdout",
       "text": [
        "\r",
        "Sample: 6600 = 33.0%   acc. fr. = 0.000000   pos = -7.973995e+00 2.327632e+00  lnprob = -1.000000e+99   "
       ]
      },
      {
       "output_type": "stream",
       "stream": "stdout",
       "text": [
        "\r",
        "Sample: 6700 = 33.5%   acc. fr. = 0.000000   pos = -7.973995e+00 2.327632e+00  lnprob = -1.000000e+99   "
       ]
      },
      {
       "output_type": "stream",
       "stream": "stdout",
       "text": [
        "\r",
        "Sample: 6800 = 34.0%   acc. fr. = 0.000000   pos = -7.973995e+00 2.327632e+00  lnprob = -1.000000e+99   "
       ]
      },
      {
       "output_type": "stream",
       "stream": "stdout",
       "text": [
        "\r",
        "Sample: 6900 = 34.5%   acc. fr. = 0.000000   pos = -7.973995e+00 2.327632e+00  lnprob = -1.000000e+99   "
       ]
      },
      {
       "output_type": "stream",
       "stream": "stdout",
       "text": [
        "\r",
        "Sample: 7000 = 35.0%   acc. fr. = 0.000000   pos = -7.973995e+00 2.327632e+00  lnprob = -1.000000e+99   "
       ]
      },
      {
       "output_type": "stream",
       "stream": "stdout",
       "text": [
        "\r",
        "Sample: 7100 = 35.5%   acc. fr. = 0.000000   pos = -7.973995e+00 2.327632e+00  lnprob = -1.000000e+99   "
       ]
      },
      {
       "output_type": "stream",
       "stream": "stdout",
       "text": [
        "\r",
        "Sample: 7200 = 36.0%   acc. fr. = 0.000000   pos = -7.973995e+00 2.327632e+00  lnprob = -1.000000e+99   "
       ]
      },
      {
       "output_type": "stream",
       "stream": "stdout",
       "text": [
        "\r",
        "Sample: 7300 = 36.5%   acc. fr. = 0.000000   pos = -7.973995e+00 2.327632e+00  lnprob = -1.000000e+99   "
       ]
      },
      {
       "output_type": "stream",
       "stream": "stdout",
       "text": [
        "\r",
        "Sample: 7400 = 37.0%   acc. fr. = 0.000000   pos = -7.973995e+00 2.327632e+00  lnprob = -1.000000e+99   "
       ]
      },
      {
       "output_type": "stream",
       "stream": "stdout",
       "text": [
        "\r",
        "Sample: 7500 = 37.5%   acc. fr. = 0.000000   pos = -7.973995e+00 2.327632e+00  lnprob = -1.000000e+99   "
       ]
      },
      {
       "output_type": "stream",
       "stream": "stdout",
       "text": [
        "\r",
        "Sample: 7600 = 38.0%   acc. fr. = 0.000000   pos = -7.973995e+00 2.327632e+00  lnprob = -1.000000e+99   "
       ]
      },
      {
       "output_type": "stream",
       "stream": "stdout",
       "text": [
        "\r",
        "Sample: 7700 = 38.5%   acc. fr. = 0.000000   pos = -7.973995e+00 2.327632e+00  lnprob = -1.000000e+99   "
       ]
      },
      {
       "output_type": "stream",
       "stream": "stdout",
       "text": [
        "\r",
        "Sample: 7800 = 39.0%   acc. fr. = 0.000000   pos = -7.973995e+00 2.327632e+00  lnprob = -1.000000e+99   "
       ]
      },
      {
       "output_type": "stream",
       "stream": "stdout",
       "text": [
        "\r",
        "Sample: 7900 = 39.5%   acc. fr. = 0.000000   pos = -7.973995e+00 2.327632e+00  lnprob = -1.000000e+99   "
       ]
      },
      {
       "output_type": "stream",
       "stream": "stdout",
       "text": [
        "\r",
        "Sample: 8000 = 40.0%   acc. fr. = 0.000000   pos = -7.973995e+00 2.327632e+00  lnprob = -1.000000e+99   "
       ]
      },
      {
       "output_type": "stream",
       "stream": "stdout",
       "text": [
        "\r",
        "Sample: 8100 = 40.5%   acc. fr. = 0.000000   pos = -7.973995e+00 2.327632e+00  lnprob = -1.000000e+99   "
       ]
      },
      {
       "output_type": "stream",
       "stream": "stdout",
       "text": [
        "\r",
        "Sample: 8200 = 41.0%   acc. fr. = 0.000000   pos = -7.973995e+00 2.327632e+00  lnprob = -1.000000e+99   "
       ]
      },
      {
       "output_type": "stream",
       "stream": "stdout",
       "text": [
        "\r",
        "Sample: 8300 = 41.5%   acc. fr. = 0.000000   pos = -7.973995e+00 2.327632e+00  lnprob = -1.000000e+99   "
       ]
      },
      {
       "output_type": "stream",
       "stream": "stdout",
       "text": [
        "\r",
        "Sample: 8400 = 42.0%   acc. fr. = 0.000000   pos = -7.973995e+00 2.327632e+00  lnprob = -1.000000e+99   "
       ]
      },
      {
       "output_type": "stream",
       "stream": "stdout",
       "text": [
        "\r",
        "Sample: 8500 = 42.5%   acc. fr. = 0.000000   pos = -7.973995e+00 2.327632e+00  lnprob = -1.000000e+99   "
       ]
      },
      {
       "output_type": "stream",
       "stream": "stdout",
       "text": [
        "\r",
        "Sample: 8600 = 43.0%   acc. fr. = 0.000000   pos = -7.973995e+00 2.327632e+00  lnprob = -1.000000e+99   "
       ]
      },
      {
       "output_type": "stream",
       "stream": "stdout",
       "text": [
        "\r",
        "Sample: 8700 = 43.5%   acc. fr. = 0.000000   pos = -7.973995e+00 2.327632e+00  lnprob = -1.000000e+99   "
       ]
      },
      {
       "output_type": "stream",
       "stream": "stdout",
       "text": [
        "\r",
        "Sample: 8800 = 44.0%   acc. fr. = 0.000000   pos = -7.973995e+00 2.327632e+00  lnprob = -1.000000e+99   "
       ]
      },
      {
       "output_type": "stream",
       "stream": "stdout",
       "text": [
        "\r",
        "Sample: 8900 = 44.5%   acc. fr. = 0.000000   pos = -7.973995e+00 2.327632e+00  lnprob = -1.000000e+99   "
       ]
      },
      {
       "output_type": "stream",
       "stream": "stdout",
       "text": [
        "\r",
        "Sample: 9000 = 45.0%   acc. fr. = 0.000000   pos = -7.973995e+00 2.327632e+00  lnprob = -1.000000e+99   "
       ]
      },
      {
       "output_type": "stream",
       "stream": "stdout",
       "text": [
        "\r",
        "Sample: 9100 = 45.5%   acc. fr. = 0.000000   pos = -7.973995e+00 2.327632e+00  lnprob = -1.000000e+99   "
       ]
      },
      {
       "output_type": "stream",
       "stream": "stdout",
       "text": [
        "\r",
        "Sample: 9200 = 46.0%   acc. fr. = 0.000000   pos = -7.973995e+00 2.327632e+00  lnprob = -1.000000e+99   "
       ]
      },
      {
       "output_type": "stream",
       "stream": "stdout",
       "text": [
        "\r",
        "Sample: 9300 = 46.5%   acc. fr. = 0.000000   pos = -7.973995e+00 2.327632e+00  lnprob = -1.000000e+99   "
       ]
      },
      {
       "output_type": "stream",
       "stream": "stdout",
       "text": [
        "\r",
        "Sample: 9400 = 47.0%   acc. fr. = 0.000000   pos = -7.973995e+00 2.327632e+00  lnprob = -1.000000e+99   "
       ]
      },
      {
       "output_type": "stream",
       "stream": "stdout",
       "text": [
        "\r",
        "Sample: 9500 = 47.5%   acc. fr. = 0.000000   pos = -7.973995e+00 2.327632e+00  lnprob = -1.000000e+99   "
       ]
      },
      {
       "output_type": "stream",
       "stream": "stdout",
       "text": [
        "\r",
        "Sample: 9600 = 48.0%   acc. fr. = 0.000000   pos = -7.973995e+00 2.327632e+00  lnprob = -1.000000e+99   "
       ]
      },
      {
       "output_type": "stream",
       "stream": "stdout",
       "text": [
        "\r",
        "Sample: 9700 = 48.5%   acc. fr. = 0.000000   pos = -7.973995e+00 2.327632e+00  lnprob = -1.000000e+99   "
       ]
      },
      {
       "output_type": "stream",
       "stream": "stdout",
       "text": [
        "\r",
        "Sample: 9800 = 49.0%   acc. fr. = 0.000000   pos = -7.973995e+00 2.327632e+00  lnprob = -1.000000e+99   "
       ]
      },
      {
       "output_type": "stream",
       "stream": "stdout",
       "text": [
        "\r",
        "Sample: 9900 = 49.5%   acc. fr. = 0.000000   pos = -7.973995e+00 2.327632e+00  lnprob = -1.000000e+99   "
       ]
      },
      {
       "output_type": "stream",
       "stream": "stdout",
       "text": [
        "\r",
        "Sample: 10000 = 50.0%   acc. fr. = 0.000000   pos = -7.973995e+00 2.327632e+00  lnprob = -1.000000e+99   "
       ]
      },
      {
       "output_type": "stream",
       "stream": "stdout",
       "text": [
        "\r",
        "Sample: 10100 = 50.5%   acc. fr. = 0.000000   pos = -7.973995e+00 2.327632e+00  lnprob = -1.000000e+99   "
       ]
      },
      {
       "output_type": "stream",
       "stream": "stdout",
       "text": [
        "\r",
        "Sample: 10200 = 51.0%   acc. fr. = 0.000000   pos = -7.973995e+00 2.327632e+00  lnprob = -1.000000e+99   "
       ]
      },
      {
       "output_type": "stream",
       "stream": "stdout",
       "text": [
        "\r",
        "Sample: 10300 = 51.5%   acc. fr. = 0.000000   pos = -7.973995e+00 2.327632e+00  lnprob = -1.000000e+99   "
       ]
      },
      {
       "output_type": "stream",
       "stream": "stdout",
       "text": [
        "\r",
        "Sample: 10400 = 52.0%   acc. fr. = 0.000000   pos = -7.973995e+00 2.327632e+00  lnprob = -1.000000e+99   "
       ]
      },
      {
       "output_type": "stream",
       "stream": "stdout",
       "text": [
        "\r",
        "Sample: 10500 = 52.5%   acc. fr. = 0.000000   pos = -7.973995e+00 2.327632e+00  lnprob = -1.000000e+99   "
       ]
      },
      {
       "output_type": "stream",
       "stream": "stdout",
       "text": [
        "\r",
        "Sample: 10600 = 53.0%   acc. fr. = 0.000000   pos = -7.973995e+00 2.327632e+00  lnprob = -1.000000e+99   "
       ]
      },
      {
       "output_type": "stream",
       "stream": "stdout",
       "text": [
        "\r",
        "Sample: 10700 = 53.5%   acc. fr. = 0.000000   pos = -7.973995e+00 2.327632e+00  lnprob = -1.000000e+99   "
       ]
      },
      {
       "output_type": "stream",
       "stream": "stdout",
       "text": [
        "\r",
        "Sample: 10800 = 54.0%   acc. fr. = 0.000000   pos = -7.973995e+00 2.327632e+00  lnprob = -1.000000e+99   "
       ]
      },
      {
       "output_type": "stream",
       "stream": "stdout",
       "text": [
        "\r",
        "Sample: 10900 = 54.5%   acc. fr. = 0.000000   pos = -7.973995e+00 2.327632e+00  lnprob = -1.000000e+99   "
       ]
      },
      {
       "output_type": "stream",
       "stream": "stdout",
       "text": [
        "\r",
        "Sample: 11000 = 55.0%   acc. fr. = 0.000000   pos = -7.973995e+00 2.327632e+00  lnprob = -1.000000e+99   "
       ]
      },
      {
       "output_type": "stream",
       "stream": "stdout",
       "text": [
        "\r",
        "Sample: 11100 = 55.5%   acc. fr. = 0.000000   pos = -7.973995e+00 2.327632e+00  lnprob = -1.000000e+99   "
       ]
      },
      {
       "output_type": "stream",
       "stream": "stdout",
       "text": [
        "\r",
        "Sample: 11200 = 56.0%   acc. fr. = 0.000000   pos = -7.973995e+00 2.327632e+00  lnprob = -1.000000e+99   "
       ]
      },
      {
       "output_type": "stream",
       "stream": "stdout",
       "text": [
        "\r",
        "Sample: 11300 = 56.5%   acc. fr. = 0.000000   pos = -7.973995e+00 2.327632e+00  lnprob = -1.000000e+99   "
       ]
      },
      {
       "output_type": "stream",
       "stream": "stdout",
       "text": [
        "\r",
        "Sample: 11400 = 57.0%   acc. fr. = 0.000000   pos = -7.973995e+00 2.327632e+00  lnprob = -1.000000e+99   "
       ]
      },
      {
       "output_type": "stream",
       "stream": "stdout",
       "text": [
        "\r",
        "Sample: 11500 = 57.5%   acc. fr. = 0.000000   pos = -7.973995e+00 2.327632e+00  lnprob = -1.000000e+99   "
       ]
      },
      {
       "output_type": "stream",
       "stream": "stdout",
       "text": [
        "\r",
        "Sample: 11600 = 58.0%   acc. fr. = 0.000000   pos = -7.973995e+00 2.327632e+00  lnprob = -1.000000e+99   "
       ]
      },
      {
       "output_type": "stream",
       "stream": "stdout",
       "text": [
        "\r",
        "Sample: 11700 = 58.5%   acc. fr. = 0.000000   pos = -7.973995e+00 2.327632e+00  lnprob = -1.000000e+99   "
       ]
      },
      {
       "output_type": "stream",
       "stream": "stdout",
       "text": [
        "\r",
        "Sample: 11800 = 59.0%   acc. fr. = 0.000000   pos = -7.973995e+00 2.327632e+00  lnprob = -1.000000e+99   "
       ]
      },
      {
       "output_type": "stream",
       "stream": "stdout",
       "text": [
        "\r",
        "Sample: 11900 = 59.5%   acc. fr. = 0.000000   pos = -7.973995e+00 2.327632e+00  lnprob = -1.000000e+99   "
       ]
      },
      {
       "output_type": "stream",
       "stream": "stdout",
       "text": [
        "\r",
        "Sample: 12000 = 60.0%   acc. fr. = 0.000000   pos = -7.973995e+00 2.327632e+00  lnprob = -1.000000e+99   "
       ]
      },
      {
       "output_type": "stream",
       "stream": "stdout",
       "text": [
        "\r",
        "Sample: 12100 = 60.5%   acc. fr. = 0.000000   pos = -7.973995e+00 2.327632e+00  lnprob = -1.000000e+99   "
       ]
      },
      {
       "output_type": "stream",
       "stream": "stdout",
       "text": [
        "\r",
        "Sample: 12200 = 61.0%   acc. fr. = 0.000000   pos = -7.973995e+00 2.327632e+00  lnprob = -1.000000e+99   "
       ]
      },
      {
       "output_type": "stream",
       "stream": "stdout",
       "text": [
        "\r",
        "Sample: 12300 = 61.5%   acc. fr. = 0.000000   pos = -7.973995e+00 2.327632e+00  lnprob = -1.000000e+99   "
       ]
      },
      {
       "output_type": "stream",
       "stream": "stdout",
       "text": [
        "\r",
        "Sample: 12400 = 62.0%   acc. fr. = 0.000000   pos = -7.973995e+00 2.327632e+00  lnprob = -1.000000e+99   "
       ]
      },
      {
       "output_type": "stream",
       "stream": "stdout",
       "text": [
        "\r",
        "Sample: 12500 = 62.5%   acc. fr. = 0.000000   pos = -7.973995e+00 2.327632e+00  lnprob = -1.000000e+99   "
       ]
      },
      {
       "output_type": "stream",
       "stream": "stdout",
       "text": [
        "\r",
        "Sample: 12600 = 63.0%   acc. fr. = 0.000000   pos = -7.973995e+00 2.327632e+00  lnprob = -1.000000e+99   "
       ]
      },
      {
       "output_type": "stream",
       "stream": "stdout",
       "text": [
        "\r",
        "Sample: 12700 = 63.5%   acc. fr. = 0.000000   pos = -7.973995e+00 2.327632e+00  lnprob = -1.000000e+99   "
       ]
      },
      {
       "output_type": "stream",
       "stream": "stdout",
       "text": [
        "\r",
        "Sample: 12800 = 64.0%   acc. fr. = 0.000000   pos = -7.973995e+00 2.327632e+00  lnprob = -1.000000e+99   "
       ]
      },
      {
       "output_type": "stream",
       "stream": "stdout",
       "text": [
        "\r",
        "Sample: 12900 = 64.5%   acc. fr. = 0.000000   pos = -7.973995e+00 2.327632e+00  lnprob = -1.000000e+99   "
       ]
      },
      {
       "output_type": "stream",
       "stream": "stdout",
       "text": [
        "\r",
        "Sample: 13000 = 65.0%   acc. fr. = 0.000000   pos = -7.973995e+00 2.327632e+00  lnprob = -1.000000e+99   "
       ]
      },
      {
       "output_type": "stream",
       "stream": "stdout",
       "text": [
        "\r",
        "Sample: 13100 = 65.5%   acc. fr. = 0.000000   pos = -7.973995e+00 2.327632e+00  lnprob = -1.000000e+99   "
       ]
      },
      {
       "output_type": "stream",
       "stream": "stdout",
       "text": [
        "\r",
        "Sample: 13200 = 66.0%   acc. fr. = 0.000000   pos = -7.973995e+00 2.327632e+00  lnprob = -1.000000e+99   "
       ]
      },
      {
       "output_type": "stream",
       "stream": "stdout",
       "text": [
        "\r",
        "Sample: 13300 = 66.5%   acc. fr. = 0.000000   pos = -7.973995e+00 2.327632e+00  lnprob = -1.000000e+99   "
       ]
      },
      {
       "output_type": "stream",
       "stream": "stdout",
       "text": [
        "\r",
        "Sample: 13400 = 67.0%   acc. fr. = 0.000000   pos = -7.973995e+00 2.327632e+00  lnprob = -1.000000e+99   "
       ]
      },
      {
       "output_type": "stream",
       "stream": "stdout",
       "text": [
        "\r",
        "Sample: 13500 = 67.5%   acc. fr. = 0.000000   pos = -7.973995e+00 2.327632e+00  lnprob = -1.000000e+99   "
       ]
      },
      {
       "output_type": "stream",
       "stream": "stdout",
       "text": [
        "\r",
        "Sample: 13600 = 68.0%   acc. fr. = 0.000000   pos = -7.973995e+00 2.327632e+00  lnprob = -1.000000e+99   "
       ]
      },
      {
       "output_type": "stream",
       "stream": "stdout",
       "text": [
        "\r",
        "Sample: 13700 = 68.5%   acc. fr. = 0.000000   pos = -7.973995e+00 2.327632e+00  lnprob = -1.000000e+99   "
       ]
      },
      {
       "output_type": "stream",
       "stream": "stdout",
       "text": [
        "\r",
        "Sample: 13800 = 69.0%   acc. fr. = 0.000000   pos = -7.973995e+00 2.327632e+00  lnprob = -1.000000e+99   "
       ]
      },
      {
       "output_type": "stream",
       "stream": "stdout",
       "text": [
        "\r",
        "Sample: 13900 = 69.5%   acc. fr. = 0.000000   pos = -7.973995e+00 2.327632e+00  lnprob = -1.000000e+99   "
       ]
      },
      {
       "output_type": "stream",
       "stream": "stdout",
       "text": [
        "\r",
        "Sample: 14000 = 70.0%   acc. fr. = 0.000000   pos = -7.973995e+00 2.327632e+00  lnprob = -1.000000e+99   "
       ]
      },
      {
       "output_type": "stream",
       "stream": "stdout",
       "text": [
        "\r",
        "Sample: 14100 = 70.5%   acc. fr. = 0.000000   pos = -7.973995e+00 2.327632e+00  lnprob = -1.000000e+99   "
       ]
      },
      {
       "output_type": "stream",
       "stream": "stdout",
       "text": [
        "\r",
        "Sample: 14200 = 71.0%   acc. fr. = 0.000000   pos = -7.973995e+00 2.327632e+00  lnprob = -1.000000e+99   "
       ]
      },
      {
       "output_type": "stream",
       "stream": "stdout",
       "text": [
        "\r",
        "Sample: 14300 = 71.5%   acc. fr. = 0.000000   pos = -7.973995e+00 2.327632e+00  lnprob = -1.000000e+99   "
       ]
      },
      {
       "output_type": "stream",
       "stream": "stdout",
       "text": [
        "\r",
        "Sample: 14400 = 72.0%   acc. fr. = 0.000000   pos = -7.973995e+00 2.327632e+00  lnprob = -1.000000e+99   "
       ]
      },
      {
       "output_type": "stream",
       "stream": "stdout",
       "text": [
        "\r",
        "Sample: 14500 = 72.5%   acc. fr. = 0.000000   pos = -7.973995e+00 2.327632e+00  lnprob = -1.000000e+99   "
       ]
      },
      {
       "output_type": "stream",
       "stream": "stdout",
       "text": [
        "\r",
        "Sample: 14600 = 73.0%   acc. fr. = 0.000000   pos = -7.973995e+00 2.327632e+00  lnprob = -1.000000e+99   "
       ]
      },
      {
       "output_type": "stream",
       "stream": "stdout",
       "text": [
        "\r",
        "Sample: 14700 = 73.5%   acc. fr. = 0.000000   pos = -7.973995e+00 2.327632e+00  lnprob = -1.000000e+99   "
       ]
      },
      {
       "output_type": "stream",
       "stream": "stdout",
       "text": [
        "\r",
        "Sample: 14800 = 74.0%   acc. fr. = 0.000000   pos = -7.973995e+00 2.327632e+00  lnprob = -1.000000e+99   "
       ]
      },
      {
       "output_type": "stream",
       "stream": "stdout",
       "text": [
        "\r",
        "Sample: 14900 = 74.5%   acc. fr. = 0.000000   pos = -7.973995e+00 2.327632e+00  lnprob = -1.000000e+99   "
       ]
      },
      {
       "output_type": "stream",
       "stream": "stdout",
       "text": [
        "\r",
        "Sample: 15000 = 75.0%   acc. fr. = 0.000000   pos = -7.973995e+00 2.327632e+00  lnprob = -1.000000e+99   "
       ]
      },
      {
       "output_type": "stream",
       "stream": "stdout",
       "text": [
        "\r",
        "Sample: 15100 = 75.5%   acc. fr. = 0.000000   pos = -7.973995e+00 2.327632e+00  lnprob = -1.000000e+99   "
       ]
      },
      {
       "output_type": "stream",
       "stream": "stdout",
       "text": [
        "\r",
        "Sample: 15200 = 76.0%   acc. fr. = 0.000000   pos = -7.973995e+00 2.327632e+00  lnprob = -1.000000e+99   "
       ]
      },
      {
       "output_type": "stream",
       "stream": "stdout",
       "text": [
        "\r",
        "Sample: 15300 = 76.5%   acc. fr. = 0.000000   pos = -7.973995e+00 2.327632e+00  lnprob = -1.000000e+99   "
       ]
      },
      {
       "output_type": "stream",
       "stream": "stdout",
       "text": [
        "\r",
        "Sample: 15400 = 77.0%   acc. fr. = 0.000000   pos = -7.973995e+00 2.327632e+00  lnprob = -1.000000e+99   "
       ]
      },
      {
       "output_type": "stream",
       "stream": "stdout",
       "text": [
        "\r",
        "Sample: 15500 = 77.5%   acc. fr. = 0.000000   pos = -7.973995e+00 2.327632e+00  lnprob = -1.000000e+99   "
       ]
      },
      {
       "output_type": "stream",
       "stream": "stdout",
       "text": [
        "\r",
        "Sample: 15600 = 78.0%   acc. fr. = 0.000000   pos = -7.973995e+00 2.327632e+00  lnprob = -1.000000e+99   "
       ]
      },
      {
       "output_type": "stream",
       "stream": "stdout",
       "text": [
        "\r",
        "Sample: 15700 = 78.5%   acc. fr. = 0.000000   pos = -7.973995e+00 2.327632e+00  lnprob = -1.000000e+99   "
       ]
      },
      {
       "output_type": "stream",
       "stream": "stdout",
       "text": [
        "\r",
        "Sample: 15800 = 79.0%   acc. fr. = 0.000000   pos = -7.973995e+00 2.327632e+00  lnprob = -1.000000e+99   "
       ]
      },
      {
       "output_type": "stream",
       "stream": "stdout",
       "text": [
        "\r",
        "Sample: 15900 = 79.5%   acc. fr. = 0.000000   pos = -7.973995e+00 2.327632e+00  lnprob = -1.000000e+99   "
       ]
      },
      {
       "output_type": "stream",
       "stream": "stdout",
       "text": [
        "\r",
        "Sample: 16000 = 80.0%   acc. fr. = 0.000000   pos = -7.973995e+00 2.327632e+00  lnprob = -1.000000e+99   "
       ]
      },
      {
       "output_type": "stream",
       "stream": "stdout",
       "text": [
        "\r",
        "Sample: 16100 = 80.5%   acc. fr. = 0.000000   pos = -7.973995e+00 2.327632e+00  lnprob = -1.000000e+99   "
       ]
      },
      {
       "output_type": "stream",
       "stream": "stdout",
       "text": [
        "\r",
        "Sample: 16200 = 81.0%   acc. fr. = 0.000000   pos = -7.973995e+00 2.327632e+00  lnprob = -1.000000e+99   "
       ]
      },
      {
       "output_type": "stream",
       "stream": "stdout",
       "text": [
        "\r",
        "Sample: 16300 = 81.5%   acc. fr. = 0.000000   pos = -7.973995e+00 2.327632e+00  lnprob = -1.000000e+99   "
       ]
      },
      {
       "output_type": "stream",
       "stream": "stdout",
       "text": [
        "\r",
        "Sample: 16400 = 82.0%   acc. fr. = 0.000000   pos = -7.973995e+00 2.327632e+00  lnprob = -1.000000e+99   "
       ]
      },
      {
       "output_type": "stream",
       "stream": "stdout",
       "text": [
        "\r",
        "Sample: 16500 = 82.5%   acc. fr. = 0.000000   pos = -7.973995e+00 2.327632e+00  lnprob = -1.000000e+99   "
       ]
      },
      {
       "output_type": "stream",
       "stream": "stdout",
       "text": [
        "\r",
        "Sample: 16600 = 83.0%   acc. fr. = 0.000000   pos = -7.973995e+00 2.327632e+00  lnprob = -1.000000e+99   "
       ]
      },
      {
       "output_type": "stream",
       "stream": "stdout",
       "text": [
        "\r",
        "Sample: 16700 = 83.5%   acc. fr. = 0.000000   pos = -7.973995e+00 2.327632e+00  lnprob = -1.000000e+99   "
       ]
      },
      {
       "output_type": "stream",
       "stream": "stdout",
       "text": [
        "\r",
        "Sample: 16800 = 84.0%   acc. fr. = 0.000000   pos = -7.973995e+00 2.327632e+00  lnprob = -1.000000e+99   "
       ]
      },
      {
       "output_type": "stream",
       "stream": "stdout",
       "text": [
        "\r",
        "Sample: 16900 = 84.5%   acc. fr. = 0.000000   pos = -7.973995e+00 2.327632e+00  lnprob = -1.000000e+99   "
       ]
      },
      {
       "output_type": "stream",
       "stream": "stdout",
       "text": [
        "\r",
        "Sample: 17000 = 85.0%   acc. fr. = 0.000000   pos = -7.973995e+00 2.327632e+00  lnprob = -1.000000e+99   "
       ]
      },
      {
       "output_type": "stream",
       "stream": "stdout",
       "text": [
        "\r",
        "Sample: 17100 = 85.5%   acc. fr. = 0.000000   pos = -7.973995e+00 2.327632e+00  lnprob = -1.000000e+99   "
       ]
      },
      {
       "output_type": "stream",
       "stream": "stdout",
       "text": [
        "\r",
        "Sample: 17200 = 86.0%   acc. fr. = 0.000000   pos = -7.973995e+00 2.327632e+00  lnprob = -1.000000e+99   "
       ]
      },
      {
       "output_type": "stream",
       "stream": "stdout",
       "text": [
        "\r",
        "Sample: 17300 = 86.5%   acc. fr. = 0.000000   pos = -7.973995e+00 2.327632e+00  lnprob = -1.000000e+99   "
       ]
      },
      {
       "output_type": "stream",
       "stream": "stdout",
       "text": [
        "\r",
        "Sample: 17400 = 87.0%   acc. fr. = 0.000000   pos = -7.973995e+00 2.327632e+00  lnprob = -1.000000e+99   "
       ]
      },
      {
       "output_type": "stream",
       "stream": "stdout",
       "text": [
        "\r",
        "Sample: 17500 = 87.5%   acc. fr. = 0.000000   pos = -7.973995e+00 2.327632e+00  lnprob = -1.000000e+99   "
       ]
      },
      {
       "output_type": "stream",
       "stream": "stdout",
       "text": [
        "\r",
        "Sample: 17600 = 88.0%   acc. fr. = 0.000000   pos = -7.973995e+00 2.327632e+00  lnprob = -1.000000e+99   "
       ]
      },
      {
       "output_type": "stream",
       "stream": "stdout",
       "text": [
        "\r",
        "Sample: 17700 = 88.5%   acc. fr. = 0.000000   pos = -7.973995e+00 2.327632e+00  lnprob = -1.000000e+99   "
       ]
      },
      {
       "output_type": "stream",
       "stream": "stdout",
       "text": [
        "\r",
        "Sample: 17800 = 89.0%   acc. fr. = 0.000000   pos = -7.973995e+00 2.327632e+00  lnprob = -1.000000e+99   "
       ]
      },
      {
       "output_type": "stream",
       "stream": "stdout",
       "text": [
        "\r",
        "Sample: 17900 = 89.5%   acc. fr. = 0.000000   pos = -7.973995e+00 2.327632e+00  lnprob = -1.000000e+99   "
       ]
      },
      {
       "output_type": "stream",
       "stream": "stdout",
       "text": [
        "\r",
        "Sample: 18000 = 90.0%   acc. fr. = 0.000000   pos = -7.973995e+00 2.327632e+00  lnprob = -1.000000e+99   "
       ]
      },
      {
       "output_type": "stream",
       "stream": "stdout",
       "text": [
        "\r",
        "Sample: 18100 = 90.5%   acc. fr. = 0.000000   pos = -7.973995e+00 2.327632e+00  lnprob = -1.000000e+99   "
       ]
      },
      {
       "output_type": "stream",
       "stream": "stdout",
       "text": [
        "\r",
        "Sample: 18200 = 91.0%   acc. fr. = 0.000000   pos = -7.973995e+00 2.327632e+00  lnprob = -1.000000e+99   "
       ]
      },
      {
       "output_type": "stream",
       "stream": "stdout",
       "text": [
        "\r",
        "Sample: 18300 = 91.5%   acc. fr. = 0.000000   pos = -7.973995e+00 2.327632e+00  lnprob = -1.000000e+99   "
       ]
      },
      {
       "output_type": "stream",
       "stream": "stdout",
       "text": [
        "\r",
        "Sample: 18400 = 92.0%   acc. fr. = 0.000000   pos = -7.973995e+00 2.327632e+00  lnprob = -1.000000e+99   "
       ]
      },
      {
       "output_type": "stream",
       "stream": "stdout",
       "text": [
        "\r",
        "Sample: 18500 = 92.5%   acc. fr. = 0.000000   pos = -7.973995e+00 2.327632e+00  lnprob = -1.000000e+99   "
       ]
      },
      {
       "output_type": "stream",
       "stream": "stdout",
       "text": [
        "\r",
        "Sample: 18600 = 93.0%   acc. fr. = 0.000000   pos = -7.973995e+00 2.327632e+00  lnprob = -1.000000e+99   "
       ]
      },
      {
       "output_type": "stream",
       "stream": "stdout",
       "text": [
        "\r",
        "Sample: 18700 = 93.5%   acc. fr. = 0.000000   pos = -7.973995e+00 2.327632e+00  lnprob = -1.000000e+99   "
       ]
      },
      {
       "output_type": "stream",
       "stream": "stdout",
       "text": [
        "\r",
        "Sample: 18800 = 94.0%   acc. fr. = 0.000000   pos = -7.973995e+00 2.327632e+00  lnprob = -1.000000e+99   "
       ]
      },
      {
       "output_type": "stream",
       "stream": "stdout",
       "text": [
        "\r",
        "Sample: 18900 = 94.5%   acc. fr. = 0.000000   pos = -7.973995e+00 2.327632e+00  lnprob = -1.000000e+99   "
       ]
      },
      {
       "output_type": "stream",
       "stream": "stdout",
       "text": [
        "\r",
        "Sample: 19000 = 95.0%   acc. fr. = 0.000000   pos = -7.973995e+00 2.327632e+00  lnprob = -1.000000e+99   "
       ]
      },
      {
       "output_type": "stream",
       "stream": "stdout",
       "text": [
        "\r",
        "Sample: 19100 = 95.5%   acc. fr. = 0.000000   pos = -7.973995e+00 2.327632e+00  lnprob = -1.000000e+99   "
       ]
      },
      {
       "output_type": "stream",
       "stream": "stdout",
       "text": [
        "\r",
        "Sample: 19200 = 96.0%   acc. fr. = 0.000000   pos = -7.973995e+00 2.327632e+00  lnprob = -1.000000e+99   "
       ]
      },
      {
       "output_type": "stream",
       "stream": "stdout",
       "text": [
        "\r",
        "Sample: 19300 = 96.5%   acc. fr. = 0.000000   pos = -7.973995e+00 2.327632e+00  lnprob = -1.000000e+99   "
       ]
      },
      {
       "output_type": "stream",
       "stream": "stdout",
       "text": [
        "\r",
        "Sample: 19400 = 97.0%   acc. fr. = 0.000000   pos = -7.973995e+00 2.327632e+00  lnprob = -1.000000e+99   "
       ]
      },
      {
       "output_type": "stream",
       "stream": "stdout",
       "text": [
        "\r",
        "Sample: 19500 = 97.5%   acc. fr. = 0.000000   pos = -7.973995e+00 2.327632e+00  lnprob = -1.000000e+99   "
       ]
      },
      {
       "output_type": "stream",
       "stream": "stdout",
       "text": [
        "\r",
        "Sample: 19600 = 98.0%   acc. fr. = 0.000000   pos = -7.973995e+00 2.327632e+00  lnprob = -1.000000e+99   "
       ]
      },
      {
       "output_type": "stream",
       "stream": "stdout",
       "text": [
        "\r",
        "Sample: 19700 = 98.5%   acc. fr. = 0.000000   pos = -7.973995e+00 2.327632e+00  lnprob = -1.000000e+99   "
       ]
      },
      {
       "output_type": "stream",
       "stream": "stdout",
       "text": [
        "\r",
        "Sample: 19800 = 99.0%   acc. fr. = 0.000000   pos = -7.973995e+00 2.327632e+00  lnprob = -1.000000e+99   "
       ]
      },
      {
       "output_type": "stream",
       "stream": "stdout",
       "text": [
        "\r",
        "Sample: 19900 = 99.5%   acc. fr. = 0.000000   pos = -7.973995e+00 2.327632e+00  lnprob = -1.000000e+99   "
       ]
      },
      {
       "output_type": "stream",
       "stream": "stdout",
       "text": [
        "\n",
        "('Mean acceptance fraction:', 0.0)\n",
        "('Autocorrelation time:', 0.0)\n"
       ]
      }
     ],
     "prompt_number": 17
    },
    {
     "cell_type": "code",
     "collapsed": false,
     "input": [
      "# Inspect the parameters\n",
      "likob.dimensions"
     ],
     "language": "python",
     "metadata": {},
     "outputs": [
      {
       "metadata": {},
       "output_type": "pyout",
       "prompt_number": 18,
       "text": [
        "12"
       ]
      }
     ],
     "prompt_number": 18
    },
    {
     "cell_type": "code",
     "collapsed": false,
     "input": [
      "for i in range(len(likob.pardes)): print likob.pardes[i]"
     ],
     "language": "python",
     "metadata": {},
     "outputs": [
      {
       "output_type": "stream",
       "stream": "stdout",
       "text": [
        "{'index': -1, 'name': 'pulsarname', 'sigtype': 'efac', 'sigindex': 0, 'correlation': 'single', 'pulsar': 0, 'id': u'efacJ0030+0451'}\n",
        "{'index': 0, 'name': 'powerlaw', 'sigtype': 'powerlaw', 'sigindex': 1, 'correlation': 'single', 'pulsar': 0, 'id': 'RN-Amplitude'}\n",
        "{'index': 1, 'name': 'powerlaw', 'sigtype': 'powerlaw', 'sigindex': 1, 'correlation': 'single', 'pulsar': 0, 'id': 'RN-spectral-index'}\n",
        "{'index': -1, 'name': 'powerlaw', 'sigtype': 'powerlaw', 'sigindex': 1, 'correlation': 'single', 'pulsar': 0, 'id': 'low-frequency-cutoff'}\n",
        "{'index': 2, 'name': 'powerlaw', 'sigtype': 'powerlaw', 'sigindex': 2, 'correlation': 'anisotropicgwb', 'pulsar': -1, 'id': 'RN-Amplitude'}\n",
        "{'index': 3, 'name': 'powerlaw', 'sigtype': 'powerlaw', 'sigindex': 2, 'correlation': 'anisotropicgwb', 'pulsar': -1, 'id': 'RN-spectral-index'}\n",
        "{'index': -1, 'name': 'powerlaw', 'sigtype': 'powerlaw', 'sigindex': 2, 'correlation': 'anisotropicgwb', 'pulsar': -1, 'id': 'low-frequency-cutoff'}\n",
        "{'index': 4, 'name': 'powerlaw', 'sigtype': 'powerlaw', 'sigindex': 2, 'correlation': 'anisotropicgwb', 'pulsar': -1, 'id': 'C_(1,-1)'}\n",
        "{'index': 5, 'name': 'powerlaw', 'sigtype': 'powerlaw', 'sigindex': 2, 'correlation': 'anisotropicgwb', 'pulsar': -1, 'id': 'C_(1,0)'}\n",
        "{'index': 6, 'name': 'powerlaw', 'sigtype': 'powerlaw', 'sigindex': 2, 'correlation': 'anisotropicgwb', 'pulsar': -1, 'id': 'C_(1,1)'}\n",
        "{'index': 7, 'name': 'powerlaw', 'sigtype': 'powerlaw', 'sigindex': 2, 'correlation': 'anisotropicgwb', 'pulsar': -1, 'id': 'C_(2,-2)'}\n",
        "{'index': 8, 'name': 'powerlaw', 'sigtype': 'powerlaw', 'sigindex': 2, 'correlation': 'anisotropicgwb', 'pulsar': -1, 'id': 'C_(2,-1)'}\n",
        "{'index': 9, 'name': 'powerlaw', 'sigtype': 'powerlaw', 'sigindex': 2, 'correlation': 'anisotropicgwb', 'pulsar': -1, 'id': 'C_(2,0)'}\n",
        "{'index': 10, 'name': 'powerlaw', 'sigtype': 'powerlaw', 'sigindex': 2, 'correlation': 'anisotropicgwb', 'pulsar': -1, 'id': 'C_(2,1)'}\n",
        "{'index': 11, 'name': 'powerlaw', 'sigtype': 'powerlaw', 'sigindex': 2, 'correlation': 'anisotropicgwb', 'pulsar': -1, 'id': 'C_(2,2)'}\n"
       ]
      }
     ],
     "prompt_number": 40
    },
    {
     "cell_type": "code",
     "collapsed": false,
     "input": [],
     "language": "python",
     "metadata": {},
     "outputs": [],
     "prompt_number": 5
    },
    {
     "cell_type": "code",
     "collapsed": false,
     "input": [],
     "language": "python",
     "metadata": {},
     "outputs": []
    }
   ],
   "metadata": {}
  }
 ]
}