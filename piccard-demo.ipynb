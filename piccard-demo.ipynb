{
 "metadata": {
  "name": "piccard-demo"
 },
 "nbformat": 3,
 "nbformat_minor": 0,
 "worksheets": [
  {
   "cells": [
    {
     "cell_type": "code",
     "collapsed": false,
     "input": [
      "\n",
      "import numpy as np\n",
      "import matplotlib.pyplot as plt\n",
      "import piccard as pic"
     ],
     "language": "python",
     "metadata": {},
     "outputs": [],
     "prompt_number": "*"
    },
    {
     "cell_type": "markdown",
     "metadata": {},
     "source": [
      "Assume we have a pulsar (J0030 from the first IPTA Mock Data Challenge, open1, here), and read it in an HDF5 file"
     ]
    },
    {
     "cell_type": "code",
     "collapsed": false,
     "input": [
      "# Creating hdf5 files goes through the DataFile class\n",
      "t2df = pic.DataFile('J0030.h5')\n",
      "t2df.addpulsar('mdc1-open1/J0030+0451.par', 'mdc1-open1/J0030+0451.tim')"
     ],
     "language": "python",
     "metadata": {},
     "outputs": [],
     "prompt_number": 3
    },
    {
     "cell_type": "code",
     "collapsed": false,
     "input": [
      "# With a datafile, we can construct a 'likelihood' object, which is the central class of the package\n",
      "likob = pic.ptaLikelihood('J0030.h5')"
     ],
     "language": "python",
     "metadata": {},
     "outputs": [],
     "prompt_number": 2
    },
    {
     "cell_type": "code",
     "collapsed": false,
     "input": [
      "# A model for the data (all data in the hdf5, so can be multi-pulsar) can be made with the initModel member function\n",
      "# Likelihood function 'mark3' is the standard for red noise analysis, and will default to that if not given\n",
      "likob.initModel(nfreqmodes=30, varyEfac=True, incRedNoise=True, noiseModel='powerlaw', likfunc='mark3')"
     ],
     "language": "python",
     "metadata": {},
     "outputs": [],
     "prompt_number": 3
    },
    {
     "cell_type": "code",
     "collapsed": false,
     "input": [
      "# The model has the following variable dimensions.\n",
      "print \"Number of dimensions: \", likob.dimensions\n",
      "# A total dictionary of all parameters is kept in likob.pardes (I'll make the names more descriptive). Do\n",
      "# not edit the pardes dictionary yourself. The 'real' model is saved in sub-classes and must be edited through\n",
      "# the initModel function\n",
      "for i in range(len(likob.pardes)): print likob.pardes[i]"
     ],
     "language": "python",
     "metadata": {},
     "outputs": [
      {
       "output_type": "stream",
       "stream": "stdout",
       "text": [
        "Number of dimensions:  3\n",
        "{'index': 0, 'name': 'pulsarname', 'sigtype': 'efac', 'sigindex': 0, 'correlation': 'single', 'pulsar': 0, 'id': u'efacJ0030+0451'}\n",
        "{'index': 1, 'name': 'powerlaw', 'sigtype': 'powerlaw', 'sigindex': 1, 'correlation': 'single', 'pulsar': 0, 'id': 'RN-Amplitude'}\n",
        "{'index': 2, 'name': 'powerlaw', 'sigtype': 'powerlaw', 'sigindex': 1, 'correlation': 'single', 'pulsar': 0, 'id': 'RN-spectral-index'}\n",
        "{'index': -1, 'name': 'powerlaw', 'sigtype': 'powerlaw', 'sigindex': 1, 'correlation': 'single', 'pulsar': 0, 'id': 'low-frequency-cutoff'}\n"
       ]
      }
     ],
     "prompt_number": 4
    },
    {
     "cell_type": "code",
     "collapsed": false,
     "input": [
      "# The default start parameters, minimum value, maximum value, and stepsize\n",
      "# Parameter indices belong to the 'index' key of the likob.pardes dictionary.\n",
      "# A '-1' in the pardes dictionary means that the parameter is kept fixed in a\n",
      "# subsequent analysis.\n",
      "print likob.pstart, likob.pmin, likob.pmax, likob.pwidth"
     ],
     "language": "python",
     "metadata": {},
     "outputs": [
      {
       "output_type": "stream",
       "stream": "stdout",
       "text": [
        "[  1.   -14.     2.01] [  0.001 -16.      1.02 ] [ 1000.      -5.       6.98] [ 0.1  0.1  0.1]\n"
       ]
      }
     ],
     "prompt_number": 5
    },
    {
     "cell_type": "code",
     "collapsed": false,
     "input": [
      "# Calculate the value of the posterior, likelihood, or prior:\n",
      "print likob.logprior(likob.pstart), likob.loglikelihood(likob.pstart), likob.logposterior(likob.pstart)"
     ],
     "language": "python",
     "metadata": {},
     "outputs": [
      {
       "output_type": "stream",
       "stream": "stdout",
       "text": [
        "-11.0907200329 1132.24124175 1121.15052171\n"
       ]
      }
     ],
     "prompt_number": 6
    },
    {
     "cell_type": "code",
     "collapsed": false,
     "input": [
      "# Run a t-walk algorithm on the posterior for 20000 steps (analyse=True prints the figure)\n",
      "pic.Runtwalk(likob, 20000, 'J0030-twalk-burnin.txt', thin=5, analyse=True)"
     ],
     "language": "python",
     "metadata": {},
     "outputs": [
      {
       "output_type": "stream",
       "stream": "stdout",
       "text": [
        "pytwalk: Running the twalk with 20000 iterations. Wed, 07 Aug 2013, 12:39.\n",
        "       Finish in approx. 17 seconds.\n",
        "pytwalk: finished, Wed, 07 Aug 2013, 12:39:30."
       ]
      },
      {
       "output_type": "stream",
       "stream": "stdout",
       "text": [
        "\n",
        "Acceptance rates for the Walk, Traverse, Blow and Hop kernels:[ 0.45564063  0.16266099  0.20359281  0.01129944]\n",
        "Global acceptance rate: 0.30515\n",
        "AutoMaxlag: maxlag= 57.\n",
        "Integrated Autocorrelation Time:    12.2, IAT/n:     4.1"
       ]
      },
      {
       "output_type": "stream",
       "stream": "stdout",
       "text": [
        "\n"
       ]
      },
      {
       "output_type": "display_data",
       "png": "[encoded data removed]"
      }
     ],
     "prompt_number": 22
    },
    {
     "cell_type": "code",
     "collapsed": false,
     "input": [
      "# Removing the burn-in of the MCMC chains is easy on the command line\n",
      "!sed '1,300d' J0030-twalk-burnin.txt > J0030-twalk.txt"
     ],
     "language": "python",
     "metadata": {},
     "outputs": [],
     "prompt_number": 24
    },
    {
     "cell_type": "code",
     "collapsed": false,
     "input": [
      "# We can run a more optimal Metropolis algorithm by using the t-walk as a tuning chain\n",
      "pic.RunMetropolis(likob, 20000, 'J0030-metro.txt', initfile='J0030-twalk.txt', resize=1.0)"
     ],
     "language": "python",
     "metadata": {},
     "outputs": [
      {
       "output_type": "stream",
       "stream": "stdout",
       "text": [
        "Obtaining initial positions from 'J0030-twalk.txt'\n",
        "Running Metropolis-Hastings sampler"
       ]
      },
      {
       "output_type": "stream",
       "stream": "stdout",
       "text": [
        "\n",
        "\r",
        "Sample: 0 =  0.0%   acc. fr. = 0.405941   pos = -1.329995e+01 4.081291e+00  lnprob = 1.871442e+03   "
       ]
      },
      {
       "output_type": "stream",
       "stream": "stdout",
       "text": [
        "\r",
        "Sample: 100 =  0.5%   acc. fr. = 0.472637   pos = -1.312798e+01 4.256386e+00  lnprob = 1.870662e+03   "
       ]
      },
      {
       "output_type": "stream",
       "stream": "stdout",
       "text": [
        "\r",
        "Sample: 200 =  1.0%   acc. fr. = 0.478405   pos = -1.321813e+01 4.522239e+00  lnprob = 1.871104e+03   "
       ]
      },
      {
       "output_type": "stream",
       "stream": "stdout",
       "text": [
        "\r",
        "Sample: 300 =  1.5%   acc. fr. = 0.458853   pos = -1.323142e+01 3.822296e+00  lnprob = 1.870930e+03   "
       ]
      },
      {
       "output_type": "stream",
       "stream": "stdout",
       "text": [
        "\r",
        "Sample: 400 =  2.0%   acc. fr. = 0.463074   pos = -1.311725e+01 4.437650e+00  lnprob = 1.869011e+03   "
       ]
      },
      {
       "output_type": "stream",
       "stream": "stdout",
       "text": [
        "\r",
        "Sample: 500 =  2.5%   acc. fr. = 0.467554   pos = -1.345665e+01 4.877911e+00  lnprob = 1.869722e+03   "
       ]
      },
      {
       "output_type": "stream",
       "stream": "stdout",
       "text": [
        "\r",
        "Sample: 600 =  3.0%   acc. fr. = 0.465050   pos = -1.327501e+01 4.978029e+00  lnprob = 1.871370e+03   "
       ]
      },
      {
       "output_type": "stream",
       "stream": "stdout",
       "text": [
        "\r",
        "Sample: 700 =  3.5%   acc. fr. = 0.470662   pos = -1.318664e+01 5.059566e+00  lnprob = 1.869818e+03   "
       ]
      },
      {
       "output_type": "stream",
       "stream": "stdout",
       "text": [
        "\r",
        "Sample: 800 =  4.0%   acc. fr. = 0.470588   pos = -1.324783e+01 4.097866e+00  lnprob = 1.871887e+03   "
       ]
      },
      {
       "output_type": "stream",
       "stream": "stdout",
       "text": [
        "\r",
        "Sample: 900 =  4.5%   acc. fr. = 0.453546   pos = -1.309429e+01 5.524673e+00  lnprob = 1.868798e+03   "
       ]
      },
      {
       "output_type": "stream",
       "stream": "stdout",
       "text": [
        "\r",
        "Sample: 1000 =  5.0%   acc. fr. = 0.454133   pos = -1.319220e+01 4.937991e+00  lnprob = 1.871580e+03   "
       ]
      },
      {
       "output_type": "stream",
       "stream": "stdout",
       "text": [
        "\r",
        "Sample: 1100 =  5.5%   acc. fr. = 0.456286   pos = -1.340756e+01 5.103370e+00  lnprob = 1.870294e+03   "
       ]
      },
      {
       "output_type": "stream",
       "stream": "stdout",
       "text": [
        "\r",
        "Sample: 1200 =  6.0%   acc. fr. = 0.459646   pos = -1.325781e+01 4.272217e+00  lnprob = 1.872118e+03   "
       ]
      },
      {
       "output_type": "stream",
       "stream": "stdout",
       "text": [
        "\r",
        "Sample: 1300 =  6.5%   acc. fr. = 0.451820   pos = -1.349272e+01 5.665996e+00  lnprob = 1.868980e+03   "
       ]
      },
      {
       "output_type": "stream",
       "stream": "stdout",
       "text": [
        "\r",
        "Sample: 1400 =  7.0%   acc. fr. = 0.447702   pos = -1.348856e+01 5.913178e+00  lnprob = 1.869053e+03   "
       ]
      },
      {
       "output_type": "stream",
       "stream": "stdout",
       "text": [
        "\r",
        "Sample: 1500 =  7.5%   acc. fr. = 0.447220   pos = -1.317096e+01 3.946021e+00  lnprob = 1.871105e+03   "
       ]
      },
      {
       "output_type": "stream",
       "stream": "stdout",
       "text": [
        "\r",
        "Sample: 1600 =  8.0%   acc. fr. = 0.446796   pos = -1.330200e+01 5.244709e+00  lnprob = 1.871185e+03   "
       ]
      },
      {
       "output_type": "stream",
       "stream": "stdout",
       "text": [
        "\r",
        "Sample: 1700 =  8.5%   acc. fr. = 0.446419   pos = -1.331916e+01 5.639064e+00  lnprob = 1.870767e+03   "
       ]
      },
      {
       "output_type": "stream",
       "stream": "stdout",
       "text": [
        "\r",
        "Sample: 1800 =  9.0%   acc. fr. = 0.446081   pos = -1.331509e+01 5.031579e+00  lnprob = 1.871790e+03   "
       ]
      },
      {
       "output_type": "stream",
       "stream": "stdout",
       "text": [
        "\r",
        "Sample: 1900 =  9.5%   acc. fr. = 0.445777   pos = -1.328671e+01 5.241482e+00  lnprob = 1.871549e+03   "
       ]
      },
      {
       "output_type": "stream",
       "stream": "stdout",
       "text": [
        "\r",
        "Sample: 2000 = 10.0%   acc. fr. = 0.445026   pos = -1.319274e+01 4.344841e+00  lnprob = 1.871872e+03   "
       ]
      },
      {
       "output_type": "stream",
       "stream": "stdout",
       "text": [
        "\r",
        "Sample: 2100 = 10.5%   acc. fr. = 0.444798   pos = -1.328459e+01 4.915023e+00  lnprob = 1.871555e+03   "
       ]
      },
      {
       "output_type": "stream",
       "stream": "stdout",
       "text": [
        "\r",
        "Sample: 2200 = 11.0%   acc. fr. = 0.441982   pos = -1.318793e+01 5.414520e+00  lnprob = 1.868486e+03   "
       ]
      },
      {
       "output_type": "stream",
       "stream": "stdout",
       "text": [
        "\r",
        "Sample: 2300 = 11.5%   acc. fr. = 0.440650   pos = -1.330925e+01 4.564048e+00  lnprob = 1.872023e+03   "
       ]
      },
      {
       "output_type": "stream",
       "stream": "stdout",
       "text": [
        "\r",
        "Sample: 2400 = 12.0%   acc. fr. = 0.440624   pos = -1.319489e+01 3.861761e+00  lnprob = 1.871273e+03   "
       ]
      },
      {
       "output_type": "stream",
       "stream": "stdout",
       "text": [
        "\r",
        "Sample: 2500 = 12.5%   acc. fr. = 0.442522   pos = -1.314530e+01 4.386253e+00  lnprob = 1.871445e+03   "
       ]
      },
      {
       "output_type": "stream",
       "stream": "stdout",
       "text": [
        "\r",
        "Sample: 2600 = 13.0%   acc. fr. = 0.441688   pos = -1.332465e+01 5.090222e+00  lnprob = 1.870937e+03   "
       ]
      },
      {
       "output_type": "stream",
       "stream": "stdout",
       "text": [
        "\r",
        "Sample: 2700 = 13.5%   acc. fr. = 0.440914   pos = -1.324515e+01 5.025846e+00  lnprob = 1.870593e+03   "
       ]
      },
      {
       "output_type": "stream",
       "stream": "stdout",
       "text": [
        "\r",
        "Sample: 2800 = 14.0%   acc. fr. = 0.440882   pos = -1.336744e+01 4.953637e+00  lnprob = 1.870849e+03   "
       ]
      },
      {
       "output_type": "stream",
       "stream": "stdout",
       "text": [
        "\r",
        "Sample: 2900 = 14.5%   acc. fr. = 0.439187   pos = -1.336743e+01 4.579617e+00  lnprob = 1.870858e+03   "
       ]
      },
      {
       "output_type": "stream",
       "stream": "stdout",
       "text": [
        "\r",
        "Sample: 3000 = 15.0%   acc. fr. = 0.441793   pos = -1.326071e+01 4.274215e+00  lnprob = 1.872107e+03   "
       ]
      },
      {
       "output_type": "stream",
       "stream": "stdout",
       "text": [
        "\r",
        "Sample: 3100 = 15.5%   acc. fr. = 0.438613   pos = -1.315079e+01 4.965655e+00  lnprob = 1.870815e+03   "
       ]
      },
      {
       "output_type": "stream",
       "stream": "stdout",
       "text": [
        "\r",
        "Sample: 3200 = 16.0%   acc. fr. = 0.437746   pos = -1.333345e+01 4.592091e+00  lnprob = 1.871820e+03   "
       ]
      },
      {
       "output_type": "stream",
       "stream": "stdout",
       "text": [
        "\r",
        "Sample: 3300 = 16.5%   acc. fr. = 0.436342   pos = -1.315506e+01 4.600968e+00  lnprob = 1.871498e+03   "
       ]
      },
      {
       "output_type": "stream",
       "stream": "stdout",
       "text": [
        "\r",
        "Sample: 3400 = 17.0%   acc. fr. = 0.435875   pos = -1.309213e+01 4.437923e+00  lnprob = 1.869787e+03   "
       ]
      },
      {
       "output_type": "stream",
       "stream": "stdout",
       "text": [
        "\r",
        "Sample: 3500 = 17.5%   acc. fr. = 0.435990   pos = -1.343904e+01 5.435505e+00  lnprob = 1.869718e+03   "
       ]
      },
      {
       "output_type": "stream",
       "stream": "stdout",
       "text": [
        "\r",
        "Sample: 3600 = 18.0%   acc. fr. = 0.435828   pos = -1.318699e+01 5.104947e+00  lnprob = 1.871293e+03   "
       ]
      },
      {
       "output_type": "stream",
       "stream": "stdout",
       "text": [
        "\r",
        "Sample: 3700 = 18.5%   acc. fr. = 0.435675   pos = -1.288382e+01 5.410520e+00  lnprob = 1.864539e+03   "
       ]
      },
      {
       "output_type": "stream",
       "stream": "stdout",
       "text": [
        "\r",
        "Sample: 3800 = 19.0%   acc. fr. = 0.433222   pos = -1.326776e+01 4.680451e+00  lnprob = 1.871617e+03   "
       ]
      },
      {
       "output_type": "stream",
       "stream": "stdout",
       "text": [
        "\r",
        "Sample: 3900 = 19.5%   acc. fr. = 0.431892   pos = -1.331486e+01 4.426134e+00  lnprob = 1.871691e+03   "
       ]
      },
      {
       "output_type": "stream",
       "stream": "stdout",
       "text": [
        "\r",
        "Sample: 4000 = 20.0%   acc. fr. = 0.430627   pos = -1.299639e+01 4.064402e+00  lnprob = 1.866906e+03   "
       ]
      },
      {
       "output_type": "stream",
       "stream": "stdout",
       "text": [
        "\r",
        "Sample: 4100 = 20.5%   acc. fr. = 0.431564   pos = -1.331828e+01 5.163726e+00  lnprob = 1.871571e+03   "
       ]
      },
      {
       "output_type": "stream",
       "stream": "stdout",
       "text": [
        "\r",
        "Sample: 4200 = 21.0%   acc. fr. = 0.430133   pos = -1.304024e+01 4.413494e+00  lnprob = 1.869017e+03   "
       ]
      },
      {
       "output_type": "stream",
       "stream": "stdout",
       "text": [
        "\r",
        "Sample: 4300 = 21.5%   acc. fr. = 0.427403   pos = -1.305227e+01 4.969782e+00  lnprob = 1.869380e+03   "
       ]
      },
      {
       "output_type": "stream",
       "stream": "stdout",
       "text": [
        "\r",
        "Sample: 4400 = 22.0%   acc. fr. = 0.429460   pos = -1.322757e+01 4.262383e+00  lnprob = 1.870540e+03   "
       ]
      },
      {
       "output_type": "stream",
       "stream": "stdout",
       "text": [
        "\r",
        "Sample: 4500 = 22.5%   acc. fr. = 0.428820   pos = -1.318071e+01 4.724815e+00  lnprob = 1.871565e+03   "
       ]
      },
      {
       "output_type": "stream",
       "stream": "stdout",
       "text": [
        "\r",
        "Sample: 4600 = 23.0%   acc. fr. = 0.429270   pos = -1.349413e+01 5.557689e+00  lnprob = 1.868514e+03   "
       ]
      },
      {
       "output_type": "stream",
       "stream": "stdout",
       "text": [
        "\r",
        "Sample: 4700 = 23.5%   acc. fr. = 0.428661   pos = -1.326735e+01 4.154957e+00  lnprob = 1.871534e+03   "
       ]
      },
      {
       "output_type": "stream",
       "stream": "stdout",
       "text": [
        "\r",
        "Sample: 4800 = 24.0%   acc. fr. = 0.429504   pos = -1.332202e+01 4.864744e+00  lnprob = 1.871535e+03   "
       ]
      },
      {
       "output_type": "stream",
       "stream": "stdout",
       "text": [
        "\r",
        "Sample: 4900 = 24.5%   acc. fr. = 0.430514   pos = -1.331990e+01 4.427412e+00  lnprob = 1.871049e+03   "
       ]
      },
      {
       "output_type": "stream",
       "stream": "stdout",
       "text": [
        "\r",
        "Sample: 5000 = 25.0%   acc. fr. = 0.432072   pos = -1.336416e+01 3.948815e+00  lnprob = 1.869431e+03   "
       ]
      },
      {
       "output_type": "stream",
       "stream": "stdout",
       "text": [
        "\r",
        "Sample: 5100 = 25.5%   acc. fr. = 0.430494   pos = -1.346870e+01 5.813961e+00  lnprob = 1.869168e+03   "
       ]
      },
      {
       "output_type": "stream",
       "stream": "stdout",
       "text": [
        "\r",
        "Sample: 5200 = 26.0%   acc. fr. = 0.429919   pos = -1.327550e+01 4.593471e+00  lnprob = 1.870525e+03   "
       ]
      },
      {
       "output_type": "stream",
       "stream": "stdout",
       "text": [
        "\r",
        "Sample: 5300 = 26.5%   acc. fr. = 0.430291   pos = -1.339975e+01 4.396886e+00  lnprob = 1.870064e+03   "
       ]
      },
      {
       "output_type": "stream",
       "stream": "stdout",
       "text": [
        "\r",
        "Sample: 5400 = 27.0%   acc. fr. = 0.430467   pos = -1.330209e+01 4.756927e+00  lnprob = 1.870767e+03   "
       ]
      },
      {
       "output_type": "stream",
       "stream": "stdout",
       "text": [
        "\r",
        "Sample: 5500 = 27.5%   acc. fr. = 0.429209   pos = -1.322763e+01 4.954308e+00  lnprob = 1.869727e+03   "
       ]
      },
      {
       "output_type": "stream",
       "stream": "stdout",
       "text": [
        "\r",
        "Sample: 5600 = 28.0%   acc. fr. = 0.430275   pos = -1.319811e+01 4.033177e+00  lnprob = 1.871714e+03   "
       ]
      },
      {
       "output_type": "stream",
       "stream": "stdout",
       "text": [
        "\r",
        "Sample: 5700 = 28.5%   acc. fr. = 0.429581   pos = -1.320332e+01 3.826740e+00  lnprob = 1.870957e+03   "
       ]
      },
      {
       "output_type": "stream",
       "stream": "stdout",
       "text": [
        "\r",
        "Sample: 5800 = 29.0%   acc. fr. = 0.429080   pos = -1.313941e+01 3.700450e+00  lnprob = 1.870147e+03   "
       ]
      },
      {
       "output_type": "stream",
       "stream": "stdout",
       "text": [
        "\r",
        "Sample: 5900 = 29.5%   acc. fr. = 0.429928   pos = -1.321645e+01 4.280962e+00  lnprob = 1.871273e+03   "
       ]
      },
      {
       "output_type": "stream",
       "stream": "stdout",
       "text": [
        "\r",
        "Sample: 6000 = 30.0%   acc. fr. = 0.428946   pos = -1.314293e+01 4.376040e+00  lnprob = 1.871004e+03   "
       ]
      },
      {
       "output_type": "stream",
       "stream": "stdout",
       "text": [
        "\r",
        "Sample: 6100 = 30.5%   acc. fr. = 0.428963   pos = -1.326435e+01 4.803952e+00  lnprob = 1.871887e+03   "
       ]
      },
      {
       "output_type": "stream",
       "stream": "stdout",
       "text": [
        "\r",
        "Sample: 6200 = 31.0%   acc. fr. = 0.427075   pos = -1.328900e+01 4.336283e+00  lnprob = 1.871716e+03   "
       ]
      },
      {
       "output_type": "stream",
       "stream": "stdout",
       "text": [
        "\r",
        "Sample: 6300 = 31.5%   acc. fr. = 0.427746   pos = -1.322704e+01 4.785192e+00  lnprob = 1.871375e+03   "
       ]
      },
      {
       "output_type": "stream",
       "stream": "stdout",
       "text": [
        "\r",
        "Sample: 6400 = 32.0%   acc. fr. = 0.426857   pos = -1.315471e+01 3.720999e+00  lnprob = 1.870442e+03   "
       ]
      },
      {
       "output_type": "stream",
       "stream": "stdout",
       "text": [
        "\r",
        "Sample: 6500 = 32.5%   acc. fr. = 0.426754   pos = -1.333017e+01 4.696778e+00  lnprob = 1.871278e+03   "
       ]
      },
      {
       "output_type": "stream",
       "stream": "stdout",
       "text": [
        "\r",
        "Sample: 6600 = 33.0%   acc. fr. = 0.426802   pos = -1.333616e+01 4.928777e+00  lnprob = 1.871743e+03   "
       ]
      },
      {
       "output_type": "stream",
       "stream": "stdout",
       "text": [
        "\r",
        "Sample: 6700 = 33.5%   acc. fr. = 0.426114   pos = -1.307535e+01 4.797764e+00  lnprob = 1.869608e+03   "
       ]
      },
      {
       "output_type": "stream",
       "stream": "stdout",
       "text": [
        "\r",
        "Sample: 6800 = 34.0%   acc. fr. = 0.425301   pos = -1.327529e+01 3.671808e+00  lnprob = 1.870243e+03   "
       ]
      },
      {
       "output_type": "stream",
       "stream": "stdout",
       "text": [
        "\r",
        "Sample: 6900 = 34.5%   acc. fr. = 0.424654   pos = -1.311710e+01 4.394897e+00  lnprob = 1.870499e+03   "
       ]
      },
      {
       "output_type": "stream",
       "stream": "stdout",
       "text": [
        "\r",
        "Sample: 7000 = 35.0%   acc. fr. = 0.425292   pos = -1.320272e+01 5.073644e+00  lnprob = 1.869611e+03   "
       ]
      },
      {
       "output_type": "stream",
       "stream": "stdout",
       "text": [
        "\r",
        "Sample: 7100 = 35.5%   acc. fr. = 0.425913   pos = -1.338488e+01 5.318171e+00  lnprob = 1.869874e+03   "
       ]
      },
      {
       "output_type": "stream",
       "stream": "stdout",
       "text": [
        "\r",
        "Sample: 7200 = 36.0%   acc. fr. = 0.428024   pos = -1.324430e+01 4.151941e+00  lnprob = 1.871795e+03   "
       ]
      },
      {
       "output_type": "stream",
       "stream": "stdout",
       "text": [
        "\r",
        "Sample: 7300 = 36.5%   acc. fr. = 0.428726   pos = -1.319703e+01 3.731941e+00  lnprob = 1.870595e+03   "
       ]
      },
      {
       "output_type": "stream",
       "stream": "stdout",
       "text": [
        "\r",
        "Sample: 7400 = 37.0%   acc. fr. = 0.429809   pos = -1.332345e+01 4.649753e+00  lnprob = 1.870796e+03   "
       ]
      },
      {
       "output_type": "stream",
       "stream": "stdout",
       "text": [
        "\r",
        "Sample: 7500 = 37.5%   acc. fr. = 0.430075   pos = -1.326176e+01 4.040642e+00  lnprob = 1.871057e+03   "
       ]
      },
      {
       "output_type": "stream",
       "stream": "stdout",
       "text": [
        "\r",
        "Sample: 7600 = 38.0%   acc. fr. = 0.430464   pos = -1.337302e+01 4.718794e+00  lnprob = 1.869188e+03   "
       ]
      },
      {
       "output_type": "stream",
       "stream": "stdout",
       "text": [
        "\r",
        "Sample: 7700 = 38.5%   acc. fr. = 0.431099   pos = -1.331657e+01 4.644444e+00  lnprob = 1.870873e+03   "
       ]
      },
      {
       "output_type": "stream",
       "stream": "stdout",
       "text": [
        "\r",
        "Sample: 7800 = 39.0%   acc. fr. = 0.431718   pos = -1.309540e+01 4.247935e+00  lnprob = 1.870581e+03   "
       ]
      },
      {
       "output_type": "stream",
       "stream": "stdout",
       "text": [
        "\r",
        "Sample: 7900 = 39.5%   acc. fr. = 0.431946   pos = -1.335871e+01 5.921486e+00  lnprob = 1.870209e+03   "
       ]
      },
      {
       "output_type": "stream",
       "stream": "stdout",
       "text": [
        "\r",
        "Sample: 8000 = 40.0%   acc. fr. = 0.432045   pos = -1.325578e+01 5.646920e+00  lnprob = 1.868248e+03   "
       ]
      },
      {
       "output_type": "stream",
       "stream": "stdout",
       "text": [
        "\r",
        "Sample: 8100 = 40.5%   acc. fr. = 0.431167   pos = -1.322050e+01 4.217410e+00  lnprob = 1.872055e+03   "
       ]
      },
      {
       "output_type": "stream",
       "stream": "stdout",
       "text": [
        "\r",
        "Sample: 8200 = 41.0%   acc. fr. = 0.431996   pos = -1.321693e+01 5.628939e+00  lnprob = 1.869674e+03   "
       ]
      },
      {
       "output_type": "stream",
       "stream": "stdout",
       "text": [
        "\r",
        "Sample: 8300 = 41.5%   acc. fr. = 0.432925   pos = -1.327248e+01 4.217602e+00  lnprob = 1.871929e+03   "
       ]
      },
      {
       "output_type": "stream",
       "stream": "stdout",
       "text": [
        "\r",
        "Sample: 8400 = 42.0%   acc. fr. = 0.432302   pos = -1.319398e+01 4.004100e+00  lnprob = 1.871410e+03   "
       ]
      },
      {
       "output_type": "stream",
       "stream": "stdout",
       "text": [
        "\r",
        "Sample: 8500 = 42.5%   acc. fr. = 0.431578   pos = -1.317405e+01 4.729537e+00  lnprob = 1.871676e+03   "
       ]
      },
      {
       "output_type": "stream",
       "stream": "stdout",
       "text": [
        "\r",
        "Sample: 8600 = 43.0%   acc. fr. = 0.431789   pos = -1.328820e+01 5.278795e+00  lnprob = 1.871226e+03   "
       ]
      },
      {
       "output_type": "stream",
       "stream": "stdout",
       "text": [
        "\r",
        "Sample: 8700 = 43.5%   acc. fr. = 0.431315   pos = -1.330594e+01 4.731441e+00  lnprob = 1.871673e+03   "
       ]
      },
      {
       "output_type": "stream",
       "stream": "stdout",
       "text": [
        "\r",
        "Sample: 8800 = 44.0%   acc. fr. = 0.432086   pos = -1.322692e+01 4.330467e+00  lnprob = 1.871721e+03   "
       ]
      },
      {
       "output_type": "stream",
       "stream": "stdout",
       "text": [
        "\r",
        "Sample: 8900 = 44.5%   acc. fr. = 0.431174   pos = -1.330039e+01 4.617906e+00  lnprob = 1.872113e+03   "
       ]
      },
      {
       "output_type": "stream",
       "stream": "stdout",
       "text": [
        "\r",
        "Sample: 9000 = 45.0%   acc. fr. = 0.431381   pos = -1.343575e+01 4.280977e+00  lnprob = 1.868756e+03   "
       ]
      },
      {
       "output_type": "stream",
       "stream": "stdout",
       "text": [
        "\r",
        "Sample: 9100 = 45.5%   acc. fr. = 0.432018   pos = -1.335608e+01 3.999478e+00  lnprob = 1.869932e+03   "
       ]
      },
      {
       "output_type": "stream",
       "stream": "stdout",
       "text": [
        "\r",
        "Sample: 9200 = 46.0%   acc. fr. = 0.431997   pos = -1.315397e+01 3.798512e+00  lnprob = 1.870638e+03   "
       ]
      },
      {
       "output_type": "stream",
       "stream": "stdout",
       "text": [
        "\r",
        "Sample: 9300 = 46.5%   acc. fr. = 0.431550   pos = -1.319613e+01 5.081038e+00  lnprob = 1.871219e+03   "
       ]
      },
      {
       "output_type": "stream",
       "stream": "stdout",
       "text": [
        "\r",
        "Sample: 9400 = 47.0%   acc. fr. = 0.431744   pos = -1.314230e+01 3.908837e+00  lnprob = 1.869781e+03   "
       ]
      },
      {
       "output_type": "stream",
       "stream": "stdout",
       "text": [
        "\r",
        "Sample: 9500 = 47.5%   acc. fr. = 0.432247   pos = -1.318990e+01 3.956442e+00  lnprob = 1.871506e+03   "
       ]
      },
      {
       "output_type": "stream",
       "stream": "stdout",
       "text": [
        "\r",
        "Sample: 9600 = 48.0%   acc. fr. = 0.431811   pos = -1.332145e+01 4.041597e+00  lnprob = 1.870695e+03   "
       ]
      },
      {
       "output_type": "stream",
       "stream": "stdout",
       "text": [
        "\r",
        "Sample: 9700 = 48.5%   acc. fr. = 0.431895   pos = -1.321554e+01 3.869830e+00  lnprob = 1.870476e+03   "
       ]
      },
      {
       "output_type": "stream",
       "stream": "stdout",
       "text": [
        "\r",
        "Sample: 9800 = 49.0%   acc. fr. = 0.432280   pos = -1.317665e+01 4.042656e+00  lnprob = 1.871538e+03   "
       ]
      },
      {
       "output_type": "stream",
       "stream": "stdout",
       "text": [
        "\r",
        "Sample: 9900 = 49.5%   acc. fr. = 0.432257   pos = -1.328725e+01 5.227871e+00  lnprob = 1.871131e+03   "
       ]
      },
      {
       "output_type": "stream",
       "stream": "stdout",
       "text": [
        "\r",
        "Sample: 10000 = 50.0%   acc. fr. = 0.432729   pos = -1.330433e+01 4.077748e+00  lnprob = 1.871433e+03   "
       ]
      },
      {
       "output_type": "stream",
       "stream": "stdout",
       "text": [
        "\r",
        "Sample: 10100 = 50.5%   acc. fr. = 0.433095   pos = -1.320319e+01 5.471110e+00  lnprob = 1.870811e+03   "
       ]
      },
      {
       "output_type": "stream",
       "stream": "stdout",
       "text": [
        "\r",
        "Sample: 10200 = 51.0%   acc. fr. = 0.432676   pos = -1.314410e+01 4.277463e+00  lnprob = 1.871117e+03   "
       ]
      },
      {
       "output_type": "stream",
       "stream": "stdout",
       "text": [
        "\r",
        "Sample: 10300 = 51.5%   acc. fr. = 0.432266   pos = -1.323161e+01 4.895329e+00  lnprob = 1.871951e+03   "
       ]
      },
      {
       "output_type": "stream",
       "stream": "stdout",
       "text": [
        "\r",
        "Sample: 10400 = 52.0%   acc. fr. = 0.432245   pos = -1.322139e+01 4.357956e+00  lnprob = 1.871885e+03   "
       ]
      },
      {
       "output_type": "stream",
       "stream": "stdout",
       "text": [
        "\r",
        "Sample: 10500 = 52.5%   acc. fr. = 0.432506   pos = -1.326272e+01 4.046735e+00  lnprob = 1.871737e+03   "
       ]
      },
      {
       "output_type": "stream",
       "stream": "stdout",
       "text": [
        "\r",
        "Sample: 10600 = 53.0%   acc. fr. = 0.432576   pos = -1.330948e+01 5.020659e+00  lnprob = 1.871660e+03   "
       ]
      },
      {
       "output_type": "stream",
       "stream": "stdout",
       "text": [
        "\r",
        "Sample: 10700 = 53.5%   acc. fr. = 0.431997   pos = -1.327550e+01 5.029299e+00  lnprob = 1.871673e+03   "
       ]
      },
      {
       "output_type": "stream",
       "stream": "stdout",
       "text": [
        "\r",
        "Sample: 10800 = 54.0%   acc. fr. = 0.432162   pos = -1.328832e+01 3.956094e+00  lnprob = 1.870162e+03   "
       ]
      },
      {
       "output_type": "stream",
       "stream": "stdout",
       "text": [
        "\r",
        "Sample: 10900 = 54.5%   acc. fr. = 0.431597   pos = -1.328008e+01 5.355719e+00  lnprob = 1.870333e+03   "
       ]
      },
      {
       "output_type": "stream",
       "stream": "stdout",
       "text": [
        "\r",
        "Sample: 11000 = 55.0%   acc. fr. = 0.431312   pos = -1.338985e+01 6.896121e+00  lnprob = 1.867708e+03   "
       ]
      },
      {
       "output_type": "stream",
       "stream": "stdout",
       "text": [
        "\r",
        "Sample: 11100 = 55.5%   acc. fr. = 0.430944   pos = -1.327709e+01 5.275194e+00  lnprob = 1.868128e+03   "
       ]
      },
      {
       "output_type": "stream",
       "stream": "stdout",
       "text": [
        "\r",
        "Sample: 11200 = 56.0%   acc. fr. = 0.430758   pos = -1.327946e+01 5.876389e+00  lnprob = 1.869696e+03   "
       ]
      },
      {
       "output_type": "stream",
       "stream": "stdout",
       "text": [
        "\r",
        "Sample: 11300 = 56.5%   acc. fr. = 0.430664   pos = -1.332435e+01 4.825051e+00  lnprob = 1.871615e+03   "
       ]
      },
      {
       "output_type": "stream",
       "stream": "stdout",
       "text": [
        "\r",
        "Sample: 11400 = 57.0%   acc. fr. = 0.429615   pos = -1.316463e+01 6.032252e+00  lnprob = 1.869067e+03   "
       ]
      },
      {
       "output_type": "stream",
       "stream": "stdout",
       "text": [
        "\r",
        "Sample: 11500 = 57.5%   acc. fr. = 0.428670   pos = -1.343684e+01 5.327707e+00  lnprob = 1.868398e+03   "
       ]
      },
      {
       "output_type": "stream",
       "stream": "stdout",
       "text": [
        "\r",
        "Sample: 11600 = 58.0%   acc. fr. = 0.428510   pos = -1.337674e+01 5.528284e+00  lnprob = 1.870825e+03   "
       ]
      },
      {
       "output_type": "stream",
       "stream": "stdout",
       "text": [
        "\r",
        "Sample: 11700 = 58.5%   acc. fr. = 0.428608   pos = -1.349233e+01 4.965824e+00  lnprob = 1.868802e+03   "
       ]
      },
      {
       "output_type": "stream",
       "stream": "stdout",
       "text": [
        "\r",
        "Sample: 11800 = 59.0%   acc. fr. = 0.428115   pos = -1.343160e+01 6.023780e+00  lnprob = 1.868888e+03   "
       ]
      },
      {
       "output_type": "stream",
       "stream": "stdout",
       "text": [
        "\r",
        "Sample: 11900 = 59.5%   acc. fr. = 0.428298   pos = -1.319579e+01 4.019442e+00  lnprob = 1.871580e+03   "
       ]
      },
      {
       "output_type": "stream",
       "stream": "stdout",
       "text": [
        "\r",
        "Sample: 12000 = 60.0%   acc. fr. = 0.427733   pos = -1.337475e+01 4.058489e+00  lnprob = 1.869924e+03   "
       ]
      },
      {
       "output_type": "stream",
       "stream": "stdout",
       "text": [
        "\r",
        "Sample: 12100 = 60.5%   acc. fr. = 0.427752   pos = -1.348238e+01 5.614302e+00  lnprob = 1.868196e+03   "
       ]
      },
      {
       "output_type": "stream",
       "stream": "stdout",
       "text": [
        "\r",
        "Sample: 12200 = 61.0%   acc. fr. = 0.428420   pos = -1.329692e+01 4.924339e+00  lnprob = 1.871978e+03   "
       ]
      },
      {
       "output_type": "stream",
       "stream": "stdout",
       "text": [
        "\r",
        "Sample: 12300 = 61.5%   acc. fr. = 0.428433   pos = -1.327639e+01 4.782024e+00  lnprob = 1.871520e+03   "
       ]
      },
      {
       "output_type": "stream",
       "stream": "stdout",
       "text": [
        "\r",
        "Sample: 12400 = 62.0%   acc. fr. = 0.428206   pos = -1.313424e+01 5.716831e+00  lnprob = 1.867241e+03   "
       ]
      },
      {
       "output_type": "stream",
       "stream": "stdout",
       "text": [
        "\r",
        "Sample: 12500 = 62.5%   acc. fr. = 0.428379   pos = -1.346773e+01 4.838293e+00  lnprob = 1.868574e+03   "
       ]
      },
      {
       "output_type": "stream",
       "stream": "stdout",
       "text": [
        "\r",
        "Sample: 12600 = 63.0%   acc. fr. = 0.428155   pos = -1.327924e+01 3.593025e+00  lnprob = 1.869753e+03   "
       ]
      },
      {
       "output_type": "stream",
       "stream": "stdout",
       "text": [
        "\r",
        "Sample: 12700 = 63.5%   acc. fr. = 0.428326   pos = -1.317745e+01 4.367575e+00  lnprob = 1.871854e+03   "
       ]
      },
      {
       "output_type": "stream",
       "stream": "stdout",
       "text": [
        "\r",
        "Sample: 12800 = 64.0%   acc. fr. = 0.428184   pos = -1.313679e+01 3.969890e+00  lnprob = 1.870689e+03   "
       ]
      },
      {
       "output_type": "stream",
       "stream": "stdout",
       "text": [
        "\r",
        "Sample: 12900 = 64.5%   acc. fr. = 0.428736   pos = -1.326785e+01 5.922777e+00  lnprob = 1.869669e+03   "
       ]
      },
      {
       "output_type": "stream",
       "stream": "stdout",
       "text": [
        "\r",
        "Sample: 13000 = 65.0%   acc. fr. = 0.429051   pos = -1.308766e+01 4.871358e+00  lnprob = 1.869801e+03   "
       ]
      },
      {
       "output_type": "stream",
       "stream": "stdout",
       "text": [
        "\r",
        "Sample: 13100 = 65.5%   acc. fr. = 0.428907   pos = -1.331509e+01 4.025875e+00  lnprob = 1.870853e+03   "
       ]
      },
      {
       "output_type": "stream",
       "stream": "stdout",
       "text": [
        "\r",
        "Sample: 13200 = 66.0%   acc. fr. = 0.428539   pos = -1.317303e+01 4.898467e+00  lnprob = 1.871394e+03   "
       ]
      },
      {
       "output_type": "stream",
       "stream": "stdout",
       "text": [
        "\r",
        "Sample: 13300 = 66.5%   acc. fr. = 0.428177   pos = -1.337247e+01 5.262685e+00  lnprob = 1.870559e+03   "
       ]
      },
      {
       "output_type": "stream",
       "stream": "stdout",
       "text": [
        "\r",
        "Sample: 13400 = 67.0%   acc. fr. = 0.428339   pos = -1.307806e+01 3.420929e+00  lnprob = 1.866798e+03   "
       ]
      },
      {
       "output_type": "stream",
       "stream": "stdout",
       "text": [
        "\r",
        "Sample: 13500 = 67.5%   acc. fr. = 0.428498   pos = -1.340073e+01 4.856989e+00  lnprob = 1.870575e+03   "
       ]
      },
      {
       "output_type": "stream",
       "stream": "stdout",
       "text": [
        "\r",
        "Sample: 13600 = 68.0%   acc. fr. = 0.429020   pos = -1.336907e+01 4.992440e+00  lnprob = 1.871223e+03   "
       ]
      },
      {
       "output_type": "stream",
       "stream": "stdout",
       "text": [
        "\r",
        "Sample: 13700 = 68.5%   acc. fr. = 0.428520   pos = -1.324743e+01 4.871843e+00  lnprob = 1.871815e+03   "
       ]
      },
      {
       "output_type": "stream",
       "stream": "stdout",
       "text": [
        "\r",
        "Sample: 13800 = 69.0%   acc. fr. = 0.428027   pos = -1.316226e+01 4.381250e+00  lnprob = 1.871597e+03   "
       ]
      },
      {
       "output_type": "stream",
       "stream": "stdout",
       "text": [
        "\r",
        "Sample: 13900 = 69.5%   acc. fr. = 0.428398   pos = -1.339541e+01 4.510849e+00  lnprob = 1.870682e+03   "
       ]
      },
      {
       "output_type": "stream",
       "stream": "stdout",
       "text": [
        "\r",
        "Sample: 14000 = 70.0%   acc. fr. = 0.428197   pos = -1.337720e+01 4.547198e+00  lnprob = 1.869250e+03   "
       ]
      },
      {
       "output_type": "stream",
       "stream": "stdout",
       "text": [
        "\r",
        "Sample: 14100 = 70.5%   acc. fr. = 0.427857   pos = -1.323413e+01 6.227007e+00  lnprob = 1.868904e+03   "
       ]
      },
      {
       "output_type": "stream",
       "stream": "stdout",
       "text": [
        "\r",
        "Sample: 14200 = 71.0%   acc. fr. = 0.427802   pos = -1.329417e+01 4.824839e+00  lnprob = 1.871487e+03   "
       ]
      },
      {
       "output_type": "stream",
       "stream": "stdout",
       "text": [
        "\r",
        "Sample: 14300 = 71.5%   acc. fr. = 0.427748   pos = -1.342164e+01 5.694810e+00  lnprob = 1.870234e+03   "
       ]
      },
      {
       "output_type": "stream",
       "stream": "stdout",
       "text": [
        "\r",
        "Sample: 14400 = 72.0%   acc. fr. = 0.427557   pos = -1.334111e+01 4.337153e+00  lnprob = 1.870600e+03   "
       ]
      },
      {
       "output_type": "stream",
       "stream": "stdout",
       "text": [
        "\r",
        "Sample: 14500 = 72.5%   acc. fr. = 0.427436   pos = -1.341553e+01 5.600031e+00  lnprob = 1.870375e+03   "
       ]
      },
      {
       "output_type": "stream",
       "stream": "stdout",
       "text": [
        "\r",
        "Sample: 14600 = 73.0%   acc. fr. = 0.427658   pos = -1.333610e+01 4.443332e+00  lnprob = 1.870133e+03   "
       ]
      },
      {
       "output_type": "stream",
       "stream": "stdout",
       "text": [
        "\r",
        "Sample: 14700 = 73.5%   acc. fr. = 0.428012   pos = -1.333261e+01 5.275806e+00  lnprob = 1.871496e+03   "
       ]
      },
      {
       "output_type": "stream",
       "stream": "stdout",
       "text": [
        "\r",
        "Sample: 14800 = 74.0%   acc. fr. = 0.428428   pos = -1.336704e+01 4.312039e+00  lnprob = 1.870801e+03   "
       ]
      },
      {
       "output_type": "stream",
       "stream": "stdout",
       "text": [
        "\r",
        "Sample: 14900 = 74.5%   acc. fr. = 0.428438   pos = -1.337508e+01 6.082393e+00  lnprob = 1.869754e+03   "
       ]
      },
      {
       "output_type": "stream",
       "stream": "stdout",
       "text": [
        "\r",
        "Sample: 15000 = 75.0%   acc. fr. = 0.429044   pos = -1.320880e+01 4.465372e+00  lnprob = 1.870858e+03   "
       ]
      },
      {
       "output_type": "stream",
       "stream": "stdout",
       "text": [
        "\r",
        "Sample: 15100 = 75.5%   acc. fr. = 0.428459   pos = -1.318662e+01 4.246760e+00  lnprob = 1.871259e+03   "
       ]
      },
      {
       "output_type": "stream",
       "stream": "stdout",
       "text": [
        "\r",
        "Sample: 15200 = 76.0%   acc. fr. = 0.428796   pos = -1.326866e+01 4.819701e+00  lnprob = 1.872116e+03   "
       ]
      },
      {
       "output_type": "stream",
       "stream": "stdout",
       "text": [
        "\r",
        "Sample: 15300 = 76.5%   acc. fr. = 0.429193   pos = -1.336216e+01 5.239518e+00  lnprob = 1.871177e+03   "
       ]
      },
      {
       "output_type": "stream",
       "stream": "stdout",
       "text": [
        "\r",
        "Sample: 15400 = 77.0%   acc. fr. = 0.429392   pos = -1.320370e+01 4.369642e+00  lnprob = 1.871972e+03   "
       ]
      },
      {
       "output_type": "stream",
       "stream": "stdout",
       "text": [
        "\r",
        "Sample: 15500 = 77.5%   acc. fr. = 0.429396   pos = -1.317625e+01 3.792797e+00  lnprob = 1.870866e+03   "
       ]
      },
      {
       "output_type": "stream",
       "stream": "stdout",
       "text": [
        "\r",
        "Sample: 15600 = 78.0%   acc. fr. = 0.429145   pos = -1.314813e+01 4.491840e+00  lnprob = 1.870035e+03   "
       ]
      },
      {
       "output_type": "stream",
       "stream": "stdout",
       "text": [
        "\r",
        "Sample: 15700 = 78.5%   acc. fr. = 0.429466   pos = -1.328845e+01 6.004045e+00  lnprob = 1.870115e+03   "
       ]
      },
      {
       "output_type": "stream",
       "stream": "stdout",
       "text": [
        "\r",
        "Sample: 15800 = 79.0%   acc. fr. = 0.429470   pos = -1.325563e+01 4.943030e+00  lnprob = 1.871025e+03   "
       ]
      },
      {
       "output_type": "stream",
       "stream": "stdout",
       "text": [
        "\r",
        "Sample: 15900 = 79.5%   acc. fr. = 0.429661   pos = -1.331113e+01 4.886681e+00  lnprob = 1.871533e+03   "
       ]
      },
      {
       "output_type": "stream",
       "stream": "stdout",
       "text": [
        "\r",
        "Sample: 16000 = 80.0%   acc. fr. = 0.429973   pos = -1.353097e+01 6.697838e+00  lnprob = 1.866747e+03   "
       ]
      },
      {
       "output_type": "stream",
       "stream": "stdout",
       "text": [
        "\r",
        "Sample: 16100 = 80.5%   acc. fr. = 0.430220   pos = -1.328546e+01 3.907185e+00  lnprob = 1.871176e+03   "
       ]
      },
      {
       "output_type": "stream",
       "stream": "stdout",
       "text": [
        "\r",
        "Sample: 16200 = 81.0%   acc. fr. = 0.429912   pos = -1.311031e+01 4.251505e+00  lnprob = 1.866362e+03   "
       ]
      },
      {
       "output_type": "stream",
       "stream": "stdout",
       "text": [
        "\r",
        "Sample: 16300 = 81.5%   acc. fr. = 0.429974   pos = -1.313714e+01 4.821657e+00  lnprob = 1.870311e+03   "
       ]
      },
      {
       "output_type": "stream",
       "stream": "stdout",
       "text": [
        "\r",
        "Sample: 16400 = 82.0%   acc. fr. = 0.429792   pos = -1.329799e+01 4.802208e+00  lnprob = 1.871884e+03   "
       ]
      },
      {
       "output_type": "stream",
       "stream": "stdout",
       "text": [
        "\r",
        "Sample: 16500 = 82.5%   acc. fr. = 0.430095   pos = -1.330703e+01 4.806680e+00  lnprob = 1.872028e+03   "
       ]
      },
      {
       "output_type": "stream",
       "stream": "stdout",
       "text": [
        "\r",
        "Sample: 16600 = 83.0%   acc. fr. = 0.429795   pos = -1.338507e+01 4.448426e+00  lnprob = 1.870795e+03   "
       ]
      },
      {
       "output_type": "stream",
       "stream": "stdout",
       "text": [
        "\r",
        "Sample: 16700 = 83.5%   acc. fr. = 0.429974   pos = -1.323114e+01 4.577939e+00  lnprob = 1.871614e+03   "
       ]
      },
      {
       "output_type": "stream",
       "stream": "stdout",
       "text": [
        "\r",
        "Sample: 16800 = 84.0%   acc. fr. = 0.430211   pos = -1.322462e+01 5.973358e+00  lnprob = 1.869845e+03   "
       ]
      },
      {
       "output_type": "stream",
       "stream": "stdout",
       "text": [
        "\r",
        "Sample: 16900 = 84.5%   acc. fr. = 0.430386   pos = -1.332203e+01 4.545257e+00  lnprob = 1.871510e+03   "
       ]
      },
      {
       "output_type": "stream",
       "stream": "stdout",
       "text": [
        "\r",
        "Sample: 17000 = 85.0%   acc. fr. = 0.430677   pos = -1.333401e+01 3.954994e+00  lnprob = 1.869981e+03   "
       ]
      },
      {
       "output_type": "stream",
       "stream": "stdout",
       "text": [
        "\r",
        "Sample: 17100 = 85.5%   acc. fr. = 0.429626   pos = -1.344744e+01 5.850083e+00  lnprob = 1.869660e+03   "
       ]
      },
      {
       "output_type": "stream",
       "stream": "stdout",
       "text": [
        "\r",
        "Sample: 17200 = 86.0%   acc. fr. = 0.429686   pos = -1.323265e+01 4.378899e+00  lnprob = 1.872057e+03   "
       ]
      },
      {
       "output_type": "stream",
       "stream": "stdout",
       "text": [
        "\r",
        "Sample: 17300 = 86.5%   acc. fr. = 0.429228   pos = -1.322344e+01 4.798494e+00  lnprob = 1.871949e+03   "
       ]
      },
      {
       "output_type": "stream",
       "stream": "stdout",
       "text": [
        "\r",
        "Sample: 17400 = 87.0%   acc. fr. = 0.429118   pos = -1.331334e+01 4.992761e+00  lnprob = 1.871841e+03   "
       ]
      },
      {
       "output_type": "stream",
       "stream": "stdout",
       "text": [
        "\r",
        "Sample: 17500 = 87.5%   acc. fr. = 0.429407   pos = -1.326312e+01 5.880420e+00  lnprob = 1.868958e+03   "
       ]
      },
      {
       "output_type": "stream",
       "stream": "stdout",
       "text": [
        "\r",
        "Sample: 17600 = 88.0%   acc. fr. = 0.430089   pos = -1.331837e+01 5.566439e+00  lnprob = 1.870493e+03   "
       ]
      },
      {
       "output_type": "stream",
       "stream": "stdout",
       "text": [
        "\r",
        "Sample: 17700 = 88.5%   acc. fr. = 0.430369   pos = -1.329630e+01 6.055461e+00  lnprob = 1.869743e+03   "
       ]
      },
      {
       "output_type": "stream",
       "stream": "stdout",
       "text": [
        "\r",
        "Sample: 17800 = 89.0%   acc. fr. = 0.430758   pos = -1.320812e+01 5.001865e+00  lnprob = 1.871169e+03   "
       ]
      },
      {
       "output_type": "stream",
       "stream": "stdout",
       "text": [
        "\r",
        "Sample: 17900 = 89.5%   acc. fr. = 0.430809   pos = -1.320003e+01 4.284529e+00  lnprob = 1.871096e+03   "
       ]
      },
      {
       "output_type": "stream",
       "stream": "stdout",
       "text": [
        "\r",
        "Sample: 18000 = 90.0%   acc. fr. = 0.431136   pos = -1.304347e+01 5.483304e+00  lnprob = 1.868186e+03   "
       ]
      },
      {
       "output_type": "stream",
       "stream": "stdout",
       "text": [
        "\r",
        "Sample: 18100 = 90.5%   acc. fr. = 0.431405   pos = -1.320250e+01 4.870753e+00  lnprob = 1.868455e+03   "
       ]
      },
      {
       "output_type": "stream",
       "stream": "stdout",
       "text": [
        "\r",
        "Sample: 18200 = 91.0%   acc. fr. = 0.431015   pos = -1.332163e+01 4.404453e+00  lnprob = 1.871815e+03   "
       ]
      },
      {
       "output_type": "stream",
       "stream": "stdout",
       "text": [
        "\r",
        "Sample: 18300 = 91.5%   acc. fr. = 0.431335   pos = -1.335221e+01 4.685392e+00  lnprob = 1.871084e+03   "
       ]
      },
      {
       "output_type": "stream",
       "stream": "stdout",
       "text": [
        "\r",
        "Sample: 18400 = 92.0%   acc. fr. = 0.431544   pos = -1.324927e+01 5.014305e+00  lnprob = 1.871877e+03   "
       ]
      },
      {
       "output_type": "stream",
       "stream": "stdout",
       "text": [
        "\r",
        "Sample: 18500 = 92.5%   acc. fr. = 0.431213   pos = -1.321172e+01 5.504138e+00  lnprob = 1.870286e+03   "
       ]
      },
      {
       "output_type": "stream",
       "stream": "stdout",
       "text": [
        "\r",
        "Sample: 18600 = 93.0%   acc. fr. = 0.431742   pos = -1.318106e+01 4.868036e+00  lnprob = 1.870863e+03   "
       ]
      },
      {
       "output_type": "stream",
       "stream": "stdout",
       "text": [
        "\r",
        "Sample: 18700 = 93.5%   acc. fr. = 0.431998   pos = -1.317020e+01 4.432971e+00  lnprob = 1.871616e+03   "
       ]
      },
      {
       "output_type": "stream",
       "stream": "stdout",
       "text": [
        "\r",
        "Sample: 18800 = 94.0%   acc. fr. = 0.431776   pos = -1.323513e+01 4.483225e+00  lnprob = 1.871928e+03   "
       ]
      },
      {
       "output_type": "stream",
       "stream": "stdout",
       "text": [
        "\r",
        "Sample: 18900 = 94.5%   acc. fr. = 0.431767   pos = -1.332288e+01 4.984881e+00  lnprob = 1.871845e+03   "
       ]
      },
      {
       "output_type": "stream",
       "stream": "stdout",
       "text": [
        "\r",
        "Sample: 19000 = 95.0%   acc. fr. = 0.431810   pos = -1.323554e+01 4.332060e+00  lnprob = 1.872105e+03   "
       ]
      },
      {
       "output_type": "stream",
       "stream": "stdout",
       "text": [
        "\r",
        "Sample: 19100 = 95.5%   acc. fr. = 0.431853   pos = -1.329628e+01 4.163772e+00  lnprob = 1.871678e+03   "
       ]
      },
      {
       "output_type": "stream",
       "stream": "stdout",
       "text": [
        "\r",
        "Sample: 19200 = 96.0%   acc. fr. = 0.431687   pos = -1.330919e+01 3.986955e+00  lnprob = 1.870390e+03   "
       ]
      },
      {
       "output_type": "stream",
       "stream": "stdout",
       "text": [
        "\r",
        "Sample: 19300 = 96.5%   acc. fr. = 0.431163   pos = -1.324331e+01 5.009249e+00  lnprob = 1.871820e+03   "
       ]
      },
      {
       "output_type": "stream",
       "stream": "stdout",
       "text": [
        "\r",
        "Sample: 19400 = 97.0%   acc. fr. = 0.431516   pos = -1.311182e+01 5.251685e+00  lnprob = 1.869668e+03   "
       ]
      },
      {
       "output_type": "stream",
       "stream": "stdout",
       "text": [
        "\r",
        "Sample: 19500 = 97.5%   acc. fr. = 0.431458   pos = -1.318979e+01 3.958678e+00  lnprob = 1.870643e+03   "
       ]
      },
      {
       "output_type": "stream",
       "stream": "stdout",
       "text": [
        "\r",
        "Sample: 19600 = 98.0%   acc. fr. = 0.432009   pos = -1.332506e+01 4.774511e+00  lnprob = 1.871731e+03   "
       ]
      },
      {
       "output_type": "stream",
       "stream": "stdout",
       "text": [
        "\r",
        "Sample: 19700 = 98.5%   acc. fr. = 0.432099   pos = -1.329044e+01 5.544090e+00  lnprob = 1.870829e+03   "
       ]
      },
      {
       "output_type": "stream",
       "stream": "stdout",
       "text": [
        "\r",
        "Sample: 19800 = 99.0%   acc. fr. = 0.431888   pos = -1.336037e+01 5.155682e+00  lnprob = 1.871420e+03   "
       ]
      },
      {
       "output_type": "stream",
       "stream": "stdout",
       "text": [
        "\r",
        "Sample: 19900 = 99.5%   acc. fr. = 0.432028   pos = -1.322027e+01 4.794301e+00  lnprob = 1.871749e+03   "
       ]
      },
      {
       "output_type": "stream",
       "stream": "stdout",
       "text": [
        "\n",
        "('Mean acceptance fraction:', 0.43202839858007097)\n",
        "('Autocorrelation time:', 23.371900797369577)\n"
       ]
      }
     ],
     "prompt_number": 28
    },
    {
     "cell_type": "code",
     "collapsed": false,
     "input": [
      "# The parameters in the chain are stored in 'J0030-metro.txt.parameters.txt'.\n",
      "# All sampler routines use this convention\n",
      "!cat J0030-metro.txt.parameters.txt"
     ],
     "language": "python",
     "metadata": {},
     "outputs": [
      {
       "output_type": "stream",
       "stream": "stdout",
       "text": [
        "0 \t0 \tefac \tsingle \tpulsarname \tefacJ0030+0451\r\n",
        "1 \t0 \tpowerlaw \tsingle \tpowerlaw \tRN-Amplitude\r\n",
        "2 \t0 \tpowerlaw \tsingle \tpowerlaw \tRN-spectral-index\r\n",
        "-1 \t0 \tpowerlaw \tsingle \tpowerlaw \tlow-frequency-cutoff\r\n"
       ]
      }
     ],
     "prompt_number": 29
    },
    {
     "cell_type": "code",
     "collapsed": false,
     "input": [
      "# Plot the results of the MCMC (which uses the .parameters.txt file)\n",
      "pic.triplot('J0030-metro.txt')"
     ],
     "language": "python",
     "metadata": {},
     "outputs": [
      {
       "output_type": "stream",
       "stream": "stdout",
       "text": [
        "parametersfilename =  J0030-metro.txt.parameters.txt\n",
        "figurefilename =  J0030-metro.txt.fig.eps\n",
        "chainfilename =  J0030-metro.txt\n"
       ]
      },
      {
       "output_type": "display_data",
       "png": "[encoded data removed]"
      }
     ],
     "prompt_number": 31
    },
    {
     "cell_type": "code",
     "collapsed": false,
     "input": [
      "# Note: evidence = 1857\n",
      "# pic.RunMultiNest(likob, 'J0030-mn')"
     ],
     "language": "python",
     "metadata": {},
     "outputs": [],
     "prompt_number": 18
    },
    {
     "cell_type": "code",
     "collapsed": false,
     "input": [],
     "language": "python",
     "metadata": {},
     "outputs": [],
     "prompt_number": 8
    },
    {
     "cell_type": "code",
     "collapsed": false,
     "input": [
      "import numpy as np\n",
      "import matplotlib.pyplot as plt\n",
      "import piccard as pic"
     ],
     "language": "python",
     "metadata": {},
     "outputs": [],
     "prompt_number": 3
    },
    {
     "cell_type": "code",
     "collapsed": false,
     "input": [
      "reload(pic)"
     ],
     "language": "python",
     "metadata": {},
     "outputs": [],
     "prompt_number": 9
    },
    {
     "cell_type": "code",
     "collapsed": false,
     "input": [
      "# We are now going to do the same thing as above, but with different noise models. We make two extra likelihood objects:\n",
      "likobsm = pic.ptaLikelihood('J0030.h5')    # Same model as in the Tempo2 'spectralModel' plugin\n",
      "likobsp = pic.ptaLikelihood('J0030.h5')    # Frequencies individually parameterised"
     ],
     "language": "python",
     "metadata": {},
     "outputs": [],
     "prompt_number": 4
    },
    {
     "cell_type": "code",
     "collapsed": false,
     "input": [
      "# Prepare the likelihood objects\n",
      "likobsm.initModel(nfreqmodes=30, varyEfac=True, incRedNoise=True, noiseModel='spectralModel')\n",
      "likobsp.initModel(nfreqmodes=30, varyEfac=True, incRedNoise=True, noiseModel='spectrum')"
     ],
     "language": "python",
     "metadata": {},
     "outputs": [],
     "prompt_number": 5
    },
    {
     "cell_type": "code",
     "collapsed": false,
     "input": [
      "# Instead of using Metropolis, we'll now use MultiNest to sample. This time on the 'spectralModel' object\n",
      "# TODO: MultiNest parameters in 'piccard.py' need to be tweaked a bit\n",
      "# Note: evidence = 1858\n",
      "pic.RunMultiNest(likobsm, 'J0030-sm')"
     ],
     "language": "python",
     "metadata": {},
     "outputs": [],
     "prompt_number": 6
    },
    {
     "cell_type": "code",
     "collapsed": false,
     "input": [
      "# Plotting is done with the same triplot routine\n",
      "pic.triplot('J0030-sm.txt')"
     ],
     "language": "python",
     "metadata": {},
     "outputs": [
      {
       "output_type": "stream",
       "stream": "stdout",
       "text": [
        "parametersfilename =  J0030-sm.txt.parameters.txt\n",
        "figurefilename =  J0030-sm.txt.fig.eps\n",
        "chainfilename =  J0030-sm.txt\n"
       ]
      },
      {
       "output_type": "display_data",
       "png": "[encoded data removed]"
      }
     ],
     "prompt_number": 6
    },
    {
     "cell_type": "code",
     "collapsed": false,
     "input": [
      "# For the spectrum, we'll do a t-walk/Metropolis combo again\n",
      "pic.Runtwalk(likobsp, 50000, 'J0030-sp-twalk-burnin.txt', thin=5)\n",
      "!sed '1,300d' J0030-sp-twalk-burnin.txt > J0030-sp-twalk.txt\n",
      "pic.RunMetropolis(likobsp, 50000, 'J0030-sp-metro.txt', initfile='J0030-sp-twalk.txt', resize=0.2)"
     ],
     "language": "python",
     "metadata": {},
     "outputs": [
      {
       "output_type": "stream",
       "stream": "stdout",
       "text": [
        "Obtaining initial positions from 'J0030-sp-twalk.txt'"
       ]
      },
      {
       "output_type": "stream",
       "stream": "stdout",
       "text": [
        "\n",
        "Running Metropolis-Hastings sampler"
       ]
      },
      {
       "output_type": "stream",
       "stream": "stdout",
       "text": [
        "\n",
        "\r",
        "Sample: 0 =  0.0%   acc. fr. = 0.376238   pos = -1.726759e+01 -1.679681e+01  lnprob = 1.802529e+03   "
       ]
      },
      {
       "output_type": "stream",
       "stream": "stdout",
       "text": [
        "\r",
        "Sample: 100 =  0.2%   acc. fr. = 0.303483   pos = -1.751527e+01 -1.661478e+01  lnprob = 1.804083e+03   "
       ]
      },
      {
       "output_type": "stream",
       "stream": "stdout",
       "text": [
        "\r",
        "Sample: 200 =  0.4%   acc. fr. = 0.332226   pos = -1.674401e+01 -1.601058e+01  lnprob = 1.803006e+03   "
       ]
      },
      {
       "output_type": "stream",
       "stream": "stdout",
       "text": [
        "\r",
        "Sample: 300 =  0.6%   acc. fr. = 0.309227   pos = -1.666521e+01 -1.509994e+01  lnprob = 1.804398e+03   "
       ]
      },
      {
       "output_type": "stream",
       "stream": "stdout",
       "text": [
        "\r",
        "Sample: 400 =  0.8%   acc. fr. = 0.315369   pos = -1.688702e+01 -1.625520e+01  lnprob = 1.804129e+03   "
       ]
      },
      {
       "output_type": "stream",
       "stream": "stdout",
       "text": [
        "\r",
        "Sample: 500 =  1.0%   acc. fr. = 0.321131   pos = -1.647714e+01 -1.549529e+01  lnprob = 1.803880e+03   "
       ]
      },
      {
       "output_type": "stream",
       "stream": "stdout",
       "text": [
        "\r",
        "Sample: 600 =  1.2%   acc. fr. = 0.320970   pos = -1.787174e+01 -1.571467e+01  lnprob = 1.800257e+03   "
       ]
      },
      {
       "output_type": "stream",
       "stream": "stdout",
       "text": [
        "\r",
        "Sample: 700 =  1.4%   acc. fr. = 0.324594   pos = -1.617412e+01 -1.576242e+01  lnprob = 1.805737e+03   "
       ]
      },
      {
       "output_type": "stream",
       "stream": "stdout",
       "text": [
        "\r",
        "Sample: 800 =  1.6%   acc. fr. = 0.331853   pos = -1.693714e+01 -1.746887e+01  lnprob = 1.804207e+03   "
       ]
      },
      {
       "output_type": "stream",
       "stream": "stdout",
       "text": [
        "\r",
        "Sample: 900 =  1.8%   acc. fr. = 0.312687   pos = -1.645363e+01 -1.766317e+01  lnprob = 1.806749e+03   "
       ]
      },
      {
       "output_type": "stream",
       "stream": "stdout",
       "text": [
        "\r",
        "Sample: 1000 =  2.0%   acc. fr. = 0.320618   pos = -1.602582e+01 -1.709031e+01  lnprob = 1.805505e+03   "
       ]
      },
      {
       "output_type": "stream",
       "stream": "stdout",
       "text": [
        "\r",
        "Sample: 1100 =  2.2%   acc. fr. = 0.320566   pos = -1.682039e+01 -1.698892e+01  lnprob = 1.800045e+03   "
       ]
      },
      {
       "output_type": "stream",
       "stream": "stdout",
       "text": [
        "\r",
        "Sample: 1200 =  2.4%   acc. fr. = 0.324366   pos = -1.724369e+01 -1.714108e+01  lnprob = 1.798664e+03   "
       ]
      },
      {
       "output_type": "stream",
       "stream": "stdout",
       "text": [
        "\r",
        "Sample: 1300 =  2.6%   acc. fr. = 0.329764   pos = -1.753629e+01 -1.671236e+01  lnprob = 1.792737e+03   "
       ]
      },
      {
       "output_type": "stream",
       "stream": "stdout",
       "text": [
        "\r",
        "Sample: 1400 =  2.8%   acc. fr. = 0.331113   pos = -1.760370e+01 -1.797570e+01  lnprob = 1.793755e+03   "
       ]
      },
      {
       "output_type": "stream",
       "stream": "stdout",
       "text": [
        "\r",
        "Sample: 1500 =  3.0%   acc. fr. = 0.332292   pos = -1.654273e+01 -1.577217e+01  lnprob = 1.795926e+03   "
       ]
      },
      {
       "output_type": "stream",
       "stream": "stdout",
       "text": [
        "\r",
        "Sample: 1600 =  3.2%   acc. fr. = 0.330394   pos = -1.789590e+01 -1.623033e+01  lnprob = 1.799921e+03   "
       ]
      },
      {
       "output_type": "stream",
       "stream": "stdout",
       "text": [
        "\r",
        "Sample: 1700 =  3.4%   acc. fr. = 0.323709   pos = -1.744771e+01 -1.757109e+01  lnprob = 1.801928e+03   "
       ]
      },
      {
       "output_type": "stream",
       "stream": "stdout",
       "text": [
        "\r",
        "Sample: 1800 =  3.6%   acc. fr. = 0.317201   pos = -1.755189e+01 -1.660271e+01  lnprob = 1.800539e+03   "
       ]
      },
      {
       "output_type": "stream",
       "stream": "stdout",
       "text": [
        "\r",
        "Sample: 1900 =  3.8%   acc. fr. = 0.319840   pos = -1.612466e+01 -1.755434e+01  lnprob = 1.794468e+03   "
       ]
      },
      {
       "output_type": "stream",
       "stream": "stdout",
       "text": [
        "\r",
        "Sample: 2000 =  4.0%   acc. fr. = 0.325083   pos = -1.550892e+01 -1.656332e+01  lnprob = 1.799974e+03   "
       ]
      },
      {
       "output_type": "stream",
       "stream": "stdout",
       "text": [
        "\r",
        "Sample: 2100 =  4.2%   acc. fr. = 0.330304   pos = -1.575123e+01 -1.560935e+01  lnprob = 1.801134e+03   "
       ]
      },
      {
       "output_type": "stream",
       "stream": "stdout",
       "text": [
        "\r",
        "Sample: 2200 =  4.4%   acc. fr. = 0.328118   pos = -1.564573e+01 -1.521073e+01  lnprob = 1.797922e+03   "
       ]
      },
      {
       "output_type": "stream",
       "stream": "stdout",
       "text": [
        "\r",
        "Sample: 2300 =  4.6%   acc. fr. = 0.332778   pos = -1.640750e+01 -1.598113e+01  lnprob = 1.799377e+03   "
       ]
      },
      {
       "output_type": "stream",
       "stream": "stdout",
       "text": [
        "\r",
        "Sample: 2400 =  4.8%   acc. fr. = 0.331068   pos = -1.642090e+01 -1.538102e+01  lnprob = 1.796946e+03   "
       ]
      },
      {
       "output_type": "stream",
       "stream": "stdout",
       "text": [
        "\r",
        "Sample: 2500 =  5.0%   acc. fr. = 0.327951   pos = -1.538089e+01 -1.588608e+01  lnprob = 1.795594e+03   "
       ]
      },
      {
       "output_type": "stream",
       "stream": "stdout",
       "text": [
        "\r",
        "Sample: 2600 =  5.2%   acc. fr. = 0.327286   pos = -1.583860e+01 -1.627770e+01  lnprob = 1.801164e+03   "
       ]
      },
      {
       "output_type": "stream",
       "stream": "stdout",
       "text": [
        "\r",
        "Sample: 2700 =  5.4%   acc. fr. = 0.327740   pos = -1.670113e+01 -1.646510e+01  lnprob = 1.797842e+03   "
       ]
      },
      {
       "output_type": "stream",
       "stream": "stdout",
       "text": [
        "\r",
        "Sample: 2800 =  5.6%   acc. fr. = 0.327818   pos = -1.768534e+01 -1.646848e+01  lnprob = 1.792420e+03   "
       ]
      },
      {
       "output_type": "stream",
       "stream": "stdout",
       "text": [
        "\r",
        "Sample: 2900 =  5.8%   acc. fr. = 0.335222   pos = -1.622405e+01 -1.730018e+01  lnprob = 1.791335e+03   "
       ]
      },
      {
       "output_type": "stream",
       "stream": "stdout",
       "text": [
        "\r",
        "Sample: 3000 =  6.0%   acc. fr. = 0.337311   pos = -1.651872e+01 -1.697705e+01  lnprob = 1.787853e+03   "
       ]
      },
      {
       "output_type": "stream",
       "stream": "stdout",
       "text": [
        "\r",
        "Sample: 3100 =  6.2%   acc. fr. = 0.338019   pos = -1.640635e+01 -1.566715e+01  lnprob = 1.791134e+03   "
       ]
      },
      {
       "output_type": "stream",
       "stream": "stdout",
       "text": [
        "\r",
        "Sample: 3200 =  6.4%   acc. fr. = 0.338382   pos = -1.613895e+01 -1.620701e+01  lnprob = 1.791973e+03   "
       ]
      },
      {
       "output_type": "stream",
       "stream": "stdout",
       "text": [
        "\r",
        "Sample: 3300 =  6.6%   acc. fr. = 0.337254   pos = -1.729025e+01 -1.590215e+01  lnprob = 1.796848e+03   "
       ]
      },
      {
       "output_type": "stream",
       "stream": "stdout",
       "text": [
        "\r",
        "Sample: 3400 =  6.8%   acc. fr. = 0.336761   pos = -1.568397e+01 -1.422624e+01  lnprob = 1.792354e+03   "
       ]
      },
      {
       "output_type": "stream",
       "stream": "stdout",
       "text": [
        "\r",
        "Sample: 3500 =  7.0%   acc. fr. = 0.339072   pos = -1.476110e+01 -1.533086e+01  lnprob = 1.794926e+03   "
       ]
      },
      {
       "output_type": "stream",
       "stream": "stdout",
       "text": [
        "\r",
        "Sample: 3600 =  7.2%   acc. fr. = 0.337206   pos = -1.529297e+01 -1.653144e+01  lnprob = 1.794333e+03   "
       ]
      },
      {
       "output_type": "stream",
       "stream": "stdout",
       "text": [
        "\r",
        "Sample: 3700 =  7.4%   acc. fr. = 0.336490   pos = -1.678418e+01 -1.697702e+01  lnprob = 1.790927e+03   "
       ]
      },
      {
       "output_type": "stream",
       "stream": "stdout",
       "text": [
        "\r",
        "Sample: 3800 =  7.6%   acc. fr. = 0.335299   pos = -1.605121e+01 -1.788145e+01  lnprob = 1.797107e+03   "
       ]
      },
      {
       "output_type": "stream",
       "stream": "stdout",
       "text": [
        "\r",
        "Sample: 3900 =  7.8%   acc. fr. = 0.336666   pos = -1.554859e+01 -1.740061e+01  lnprob = 1.795036e+03   "
       ]
      },
      {
       "output_type": "stream",
       "stream": "stdout",
       "text": [
        "\r",
        "Sample: 4000 =  8.0%   acc. fr. = 0.338210   pos = -1.669321e+01 -1.669172e+01  lnprob = 1.795068e+03   "
       ]
      },
      {
       "output_type": "stream",
       "stream": "stdout",
       "text": [
        "\r",
        "Sample: 4100 =  8.2%   acc. fr. = 0.337539   pos = -1.632465e+01 -1.662509e+01  lnprob = 1.796863e+03   "
       ]
      },
      {
       "output_type": "stream",
       "stream": "stdout",
       "text": [
        "\r",
        "Sample: 4200 =  8.4%   acc. fr. = 0.338991   pos = -1.614458e+01 -1.648444e+01  lnprob = 1.802854e+03   "
       ]
      },
      {
       "output_type": "stream",
       "stream": "stdout",
       "text": [
        "\r",
        "Sample: 4300 =  8.6%   acc. fr. = 0.335833   pos = -1.462826e+01 -1.735150e+01  lnprob = 1.803113e+03   "
       ]
      },
      {
       "output_type": "stream",
       "stream": "stdout",
       "text": [
        "\r",
        "Sample: 4400 =  8.8%   acc. fr. = 0.334148   pos = -1.543392e+01 -1.671240e+01  lnprob = 1.805785e+03   "
       ]
      },
      {
       "output_type": "stream",
       "stream": "stdout",
       "text": [
        "\r",
        "Sample: 4500 =  9.0%   acc. fr. = 0.331667   pos = -1.681145e+01 -1.717532e+01  lnprob = 1.803101e+03   "
       ]
      },
      {
       "output_type": "stream",
       "stream": "stdout",
       "text": [
        "\r",
        "Sample: 4600 =  9.2%   acc. fr. = 0.330568   pos = -1.752110e+01 -1.723897e+01  lnprob = 1.800946e+03   "
       ]
      },
      {
       "output_type": "stream",
       "stream": "stdout",
       "text": [
        "\r",
        "Sample: 4700 =  9.4%   acc. fr. = 0.330764   pos = -1.635485e+01 -1.621123e+01  lnprob = 1.797651e+03   "
       ]
      },
      {
       "output_type": "stream",
       "stream": "stdout",
       "text": [
        "\r",
        "Sample: 4800 =  9.6%   acc. fr. = 0.327280   pos = -1.549165e+01 -1.579142e+01  lnprob = 1.800583e+03   "
       ]
      },
      {
       "output_type": "stream",
       "stream": "stdout",
       "text": [
        "\r",
        "Sample: 4900 =  9.8%   acc. fr. = 0.327934   pos = -1.529728e+01 -1.616386e+01  lnprob = 1.800406e+03   "
       ]
      },
      {
       "output_type": "stream",
       "stream": "stdout",
       "text": [
        "\r",
        "Sample: 5000 = 10.0%   acc. fr. = 0.324642   pos = -1.554603e+01 -1.733163e+01  lnprob = 1.798836e+03   "
       ]
      },
      {
       "output_type": "stream",
       "stream": "stdout",
       "text": [
        "\r",
        "Sample: 5100 = 10.2%   acc. fr. = 0.324938   pos = -1.593313e+01 -1.741544e+01  lnprob = 1.798891e+03   "
       ]
      },
      {
       "output_type": "stream",
       "stream": "stdout",
       "text": [
        "\r",
        "Sample: 5200 = 10.4%   acc. fr. = 0.325599   pos = -1.454186e+01 -1.667607e+01  lnprob = 1.799862e+03   "
       ]
      },
      {
       "output_type": "stream",
       "stream": "stdout",
       "text": [
        "\r",
        "Sample: 5300 = 10.6%   acc. fr. = 0.325310   pos = -1.671442e+01 -1.573035e+01  lnprob = 1.794744e+03   "
       ]
      },
      {
       "output_type": "stream",
       "stream": "stdout",
       "text": [
        "\r",
        "Sample: 5400 = 10.8%   acc. fr. = 0.327213   pos = -1.773721e+01 -1.703278e+01  lnprob = 1.795874e+03   "
       ]
      },
      {
       "output_type": "stream",
       "stream": "stdout",
       "text": [
        "\r",
        "Sample: 5500 = 11.0%   acc. fr. = 0.326013   pos = -1.708284e+01 -1.698656e+01  lnprob = 1.794259e+03   "
       ]
      },
      {
       "output_type": "stream",
       "stream": "stdout",
       "text": [
        "\r",
        "Sample: 5600 = 11.2%   acc. fr. = 0.325206   pos = -1.674375e+01 -1.759207e+01  lnprob = 1.800123e+03   "
       ]
      },
      {
       "output_type": "stream",
       "stream": "stdout",
       "text": [
        "\r",
        "Sample: 5700 = 11.4%   acc. fr. = 0.323393   pos = -1.750197e+01 -1.739925e+01  lnprob = 1.795348e+03   "
       ]
      },
      {
       "output_type": "stream",
       "stream": "stdout",
       "text": [
        "\r",
        "Sample: 5800 = 11.6%   acc. fr. = 0.324182   pos = -1.618494e+01 -1.669827e+01  lnprob = 1.797491e+03   "
       ]
      },
      {
       "output_type": "stream",
       "stream": "stdout",
       "text": [
        "\r",
        "Sample: 5900 = 11.8%   acc. fr. = 0.325112   pos = -1.609043e+01 -1.675074e+01  lnprob = 1.803146e+03   "
       ]
      },
      {
       "output_type": "stream",
       "stream": "stdout",
       "text": [
        "\r",
        "Sample: 6000 = 12.0%   acc. fr. = 0.325848   pos = -1.483755e+01 -1.518537e+01  lnprob = 1.798082e+03   "
       ]
      },
      {
       "output_type": "stream",
       "stream": "stdout",
       "text": [
        "\r",
        "Sample: 6100 = 12.2%   acc. fr. = 0.328495   pos = -1.543818e+01 -1.611185e+01  lnprob = 1.796336e+03   "
       ]
      },
      {
       "output_type": "stream",
       "stream": "stdout",
       "text": [
        "\r",
        "Sample: 6200 = 12.4%   acc. fr. = 0.326615   pos = -1.443689e+01 -1.565626e+01  lnprob = 1.798251e+03   "
       ]
      },
      {
       "output_type": "stream",
       "stream": "stdout",
       "text": [
        "\r",
        "Sample: 6300 = 12.6%   acc. fr. = 0.324168   pos = -1.540121e+01 -1.593624e+01  lnprob = 1.800356e+03   "
       ]
      },
      {
       "output_type": "stream",
       "stream": "stdout",
       "text": [
        "\r",
        "Sample: 6400 = 12.8%   acc. fr. = 0.321489   pos = -1.564970e+01 -1.563483e+01  lnprob = 1.798839e+03   "
       ]
      },
      {
       "output_type": "stream",
       "stream": "stdout",
       "text": [
        "\r",
        "Sample: 6500 = 13.0%   acc. fr. = 0.323133   pos = -1.700199e+01 -1.515189e+01  lnprob = 1.800166e+03   "
       ]
      },
      {
       "output_type": "stream",
       "stream": "stdout",
       "text": [
        "\r",
        "Sample: 6600 = 13.2%   acc. fr. = 0.323534   pos = -1.762810e+01 -1.551975e+01  lnprob = 1.804935e+03   "
       ]
      },
      {
       "output_type": "stream",
       "stream": "stdout",
       "text": [
        "\r",
        "Sample: 6700 = 13.4%   acc. fr. = 0.323041   pos = -1.712532e+01 -1.601988e+01  lnprob = 1.803793e+03   "
       ]
      },
      {
       "output_type": "stream",
       "stream": "stdout",
       "text": [
        "\r",
        "Sample: 6800 = 13.6%   acc. fr. = 0.323431   pos = -1.742608e+01 -1.736175e+01  lnprob = 1.800351e+03   "
       ]
      },
      {
       "output_type": "stream",
       "stream": "stdout",
       "text": [
        "\r",
        "Sample: 6900 = 13.8%   acc. fr. = 0.324382   pos = -1.656910e+01 -1.663279e+01  lnprob = 1.798681e+03   "
       ]
      },
      {
       "output_type": "stream",
       "stream": "stdout",
       "text": [
        "\r",
        "Sample: 7000 = 14.0%   acc. fr. = 0.322912   pos = -1.564629e+01 -1.715177e+01  lnprob = 1.802291e+03   "
       ]
      },
      {
       "output_type": "stream",
       "stream": "stdout",
       "text": [
        "\r",
        "Sample: 7100 = 14.2%   acc. fr. = 0.322039   pos = -1.796509e+01 -1.736326e+01  lnprob = 1.800784e+03   "
       ]
      },
      {
       "output_type": "stream",
       "stream": "stdout",
       "text": [
        "\r",
        "Sample: 7200 = 14.4%   acc. fr. = 0.320093   pos = -1.720806e+01 -1.797631e+01  lnprob = 1.799966e+03   "
       ]
      },
      {
       "output_type": "stream",
       "stream": "stdout",
       "text": [
        "\r",
        "Sample: 7300 = 14.6%   acc. fr. = 0.319687   pos = -1.771929e+01 -1.611221e+01  lnprob = 1.793041e+03   "
       ]
      },
      {
       "output_type": "stream",
       "stream": "stdout",
       "text": [
        "\r",
        "Sample: 7400 = 14.8%   acc. fr. = 0.321024   pos = -1.772961e+01 -1.462658e+01  lnprob = 1.791443e+03   "
       ]
      },
      {
       "output_type": "stream",
       "stream": "stdout",
       "text": [
        "\r",
        "Sample: 7500 = 15.0%   acc. fr. = 0.321668   pos = -1.780491e+01 -1.708553e+01  lnprob = 1.793895e+03   "
       ]
      },
      {
       "output_type": "stream",
       "stream": "stdout",
       "text": [
        "\r",
        "Sample: 7600 = 15.2%   acc. fr. = 0.322296   pos = -1.606240e+01 -1.691996e+01  lnprob = 1.796461e+03   "
       ]
      },
      {
       "output_type": "stream",
       "stream": "stdout",
       "text": [
        "\r",
        "Sample: 7700 = 15.4%   acc. fr. = 0.322779   pos = -1.568885e+01 -1.556726e+01  lnprob = 1.801323e+03   "
       ]
      },
      {
       "output_type": "stream",
       "stream": "stdout",
       "text": [
        "\r",
        "Sample: 7800 = 15.6%   acc. fr. = 0.324263   pos = -1.490985e+01 -1.585841e+01  lnprob = 1.803059e+03   "
       ]
      },
      {
       "output_type": "stream",
       "stream": "stdout",
       "text": [
        "\r",
        "Sample: 7900 = 15.8%   acc. fr. = 0.325459   pos = -1.604534e+01 -1.640799e+01  lnprob = 1.800410e+03   "
       ]
      },
      {
       "output_type": "stream",
       "stream": "stdout",
       "text": [
        "\r",
        "Sample: 8000 = 16.0%   acc. fr. = 0.324651   pos = -1.585839e+01 -1.618372e+01  lnprob = 1.799347e+03   "
       ]
      },
      {
       "output_type": "stream",
       "stream": "stdout",
       "text": [
        "\r",
        "Sample: 8100 = 16.2%   acc. fr. = 0.323253   pos = -1.602452e+01 -1.624797e+01  lnprob = 1.796892e+03   "
       ]
      },
      {
       "output_type": "stream",
       "stream": "stdout",
       "text": [
        "\r",
        "Sample: 8200 = 16.4%   acc. fr. = 0.324298   pos = -1.600808e+01 -1.654593e+01  lnprob = 1.797636e+03   "
       ]
      },
      {
       "output_type": "stream",
       "stream": "stdout",
       "text": [
        "\r",
        "Sample: 8300 = 16.6%   acc. fr. = 0.323414   pos = -1.561588e+01 -1.665663e+01  lnprob = 1.799458e+03   "
       ]
      },
      {
       "output_type": "stream",
       "stream": "stdout",
       "text": [
        "\r",
        "Sample: 8400 = 16.8%   acc. fr. = 0.322786   pos = -1.679089e+01 -1.664939e+01  lnprob = 1.796903e+03   "
       ]
      },
      {
       "output_type": "stream",
       "stream": "stdout",
       "text": [
        "\r",
        "Sample: 8500 = 17.0%   acc. fr. = 0.323567   pos = -1.550091e+01 -1.613637e+01  lnprob = 1.799086e+03   "
       ]
      },
      {
       "output_type": "stream",
       "stream": "stdout",
       "text": [
        "\r",
        "Sample: 8600 = 17.2%   acc. fr. = 0.325135   pos = -1.653047e+01 -1.795869e+01  lnprob = 1.801849e+03   "
       ]
      },
      {
       "output_type": "stream",
       "stream": "stdout",
       "text": [
        "\r",
        "Sample: 8700 = 17.4%   acc. fr. = 0.324736   pos = -1.538566e+01 -1.738395e+01  lnprob = 1.796577e+03   "
       ]
      },
      {
       "output_type": "stream",
       "stream": "stdout",
       "text": [
        "\r",
        "Sample: 8800 = 17.6%   acc. fr. = 0.324795   pos = -1.440634e+01 -1.757441e+01  lnprob = 1.799212e+03   "
       ]
      },
      {
       "output_type": "stream",
       "stream": "stdout",
       "text": [
        "\r",
        "Sample: 8900 = 17.8%   acc. fr. = 0.324742   pos = -1.438900e+01 -1.607423e+01  lnprob = 1.800680e+03   "
       ]
      },
      {
       "output_type": "stream",
       "stream": "stdout",
       "text": [
        "\r",
        "Sample: 9000 = 18.0%   acc. fr. = 0.326228   pos = -1.434961e+01 -1.597179e+01  lnprob = 1.793420e+03   "
       ]
      },
      {
       "output_type": "stream",
       "stream": "stdout",
       "text": [
        "\r",
        "Sample: 9100 = 18.2%   acc. fr. = 0.325182   pos = -1.495721e+01 -1.577141e+01  lnprob = 1.794376e+03   "
       ]
      },
      {
       "output_type": "stream",
       "stream": "stdout",
       "text": [
        "\r",
        "Sample: 9200 = 18.4%   acc. fr. = 0.325126   pos = -1.505060e+01 -1.609056e+01  lnprob = 1.796011e+03   "
       ]
      },
      {
       "output_type": "stream",
       "stream": "stdout",
       "text": [
        "\r",
        "Sample: 9300 = 18.6%   acc. fr. = 0.323583   pos = -1.492896e+01 -1.621015e+01  lnprob = 1.799963e+03   "
       ]
      },
      {
       "output_type": "stream",
       "stream": "stdout",
       "text": [
        "\r",
        "Sample: 9400 = 18.8%   acc. fr. = 0.321966   pos = -1.748050e+01 -1.695210e+01  lnprob = 1.801402e+03   "
       ]
      },
      {
       "output_type": "stream",
       "stream": "stdout",
       "text": [
        "\r",
        "Sample: 9500 = 19.0%   acc. fr. = 0.321217   pos = -1.730929e+01 -1.789859e+01  lnprob = 1.794656e+03   "
       ]
      },
      {
       "output_type": "stream",
       "stream": "stdout",
       "text": [
        "\r",
        "Sample: 9600 = 19.2%   acc. fr. = 0.321410   pos = -1.771968e+01 -1.794744e+01  lnprob = 1.797616e+03   "
       ]
      },
      {
       "output_type": "stream",
       "stream": "stdout",
       "text": [
        "\r",
        "Sample: 9700 = 19.4%   acc. fr. = 0.322008   pos = -1.751722e+01 -1.764054e+01  lnprob = 1.795068e+03   "
       ]
      },
      {
       "output_type": "stream",
       "stream": "stdout",
       "text": [
        "\r",
        "Sample: 9800 = 19.6%   acc. fr. = 0.321786   pos = -1.676667e+01 -1.708566e+01  lnprob = 1.799782e+03   "
       ]
      },
      {
       "output_type": "stream",
       "stream": "stdout",
       "text": [
        "\r",
        "Sample: 9900 = 19.8%   acc. fr. = 0.322768   pos = -1.580287e+01 -1.691844e+01  lnprob = 1.801183e+03   "
       ]
      },
      {
       "output_type": "stream",
       "stream": "stdout",
       "text": [
        "\r",
        "Sample: 10000 = 20.0%   acc. fr. = 0.324126   pos = -1.544145e+01 -1.599563e+01  lnprob = 1.796597e+03   "
       ]
      },
      {
       "output_type": "stream",
       "stream": "stdout",
       "text": [
        "\r",
        "Sample: 10100 = 20.2%   acc. fr. = 0.325556   pos = -1.639483e+01 -1.672201e+01  lnprob = 1.800229e+03   "
       ]
      },
      {
       "output_type": "stream",
       "stream": "stdout",
       "text": [
        "\r",
        "Sample: 10200 = 20.4%   acc. fr. = 0.326182   pos = -1.775707e+01 -1.705640e+01  lnprob = 1.801412e+03   "
       ]
      },
      {
       "output_type": "stream",
       "stream": "stdout",
       "text": [
        "\r",
        "Sample: 10300 = 20.6%   acc. fr. = 0.326796   pos = -1.748668e+01 -1.640104e+01  lnprob = 1.799559e+03   "
       ]
      },
      {
       "output_type": "stream",
       "stream": "stdout",
       "text": [
        "\r",
        "Sample: 10400 = 20.8%   acc. fr. = 0.326159   pos = -1.795573e+01 -1.734068e+01  lnprob = 1.804072e+03   "
       ]
      },
      {
       "output_type": "stream",
       "stream": "stdout",
       "text": [
        "\r",
        "Sample: 10500 = 21.0%   acc. fr. = 0.324686   pos = -1.744558e+01 -1.762331e+01  lnprob = 1.803068e+03   "
       ]
      },
      {
       "output_type": "stream",
       "stream": "stdout",
       "text": [
        "\r",
        "Sample: 10600 = 21.2%   acc. fr. = 0.324923   pos = -1.789095e+01 -1.723542e+01  lnprob = 1.801514e+03   "
       ]
      },
      {
       "output_type": "stream",
       "stream": "stdout",
       "text": [
        "\r",
        "Sample: 10700 = 21.4%   acc. fr. = 0.323303   pos = -1.787787e+01 -1.796245e+01  lnprob = 1.800468e+03   "
       ]
      },
      {
       "output_type": "stream",
       "stream": "stdout",
       "text": [
        "\r",
        "Sample: 10800 = 21.6%   acc. fr. = 0.323090   pos = -1.547263e+01 -1.639126e+01  lnprob = 1.795362e+03   "
       ]
      },
      {
       "output_type": "stream",
       "stream": "stdout",
       "text": [
        "\r",
        "Sample: 10900 = 21.8%   acc. fr. = 0.323334   pos = -1.441196e+01 -1.731136e+01  lnprob = 1.789723e+03   "
       ]
      },
      {
       "output_type": "stream",
       "stream": "stdout",
       "text": [
        "\r",
        "Sample: 11000 = 22.0%   acc. fr. = 0.323845   pos = -1.536585e+01 -1.773349e+01  lnprob = 1.792680e+03   "
       ]
      },
      {
       "output_type": "stream",
       "stream": "stdout",
       "text": [
        "\r",
        "Sample: 11100 = 22.2%   acc. fr. = 0.324167   pos = -1.479820e+01 -1.692413e+01  lnprob = 1.794056e+03   "
       ]
      },
      {
       "output_type": "stream",
       "stream": "stdout",
       "text": [
        "\r",
        "Sample: 11200 = 22.4%   acc. fr. = 0.324131   pos = -1.541830e+01 -1.796533e+01  lnprob = 1.797750e+03   "
       ]
      },
      {
       "output_type": "stream",
       "stream": "stdout",
       "text": [
        "\r",
        "Sample: 11300 = 22.6%   acc. fr. = 0.324270   pos = -1.616363e+01 -1.675828e+01  lnprob = 1.794525e+03   "
       ]
      },
      {
       "output_type": "stream",
       "stream": "stdout",
       "text": [
        "\r",
        "Sample: 11400 = 22.8%   acc. fr. = 0.324320   pos = -1.508783e+01 -1.532918e+01  lnprob = 1.797693e+03   "
       ]
      },
      {
       "output_type": "stream",
       "stream": "stdout",
       "text": [
        "\r",
        "Sample: 11500 = 23.0%   acc. fr. = 0.324713   pos = -1.539146e+01 -1.653073e+01  lnprob = 1.800978e+03   "
       ]
      },
      {
       "output_type": "stream",
       "stream": "stdout",
       "text": [
        "\r",
        "Sample: 11600 = 23.2%   acc. fr. = 0.324673   pos = -1.535618e+01 -1.773224e+01  lnprob = 1.799869e+03   "
       ]
      },
      {
       "output_type": "stream",
       "stream": "stdout",
       "text": [
        "\r",
        "Sample: 11700 = 23.4%   acc. fr. = 0.324803   pos = -1.540728e+01 -1.728991e+01  lnprob = 1.804095e+03   "
       ]
      },
      {
       "output_type": "stream",
       "stream": "stdout",
       "text": [
        "\r",
        "Sample: 11800 = 23.6%   acc. fr. = 0.324511   pos = -1.514557e+01 -1.631803e+01  lnprob = 1.800264e+03   "
       ]
      },
      {
       "output_type": "stream",
       "stream": "stdout",
       "text": [
        "\r",
        "Sample: 11900 = 23.8%   acc. fr. = 0.324640   pos = -1.512161e+01 -1.662711e+01  lnprob = 1.802218e+03   "
       ]
      },
      {
       "output_type": "stream",
       "stream": "stdout",
       "text": [
        "\r",
        "Sample: 12000 = 24.0%   acc. fr. = 0.324188   pos = -1.561180e+01 -1.650711e+01  lnprob = 1.803438e+03   "
       ]
      },
      {
       "output_type": "stream",
       "stream": "stdout",
       "text": [
        "\r",
        "Sample: 12100 = 24.2%   acc. fr. = 0.323662   pos = -1.519310e+01 -1.532404e+01  lnprob = 1.801714e+03   "
       ]
      },
      {
       "output_type": "stream",
       "stream": "stdout",
       "text": [
        "\r",
        "Sample: 12200 = 24.4%   acc. fr. = 0.323388   pos = -1.434241e+01 -1.482457e+01  lnprob = 1.801981e+03   "
       ]
      },
      {
       "output_type": "stream",
       "stream": "stdout",
       "text": [
        "\r",
        "Sample: 12300 = 24.6%   acc. fr. = 0.323603   pos = -1.520653e+01 -1.605160e+01  lnprob = 1.799058e+03   "
       ]
      },
      {
       "output_type": "stream",
       "stream": "stdout",
       "text": [
        "\r",
        "Sample: 12400 = 24.8%   acc. fr. = 0.324374   pos = -1.630845e+01 -1.705618e+01  lnprob = 1.797157e+03   "
       ]
      },
      {
       "output_type": "stream",
       "stream": "stdout",
       "text": [
        "\r",
        "Sample: 12500 = 25.0%   acc. fr. = 0.324339   pos = -1.529494e+01 -1.635850e+01  lnprob = 1.801055e+03   "
       ]
      },
      {
       "output_type": "stream",
       "stream": "stdout",
       "text": [
        "\r",
        "Sample: 12600 = 25.2%   acc. fr. = 0.324384   pos = -1.520597e+01 -1.579435e+01  lnprob = 1.801824e+03   "
       ]
      },
      {
       "output_type": "stream",
       "stream": "stdout",
       "text": [
        "\r",
        "Sample: 12700 = 25.4%   acc. fr. = 0.323725   pos = -1.650951e+01 -1.561390e+01  lnprob = 1.800567e+03   "
       ]
      },
      {
       "output_type": "stream",
       "stream": "stdout",
       "text": [
        "\r",
        "Sample: 12800 = 25.6%   acc. fr. = 0.323308   pos = -1.583362e+01 -1.721881e+01  lnprob = 1.802997e+03   "
       ]
      },
      {
       "output_type": "stream",
       "stream": "stdout",
       "text": [
        "\r",
        "Sample: 12900 = 25.8%   acc. fr. = 0.323744   pos = -1.559967e+01 -1.706819e+01  lnprob = 1.799298e+03   "
       ]
      },
      {
       "output_type": "stream",
       "stream": "stdout",
       "text": [
        "\r",
        "Sample: 13000 = 26.0%   acc. fr. = 0.323487   pos = -1.612857e+01 -1.720921e+01  lnprob = 1.800122e+03   "
       ]
      },
      {
       "output_type": "stream",
       "stream": "stdout",
       "text": [
        "\r",
        "Sample: 13100 = 26.2%   acc. fr. = 0.323309   pos = -1.459684e+01 -1.772419e+01  lnprob = 1.799850e+03   "
       ]
      },
      {
       "output_type": "stream",
       "stream": "stdout",
       "text": [
        "\r",
        "Sample: 13200 = 26.4%   acc. fr. = 0.324412   pos = -1.610417e+01 -1.526858e+01  lnprob = 1.801927e+03   "
       ]
      },
      {
       "output_type": "stream",
       "stream": "stdout",
       "text": [
        "\r",
        "Sample: 13300 = 26.6%   acc. fr. = 0.323931   pos = -1.679133e+01 -1.529380e+01  lnprob = 1.801963e+03   "
       ]
      },
      {
       "output_type": "stream",
       "stream": "stdout",
       "text": [
        "\r",
        "Sample: 13400 = 26.8%   acc. fr. = 0.323532   pos = -1.549902e+01 -1.679875e+01  lnprob = 1.800245e+03   "
       ]
      },
      {
       "output_type": "stream",
       "stream": "stdout",
       "text": [
        "\r",
        "Sample: 13500 = 27.0%   acc. fr. = 0.324461   pos = -1.538809e+01 -1.649575e+01  lnprob = 1.797543e+03   "
       ]
      },
      {
       "output_type": "stream",
       "stream": "stdout",
       "text": [
        "\r",
        "Sample: 13600 = 27.2%   acc. fr. = 0.325159   pos = -1.562009e+01 -1.569323e+01  lnprob = 1.803687e+03   "
       ]
      },
      {
       "output_type": "stream",
       "stream": "stdout",
       "text": [
        "\r",
        "Sample: 13700 = 27.4%   acc. fr. = 0.326136   pos = -1.634146e+01 -1.509281e+01  lnprob = 1.796790e+03   "
       ]
      },
      {
       "output_type": "stream",
       "stream": "stdout",
       "text": [
        "\r",
        "Sample: 13800 = 27.6%   acc. fr. = 0.327602   pos = -1.690080e+01 -1.661222e+01  lnprob = 1.793047e+03   "
       ]
      },
      {
       "output_type": "stream",
       "stream": "stdout",
       "text": [
        "\r",
        "Sample: 13900 = 27.8%   acc. fr. = 0.327977   pos = -1.769673e+01 -1.560434e+01  lnprob = 1.799980e+03   "
       ]
      },
      {
       "output_type": "stream",
       "stream": "stdout",
       "text": [
        "\r",
        "Sample: 14000 = 28.0%   acc. fr. = 0.327424   pos = -1.791258e+01 -1.764511e+01  lnprob = 1.800823e+03   "
       ]
      },
      {
       "output_type": "stream",
       "stream": "stdout",
       "text": [
        "\r",
        "Sample: 14100 = 28.2%   acc. fr. = 0.327090   pos = -1.751737e+01 -1.695246e+01  lnprob = 1.797230e+03   "
       ]
      },
      {
       "output_type": "stream",
       "stream": "stdout",
       "text": [
        "\r",
        "Sample: 14200 = 28.4%   acc. fr. = 0.327460   pos = -1.734910e+01 -1.743954e+01  lnprob = 1.798212e+03   "
       ]
      },
      {
       "output_type": "stream",
       "stream": "stdout",
       "text": [
        "\r",
        "Sample: 14300 = 28.6%   acc. fr. = 0.327408   pos = -1.637772e+01 -1.657030e+01  lnprob = 1.795964e+03   "
       ]
      },
      {
       "output_type": "stream",
       "stream": "stdout",
       "text": [
        "\r",
        "Sample: 14400 = 28.8%   acc. fr. = 0.327357   pos = -1.784707e+01 -1.588677e+01  lnprob = 1.800475e+03   "
       ]
      },
      {
       "output_type": "stream",
       "stream": "stdout",
       "text": [
        "\r",
        "Sample: 14500 = 29.0%   acc. fr. = 0.327032   pos = -1.734399e+01 -1.467815e+01  lnprob = 1.804667e+03   "
       ]
      },
      {
       "output_type": "stream",
       "stream": "stdout",
       "text": [
        "\r",
        "Sample: 14600 = 29.2%   acc. fr. = 0.326917   pos = -1.636991e+01 -1.663531e+01  lnprob = 1.804702e+03   "
       ]
      },
      {
       "output_type": "stream",
       "stream": "stdout",
       "text": [
        "\r",
        "Sample: 14700 = 29.4%   acc. fr. = 0.326397   pos = -1.538317e+01 -1.557141e+01  lnprob = 1.804657e+03   "
       ]
      },
      {
       "output_type": "stream",
       "stream": "stdout",
       "text": [
        "\r",
        "Sample: 14800 = 29.6%   acc. fr. = 0.327562   pos = -1.629880e+01 -1.548118e+01  lnprob = 1.794597e+03   "
       ]
      },
      {
       "output_type": "stream",
       "stream": "stdout",
       "text": [
        "\r",
        "Sample: 14900 = 29.8%   acc. fr. = 0.327245   pos = -1.735443e+01 -1.473556e+01  lnprob = 1.788042e+03   "
       ]
      },
      {
       "output_type": "stream",
       "stream": "stdout",
       "text": [
        "\r",
        "Sample: 15000 = 30.0%   acc. fr. = 0.327462   pos = -1.794785e+01 -1.494156e+01  lnprob = 1.792328e+03   "
       ]
      },
      {
       "output_type": "stream",
       "stream": "stdout",
       "text": [
        "\r",
        "Sample: 15100 = 30.2%   acc. fr. = 0.327084   pos = -1.566927e+01 -1.444146e+01  lnprob = 1.793192e+03   "
       ]
      },
      {
       "output_type": "stream",
       "stream": "stdout",
       "text": [
        "\r",
        "Sample: 15200 = 30.4%   acc. fr. = 0.327299   pos = -1.566211e+01 -1.532641e+01  lnprob = 1.802875e+03   "
       ]
      },
      {
       "output_type": "stream",
       "stream": "stdout",
       "text": [
        "\r",
        "Sample: 15300 = 30.6%   acc. fr. = 0.326992   pos = -1.524051e+01 -1.572290e+01  lnprob = 1.802711e+03   "
       ]
      },
      {
       "output_type": "stream",
       "stream": "stdout",
       "text": [
        "\r",
        "Sample: 15400 = 30.8%   acc. fr. = 0.326560   pos = -1.550855e+01 -1.586044e+01  lnprob = 1.806366e+03   "
       ]
      },
      {
       "output_type": "stream",
       "stream": "stdout",
       "text": [
        "\r",
        "Sample: 15500 = 31.0%   acc. fr. = 0.326582   pos = -1.640776e+01 -1.620053e+01  lnprob = 1.805945e+03   "
       ]
      },
      {
       "output_type": "stream",
       "stream": "stdout",
       "text": [
        "\r",
        "Sample: 15600 = 31.2%   acc. fr. = 0.326285   pos = -1.644754e+01 -1.769641e+01  lnprob = 1.802258e+03   "
       ]
      },
      {
       "output_type": "stream",
       "stream": "stdout",
       "text": [
        "\r",
        "Sample: 15700 = 31.4%   acc. fr. = 0.326182   pos = -1.520805e+01 -1.687928e+01  lnprob = 1.792780e+03   "
       ]
      },
      {
       "output_type": "stream",
       "stream": "stdout",
       "text": [
        "\r",
        "Sample: 15800 = 31.6%   acc. fr. = 0.326017   pos = -1.663286e+01 -1.791333e+01  lnprob = 1.795311e+03   "
       ]
      },
      {
       "output_type": "stream",
       "stream": "stdout",
       "text": [
        "\r",
        "Sample: 15900 = 31.8%   acc. fr. = 0.327167   pos = -1.637319e+01 -1.495480e+01  lnprob = 1.794608e+03   "
       ]
      },
      {
       "output_type": "stream",
       "stream": "stdout",
       "text": [
        "\r",
        "Sample: 16000 = 32.0%   acc. fr. = 0.326129   pos = -1.646080e+01 -1.516812e+01  lnprob = 1.796730e+03   "
       ]
      },
      {
       "output_type": "stream",
       "stream": "stdout",
       "text": [
        "\r",
        "Sample: 16100 = 32.2%   acc. fr. = 0.325844   pos = -1.736142e+01 -1.473883e+01  lnprob = 1.795645e+03   "
       ]
      },
      {
       "output_type": "stream",
       "stream": "stdout",
       "text": [
        "\r",
        "Sample: 16200 = 32.4%   acc. fr. = 0.326115   pos = -1.733792e+01 -1.481799e+01  lnprob = 1.794106e+03   "
       ]
      },
      {
       "output_type": "stream",
       "stream": "stdout",
       "text": [
        "\r",
        "Sample: 16300 = 32.6%   acc. fr. = 0.326383   pos = -1.766370e+01 -1.576739e+01  lnprob = 1.801491e+03   "
       ]
      },
      {
       "output_type": "stream",
       "stream": "stdout",
       "text": [
        "\r",
        "Sample: 16400 = 32.8%   acc. fr. = 0.325556   pos = -1.727184e+01 -1.479600e+01  lnprob = 1.798080e+03   "
       ]
      },
      {
       "output_type": "stream",
       "stream": "stdout",
       "text": [
        "\r",
        "Sample: 16500 = 33.0%   acc. fr. = 0.324559   pos = -1.763182e+01 -1.577546e+01  lnprob = 1.794597e+03   "
       ]
      },
      {
       "output_type": "stream",
       "stream": "stdout",
       "text": [
        "\r",
        "Sample: 16600 = 33.2%   acc. fr. = 0.323035   pos = -1.740816e+01 -1.576162e+01  lnprob = 1.794366e+03   "
       ]
      },
      {
       "output_type": "stream",
       "stream": "stdout",
       "text": [
        "\r",
        "Sample: 16700 = 33.4%   acc. fr. = 0.322481   pos = -1.731881e+01 -1.611475e+01  lnprob = 1.795200e+03   "
       ]
      },
      {
       "output_type": "stream",
       "stream": "stdout",
       "text": [
        "\r",
        "Sample: 16800 = 33.6%   acc. fr. = 0.322703   pos = -1.635689e+01 -1.767993e+01  lnprob = 1.799643e+03   "
       ]
      },
      {
       "output_type": "stream",
       "stream": "stdout",
       "text": [
        "\r",
        "Sample: 16900 = 33.8%   acc. fr. = 0.322863   pos = -1.670330e+01 -1.794800e+01  lnprob = 1.798641e+03   "
       ]
      },
      {
       "output_type": "stream",
       "stream": "stdout",
       "text": [
        "\r",
        "Sample: 17000 = 34.0%   acc. fr. = 0.322847   pos = -1.630757e+01 -1.753560e+01  lnprob = 1.803492e+03   "
       ]
      },
      {
       "output_type": "stream",
       "stream": "stdout",
       "text": [
        "\r",
        "Sample: 17100 = 34.2%   acc. fr. = 0.323411   pos = -1.602120e+01 -1.536008e+01  lnprob = 1.797407e+03   "
       ]
      },
      {
       "output_type": "stream",
       "stream": "stdout",
       "text": [
        "\r",
        "Sample: 17200 = 34.4%   acc. fr. = 0.323912   pos = -1.465880e+01 -1.716735e+01  lnprob = 1.796358e+03   "
       ]
      },
      {
       "output_type": "stream",
       "stream": "stdout",
       "text": [
        "\r",
        "Sample: 17300 = 34.6%   acc. fr. = 0.324464   pos = -1.448654e+01 -1.793427e+01  lnprob = 1.799505e+03   "
       ]
      },
      {
       "output_type": "stream",
       "stream": "stdout",
       "text": [
        "\r",
        "Sample: 17400 = 34.8%   acc. fr. = 0.324039   pos = -1.485797e+01 -1.789765e+01  lnprob = 1.800514e+03   "
       ]
      },
      {
       "output_type": "stream",
       "stream": "stdout",
       "text": [
        "\r",
        "Sample: 17500 = 35.0%   acc. fr. = 0.323334   pos = -1.509287e+01 -1.749420e+01  lnprob = 1.803782e+03   "
       ]
      },
      {
       "output_type": "stream",
       "stream": "stdout",
       "text": [
        "\r",
        "Sample: 17600 = 35.2%   acc. fr. = 0.323089   pos = -1.566238e+01 -1.679390e+01  lnprob = 1.797115e+03   "
       ]
      },
      {
       "output_type": "stream",
       "stream": "stdout",
       "text": [
        "\r",
        "Sample: 17700 = 35.4%   acc. fr. = 0.323240   pos = -1.568043e+01 -1.553175e+01  lnprob = 1.801591e+03   "
       ]
      },
      {
       "output_type": "stream",
       "stream": "stdout",
       "text": [
        "\r",
        "Sample: 17800 = 35.6%   acc. fr. = 0.322999   pos = -1.601176e+01 -1.512889e+01  lnprob = 1.800478e+03   "
       ]
      },
      {
       "output_type": "stream",
       "stream": "stdout",
       "text": [
        "\r",
        "Sample: 17900 = 35.8%   acc. fr. = 0.321927   pos = -1.631651e+01 -1.555616e+01  lnprob = 1.795603e+03   "
       ]
      },
      {
       "output_type": "stream",
       "stream": "stdout",
       "text": [
        "\r",
        "Sample: 18000 = 36.0%   acc. fr. = 0.321474   pos = -1.664422e+01 -1.621260e+01  lnprob = 1.799733e+03   "
       ]
      },
      {
       "output_type": "stream",
       "stream": "stdout",
       "text": [
        "\r",
        "Sample: 18100 = 36.2%   acc. fr. = 0.321136   pos = -1.625114e+01 -1.688465e+01  lnprob = 1.799040e+03   "
       ]
      },
      {
       "output_type": "stream",
       "stream": "stdout",
       "text": [
        "\r",
        "Sample: 18200 = 36.4%   acc. fr. = 0.321458   pos = -1.654480e+01 -1.625217e+01  lnprob = 1.801234e+03   "
       ]
      },
      {
       "output_type": "stream",
       "stream": "stdout",
       "text": [
        "\r",
        "Sample: 18300 = 36.6%   acc. fr. = 0.321613   pos = -1.777683e+01 -1.628189e+01  lnprob = 1.800237e+03   "
       ]
      },
      {
       "output_type": "stream",
       "stream": "stdout",
       "text": [
        "\r",
        "Sample: 18400 = 36.8%   acc. fr. = 0.321658   pos = -1.789158e+01 -1.611522e+01  lnprob = 1.795066e+03   "
       ]
      },
      {
       "output_type": "stream",
       "stream": "stdout",
       "text": [
        "\r",
        "Sample: 18500 = 37.0%   acc. fr. = 0.320897   pos = -1.669380e+01 -1.714808e+01  lnprob = 1.797206e+03   "
       ]
      },
      {
       "output_type": "stream",
       "stream": "stdout",
       "text": [
        "\r",
        "Sample: 18600 = 37.2%   acc. fr. = 0.320411   pos = -1.654172e+01 -1.732016e+01  lnprob = 1.801009e+03   "
       ]
      },
      {
       "output_type": "stream",
       "stream": "stdout",
       "text": [
        "\r",
        "Sample: 18700 = 37.4%   acc. fr. = 0.320408   pos = -1.599795e+01 -1.624462e+01  lnprob = 1.798281e+03   "
       ]
      },
      {
       "output_type": "stream",
       "stream": "stdout",
       "text": [
        "\r",
        "Sample: 18800 = 37.6%   acc. fr. = 0.320406   pos = -1.689634e+01 -1.632908e+01  lnprob = 1.803780e+03   "
       ]
      },
      {
       "output_type": "stream",
       "stream": "stdout",
       "text": [
        "\r",
        "Sample: 18900 = 37.8%   acc. fr. = 0.320615   pos = -1.637191e+01 -1.699914e+01  lnprob = 1.801296e+03   "
       ]
      },
      {
       "output_type": "stream",
       "stream": "stdout",
       "text": [
        "\r",
        "Sample: 19000 = 38.0%   acc. fr. = 0.320454   pos = -1.522855e+01 -1.644437e+01  lnprob = 1.799631e+03   "
       ]
      },
      {
       "output_type": "stream",
       "stream": "stdout",
       "text": [
        "\r",
        "Sample: 19100 = 38.2%   acc. fr. = 0.320140   pos = -1.587584e+01 -1.684488e+01  lnprob = 1.801138e+03   "
       ]
      },
      {
       "output_type": "stream",
       "stream": "stdout",
       "text": [
        "\r",
        "Sample: 19200 = 38.4%   acc. fr. = 0.320553   pos = -1.491965e+01 -1.776185e+01  lnprob = 1.799953e+03   "
       ]
      },
      {
       "output_type": "stream",
       "stream": "stdout",
       "text": [
        "\r",
        "Sample: 19300 = 38.6%   acc. fr. = 0.319726   pos = -1.454029e+01 -1.795643e+01  lnprob = 1.800029e+03   "
       ]
      },
      {
       "output_type": "stream",
       "stream": "stdout",
       "text": [
        "\r",
        "Sample: 19400 = 38.8%   acc. fr. = 0.319266   pos = -1.510018e+01 -1.782351e+01  lnprob = 1.802240e+03   "
       ]
      },
      {
       "output_type": "stream",
       "stream": "stdout",
       "text": [
        "\r",
        "Sample: 19500 = 39.0%   acc. fr. = 0.319116   pos = -1.571851e+01 -1.725589e+01  lnprob = 1.801106e+03   "
       ]
      },
      {
       "output_type": "stream",
       "stream": "stdout",
       "text": [
        "\r",
        "Sample: 19600 = 39.2%   acc. fr. = 0.319070   pos = -1.599084e+01 -1.644129e+01  lnprob = 1.799104e+03   "
       ]
      },
      {
       "output_type": "stream",
       "stream": "stdout",
       "text": [
        "\r",
        "Sample: 19700 = 39.4%   acc. fr. = 0.319681   pos = -1.456449e+01 -1.763310e+01  lnprob = 1.790116e+03   "
       ]
      },
      {
       "output_type": "stream",
       "stream": "stdout",
       "text": [
        "\r",
        "Sample: 19800 = 39.6%   acc. fr. = 0.320034   pos = -1.400333e+01 -1.776905e+01  lnprob = 1.792083e+03   "
       ]
      },
      {
       "output_type": "stream",
       "stream": "stdout",
       "text": [
        "\r",
        "Sample: 19900 = 39.8%   acc. fr. = 0.319984   pos = -1.599097e+01 -1.741017e+01  lnprob = 1.797928e+03   "
       ]
      },
      {
       "output_type": "stream",
       "stream": "stdout",
       "text": [
        "\r",
        "Sample: 20000 = 40.0%   acc. fr. = 0.319288   pos = -1.482295e+01 -1.615074e+01  lnprob = 1.799682e+03   "
       ]
      },
      {
       "output_type": "stream",
       "stream": "stdout",
       "text": [
        "\r",
        "Sample: 20100 = 40.2%   acc. fr. = 0.318994   pos = -1.470766e+01 -1.677468e+01  lnprob = 1.800335e+03   "
       ]
      },
      {
       "output_type": "stream",
       "stream": "stdout",
       "text": [
        "\r",
        "Sample: 20200 = 40.4%   acc. fr. = 0.317768   pos = -1.521727e+01 -1.671408e+01  lnprob = 1.801276e+03   "
       ]
      },
      {
       "output_type": "stream",
       "stream": "stdout",
       "text": [
        "\r",
        "Sample: 20300 = 40.6%   acc. fr. = 0.316553   pos = -1.453916e+01 -1.727076e+01  lnprob = 1.800901e+03   "
       ]
      },
      {
       "output_type": "stream",
       "stream": "stdout",
       "text": [
        "\r",
        "Sample: 20400 = 40.8%   acc. fr. = 0.316228   pos = -1.611646e+01 -1.774956e+01  lnprob = 1.805383e+03   "
       ]
      },
      {
       "output_type": "stream",
       "stream": "stdout",
       "text": [
        "\r",
        "Sample: 20500 = 41.0%   acc. fr. = 0.316004   pos = -1.673784e+01 -1.756018e+01  lnprob = 1.800683e+03   "
       ]
      },
      {
       "output_type": "stream",
       "stream": "stdout",
       "text": [
        "\r",
        "Sample: 20600 = 41.2%   acc. fr. = 0.316265   pos = -1.748138e+01 -1.780397e+01  lnprob = 1.796776e+03   "
       ]
      },
      {
       "output_type": "stream",
       "stream": "stdout",
       "text": [
        "\r",
        "Sample: 20700 = 41.4%   acc. fr. = 0.315658   pos = -1.798984e+01 -1.647399e+01  lnprob = 1.801173e+03   "
       ]
      },
      {
       "output_type": "stream",
       "stream": "stdout",
       "text": [
        "\r",
        "Sample: 20800 = 41.6%   acc. fr. = 0.314291   pos = -1.791143e+01 -1.676948e+01  lnprob = 1.802723e+03   "
       ]
      },
      {
       "output_type": "stream",
       "stream": "stdout",
       "text": [
        "\r",
        "Sample: 20900 = 41.8%   acc. fr. = 0.314080   pos = -1.655149e+01 -1.697226e+01  lnprob = 1.802645e+03   "
       ]
      },
      {
       "output_type": "stream",
       "stream": "stdout",
       "text": [
        "\r",
        "Sample: 21000 = 42.0%   acc. fr. = 0.314108   pos = -1.578445e+01 -1.684077e+01  lnprob = 1.804407e+03   "
       ]
      },
      {
       "output_type": "stream",
       "stream": "stdout",
       "text": [
        "\r",
        "Sample: 21100 = 42.2%   acc. fr. = 0.314513   pos = -1.766662e+01 -1.574843e+01  lnprob = 1.801974e+03   "
       ]
      },
      {
       "output_type": "stream",
       "stream": "stdout",
       "text": [
        "\r",
        "Sample: 21200 = 42.4%   acc. fr. = 0.315196   pos = -1.695236e+01 -1.646955e+01  lnprob = 1.797077e+03   "
       ]
      },
      {
       "output_type": "stream",
       "stream": "stdout",
       "text": [
        "\r",
        "Sample: 21300 = 42.6%   acc. fr. = 0.315967   pos = -1.623986e+01 -1.638561e+01  lnprob = 1.801894e+03   "
       ]
      },
      {
       "output_type": "stream",
       "stream": "stdout",
       "text": [
        "\r",
        "Sample: 21400 = 42.8%   acc. fr. = 0.315660   pos = -1.627269e+01 -1.615815e+01  lnprob = 1.798537e+03   "
       ]
      },
      {
       "output_type": "stream",
       "stream": "stdout",
       "text": [
        "\r",
        "Sample: 21500 = 43.0%   acc. fr. = 0.315634   pos = -1.640455e+01 -1.678245e+01  lnprob = 1.798663e+03   "
       ]
      },
      {
       "output_type": "stream",
       "stream": "stdout",
       "text": [
        "\r",
        "Sample: 21600 = 43.2%   acc. fr. = 0.315700   pos = -1.636652e+01 -1.717520e+01  lnprob = 1.798647e+03   "
       ]
      },
      {
       "output_type": "stream",
       "stream": "stdout",
       "text": [
        "\r",
        "Sample: 21700 = 43.4%   acc. fr. = 0.316178   pos = -1.599106e+01 -1.622935e+01  lnprob = 1.803465e+03   "
       ]
      },
      {
       "output_type": "stream",
       "stream": "stdout",
       "text": [
        "\r",
        "Sample: 21800 = 43.6%   acc. fr. = 0.316652   pos = -1.652128e+01 -1.797616e+01  lnprob = 1.796940e+03   "
       ]
      },
      {
       "output_type": "stream",
       "stream": "stdout",
       "text": [
        "\r",
        "Sample: 21900 = 43.8%   acc. fr. = 0.316304   pos = -1.538157e+01 -1.693663e+01  lnprob = 1.799111e+03   "
       ]
      },
      {
       "output_type": "stream",
       "stream": "stdout",
       "text": [
        "\r",
        "Sample: 22000 = 44.0%   acc. fr. = 0.316502   pos = -1.577226e+01 -1.780764e+01  lnprob = 1.802858e+03   "
       ]
      },
      {
       "output_type": "stream",
       "stream": "stdout",
       "text": [
        "\r",
        "Sample: 22100 = 44.2%   acc. fr. = 0.316337   pos = -1.516446e+01 -1.794996e+01  lnprob = 1.801667e+03   "
       ]
      },
      {
       "output_type": "stream",
       "stream": "stdout",
       "text": [
        "\r",
        "Sample: 22200 = 44.4%   acc. fr. = 0.316174   pos = -1.624417e+01 -1.784753e+01  lnprob = 1.804242e+03   "
       ]
      },
      {
       "output_type": "stream",
       "stream": "stdout",
       "text": [
        "\r",
        "Sample: 22300 = 44.6%   acc. fr. = 0.316548   pos = -1.722849e+01 -1.677938e+01  lnprob = 1.799968e+03   "
       ]
      },
      {
       "output_type": "stream",
       "stream": "stdout",
       "text": [
        "\r",
        "Sample: 22400 = 44.8%   acc. fr. = 0.316253   pos = -1.705690e+01 -1.728106e+01  lnprob = 1.796581e+03   "
       ]
      },
      {
       "output_type": "stream",
       "stream": "stdout",
       "text": [
        "\r",
        "Sample: 22500 = 45.0%   acc. fr. = 0.316667   pos = -1.776730e+01 -1.594460e+01  lnprob = 1.796502e+03   "
       ]
      },
      {
       "output_type": "stream",
       "stream": "stdout",
       "text": [
        "\r",
        "Sample: 22600 = 45.2%   acc. fr. = 0.316638   pos = -1.672156e+01 -1.648896e+01  lnprob = 1.797752e+03   "
       ]
      },
      {
       "output_type": "stream",
       "stream": "stdout",
       "text": [
        "\r",
        "Sample: 22700 = 45.4%   acc. fr. = 0.317179   pos = -1.738657e+01 -1.717822e+01  lnprob = 1.798725e+03   "
       ]
      },
      {
       "output_type": "stream",
       "stream": "stdout",
       "text": [
        "\r",
        "Sample: 22800 = 45.6%   acc. fr. = 0.317453   pos = -1.594083e+01 -1.693691e+01  lnprob = 1.801664e+03   "
       ]
      },
      {
       "output_type": "stream",
       "stream": "stdout",
       "text": [
        "\r",
        "Sample: 22900 = 45.8%   acc. fr. = 0.317247   pos = -1.685521e+01 -1.658065e+01  lnprob = 1.799124e+03   "
       ]
      },
      {
       "output_type": "stream",
       "stream": "stdout",
       "text": [
        "\r",
        "Sample: 23000 = 46.0%   acc. fr. = 0.317432   pos = -1.568298e+01 -1.553046e+01  lnprob = 1.792955e+03   "
       ]
      },
      {
       "output_type": "stream",
       "stream": "stdout",
       "text": [
        "\r",
        "Sample: 23100 = 46.2%   acc. fr. = 0.317400   pos = -1.403563e+01 -1.603871e+01  lnprob = 1.794388e+03   "
       ]
      },
      {
       "output_type": "stream",
       "stream": "stdout",
       "text": [
        "\r",
        "Sample: 23200 = 46.4%   acc. fr. = 0.317025   pos = -1.563981e+01 -1.638983e+01  lnprob = 1.790073e+03   "
       ]
      },
      {
       "output_type": "stream",
       "stream": "stdout",
       "text": [
        "\r",
        "Sample: 23300 = 46.6%   acc. fr. = 0.317166   pos = -1.494695e+01 -1.544133e+01  lnprob = 1.796589e+03   "
       ]
      },
      {
       "output_type": "stream",
       "stream": "stdout",
       "text": [
        "\r",
        "Sample: 23400 = 46.8%   acc. fr. = 0.316923   pos = -1.600863e+01 -1.518894e+01  lnprob = 1.801209e+03   "
       ]
      },
      {
       "output_type": "stream",
       "stream": "stdout",
       "text": [
        "\r",
        "Sample: 23500 = 47.0%   acc. fr. = 0.316893   pos = -1.658126e+01 -1.532029e+01  lnprob = 1.797948e+03   "
       ]
      },
      {
       "output_type": "stream",
       "stream": "stdout",
       "text": [
        "\r",
        "Sample: 23600 = 47.2%   acc. fr. = 0.317117   pos = -1.526419e+01 -1.600498e+01  lnprob = 1.800389e+03   "
       ]
      },
      {
       "output_type": "stream",
       "stream": "stdout",
       "text": [
        "\r",
        "Sample: 23700 = 47.4%   acc. fr. = 0.317592   pos = -1.611226e+01 -1.604941e+01  lnprob = 1.794209e+03   "
       ]
      },
      {
       "output_type": "stream",
       "stream": "stdout",
       "text": [
        "\r",
        "Sample: 23800 = 47.6%   acc. fr. = 0.317560   pos = -1.757327e+01 -1.747204e+01  lnprob = 1.796560e+03   "
       ]
      },
      {
       "output_type": "stream",
       "stream": "stdout",
       "text": [
        "\r",
        "Sample: 23900 = 47.8%   acc. fr. = 0.317278   pos = -1.743862e+01 -1.746023e+01  lnprob = 1.791985e+03   "
       ]
      },
      {
       "output_type": "stream",
       "stream": "stdout",
       "text": [
        "\r",
        "Sample: 24000 = 48.0%   acc. fr. = 0.317041   pos = -1.744986e+01 -1.790249e+01  lnprob = 1.788642e+03   "
       ]
      },
      {
       "output_type": "stream",
       "stream": "stdout",
       "text": [
        "\r",
        "Sample: 24100 = 48.2%   acc. fr. = 0.316846   pos = -1.761392e+01 -1.793795e+01  lnprob = 1.794570e+03   "
       ]
      },
      {
       "output_type": "stream",
       "stream": "stdout",
       "text": [
        "\r",
        "Sample: 24200 = 48.4%   acc. fr. = 0.316324   pos = -1.790027e+01 -1.755557e+01  lnprob = 1.797813e+03   "
       ]
      },
      {
       "output_type": "stream",
       "stream": "stdout",
       "text": [
        "\r",
        "Sample: 24300 = 48.6%   acc. fr. = 0.316176   pos = -1.790943e+01 -1.721199e+01  lnprob = 1.797418e+03   "
       ]
      },
      {
       "output_type": "stream",
       "stream": "stdout",
       "text": [
        "\r",
        "Sample: 24400 = 48.8%   acc. fr. = 0.316273   pos = -1.680275e+01 -1.775814e+01  lnprob = 1.804842e+03   "
       ]
      },
      {
       "output_type": "stream",
       "stream": "stdout",
       "text": [
        "\r",
        "Sample: 24500 = 49.0%   acc. fr. = 0.316410   pos = -1.657877e+01 -1.706116e+01  lnprob = 1.801408e+03   "
       ]
      },
      {
       "output_type": "stream",
       "stream": "stdout",
       "text": [
        "\r",
        "Sample: 24600 = 49.2%   acc. fr. = 0.316829   pos = -1.627167e+01 -1.710024e+01  lnprob = 1.796989e+03   "
       ]
      },
      {
       "output_type": "stream",
       "stream": "stdout",
       "text": [
        "\r",
        "Sample: 24700 = 49.4%   acc. fr. = 0.316681   pos = -1.589027e+01 -1.640747e+01  lnprob = 1.804716e+03   "
       ]
      },
      {
       "output_type": "stream",
       "stream": "stdout",
       "text": [
        "\r",
        "Sample: 24800 = 49.6%   acc. fr. = 0.316333   pos = -1.646568e+01 -1.613218e+01  lnprob = 1.804488e+03   "
       ]
      },
      {
       "output_type": "stream",
       "stream": "stdout",
       "text": [
        "\r",
        "Sample: 24900 = 49.8%   acc. fr. = 0.316787   pos = -1.686199e+01 -1.721304e+01  lnprob = 1.802907e+03   "
       ]
      },
      {
       "output_type": "stream",
       "stream": "stdout",
       "text": [
        "\r",
        "Sample: 25000 = 50.0%   acc. fr. = 0.316800   pos = -1.589812e+01 -1.614439e+01  lnprob = 1.802423e+03   "
       ]
      },
      {
       "output_type": "stream",
       "stream": "stdout",
       "text": [
        "\r",
        "Sample: 25100 = 50.2%   acc. fr. = 0.316773   pos = -1.530462e+01 -1.518768e+01  lnprob = 1.804888e+03   "
       ]
      },
      {
       "output_type": "stream",
       "stream": "stdout",
       "text": [
        "\r",
        "Sample: 25200 = 50.4%   acc. fr. = 0.316114   pos = -1.654493e+01 -1.541320e+01  lnprob = 1.803823e+03   "
       ]
      },
      {
       "output_type": "stream",
       "stream": "stdout",
       "text": [
        "\r",
        "Sample: 25300 = 50.6%   acc. fr. = 0.315421   pos = -1.726325e+01 -1.634477e+01  lnprob = 1.804947e+03   "
       ]
      },
      {
       "output_type": "stream",
       "stream": "stdout",
       "text": [
        "\r",
        "Sample: 25400 = 50.8%   acc. fr. = 0.315439   pos = -1.542241e+01 -1.471924e+01  lnprob = 1.802529e+03   "
       ]
      },
      {
       "output_type": "stream",
       "stream": "stdout",
       "text": [
        "\r",
        "Sample: 25500 = 51.0%   acc. fr. = 0.315300   pos = -1.676776e+01 -1.565524e+01  lnprob = 1.801183e+03   "
       ]
      },
      {
       "output_type": "stream",
       "stream": "stdout",
       "text": [
        "\r",
        "Sample: 25600 = 51.2%   acc. fr. = 0.315630   pos = -1.705694e+01 -1.505342e+01  lnprob = 1.803122e+03   "
       ]
      },
      {
       "output_type": "stream",
       "stream": "stdout",
       "text": [
        "\r",
        "Sample: 25700 = 51.4%   acc. fr. = 0.315802   pos = -1.744730e+01 -1.583755e+01  lnprob = 1.793036e+03   "
       ]
      },
      {
       "output_type": "stream",
       "stream": "stdout",
       "text": [
        "\r",
        "Sample: 25800 = 51.6%   acc. fr. = 0.316011   pos = -1.636330e+01 -1.672638e+01  lnprob = 1.792953e+03   "
       ]
      },
      {
       "output_type": "stream",
       "stream": "stdout",
       "text": [
        "\r",
        "Sample: 25900 = 51.8%   acc. fr. = 0.315834   pos = -1.667009e+01 -1.785452e+01  lnprob = 1.797566e+03   "
       ]
      },
      {
       "output_type": "stream",
       "stream": "stdout",
       "text": [
        "\r",
        "Sample: 26000 = 52.0%   acc. fr. = 0.315543   pos = -1.704926e+01 -1.768927e+01  lnprob = 1.803789e+03   "
       ]
      },
      {
       "output_type": "stream",
       "stream": "stdout",
       "text": [
        "\r",
        "Sample: 26100 = 52.2%   acc. fr. = 0.315599   pos = -1.797023e+01 -1.767725e+01  lnprob = 1.802790e+03   "
       ]
      },
      {
       "output_type": "stream",
       "stream": "stdout",
       "text": [
        "\r",
        "Sample: 26200 = 52.4%   acc. fr. = 0.315387   pos = -1.620513e+01 -1.716258e+01  lnprob = 1.801271e+03   "
       ]
      },
      {
       "output_type": "stream",
       "stream": "stdout",
       "text": [
        "\r",
        "Sample: 26300 = 52.6%   acc. fr. = 0.315367   pos = -1.784918e+01 -1.720042e+01  lnprob = 1.802404e+03   "
       ]
      },
      {
       "output_type": "stream",
       "stream": "stdout",
       "text": [
        "\r",
        "Sample: 26400 = 52.8%   acc. fr. = 0.315498   pos = -1.716476e+01 -1.786734e+01  lnprob = 1.803359e+03   "
       ]
      },
      {
       "output_type": "stream",
       "stream": "stdout",
       "text": [
        "\r",
        "Sample: 26500 = 53.0%   acc. fr. = 0.315402   pos = -1.682083e+01 -1.771916e+01  lnprob = 1.805127e+03   "
       ]
      },
      {
       "output_type": "stream",
       "stream": "stdout",
       "text": [
        "\r",
        "Sample: 26600 = 53.2%   acc. fr. = 0.315381   pos = -1.733973e+01 -1.771109e+01  lnprob = 1.804211e+03   "
       ]
      },
      {
       "output_type": "stream",
       "stream": "stdout",
       "text": [
        "\r",
        "Sample: 26700 = 53.4%   acc. fr. = 0.315436   pos = -1.730432e+01 -1.795506e+01  lnprob = 1.798915e+03   "
       ]
      },
      {
       "output_type": "stream",
       "stream": "stdout",
       "text": [
        "\r",
        "Sample: 26800 = 53.6%   acc. fr. = 0.315750   pos = -1.600360e+01 -1.671794e+01  lnprob = 1.795974e+03   "
       ]
      },
      {
       "output_type": "stream",
       "stream": "stdout",
       "text": [
        "\r",
        "Sample: 26900 = 53.8%   acc. fr. = 0.315618   pos = -1.507178e+01 -1.797338e+01  lnprob = 1.796984e+03   "
       ]
      },
      {
       "output_type": "stream",
       "stream": "stdout",
       "text": [
        "\r",
        "Sample: 27000 = 54.0%   acc. fr. = 0.315302   pos = -1.605101e+01 -1.798965e+01  lnprob = 1.797088e+03   "
       ]
      },
      {
       "output_type": "stream",
       "stream": "stdout",
       "text": [
        "\r",
        "Sample: 27100 = 54.2%   acc. fr. = 0.315135   pos = -1.716777e+01 -1.748511e+01  lnprob = 1.798549e+03   "
       ]
      },
      {
       "output_type": "stream",
       "stream": "stdout",
       "text": [
        "\r",
        "Sample: 27200 = 54.4%   acc. fr. = 0.314677   pos = -1.776723e+01 -1.752944e+01  lnprob = 1.798981e+03   "
       ]
      },
      {
       "output_type": "stream",
       "stream": "stdout",
       "text": [
        "\r",
        "Sample: 27300 = 54.6%   acc. fr. = 0.315171   pos = -1.744165e+01 -1.711124e+01  lnprob = 1.801538e+03   "
       ]
      },
      {
       "output_type": "stream",
       "stream": "stdout",
       "text": [
        "\r",
        "Sample: 27400 = 54.8%   acc. fr. = 0.314461   pos = -1.757898e+01 -1.655015e+01  lnprob = 1.799012e+03   "
       ]
      },
      {
       "output_type": "stream",
       "stream": "stdout",
       "text": [
        "\r",
        "Sample: 27500 = 55.0%   acc. fr. = 0.314192   pos = -1.785281e+01 -1.642924e+01  lnprob = 1.802638e+03   "
       ]
      },
      {
       "output_type": "stream",
       "stream": "stdout",
       "text": [
        "\r",
        "Sample: 27600 = 55.2%   acc. fr. = 0.314176   pos = -1.711658e+01 -1.625703e+01  lnprob = 1.799866e+03   "
       ]
      },
      {
       "output_type": "stream",
       "stream": "stdout",
       "text": [
        "\r",
        "Sample: 27700 = 55.4%   acc. fr. = 0.314341   pos = -1.705579e+01 -1.574747e+01  lnprob = 1.798601e+03   "
       ]
      },
      {
       "output_type": "stream",
       "stream": "stdout",
       "text": [
        "\r",
        "Sample: 27800 = 55.6%   acc. fr. = 0.314648   pos = -1.599494e+01 -1.614707e+01  lnprob = 1.799668e+03   "
       ]
      },
      {
       "output_type": "stream",
       "stream": "stdout",
       "text": [
        "\r",
        "Sample: 27900 = 55.8%   acc. fr. = 0.314739   pos = -1.481438e+01 -1.721214e+01  lnprob = 1.800513e+03   "
       ]
      },
      {
       "output_type": "stream",
       "stream": "stdout",
       "text": [
        "\r",
        "Sample: 28000 = 56.0%   acc. fr. = 0.314793   pos = -1.610874e+01 -1.748265e+01  lnprob = 1.799221e+03   "
       ]
      },
      {
       "output_type": "stream",
       "stream": "stdout",
       "text": [
        "\r",
        "Sample: 28100 = 56.2%   acc. fr. = 0.314918   pos = -1.577744e+01 -1.751464e+01  lnprob = 1.800482e+03   "
       ]
      },
      {
       "output_type": "stream",
       "stream": "stdout",
       "text": [
        "\r",
        "Sample: 28200 = 56.4%   acc. fr. = 0.315466   pos = -1.694883e+01 -1.729235e+01  lnprob = 1.800167e+03   "
       ]
      },
      {
       "output_type": "stream",
       "stream": "stdout",
       "text": [
        "\r",
        "Sample: 28300 = 56.6%   acc. fr. = 0.315341   pos = -1.608568e+01 -1.688948e+01  lnprob = 1.799865e+03   "
       ]
      },
      {
       "output_type": "stream",
       "stream": "stdout",
       "text": [
        "\r",
        "Sample: 28400 = 56.8%   acc. fr. = 0.315252   pos = -1.615590e+01 -1.680737e+01  lnprob = 1.800079e+03   "
       ]
      },
      {
       "output_type": "stream",
       "stream": "stdout",
       "text": [
        "\r",
        "Sample: 28500 = 57.0%   acc. fr. = 0.314814   pos = -1.759925e+01 -1.766073e+01  lnprob = 1.796534e+03   "
       ]
      },
      {
       "output_type": "stream",
       "stream": "stdout",
       "text": [
        "\r",
        "Sample: 28600 = 57.2%   acc. fr. = 0.314832   pos = -1.768985e+01 -1.625597e+01  lnprob = 1.798984e+03   "
       ]
      },
      {
       "output_type": "stream",
       "stream": "stdout",
       "text": [
        "\r",
        "Sample: 28700 = 57.4%   acc. fr. = 0.314503   pos = -1.772909e+01 -1.733468e+01  lnprob = 1.798646e+03   "
       ]
      },
      {
       "output_type": "stream",
       "stream": "stdout",
       "text": [
        "\r",
        "Sample: 28800 = 57.6%   acc. fr. = 0.314453   pos = -1.715441e+01 -1.655556e+01  lnprob = 1.798081e+03   "
       ]
      },
      {
       "output_type": "stream",
       "stream": "stdout",
       "text": [
        "\r",
        "Sample: 28900 = 57.8%   acc. fr. = 0.314300   pos = -1.706229e+01 -1.651503e+01  lnprob = 1.799582e+03   "
       ]
      },
      {
       "output_type": "stream",
       "stream": "stdout",
       "text": [
        "\r",
        "Sample: 29000 = 58.0%   acc. fr. = 0.314491   pos = -1.766015e+01 -1.487112e+01  lnprob = 1.796499e+03   "
       ]
      },
      {
       "output_type": "stream",
       "stream": "stdout",
       "text": [
        "\r",
        "Sample: 29100 = 58.2%   acc. fr. = 0.314339   pos = -1.718487e+01 -1.575638e+01  lnprob = 1.803917e+03   "
       ]
      },
      {
       "output_type": "stream",
       "stream": "stdout",
       "text": [
        "\r",
        "Sample: 29200 = 58.4%   acc. fr. = 0.314290   pos = -1.454508e+01 -1.623930e+01  lnprob = 1.801155e+03   "
       ]
      },
      {
       "output_type": "stream",
       "stream": "stdout",
       "text": [
        "\r",
        "Sample: 29300 = 58.6%   acc. fr. = 0.314241   pos = -1.629568e+01 -1.635775e+01  lnprob = 1.795697e+03   "
       ]
      },
      {
       "output_type": "stream",
       "stream": "stdout",
       "text": [
        "\r",
        "Sample: 29400 = 58.8%   acc. fr. = 0.313955   pos = -1.504656e+01 -1.537149e+01  lnprob = 1.800674e+03   "
       ]
      },
      {
       "output_type": "stream",
       "stream": "stdout",
       "text": [
        "\r",
        "Sample: 29500 = 59.0%   acc. fr. = 0.313807   pos = -1.604154e+01 -1.630244e+01  lnprob = 1.800820e+03   "
       ]
      },
      {
       "output_type": "stream",
       "stream": "stdout",
       "text": [
        "\r",
        "Sample: 29600 = 59.2%   acc. fr. = 0.313592   pos = -1.712015e+01 -1.574376e+01  lnprob = 1.803034e+03   "
       ]
      },
      {
       "output_type": "stream",
       "stream": "stdout",
       "text": [
        "\r",
        "Sample: 29700 = 59.4%   acc. fr. = 0.313211   pos = -1.694654e+01 -1.554866e+01  lnprob = 1.802893e+03   "
       ]
      },
      {
       "output_type": "stream",
       "stream": "stdout",
       "text": [
        "\r",
        "Sample: 29800 = 59.6%   acc. fr. = 0.313367   pos = -1.717145e+01 -1.515034e+01  lnprob = 1.797605e+03   "
       ]
      },
      {
       "output_type": "stream",
       "stream": "stdout",
       "text": [
        "\r",
        "Sample: 29900 = 59.8%   acc. fr. = 0.313523   pos = -1.776547e+01 -1.589537e+01  lnprob = 1.803143e+03   "
       ]
      },
      {
       "output_type": "stream",
       "stream": "stdout",
       "text": [
        "\r",
        "Sample: 30000 = 60.0%   acc. fr. = 0.313677   pos = -1.699430e+01 -1.522584e+01  lnprob = 1.797924e+03   "
       ]
      },
      {
       "output_type": "stream",
       "stream": "stdout",
       "text": [
        "\r",
        "Sample: 30100 = 60.2%   acc. fr. = 0.313334   pos = -1.763975e+01 -1.604057e+01  lnprob = 1.796048e+03   "
       ]
      },
      {
       "output_type": "stream",
       "stream": "stdout",
       "text": [
        "\r",
        "Sample: 30200 = 60.4%   acc. fr. = 0.313158   pos = -1.678946e+01 -1.673392e+01  lnprob = 1.789094e+03   "
       ]
      },
      {
       "output_type": "stream",
       "stream": "stdout",
       "text": [
        "\r",
        "Sample: 30300 = 60.6%   acc. fr. = 0.312852   pos = -1.689576e+01 -1.751877e+01  lnprob = 1.794304e+03   "
       ]
      },
      {
       "output_type": "stream",
       "stream": "stdout",
       "text": [
        "\r",
        "Sample: 30400 = 60.8%   acc. fr. = 0.312449   pos = -1.692785e+01 -1.761947e+01  lnprob = 1.797132e+03   "
       ]
      },
      {
       "output_type": "stream",
       "stream": "stdout",
       "text": [
        "\r",
        "Sample: 30500 = 61.0%   acc. fr. = 0.312931   pos = -1.619556e+01 -1.778422e+01  lnprob = 1.795961e+03   "
       ]
      },
      {
       "output_type": "stream",
       "stream": "stdout",
       "text": [
        "\r",
        "Sample: 30600 = 61.2%   acc. fr. = 0.312921   pos = -1.511097e+01 -1.603578e+01  lnprob = 1.795773e+03   "
       ]
      },
      {
       "output_type": "stream",
       "stream": "stdout",
       "text": [
        "\r",
        "Sample: 30700 = 61.4%   acc. fr. = 0.313204   pos = -1.685832e+01 -1.682427e+01  lnprob = 1.801929e+03   "
       ]
      },
      {
       "output_type": "stream",
       "stream": "stdout",
       "text": [
        "\r",
        "Sample: 30800 = 61.6%   acc. fr. = 0.313129   pos = -1.792799e+01 -1.561867e+01  lnprob = 1.801352e+03   "
       ]
      },
      {
       "output_type": "stream",
       "stream": "stdout",
       "text": [
        "\r",
        "Sample: 30900 = 61.8%   acc. fr. = 0.313054   pos = -1.589132e+01 -1.720424e+01  lnprob = 1.798106e+03   "
       ]
      },
      {
       "output_type": "stream",
       "stream": "stdout",
       "text": [
        "\r",
        "Sample: 31000 = 62.0%   acc. fr. = 0.313077   pos = -1.636768e+01 -1.798608e+01  lnprob = 1.798750e+03   "
       ]
      },
      {
       "output_type": "stream",
       "stream": "stdout",
       "text": [
        "\r",
        "Sample: 31100 = 62.2%   acc. fr. = 0.313259   pos = -1.799196e+01 -1.776803e+01  lnprob = 1.803243e+03   "
       ]
      },
      {
       "output_type": "stream",
       "stream": "stdout",
       "text": [
        "\r",
        "Sample: 31200 = 62.4%   acc. fr. = 0.312961   pos = -1.735826e+01 -1.672010e+01  lnprob = 1.800581e+03   "
       ]
      },
      {
       "output_type": "stream",
       "stream": "stdout",
       "text": [
        "\r",
        "Sample: 31300 = 62.6%   acc. fr. = 0.313238   pos = -1.734994e+01 -1.659502e+01  lnprob = 1.803294e+03   "
       ]
      },
      {
       "output_type": "stream",
       "stream": "stdout",
       "text": [
        "\r",
        "Sample: 31400 = 62.8%   acc. fr. = 0.312847   pos = -1.649182e+01 -1.621025e+01  lnprob = 1.804874e+03   "
       ]
      },
      {
       "output_type": "stream",
       "stream": "stdout",
       "text": [
        "\r",
        "Sample: 31500 = 63.0%   acc. fr. = 0.313123   pos = -1.601802e+01 -1.598971e+01  lnprob = 1.804923e+03   "
       ]
      },
      {
       "output_type": "stream",
       "stream": "stdout",
       "text": [
        "\r",
        "Sample: 31600 = 63.2%   acc. fr. = 0.313176   pos = -1.596211e+01 -1.466869e+01  lnprob = 1.804418e+03   "
       ]
      },
      {
       "output_type": "stream",
       "stream": "stdout",
       "text": [
        "\r",
        "Sample: 31700 = 63.4%   acc. fr. = 0.313701   pos = -1.605612e+01 -1.532908e+01  lnprob = 1.800131e+03   "
       ]
      },
      {
       "output_type": "stream",
       "stream": "stdout",
       "text": [
        "\r",
        "Sample: 31800 = 63.6%   acc. fr. = 0.314034   pos = -1.567624e+01 -1.609010e+01  lnprob = 1.798665e+03   "
       ]
      },
      {
       "output_type": "stream",
       "stream": "stdout",
       "text": [
        "\r",
        "Sample: 31900 = 63.8%   acc. fr. = 0.314084   pos = -1.493644e+01 -1.797936e+01  lnprob = 1.799164e+03   "
       ]
      },
      {
       "output_type": "stream",
       "stream": "stdout",
       "text": [
        "\r",
        "Sample: 32000 = 64.0%   acc. fr. = 0.313947   pos = -1.609153e+01 -1.747448e+01  lnprob = 1.802931e+03   "
       ]
      },
      {
       "output_type": "stream",
       "stream": "stdout",
       "text": [
        "\r",
        "Sample: 32100 = 64.2%   acc. fr. = 0.313810   pos = -1.544151e+01 -1.786901e+01  lnprob = 1.799945e+03   "
       ]
      },
      {
       "output_type": "stream",
       "stream": "stdout",
       "text": [
        "\r",
        "Sample: 32200 = 64.4%   acc. fr. = 0.313798   pos = -1.669814e+01 -1.720339e+01  lnprob = 1.801120e+03   "
       ]
      },
      {
       "output_type": "stream",
       "stream": "stdout",
       "text": [
        "\r",
        "Sample: 32300 = 64.6%   acc. fr. = 0.313694   pos = -1.772180e+01 -1.742337e+01  lnprob = 1.797007e+03   "
       ]
      },
      {
       "output_type": "stream",
       "stream": "stdout",
       "text": [
        "\r",
        "Sample: 32400 = 64.8%   acc. fr. = 0.314021   pos = -1.667594e+01 -1.585944e+01  lnprob = 1.799405e+03   "
       ]
      },
      {
       "output_type": "stream",
       "stream": "stdout",
       "text": [
        "\r",
        "Sample: 32500 = 65.0%   acc. fr. = 0.313855   pos = -1.746479e+01 -1.651833e+01  lnprob = 1.802803e+03   "
       ]
      },
      {
       "output_type": "stream",
       "stream": "stdout",
       "text": [
        "\r",
        "Sample: 32600 = 65.2%   acc. fr. = 0.313415   pos = -1.639615e+01 -1.612764e+01  lnprob = 1.801852e+03   "
       ]
      },
      {
       "output_type": "stream",
       "stream": "stdout",
       "text": [
        "\r",
        "Sample: 32700 = 65.4%   acc. fr. = 0.312643   pos = -1.615292e+01 -1.606500e+01  lnprob = 1.800523e+03   "
       ]
      },
      {
       "output_type": "stream",
       "stream": "stdout",
       "text": [
        "\r",
        "Sample: 32800 = 65.6%   acc. fr. = 0.312908   pos = -1.417743e+01 -1.560582e+01  lnprob = 1.794957e+03   "
       ]
      },
      {
       "output_type": "stream",
       "stream": "stdout",
       "text": [
        "\r",
        "Sample: 32900 = 65.8%   acc. fr. = 0.313566   pos = -1.602006e+01 -1.641722e+01  lnprob = 1.803519e+03   "
       ]
      },
      {
       "output_type": "stream",
       "stream": "stdout",
       "text": [
        "\r",
        "Sample: 33000 = 66.0%   acc. fr. = 0.313284   pos = -1.543519e+01 -1.585029e+01  lnprob = 1.802786e+03   "
       ]
      },
      {
       "output_type": "stream",
       "stream": "stdout",
       "text": [
        "\r",
        "Sample: 33100 = 66.2%   acc. fr. = 0.313876   pos = -1.533692e+01 -1.672668e+01  lnprob = 1.799389e+03   "
       ]
      },
      {
       "output_type": "stream",
       "stream": "stdout",
       "text": [
        "\r",
        "Sample: 33200 = 66.4%   acc. fr. = 0.314045   pos = -1.458038e+01 -1.627377e+01  lnprob = 1.799293e+03   "
       ]
      },
      {
       "output_type": "stream",
       "stream": "stdout",
       "text": [
        "\r",
        "Sample: 33300 = 66.6%   acc. fr. = 0.314212   pos = -1.516811e+01 -1.567431e+01  lnprob = 1.802449e+03   "
       ]
      },
      {
       "output_type": "stream",
       "stream": "stdout",
       "text": [
        "\r",
        "Sample: 33400 = 66.8%   acc. fr. = 0.314110   pos = -1.481518e+01 -1.701246e+01  lnprob = 1.800310e+03   "
       ]
      },
      {
       "output_type": "stream",
       "stream": "stdout",
       "text": [
        "\r",
        "Sample: 33500 = 67.0%   acc. fr. = 0.314366   pos = -1.440113e+01 -1.516241e+01  lnprob = 1.798932e+03   "
       ]
      },
      {
       "output_type": "stream",
       "stream": "stdout",
       "text": [
        "\r",
        "Sample: 33600 = 67.2%   acc. fr. = 0.314264   pos = -1.539927e+01 -1.504168e+01  lnprob = 1.796566e+03   "
       ]
      },
      {
       "output_type": "stream",
       "stream": "stdout",
       "text": [
        "\r",
        "Sample: 33700 = 67.4%   acc. fr. = 0.314310   pos = -1.604172e+01 -1.601877e+01  lnprob = 1.799815e+03   "
       ]
      },
      {
       "output_type": "stream",
       "stream": "stdout",
       "text": [
        "\r",
        "Sample: 33800 = 67.6%   acc. fr. = 0.314592   pos = -1.602655e+01 -1.584810e+01  lnprob = 1.795899e+03   "
       ]
      },
      {
       "output_type": "stream",
       "stream": "stdout",
       "text": [
        "\r",
        "Sample: 33900 = 67.8%   acc. fr. = 0.314697   pos = -1.579685e+01 -1.649932e+01  lnprob = 1.794793e+03   "
       ]
      },
      {
       "output_type": "stream",
       "stream": "stdout",
       "text": [
        "\r",
        "Sample: 34000 = 68.0%   acc. fr. = 0.314448   pos = -1.666764e+01 -1.589860e+01  lnprob = 1.795093e+03   "
       ]
      },
      {
       "output_type": "stream",
       "stream": "stdout",
       "text": [
        "\r",
        "Sample: 34100 = 68.2%   acc. fr. = 0.314318   pos = -1.658159e+01 -1.678778e+01  lnprob = 1.801151e+03   "
       ]
      },
      {
       "output_type": "stream",
       "stream": "stdout",
       "text": [
        "\r",
        "Sample: 34200 = 68.4%   acc. fr. = 0.314772   pos = -1.587604e+01 -1.617822e+01  lnprob = 1.798176e+03   "
       ]
      },
      {
       "output_type": "stream",
       "stream": "stdout",
       "text": [
        "\r",
        "Sample: 34300 = 68.6%   acc. fr. = 0.314962   pos = -1.441499e+01 -1.657679e+01  lnprob = 1.798608e+03   "
       ]
      },
      {
       "output_type": "stream",
       "stream": "stdout",
       "text": [
        "\r",
        "Sample: 34400 = 68.8%   acc. fr. = 0.315005   pos = -1.409317e+01 -1.595990e+01  lnprob = 1.804207e+03   "
       ]
      },
      {
       "output_type": "stream",
       "stream": "stdout",
       "text": [
        "\r",
        "Sample: 34500 = 69.0%   acc. fr. = 0.314933   pos = -1.547272e+01 -1.750556e+01  lnprob = 1.798882e+03   "
       ]
      },
      {
       "output_type": "stream",
       "stream": "stdout",
       "text": [
        "\r",
        "Sample: 34600 = 69.2%   acc. fr. = 0.314890   pos = -1.569171e+01 -1.695698e+01  lnprob = 1.803235e+03   "
       ]
      },
      {
       "output_type": "stream",
       "stream": "stdout",
       "text": [
        "\r",
        "Sample: 34700 = 69.4%   acc. fr. = 0.314560   pos = -1.614409e+01 -1.707236e+01  lnprob = 1.800295e+03   "
       ]
      },
      {
       "output_type": "stream",
       "stream": "stdout",
       "text": [
        "\r",
        "Sample: 34800 = 69.6%   acc. fr. = 0.314174   pos = -1.783873e+01 -1.703768e+01  lnprob = 1.796354e+03   "
       ]
      },
      {
       "output_type": "stream",
       "stream": "stdout",
       "text": [
        "\r",
        "Sample: 34900 = 69.8%   acc. fr. = 0.314248   pos = -1.715255e+01 -1.591542e+01  lnprob = 1.794434e+03   "
       ]
      },
      {
       "output_type": "stream",
       "stream": "stdout",
       "text": [
        "\r",
        "Sample: 35000 = 70.0%   acc. fr. = 0.314492   pos = -1.662181e+01 -1.637633e+01  lnprob = 1.795444e+03   "
       ]
      },
      {
       "output_type": "stream",
       "stream": "stdout",
       "text": [
        "\r",
        "Sample: 35100 = 70.2%   acc. fr. = 0.314224   pos = -1.692690e+01 -1.651507e+01  lnprob = 1.798030e+03   "
       ]
      },
      {
       "output_type": "stream",
       "stream": "stdout",
       "text": [
        "\r",
        "Sample: 35200 = 70.4%   acc. fr. = 0.314184   pos = -1.733160e+01 -1.622165e+01  lnprob = 1.799526e+03   "
       ]
      },
      {
       "output_type": "stream",
       "stream": "stdout",
       "text": [
        "\r",
        "Sample: 35300 = 70.6%   acc. fr. = 0.314228   pos = -1.718728e+01 -1.528220e+01  lnprob = 1.794658e+03   "
       ]
      },
      {
       "output_type": "stream",
       "stream": "stdout",
       "text": [
        "\r",
        "Sample: 35400 = 70.8%   acc. fr. = 0.314245   pos = -1.597380e+01 -1.514236e+01  lnprob = 1.795808e+03   "
       ]
      },
      {
       "output_type": "stream",
       "stream": "stdout",
       "text": [
        "\r",
        "Sample: 35500 = 71.0%   acc. fr. = 0.314008   pos = -1.671291e+01 -1.592917e+01  lnprob = 1.802099e+03   "
       ]
      },
      {
       "output_type": "stream",
       "stream": "stdout",
       "text": [
        "\r",
        "Sample: 35600 = 71.2%   acc. fr. = 0.313801   pos = -1.737997e+01 -1.702854e+01  lnprob = 1.796815e+03   "
       ]
      },
      {
       "output_type": "stream",
       "stream": "stdout",
       "text": [
        "\r",
        "Sample: 35700 = 71.4%   acc. fr. = 0.313567   pos = -1.689392e+01 -1.715592e+01  lnprob = 1.802005e+03   "
       ]
      },
      {
       "output_type": "stream",
       "stream": "stdout",
       "text": [
        "\r",
        "Sample: 35800 = 71.6%   acc. fr. = 0.313863   pos = -1.657976e+01 -1.793070e+01  lnprob = 1.797135e+03   "
       ]
      },
      {
       "output_type": "stream",
       "stream": "stdout",
       "text": [
        "\r",
        "Sample: 35900 = 71.8%   acc. fr. = 0.314325   pos = -1.780367e+01 -1.772106e+01  lnprob = 1.803637e+03   "
       ]
      },
      {
       "output_type": "stream",
       "stream": "stdout",
       "text": [
        "\r",
        "Sample: 36000 = 72.0%   acc. fr. = 0.314340   pos = -1.621114e+01 -1.584967e+01  lnprob = 1.803856e+03   "
       ]
      },
      {
       "output_type": "stream",
       "stream": "stdout",
       "text": [
        "\r",
        "Sample: 36100 = 72.2%   acc. fr. = 0.314549   pos = -1.550332e+01 -1.662656e+01  lnprob = 1.802513e+03   "
       ]
      },
      {
       "output_type": "stream",
       "stream": "stdout",
       "text": [
        "\r",
        "Sample: 36200 = 72.4%   acc. fr. = 0.314372   pos = -1.578991e+01 -1.622671e+01  lnprob = 1.795487e+03   "
       ]
      },
      {
       "output_type": "stream",
       "stream": "stdout",
       "text": [
        "\r",
        "Sample: 36300 = 72.6%   acc. fr. = 0.314085   pos = -1.568915e+01 -1.594034e+01  lnprob = 1.790743e+03   "
       ]
      },
      {
       "output_type": "stream",
       "stream": "stdout",
       "text": [
        "\r",
        "Sample: 36400 = 72.8%   acc. fr. = 0.314019   pos = -1.750127e+01 -1.590158e+01  lnprob = 1.793443e+03   "
       ]
      },
      {
       "output_type": "stream",
       "stream": "stdout",
       "text": [
        "\r",
        "Sample: 36500 = 73.0%   acc. fr. = 0.313571   pos = -1.779531e+01 -1.716310e+01  lnprob = 1.788653e+03   "
       ]
      },
      {
       "output_type": "stream",
       "stream": "stdout",
       "text": [
        "\r",
        "Sample: 36600 = 73.2%   acc. fr. = 0.313397   pos = -1.790597e+01 -1.667052e+01  lnprob = 1.796698e+03   "
       ]
      },
      {
       "output_type": "stream",
       "stream": "stdout",
       "text": [
        "\r",
        "Sample: 36700 = 73.4%   acc. fr. = 0.313388   pos = -1.788979e+01 -1.651282e+01  lnprob = 1.796889e+03   "
       ]
      },
      {
       "output_type": "stream",
       "stream": "stdout",
       "text": [
        "\r",
        "Sample: 36800 = 73.6%   acc. fr. = 0.313623   pos = -1.787925e+01 -1.758688e+01  lnprob = 1.801834e+03   "
       ]
      },
      {
       "output_type": "stream",
       "stream": "stdout",
       "text": [
        "\r",
        "Sample: 36900 = 73.8%   acc. fr. = 0.313316   pos = -1.773763e+01 -1.703725e+01  lnprob = 1.802744e+03   "
       ]
      },
      {
       "output_type": "stream",
       "stream": "stdout",
       "text": [
        "\r",
        "Sample: 37000 = 74.0%   acc. fr. = 0.313199   pos = -1.592954e+01 -1.572323e+01  lnprob = 1.803580e+03   "
       ]
      },
      {
       "output_type": "stream",
       "stream": "stdout",
       "text": [
        "\r",
        "Sample: 37100 = 74.2%   acc. fr. = 0.313432   pos = -1.596506e+01 -1.556576e+01  lnprob = 1.802552e+03   "
       ]
      },
      {
       "output_type": "stream",
       "stream": "stdout",
       "text": [
        "\r",
        "Sample: 37200 = 74.4%   acc. fr. = 0.313584   pos = -1.656730e+01 -1.529362e+01  lnprob = 1.801488e+03   "
       ]
      },
      {
       "output_type": "stream",
       "stream": "stdout",
       "text": [
        "\r",
        "Sample: 37300 = 74.6%   acc. fr. = 0.313334   pos = -1.472260e+01 -1.411844e+01  lnprob = 1.800626e+03   "
       ]
      },
      {
       "output_type": "stream",
       "stream": "stdout",
       "text": [
        "\r",
        "Sample: 37400 = 74.8%   acc. fr. = 0.313325   pos = -1.545823e+01 -1.415740e+01  lnprob = 1.800033e+03   "
       ]
      },
      {
       "output_type": "stream",
       "stream": "stdout",
       "text": [
        "\r",
        "Sample: 37500 = 75.0%   acc. fr. = 0.312997   pos = -1.526315e+01 -1.418782e+01  lnprob = 1.800696e+03   "
       ]
      },
      {
       "output_type": "stream",
       "stream": "stdout",
       "text": [
        "\r",
        "Sample: 37600 = 75.2%   acc. fr. = 0.312830   pos = -1.500873e+01 -1.619366e+01  lnprob = 1.800100e+03   "
       ]
      },
      {
       "output_type": "stream",
       "stream": "stdout",
       "text": [
        "\r",
        "Sample: 37700 = 75.4%   acc. fr. = 0.312796   pos = -1.587129e+01 -1.647267e+01  lnprob = 1.801258e+03   "
       ]
      },
      {
       "output_type": "stream",
       "stream": "stdout",
       "text": [
        "\r",
        "Sample: 37800 = 75.6%   acc. fr. = 0.312657   pos = -1.698344e+01 -1.740309e+01  lnprob = 1.796789e+03   "
       ]
      },
      {
       "output_type": "stream",
       "stream": "stdout",
       "text": [
        "\r",
        "Sample: 37900 = 75.8%   acc. fr. = 0.312939   pos = -1.595757e+01 -1.741104e+01  lnprob = 1.801674e+03   "
       ]
      },
      {
       "output_type": "stream",
       "stream": "stdout",
       "text": [
        "\r",
        "Sample: 38000 = 76.0%   acc. fr. = 0.313430   pos = -1.598325e+01 -1.611673e+01  lnprob = 1.798829e+03   "
       ]
      },
      {
       "output_type": "stream",
       "stream": "stdout",
       "text": [
        "\r",
        "Sample: 38100 = 76.2%   acc. fr. = 0.313316   pos = -1.613620e+01 -1.606651e+01  lnprob = 1.803651e+03   "
       ]
      },
      {
       "output_type": "stream",
       "stream": "stdout",
       "text": [
        "\r",
        "Sample: 38200 = 76.4%   acc. fr. = 0.313308   pos = -1.573426e+01 -1.585702e+01  lnprob = 1.802751e+03   "
       ]
      },
      {
       "output_type": "stream",
       "stream": "stdout",
       "text": [
        "\r",
        "Sample: 38300 = 76.6%   acc. fr. = 0.313455   pos = -1.563945e+01 -1.534523e+01  lnprob = 1.804381e+03   "
       ]
      },
      {
       "output_type": "stream",
       "stream": "stdout",
       "text": [
        "\r",
        "Sample: 38400 = 76.8%   acc. fr. = 0.313343   pos = -1.497938e+01 -1.587744e+01  lnprob = 1.802431e+03   "
       ]
      },
      {
       "output_type": "stream",
       "stream": "stdout",
       "text": [
        "\r",
        "Sample: 38500 = 77.0%   acc. fr. = 0.313230   pos = -1.560128e+01 -1.619552e+01  lnprob = 1.803794e+03   "
       ]
      },
      {
       "output_type": "stream",
       "stream": "stdout",
       "text": [
        "\r",
        "Sample: 38600 = 77.2%   acc. fr. = 0.313093   pos = -1.510405e+01 -1.627993e+01  lnprob = 1.804029e+03   "
       ]
      },
      {
       "output_type": "stream",
       "stream": "stdout",
       "text": [
        "\r",
        "Sample: 38700 = 77.4%   acc. fr. = 0.312930   pos = -1.578245e+01 -1.673589e+01  lnprob = 1.804204e+03   "
       ]
      },
      {
       "output_type": "stream",
       "stream": "stdout",
       "text": [
        "\r",
        "Sample: 38800 = 77.6%   acc. fr. = 0.312640   pos = -1.496928e+01 -1.592911e+01  lnprob = 1.798455e+03   "
       ]
      },
      {
       "output_type": "stream",
       "stream": "stdout",
       "text": [
        "\r",
        "Sample: 38900 = 77.8%   acc. fr. = 0.312505   pos = -1.555350e+01 -1.578883e+01  lnprob = 1.798576e+03   "
       ]
      },
      {
       "output_type": "stream",
       "stream": "stdout",
       "text": [
        "\r",
        "Sample: 39000 = 78.0%   acc. fr. = 0.312319   pos = -1.568378e+01 -1.531956e+01  lnprob = 1.802212e+03   "
       ]
      },
      {
       "output_type": "stream",
       "stream": "stdout",
       "text": [
        "\r",
        "Sample: 39100 = 78.2%   acc. fr. = 0.312084   pos = -1.508750e+01 -1.605421e+01  lnprob = 1.804191e+03   "
       ]
      },
      {
       "output_type": "stream",
       "stream": "stdout",
       "text": [
        "\r",
        "Sample: 39200 = 78.4%   acc. fr. = 0.312257   pos = -1.593121e+01 -1.545351e+01  lnprob = 1.801397e+03   "
       ]
      },
      {
       "output_type": "stream",
       "stream": "stdout",
       "text": [
        "\r",
        "Sample: 39300 = 78.6%   acc. fr. = 0.312733   pos = -1.709070e+01 -1.659822e+01  lnprob = 1.799711e+03   "
       ]
      },
      {
       "output_type": "stream",
       "stream": "stdout",
       "text": [
        "\r",
        "Sample: 39400 = 78.8%   acc. fr. = 0.312600   pos = -1.661151e+01 -1.766623e+01  lnprob = 1.799745e+03   "
       ]
      },
      {
       "output_type": "stream",
       "stream": "stdout",
       "text": [
        "\r",
        "Sample: 39500 = 79.0%   acc. fr. = 0.312947   pos = -1.611609e+01 -1.760462e+01  lnprob = 1.800054e+03   "
       ]
      },
      {
       "output_type": "stream",
       "stream": "stdout",
       "text": [
        "\r",
        "Sample: 39600 = 79.2%   acc. fr. = 0.312939   pos = -1.575439e+01 -1.792842e+01  lnprob = 1.798652e+03   "
       ]
      },
      {
       "output_type": "stream",
       "stream": "stdout",
       "text": [
        "\r",
        "Sample: 39700 = 79.4%   acc. fr. = 0.312882   pos = -1.529320e+01 -1.781287e+01  lnprob = 1.792045e+03   "
       ]
      },
      {
       "output_type": "stream",
       "stream": "stdout",
       "text": [
        "\r",
        "Sample: 39800 = 79.6%   acc. fr. = 0.312699   pos = -1.577727e+01 -1.778663e+01  lnprob = 1.793292e+03   "
       ]
      },
      {
       "output_type": "stream",
       "stream": "stdout",
       "text": [
        "\r",
        "Sample: 39900 = 79.8%   acc. fr. = 0.312867   pos = -1.590075e+01 -1.721397e+01  lnprob = 1.797704e+03   "
       ]
      },
      {
       "output_type": "stream",
       "stream": "stdout",
       "text": [
        "\r",
        "Sample: 40000 = 80.0%   acc. fr. = 0.312885   pos = -1.625702e+01 -1.634420e+01  lnprob = 1.798137e+03   "
       ]
      },
      {
       "output_type": "stream",
       "stream": "stdout",
       "text": [
        "\r",
        "Sample: 40100 = 80.2%   acc. fr. = 0.313375   pos = -1.790733e+01 -1.580320e+01  lnprob = 1.801691e+03   "
       ]
      },
      {
       "output_type": "stream",
       "stream": "stdout",
       "text": [
        "\r",
        "Sample: 40200 = 80.4%   acc. fr. = 0.313665   pos = -1.728719e+01 -1.702124e+01  lnprob = 1.804940e+03   "
       ]
      },
      {
       "output_type": "stream",
       "stream": "stdout",
       "text": [
        "\r",
        "Sample: 40300 = 80.6%   acc. fr. = 0.313928   pos = -1.607077e+01 -1.644563e+01  lnprob = 1.798636e+03   "
       ]
      },
      {
       "output_type": "stream",
       "stream": "stdout",
       "text": [
        "\r",
        "Sample: 40400 = 80.8%   acc. fr. = 0.314190   pos = -1.560480e+01 -1.737650e+01  lnprob = 1.801612e+03   "
       ]
      },
      {
       "output_type": "stream",
       "stream": "stdout",
       "text": [
        "\r",
        "Sample: 40500 = 81.0%   acc. fr. = 0.314155   pos = -1.621504e+01 -1.765732e+01  lnprob = 1.799651e+03   "
       ]
      },
      {
       "output_type": "stream",
       "stream": "stdout",
       "text": [
        "\r",
        "Sample: 40600 = 81.2%   acc. fr. = 0.314366   pos = -1.648379e+01 -1.653279e+01  lnprob = 1.805564e+03   "
       ]
      },
      {
       "output_type": "stream",
       "stream": "stdout",
       "text": [
        "\r",
        "Sample: 40700 = 81.4%   acc. fr. = 0.314478   pos = -1.598433e+01 -1.677409e+01  lnprob = 1.798662e+03   "
       ]
      },
      {
       "output_type": "stream",
       "stream": "stdout",
       "text": [
        "\r",
        "Sample: 40800 = 81.6%   acc. fr. = 0.314467   pos = -1.586838e+01 -1.708522e+01  lnprob = 1.803929e+03   "
       ]
      },
      {
       "output_type": "stream",
       "stream": "stdout",
       "text": [
        "\r",
        "Sample: 40900 = 81.8%   acc. fr. = 0.314602   pos = -1.687313e+01 -1.654690e+01  lnprob = 1.794002e+03   "
       ]
      },
      {
       "output_type": "stream",
       "stream": "stdout",
       "text": [
        "\r",
        "Sample: 41000 = 82.0%   acc. fr. = 0.314932   pos = -1.710095e+01 -1.778028e+01  lnprob = 1.794289e+03   "
       ]
      },
      {
       "output_type": "stream",
       "stream": "stdout",
       "text": [
        "\r",
        "Sample: 41100 = 82.2%   acc. fr. = 0.314968   pos = -1.741455e+01 -1.683100e+01  lnprob = 1.794201e+03   "
       ]
      },
      {
       "output_type": "stream",
       "stream": "stdout",
       "text": [
        "\r",
        "Sample: 41200 = 82.4%   acc. fr. = 0.314932   pos = -1.701282e+01 -1.667572e+01  lnprob = 1.793893e+03   "
       ]
      },
      {
       "output_type": "stream",
       "stream": "stdout",
       "text": [
        "\r",
        "Sample: 41300 = 82.6%   acc. fr. = 0.314727   pos = -1.726308e+01 -1.632960e+01  lnprob = 1.792724e+03   "
       ]
      },
      {
       "output_type": "stream",
       "stream": "stdout",
       "text": [
        "\r",
        "Sample: 41400 = 82.8%   acc. fr. = 0.314523   pos = -1.719904e+01 -1.664793e+01  lnprob = 1.798066e+03   "
       ]
      },
      {
       "output_type": "stream",
       "stream": "stdout",
       "text": [
        "\r",
        "Sample: 41500 = 83.0%   acc. fr. = 0.314488   pos = -1.547850e+01 -1.707368e+01  lnprob = 1.803042e+03   "
       ]
      },
      {
       "output_type": "stream",
       "stream": "stdout",
       "text": [
        "\r",
        "Sample: 41600 = 83.2%   acc. fr. = 0.314621   pos = -1.728196e+01 -1.777499e+01  lnprob = 1.793628e+03   "
       ]
      },
      {
       "output_type": "stream",
       "stream": "stdout",
       "text": [
        "\r",
        "Sample: 41700 = 83.4%   acc. fr. = 0.314394   pos = -1.614944e+01 -1.743490e+01  lnprob = 1.796321e+03   "
       ]
      },
      {
       "output_type": "stream",
       "stream": "stdout",
       "text": [
        "\r",
        "Sample: 41800 = 83.6%   acc. fr. = 0.314456   pos = -1.430480e+01 -1.719551e+01  lnprob = 1.799630e+03   "
       ]
      },
      {
       "output_type": "stream",
       "stream": "stdout",
       "text": [
        "\r",
        "Sample: 41900 = 83.8%   acc. fr. = 0.314088   pos = -1.554450e+01 -1.711193e+01  lnprob = 1.802185e+03   "
       ]
      },
      {
       "output_type": "stream",
       "stream": "stdout",
       "text": [
        "\r",
        "Sample: 42000 = 84.0%   acc. fr. = 0.313769   pos = -1.653893e+01 -1.775035e+01  lnprob = 1.803268e+03   "
       ]
      },
      {
       "output_type": "stream",
       "stream": "stdout",
       "text": [
        "\r",
        "Sample: 42100 = 84.2%   acc. fr. = 0.313547   pos = -1.601986e+01 -1.753137e+01  lnprob = 1.802289e+03   "
       ]
      },
      {
       "output_type": "stream",
       "stream": "stdout",
       "text": [
        "\r",
        "Sample: 42200 = 84.4%   acc. fr. = 0.313775   pos = -1.594240e+01 -1.638006e+01  lnprob = 1.802084e+03   "
       ]
      },
      {
       "output_type": "stream",
       "stream": "stdout",
       "text": [
        "\r",
        "Sample: 42300 = 84.6%   acc. fr. = 0.313625   pos = -1.635586e+01 -1.650012e+01  lnprob = 1.805327e+03   "
       ]
      },
      {
       "output_type": "stream",
       "stream": "stdout",
       "text": [
        "\r",
        "Sample: 42400 = 84.8%   acc. fr. = 0.313640   pos = -1.662925e+01 -1.545949e+01  lnprob = 1.803482e+03   "
       ]
      },
      {
       "output_type": "stream",
       "stream": "stdout",
       "text": [
        "\r",
        "Sample: 42500 = 85.0%   acc. fr. = 0.313913   pos = -1.667668e+01 -1.656337e+01  lnprob = 1.802925e+03   "
       ]
      },
      {
       "output_type": "stream",
       "stream": "stdout",
       "text": [
        "\r",
        "Sample: 42600 = 85.2%   acc. fr. = 0.313810   pos = -1.754531e+01 -1.534959e+01  lnprob = 1.801406e+03   "
       ]
      },
      {
       "output_type": "stream",
       "stream": "stdout",
       "text": [
        "\r",
        "Sample: 42700 = 85.4%   acc. fr. = 0.313544   pos = -1.579448e+01 -1.593879e+01  lnprob = 1.803171e+03   "
       ]
      },
      {
       "output_type": "stream",
       "stream": "stdout",
       "text": [
        "\r",
        "Sample: 42800 = 85.6%   acc. fr. = 0.313652   pos = -1.651750e+01 -1.569205e+01  lnprob = 1.800370e+03   "
       ]
      },
      {
       "output_type": "stream",
       "stream": "stdout",
       "text": [
        "\r",
        "Sample: 42900 = 85.8%   acc. fr. = 0.313644   pos = -1.739667e+01 -1.704733e+01  lnprob = 1.800683e+03   "
       ]
      },
      {
       "output_type": "stream",
       "stream": "stdout",
       "text": [
        "\r",
        "Sample: 43000 = 86.0%   acc. fr. = 0.313891   pos = -1.621523e+01 -1.656182e+01  lnprob = 1.802435e+03   "
       ]
      },
      {
       "output_type": "stream",
       "stream": "stdout",
       "text": [
        "\r",
        "Sample: 43100 = 86.2%   acc. fr. = 0.313812   pos = -1.761996e+01 -1.659779e+01  lnprob = 1.804940e+03   "
       ]
      },
      {
       "output_type": "stream",
       "stream": "stdout",
       "text": [
        "\r",
        "Sample: 43200 = 86.4%   acc. fr. = 0.313503   pos = -1.789990e+01 -1.582057e+01  lnprob = 1.797544e+03   "
       ]
      },
      {
       "output_type": "stream",
       "stream": "stdout",
       "text": [
        "\r",
        "Sample: 43300 = 86.6%   acc. fr. = 0.313288   pos = -1.779460e+01 -1.640119e+01  lnprob = 1.797774e+03   "
       ]
      },
      {
       "output_type": "stream",
       "stream": "stdout",
       "text": [
        "\r",
        "Sample: 43400 = 86.8%   acc. fr. = 0.313188   pos = -1.785807e+01 -1.610437e+01  lnprob = 1.799749e+03   "
       ]
      },
      {
       "output_type": "stream",
       "stream": "stdout",
       "text": [
        "\r",
        "Sample: 43500 = 87.0%   acc. fr. = 0.313250   pos = -1.562238e+01 -1.596006e+01  lnprob = 1.808209e+03   "
       ]
      },
      {
       "output_type": "stream",
       "stream": "stdout",
       "text": [
        "\r",
        "Sample: 43600 = 87.2%   acc. fr. = 0.312762   pos = -1.637475e+01 -1.534852e+01  lnprob = 1.805768e+03   "
       ]
      },
      {
       "output_type": "stream",
       "stream": "stdout",
       "text": [
        "\r",
        "Sample: 43700 = 87.4%   acc. fr. = 0.312276   pos = -1.612623e+01 -1.563875e+01  lnprob = 1.806013e+03   "
       ]
      },
      {
       "output_type": "stream",
       "stream": "stdout",
       "text": [
        "\r",
        "Sample: 43800 = 87.6%   acc. fr. = 0.312111   pos = -1.728223e+01 -1.608667e+01  lnprob = 1.803134e+03   "
       ]
      },
      {
       "output_type": "stream",
       "stream": "stdout",
       "text": [
        "\r",
        "Sample: 43900 = 87.8%   acc. fr. = 0.312197   pos = -1.772549e+01 -1.695372e+01  lnprob = 1.803832e+03   "
       ]
      },
      {
       "output_type": "stream",
       "stream": "stdout",
       "text": [
        "\r",
        "Sample: 44000 = 88.0%   acc. fr. = 0.312102   pos = -1.674471e+01 -1.780079e+01  lnprob = 1.801263e+03   "
       ]
      },
      {
       "output_type": "stream",
       "stream": "stdout",
       "text": [
        "\r",
        "Sample: 44100 = 88.2%   acc. fr. = 0.312482   pos = -1.691755e+01 -1.703637e+01  lnprob = 1.798205e+03   "
       ]
      },
      {
       "output_type": "stream",
       "stream": "stdout",
       "text": [
        "\r",
        "Sample: 44200 = 88.4%   acc. fr. = 0.312589   pos = -1.657588e+01 -1.758679e+01  lnprob = 1.798923e+03   "
       ]
      },
      {
       "output_type": "stream",
       "stream": "stdout",
       "text": [
        "\r",
        "Sample: 44300 = 88.6%   acc. fr. = 0.312673   pos = -1.742699e+01 -1.736285e+01  lnprob = 1.797129e+03   "
       ]
      },
      {
       "output_type": "stream",
       "stream": "stdout",
       "text": [
        "\r",
        "Sample: 44400 = 88.8%   acc. fr. = 0.312375   pos = -1.718863e+01 -1.704617e+01  lnprob = 1.799643e+03   "
       ]
      },
      {
       "output_type": "stream",
       "stream": "stdout",
       "text": [
        "\r",
        "Sample: 44500 = 89.0%   acc. fr. = 0.312392   pos = -1.754477e+01 -1.765897e+01  lnprob = 1.790239e+03   "
       ]
      },
      {
       "output_type": "stream",
       "stream": "stdout",
       "text": [
        "\r",
        "Sample: 44600 = 89.2%   acc. fr. = 0.312543   pos = -1.630900e+01 -1.595767e+01  lnprob = 1.794421e+03   "
       ]
      },
      {
       "output_type": "stream",
       "stream": "stdout",
       "text": [
        "\r",
        "Sample: 44700 = 89.4%   acc. fr. = 0.312515   pos = -1.583582e+01 -1.732819e+01  lnprob = 1.797135e+03   "
       ]
      },
      {
       "output_type": "stream",
       "stream": "stdout",
       "text": [
        "\r",
        "Sample: 44800 = 89.6%   acc. fr. = 0.312666   pos = -1.641778e+01 -1.763240e+01  lnprob = 1.799045e+03   "
       ]
      },
      {
       "output_type": "stream",
       "stream": "stdout",
       "text": [
        "\r",
        "Sample: 44900 = 89.8%   acc. fr. = 0.312904   pos = -1.569208e+01 -1.447372e+01  lnprob = 1.795270e+03   "
       ]
      },
      {
       "output_type": "stream",
       "stream": "stdout",
       "text": [
        "\r",
        "Sample: 45000 = 90.0%   acc. fr. = 0.312853   pos = -1.676690e+01 -1.573472e+01  lnprob = 1.799565e+03   "
       ]
      },
      {
       "output_type": "stream",
       "stream": "stdout",
       "text": [
        "\r",
        "Sample: 45100 = 90.2%   acc. fr. = 0.312626   pos = -1.744710e+01 -1.611064e+01  lnprob = 1.801916e+03   "
       ]
      },
      {
       "output_type": "stream",
       "stream": "stdout",
       "text": [
        "\r",
        "Sample: 45200 = 90.4%   acc. fr. = 0.312466   pos = -1.624340e+01 -1.679881e+01  lnprob = 1.800538e+03   "
       ]
      },
      {
       "output_type": "stream",
       "stream": "stdout",
       "text": [
        "\r",
        "Sample: 45300 = 90.6%   acc. fr. = 0.312372   pos = -1.595844e+01 -1.619066e+01  lnprob = 1.798806e+03   "
       ]
      },
      {
       "output_type": "stream",
       "stream": "stdout",
       "text": [
        "\r",
        "Sample: 45400 = 90.8%   acc. fr. = 0.312389   pos = -1.636678e+01 -1.606631e+01  lnprob = 1.795963e+03   "
       ]
      },
      {
       "output_type": "stream",
       "stream": "stdout",
       "text": [
        "\r",
        "Sample: 45500 = 91.0%   acc. fr. = 0.312712   pos = -1.621680e+01 -1.698848e+01  lnprob = 1.801020e+03   "
       ]
      },
      {
       "output_type": "stream",
       "stream": "stdout",
       "text": [
        "\r",
        "Sample: 45600 = 91.2%   acc. fr. = 0.312553   pos = -1.724241e+01 -1.669320e+01  lnprob = 1.796471e+03   "
       ]
      },
      {
       "output_type": "stream",
       "stream": "stdout",
       "text": [
        "\r",
        "Sample: 45700 = 91.4%   acc. fr. = 0.312526   pos = -1.786867e+01 -1.679766e+01  lnprob = 1.803091e+03   "
       ]
      },
      {
       "output_type": "stream",
       "stream": "stdout",
       "text": [
        "\r",
        "Sample: 45800 = 91.6%   acc. fr. = 0.312542   pos = -1.799021e+01 -1.731823e+01  lnprob = 1.800626e+03   "
       ]
      },
      {
       "output_type": "stream",
       "stream": "stdout",
       "text": [
        "\r",
        "Sample: 45900 = 91.8%   acc. fr. = 0.312602   pos = -1.619779e+01 -1.779050e+01  lnprob = 1.799522e+03   "
       ]
      },
      {
       "output_type": "stream",
       "stream": "stdout",
       "text": [
        "\r",
        "Sample: 46000 = 92.0%   acc. fr. = 0.312813   pos = -1.547619e+01 -1.676035e+01  lnprob = 1.800468e+03   "
       ]
      },
      {
       "output_type": "stream",
       "stream": "stdout",
       "text": [
        "\r",
        "Sample: 46100 = 92.2%   acc. fr. = 0.312699   pos = -1.636641e+01 -1.623555e+01  lnprob = 1.802416e+03   "
       ]
      },
      {
       "output_type": "stream",
       "stream": "stdout",
       "text": [
        "\r",
        "Sample: 46200 = 92.4%   acc. fr. = 0.312995   pos = -1.625806e+01 -1.527181e+01  lnprob = 1.803880e+03   "
       ]
      },
      {
       "output_type": "stream",
       "stream": "stdout",
       "text": [
        "\r",
        "Sample: 46300 = 92.6%   acc. fr. = 0.312752   pos = -1.530037e+01 -1.468024e+01  lnprob = 1.803774e+03   "
       ]
      },
      {
       "output_type": "stream",
       "stream": "stdout",
       "text": [
        "\r",
        "Sample: 46400 = 92.8%   acc. fr. = 0.312187   pos = -1.567284e+01 -1.491344e+01  lnprob = 1.803161e+03   "
       ]
      },
      {
       "output_type": "stream",
       "stream": "stdout",
       "text": [
        "\r",
        "Sample: 46500 = 93.0%   acc. fr. = 0.312204   pos = -1.466871e+01 -1.556267e+01  lnprob = 1.801105e+03   "
       ]
      },
      {
       "output_type": "stream",
       "stream": "stdout",
       "text": [
        "\r",
        "Sample: 46600 = 93.2%   acc. fr. = 0.312263   pos = -1.641453e+01 -1.606081e+01  lnprob = 1.798026e+03   "
       ]
      },
      {
       "output_type": "stream",
       "stream": "stdout",
       "text": [
        "\r",
        "Sample: 46700 = 93.4%   acc. fr. = 0.312258   pos = -1.712835e+01 -1.673071e+01  lnprob = 1.800453e+03   "
       ]
      },
      {
       "output_type": "stream",
       "stream": "stdout",
       "text": [
        "\r",
        "Sample: 46800 = 93.6%   acc. fr. = 0.312190   pos = -1.673503e+01 -1.757451e+01  lnprob = 1.802648e+03   "
       ]
      },
      {
       "output_type": "stream",
       "stream": "stdout",
       "text": [
        "\r",
        "Sample: 46900 = 93.8%   acc. fr. = 0.312142   pos = -1.742454e+01 -1.727908e+01  lnprob = 1.799555e+03   "
       ]
      },
      {
       "output_type": "stream",
       "stream": "stdout",
       "text": [
        "\r",
        "Sample: 47000 = 94.0%   acc. fr. = 0.312117   pos = -1.704538e+01 -1.668997e+01  lnprob = 1.799423e+03   "
       ]
      },
      {
       "output_type": "stream",
       "stream": "stdout",
       "text": [
        "\r",
        "Sample: 47100 = 94.2%   acc. fr. = 0.312366   pos = -1.607055e+01 -1.621635e+01  lnprob = 1.800909e+03   "
       ]
      },
      {
       "output_type": "stream",
       "stream": "stdout",
       "text": [
        "\r",
        "Sample: 47200 = 94.4%   acc. fr. = 0.312700   pos = -1.698129e+01 -1.798514e+01  lnprob = 1.800477e+03   "
       ]
      },
      {
       "output_type": "stream",
       "stream": "stdout",
       "text": [
        "\r",
        "Sample: 47300 = 94.6%   acc. fr. = 0.312757   pos = -1.778635e+01 -1.578988e+01  lnprob = 1.801854e+03   "
       ]
      },
      {
       "output_type": "stream",
       "stream": "stdout",
       "text": [
        "\r",
        "Sample: 47400 = 94.8%   acc. fr. = 0.313046   pos = -1.694434e+01 -1.702917e+01  lnprob = 1.798862e+03   "
       ]
      },
      {
       "output_type": "stream",
       "stream": "stdout",
       "text": [
        "\r",
        "Sample: 47500 = 95.0%   acc. fr. = 0.312956   pos = -1.617265e+01 -1.593532e+01  lnprob = 1.800328e+03   "
       ]
      },
      {
       "output_type": "stream",
       "stream": "stdout",
       "text": [
        "\r",
        "Sample: 47600 = 95.2%   acc. fr. = 0.313243   pos = -1.624687e+01 -1.777704e+01  lnprob = 1.794141e+03   "
       ]
      },
      {
       "output_type": "stream",
       "stream": "stdout",
       "text": [
        "\r",
        "Sample: 47700 = 95.4%   acc. fr. = 0.313424   pos = -1.745437e+01 -1.766241e+01  lnprob = 1.797779e+03   "
       ]
      },
      {
       "output_type": "stream",
       "stream": "stdout",
       "text": [
        "\r",
        "Sample: 47800 = 95.6%   acc. fr. = 0.313459   pos = -1.753375e+01 -1.607537e+01  lnprob = 1.795139e+03   "
       ]
      },
      {
       "output_type": "stream",
       "stream": "stdout",
       "text": [
        "\r",
        "Sample: 47900 = 95.8%   acc. fr. = 0.313306   pos = -1.726760e+01 -1.594795e+01  lnprob = 1.799738e+03   "
       ]
      },
      {
       "output_type": "stream",
       "stream": "stdout",
       "text": [
        "\r",
        "Sample: 48000 = 96.0%   acc. fr. = 0.313154   pos = -1.607951e+01 -1.598286e+01  lnprob = 1.794769e+03   "
       ]
      },
      {
       "output_type": "stream",
       "stream": "stdout",
       "text": [
        "\r",
        "Sample: 48100 = 96.2%   acc. fr. = 0.313251   pos = -1.525367e+01 -1.515567e+01  lnprob = 1.789411e+03   "
       ]
      },
      {
       "output_type": "stream",
       "stream": "stdout",
       "text": [
        "\r",
        "Sample: 48200 = 96.4%   acc. fr. = 0.313410   pos = -1.478662e+01 -1.596259e+01  lnprob = 1.787617e+03   "
       ]
      },
      {
       "output_type": "stream",
       "stream": "stdout",
       "text": [
        "\r",
        "Sample: 48300 = 96.6%   acc. fr. = 0.313444   pos = -1.484184e+01 -1.517724e+01  lnprob = 1.791577e+03   "
       ]
      },
      {
       "output_type": "stream",
       "stream": "stdout",
       "text": [
        "\r",
        "Sample: 48400 = 96.8%   acc. fr. = 0.313767   pos = -1.635913e+01 -1.536810e+01  lnprob = 1.797039e+03   "
       ]
      },
      {
       "output_type": "stream",
       "stream": "stdout",
       "text": [
        "\r",
        "Sample: 48500 = 97.0%   acc. fr. = 0.313903   pos = -1.497974e+01 -1.645154e+01  lnprob = 1.803836e+03   "
       ]
      },
      {
       "output_type": "stream",
       "stream": "stdout",
       "text": [
        "\r",
        "Sample: 48600 = 97.2%   acc. fr. = 0.313751   pos = -1.444606e+01 -1.638524e+01  lnprob = 1.802544e+03   "
       ]
      },
      {
       "output_type": "stream",
       "stream": "stdout",
       "text": [
        "\r",
        "Sample: 48700 = 97.4%   acc. fr. = 0.313416   pos = -1.451832e+01 -1.598007e+01  lnprob = 1.800906e+03   "
       ]
      },
      {
       "output_type": "stream",
       "stream": "stdout",
       "text": [
        "\r",
        "Sample: 48800 = 97.6%   acc. fr. = 0.312897   pos = -1.460621e+01 -1.652422e+01  lnprob = 1.800712e+03   "
       ]
      },
      {
       "output_type": "stream",
       "stream": "stdout",
       "text": [
        "\r",
        "Sample: 48900 = 97.8%   acc. fr. = 0.312647   pos = -1.509686e+01 -1.594300e+01  lnprob = 1.805058e+03   "
       ]
      },
      {
       "output_type": "stream",
       "stream": "stdout",
       "text": [
        "\r",
        "Sample: 49000 = 98.0%   acc. fr. = 0.312397   pos = -1.512721e+01 -1.678047e+01  lnprob = 1.802727e+03   "
       ]
      },
      {
       "output_type": "stream",
       "stream": "stdout",
       "text": [
        "\r",
        "Sample: 49100 = 98.2%   acc. fr. = 0.312107   pos = -1.550208e+01 -1.691760e+01  lnprob = 1.802931e+03   "
       ]
      },
      {
       "output_type": "stream",
       "stream": "stdout",
       "text": [
        "\r",
        "Sample: 49200 = 98.4%   acc. fr. = 0.312002   pos = -1.538092e+01 -1.779112e+01  lnprob = 1.802916e+03   "
       ]
      },
      {
       "output_type": "stream",
       "stream": "stdout",
       "text": [
        "\r",
        "Sample: 49300 = 98.6%   acc. fr. = 0.311998   pos = -1.687884e+01 -1.719320e+01  lnprob = 1.804132e+03   "
       ]
      },
      {
       "output_type": "stream",
       "stream": "stdout",
       "text": [
        "\r",
        "Sample: 49400 = 98.8%   acc. fr. = 0.312034   pos = -1.770963e+01 -1.716680e+01  lnprob = 1.806679e+03   "
       ]
      },
      {
       "output_type": "stream",
       "stream": "stdout",
       "text": [
        "\r",
        "Sample: 49500 = 99.0%   acc. fr. = 0.312191   pos = -1.728199e+01 -1.740228e+01  lnprob = 1.801966e+03   "
       ]
      },
      {
       "output_type": "stream",
       "stream": "stdout",
       "text": [
        "\r",
        "Sample: 49600 = 99.2%   acc. fr. = 0.312187   pos = -1.760522e+01 -1.693347e+01  lnprob = 1.797982e+03   "
       ]
      },
      {
       "output_type": "stream",
       "stream": "stdout",
       "text": [
        "\r",
        "Sample: 49700 = 99.4%   acc. fr. = 0.312684   pos = -1.723277e+01 -1.731926e+01  lnprob = 1.799459e+03   "
       ]
      },
      {
       "output_type": "stream",
       "stream": "stdout",
       "text": [
        "\r",
        "Sample: 49800 = 99.6%   acc. fr. = 0.312980   pos = -1.680663e+01 -1.758064e+01  lnprob = 1.801167e+03   "
       ]
      },
      {
       "output_type": "stream",
       "stream": "stdout",
       "text": [
        "\r",
        "Sample: 49900 = 99.8%   acc. fr. = 0.313254   pos = -1.609344e+01 -1.700385e+01  lnprob = 1.800602e+03   "
       ]
      },
      {
       "output_type": "stream",
       "stream": "stdout",
       "text": [
        "\n",
        "('Mean acceptance fraction:', 0.31325373492530151)\n",
        "('Autocorrelation time:', 253.51048048387293)\n"
       ]
      }
     ],
     "prompt_number": 20
    },
    {
     "cell_type": "code",
     "collapsed": false,
     "input": [
      "# The spectrum of likobsp can be plotted\n",
      "Tmax = likobsm.ptasignals[1].Tmax\n",
      "pic.makespectrumplot('J0030-sp-metro.txt', parstart=1, numfreqs=30, freqs=likobsp.ptapsrs[0].Ffreqs, plotlog=True, Apl=np.log10(5e-14), gpl=4.33, Asm=-23.9, asm=4.7, Tmax=Tmax)"
     ],
     "language": "python",
     "metadata": {},
     "outputs": [
      {
       "output_type": "display_data",
       "png": "[encoded data removed]"
      }
     ],
     "prompt_number": 36
    },
    {
     "cell_type": "code",
     "collapsed": false,
     "input": [],
     "language": "python",
     "metadata": {},
     "outputs": [],
     "prompt_number": 46
    },
    {
     "cell_type": "code",
     "collapsed": false,
     "input": [
      "likob = pic.ptaLikelihood('J0030.h5')\n",
      "likob.initModel(nfreqmodes=120, varyEfac=True, incRedNoise=True, noiseModel='powerlaw', likfunc='mark3')"
     ],
     "language": "python",
     "metadata": {},
     "outputs": [],
     "prompt_number": 2
    },
    {
     "cell_type": "code",
     "collapsed": false,
     "input": [
      "parameters = likob.pstart\n",
      "print parameters"
     ],
     "language": "python",
     "metadata": {},
     "outputs": [
      {
       "output_type": "stream",
       "stream": "stdout",
       "text": [
        "[  1.   -14.     2.01]\n"
       ]
      }
     ],
     "prompt_number": 105
    },
    {
     "cell_type": "code",
     "collapsed": false,
     "input": [
      "parameters = np.array([1.0, -11, 6.73])"
     ],
     "language": "python",
     "metadata": {},
     "outputs": [],
     "prompt_number": 114
    },
    {
     "cell_type": "code",
     "collapsed": false,
     "input": [
      "likob.gensig(parameters, timedomain=False)"
     ],
     "language": "python",
     "metadata": {},
     "outputs": [
      {
       "output_type": "display_data",
       "png": "[encoded data removed]"
      }
     ],
     "prompt_number": 118
    },
    {
     "cell_type": "code",
     "collapsed": false,
     "input": [
      "reload(pic)"
     ],
     "language": "python",
     "metadata": {},
     "outputs": [
      {
       "output_type": "pyout",
       "prompt_number": 19,
       "text": [
        "<module 'piccard' from 'piccard.py'>"
       ]
      }
     ],
     "prompt_number": 19
    },
    {
     "cell_type": "code",
     "collapsed": false,
     "input": [
      "dm0437 = pic.ptaLikelihood('J0437.h5')\n",
      "dm0437.initModel(nfreqmodes=70, ndmfreqmodes=70, varyEfac=True, incEquad=True, separateEfacs=True, incRedNoise=True, incDM=True, noiseModel='spectrum', dmModel='spectrum', likfunc='mark6')"
     ],
     "language": "python",
     "metadata": {},
     "outputs": [],
     "prompt_number": 3
    },
    {
     "cell_type": "code",
     "collapsed": false,
     "input": [],
     "language": "python",
     "metadata": {},
     "outputs": [],
     "prompt_number": 4
    },
    {
     "cell_type": "code",
     "collapsed": false,
     "input": [
      "pic.triplot('J0437-dmee-70-metro-thinned.txt', plotparameters=np.arange(0, 9))"
     ],
     "language": "python",
     "metadata": {},
     "outputs": [],
     "prompt_number": "*"
    },
    {
     "cell_type": "code",
     "collapsed": false,
     "input": [
      "pic.triplot('J0437-dmee-70-metro-thinned.txt', plotparameters=np.arange(9, 18))"
     ],
     "language": "python",
     "metadata": {},
     "outputs": [
      {
       "output_type": "stream",
       "stream": "stdout",
       "text": [
        "parametersfilename =  J0437-dmee-70-metro-thinned.txt.parameters.txt\n",
        "figurefilename =  J0437-dmee-70-metro-thinned.txt.fig.eps\n",
        "chainfilename =  J0437-dmee-70-metro-thinned.txt\n"
       ]
      },
      {
       "output_type": "display_data",
       "png": "[encoded data removed]"
      }
     ],
     "prompt_number": 16
    },
    {
     "cell_type": "code",
     "collapsed": false,
     "input": [
      "#dm0437.pardes"
     ],
     "language": "python",
     "metadata": {},
     "outputs": [],
     "prompt_number": "*"
    },
    {
     "cell_type": "code",
     "collapsed": false,
     "input": [
      "pic.RunMetropolis(dm0437, 1000, 'temp.txt')"
     ],
     "language": "python",
     "metadata": {},
     "outputs": [
      {
       "output_type": "stream",
       "stream": "stdout",
       "text": [
        "Running Metropolis-Hastings sampler\n",
        "\r",
        "Sample: 0 =  0.0%   acc. fr. = 0.495050   pos = -6.934616e+00 -6.870825e+00  lnprob = 7.400280e+04   "
       ]
      },
      {
       "output_type": "stream",
       "stream": "stdout",
       "text": [
        "\r",
        "Sample: 100 = 10.0%   acc. fr. = 0.532338   pos = -6.874697e+00 -6.856610e+00  lnprob = 7.430286e+04   "
       ]
      },
      {
       "output_type": "stream",
       "stream": "stdout",
       "text": [
        "\r",
        "Sample: 200 = 20.0%   acc. fr. = 0.541528   pos = -6.797440e+00 -6.844996e+00  lnprob = 7.439938e+04   "
       ]
      }
     ],
     "prompt_number": "*"
    },
    {
     "cell_type": "code",
     "collapsed": false,
     "input": [
      "print 'hello'"
     ],
     "language": "python",
     "metadata": {},
     "outputs": [],
     "prompt_number": "*"
    },
    {
     "cell_type": "code",
     "collapsed": false,
     "input": [],
     "language": "python",
     "metadata": {},
     "outputs": []
    }
   ],
   "metadata": {}
  }
 ]
}